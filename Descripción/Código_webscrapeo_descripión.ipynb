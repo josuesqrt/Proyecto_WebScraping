{
 "cells": [
  {
   "cell_type": "markdown",
   "id": "a36595ad",
   "metadata": {},
   "source": [
    "<h4><center><center>WEBSCRAPING DE LA DESCRIPCIÓN DE CADA DEPARTAMENTO DEL PERÚ</center></h4>\n",
    "<div align=\"center\">\n",
    "  <img src=\"https://peru.info/img/home/header/logo-peru-gris.svg\" alt=\"Alojamiento en Airbnb\" width=\"300\"/>\n",
    "</div>\n",
    "\n"
   ]
  },
  {
   "cell_type": "code",
   "execution_count": null,
   "id": "138f95ef-1f38-45a0-9e5d-a8f109983564",
   "metadata": {},
   "outputs": [
    {
     "name": "stdout",
     "output_type": "stream",
     "text": [
      "CSV creado correctamente.\n"
     ]
    }
   ],
   "source": [
    "import requests\n",
    "from bs4 import BeautifulSoup\n",
    "import csv\n",
    "\n",
    "\n",
    "# URL de la página a scrapear\n",
    "url = \"https://peru.info/es-pe/turismo/blogperu/3/18/conoce-los-24-departamentos-del-peru\"\n",
    "# Realizar la solicitud HTTP\n",
    "response = requests.get(url)\n",
    "response.encoding = 'utf-8' # Definir codificación para caracteres especiales\n",
    "soup = BeautifulSoup(response.text, \"html.parser\") # Parsear el contenido HTML con BeautifulSoup\n",
    "\n",
    "\n",
    "# Buscar todos los párrafos de la página y almacenar en una lista \n",
    "paragraphs = soup.find_all(\"p\")\n",
    "data = []\n",
    "\n",
    "\n",
    "# Variable para registrar el departamento actual en la iteración\n",
    "current_department = None\n",
    "# Recorrer cada párrafo para extraer nombre del departamento y descripción\n",
    "for p in paragraphs:\n",
    "    strong = p.find(\"strong\")\n",
    "    if strong:\n",
    "        current_department = strong.text.strip()\n",
    "    elif current_department and p.text.strip():\n",
    "        # Si ya se tiene un departamento registrado, tomar el texto como descripción\n",
    "        description = p.get_text(strip=True)\n",
    "        # Guardar el par (departamento - descripción) en la lista de datos\n",
    "        data.append({\"departamento\": current_department, \"descripcion\": description})\n",
    "        current_department = None\n",
    "\n",
    "# Guardar con BOM para Excel\n",
    "with open(\"departamentos_peru.csv\", mode=\"w\", newline='', encoding=\"utf-8-sig\") as file:\n",
    "    writer = csv.DictWriter(file, fieldnames=[\"departamento\", \"descripcion\"])\n",
    "    writer.writeheader()\n",
    "    writer.writerows(data)\n",
    "\n",
    "print(\"CSV creado correctamente.\")\n"
   ]
  }
 ],
 "metadata": {
  "kernelspec": {
   "display_name": "Python 3 (ipykernel)",
   "language": "python",
   "name": "python3"
  },
  "language_info": {
   "codemirror_mode": {
    "name": "ipython",
    "version": 3
   },
   "file_extension": ".py",
   "mimetype": "text/x-python",
   "name": "python",
   "nbconvert_exporter": "python",
   "pygments_lexer": "ipython3",
   "version": "3.13.5"
  }
 },
 "nbformat": 4,
 "nbformat_minor": 5
}
