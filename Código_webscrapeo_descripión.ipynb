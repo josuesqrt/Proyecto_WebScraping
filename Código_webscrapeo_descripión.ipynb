{
 "cells": [
  {
   "cell_type": "code",
   "execution_count": 2,
   "id": "138f95ef-1f38-45a0-9e5d-a8f109983564",
   "metadata": {},
   "outputs": [
    {
     "name": "stdout",
     "output_type": "stream",
     "text": [
      "CSV creado correctamente.\n"
     ]
    }
   ],
   "source": [
    "import requests\n",
    "from bs4 import BeautifulSoup\n",
    "import csv\n",
    "\n",
    "url = \"https://peru.info/es-pe/turismo/blogperu/3/18/conoce-los-24-departamentos-del-peru\"\n",
    "response = requests.get(url)\n",
    "response.encoding = 'utf-8'\n",
    "soup = BeautifulSoup(response.text, \"html.parser\")\n",
    "\n",
    "paragraphs = soup.find_all(\"p\")\n",
    "data = []\n",
    "\n",
    "current_department = None\n",
    "for p in paragraphs:\n",
    "    strong = p.find(\"strong\")\n",
    "    if strong:\n",
    "        current_department = strong.text.strip()\n",
    "    elif current_department and p.text.strip():\n",
    "        description = p.get_text(strip=True)\n",
    "        data.append({\"departamento\": current_department, \"descripcion\": description})\n",
    "        current_department = None\n",
    "\n",
    "# Guardar con BOM para Excel\n",
    "with open(\"departamentos_peru.csv\", mode=\"w\", newline='', encoding=\"utf-8-sig\") as file:\n",
    "    writer = csv.DictWriter(file, fieldnames=[\"departamento\", \"descripcion\"])\n",
    "    writer.writeheader()\n",
    "    writer.writerows(data)\n",
    "\n",
    "print(\"CSV creado correctamente.\")\n"
   ]
  }
 ],
 "metadata": {
  "kernelspec": {
   "display_name": "Python 3 (ipykernel)",
   "language": "python",
   "name": "python3"
  },
  "language_info": {
   "codemirror_mode": {
    "name": "ipython",
    "version": 3
   },
   "file_extension": ".py",
   "mimetype": "text/x-python",
   "name": "python",
   "nbconvert_exporter": "python",
   "pygments_lexer": "ipython3",
   "version": "3.13.5"
  }
 },
 "nbformat": 4,
 "nbformat_minor": 5
}
