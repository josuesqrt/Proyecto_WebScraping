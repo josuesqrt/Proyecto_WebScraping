{
 "cells": [
  {
   "cell_type": "code",
   "execution_count": 1,
   "id": "9e54e7f6-4bd2-477c-a02b-83ac85147c15",
   "metadata": {},
   "outputs": [
    {
     "name": "stderr",
     "output_type": "stream",
     "text": [
      "C:\\Users\\USUARIO\\AppData\\Local\\Temp\\ipykernel_7484\\1975027286.py:17: FutureWarning: The default of observed=False is deprecated and will be changed to True in a future version of pandas. Pass observed=False to retain current behavior or observed=True to adopt the future default and silence this warning.\n",
      "  df_promedio_mes = df_long.groupby(['Departamento', 'Mes'])['Temperatura'].mean().reset_index()\n"
     ]
    },
    {
     "data": {
      "application/vnd.jupyter.widget-view+json": {
       "model_id": "7087f08abbd6499db223606cc9e554b9",
       "version_major": 2,
       "version_minor": 0
      },
      "text/plain": [
       "VBox(children=(Dropdown(description='Mes:', options=('Ene', 'Feb', 'Mar', 'Abr', 'May', 'Jun', 'Jul', 'Ago', '…"
      ]
     },
     "metadata": {},
     "output_type": "display_data"
    }
   ],
   "source": [
    "import pandas as pd\n",
    "import ipywidgets as widgets\n",
    "from IPython.display import display, clear_output\n",
    "\n",
    "# Cargar los datos previamente procesados\n",
    "df_departamentos = pd.read_csv('departamentos_peru.csv')\n",
    "df_temperaturas = pd.read_csv('temperatura_promedio_2020_2024.csv')\n",
    "\n",
    "# Convertir temperaturas a formato largo\n",
    "df_long = df_temperaturas.melt(id_vars='Departamento', var_name='Fecha', value_name='Temperatura')\n",
    "df_long[['Mes', 'Año']] = df_long['Fecha'].str.extract(r'([A-Za-z]+)-(\\d{4})')\n",
    "df_long['Mes'] = pd.Categorical(df_long['Mes'], categories=[\n",
    "    'Ene', 'Feb', 'Mar', 'Abr', 'May', 'Jun', 'Jul', 'Ago', 'Sep', 'Oct', 'Nov', 'Dic'], ordered=True)\n",
    "df_long['Año'] = df_long['Año'].astype(int)\n",
    "\n",
    "# Promedio por departamento y mes\n",
    "df_promedio_mes = df_long.groupby(['Departamento', 'Mes'])['Temperatura'].mean().reset_index()\n",
    "\n",
    "# Clasificación por clima\n",
    "def clasificar_temperatura(temp):\n",
    "    if temp < 10:\n",
    "        return 'Muy frío'\n",
    "    elif temp < 15:\n",
    "        return 'Frío'\n",
    "    elif temp < 20:\n",
    "        return 'Templado'\n",
    "    elif temp < 25:\n",
    "        return 'Caluroso'\n",
    "    else:\n",
    "        return 'Muy caluroso'\n",
    "\n",
    "df_promedio_mes['Clima'] = df_promedio_mes['Temperatura'].apply(clasificar_temperatura)\n",
    "\n",
    "# Unir con descripciones\n",
    "df_resultado = pd.merge(df_promedio_mes, df_departamentos, left_on='Departamento', right_on='departamento', how='left')\n",
    "df_resultado = df_resultado.drop(columns='departamento')\n",
    "df_resultado_filtrado = df_resultado.dropna(subset=['descripcion'])\n",
    "\n",
    "# Widgets\n",
    "mes_selector = widgets.Dropdown(\n",
    "    options=df_resultado_filtrado['Mes'].unique().tolist(),\n",
    "    description='Mes:',\n",
    "    style={'description_width': 'initial'}\n",
    ")\n",
    "\n",
    "temperatura_input = widgets.FloatSlider(\n",
    "    value=20.0,\n",
    "    min=0,\n",
    "    max=35,\n",
    "    step=0.5,\n",
    "    description='Temp. deseada (°C):',\n",
    "    style={'description_width': 'initial'}\n",
    ")\n",
    "\n",
    "boton_buscar = widgets.Button(description=\"Buscar recomendaciones\", button_style='success')\n",
    "salida = widgets.Output()\n",
    "\n",
    "# Función de búsqueda\n",
    "def buscar_recomendaciones(b):\n",
    "    with salida:\n",
    "        clear_output()\n",
    "        mes = mes_selector.value\n",
    "        temp_deseada = temperatura_input.value\n",
    "        rango_inferior = temp_deseada - 5\n",
    "        rango_superior = temp_deseada + 5\n",
    "\n",
    "        resultados = df_resultado_filtrado[\n",
    "            (df_resultado_filtrado['Mes'] == mes) &\n",
    "            (df_resultado_filtrado['Temperatura'].between(rango_inferior, rango_superior))\n",
    "        ][['Departamento', 'Temperatura', 'Clima', 'descripcion']].sort_values(by='Temperatura')\n",
    "\n",
    "        if resultados.empty:\n",
    "            print(f\"No se encontraron departamentos con temperatura cercana a {temp_deseada} °C en {mes}.\")\n",
    "        else:\n",
    "            print(f\"Departamentos recomendados para {mes} con temperatura entre {rango_inferior} °C y {rango_superior} °C:\")\n",
    "            display(resultados)\n",
    "\n",
    "boton_buscar.on_click(buscar_recomendaciones)\n",
    "\n",
    "# Mostrar la interfaz\n",
    "display(widgets.VBox([mes_selector, temperatura_input, boton_buscar, salida]))\n"
   ]
  },
  {
   "cell_type": "code",
   "execution_count": 2,
   "id": "6839e408-37fe-462c-9101-f3b3c2860768",
   "metadata": {},
   "outputs": [
    {
     "name": "stdout",
     "output_type": "stream",
     "text": [
      "    Departamento  Mes  Temperatura         Clima  \\\n",
      "0       Amazonas  Ene       15.198      Templado   \n",
      "1       Amazonas  Feb       15.414      Templado   \n",
      "2       Amazonas  Mar       15.250      Templado   \n",
      "3       Amazonas  Abr       14.990          Frío   \n",
      "4       Amazonas  May       15.106      Templado   \n",
      "..           ...  ...          ...           ...   \n",
      "271      Ucayali  Ago       26.552  Muy caluroso   \n",
      "272      Ucayali  Sep       27.220  Muy caluroso   \n",
      "273      Ucayali  Oct       27.326  Muy caluroso   \n",
      "274      Ucayali  Nov       26.388  Muy caluroso   \n",
      "275      Ucayali  Dic       26.148  Muy caluroso   \n",
      "\n",
      "                                           descripcion  \n",
      "0    El departamento de Amazonas es reconocido por ...  \n",
      "1    El departamento de Amazonas es reconocido por ...  \n",
      "2    El departamento de Amazonas es reconocido por ...  \n",
      "3    El departamento de Amazonas es reconocido por ...  \n",
      "4    El departamento de Amazonas es reconocido por ...  \n",
      "..                                                 ...  \n",
      "271  Ubicado en la selva central del Perú, es un de...  \n",
      "272  Ubicado en la selva central del Perú, es un de...  \n",
      "273  Ubicado en la selva central del Perú, es un de...  \n",
      "274  Ubicado en la selva central del Perú, es un de...  \n",
      "275  Ubicado en la selva central del Perú, es un de...  \n",
      "\n",
      "[276 rows x 5 columns]\n"
     ]
    }
   ],
   "source": [
    "print(df_resultado_filtrado)"
   ]
  },
  {
   "cell_type": "code",
   "execution_count": 6,
   "id": "099f5875-80da-4c46-8bf8-c44b1af587c9",
   "metadata": {},
   "outputs": [],
   "source": [
    "df_resultado_filtrado.to_csv(\"datos_recomendacion_turismo.csv\", index=False)"
   ]
  }
 ],
 "metadata": {
  "kernelspec": {
   "display_name": "Python 3 (ipykernel)",
   "language": "python",
   "name": "python3"
  },
  "language_info": {
   "codemirror_mode": {
    "name": "ipython",
    "version": 3
   },
   "file_extension": ".py",
   "mimetype": "text/x-python",
   "name": "python",
   "nbconvert_exporter": "python",
   "pygments_lexer": "ipython3",
   "version": "3.13.5"
  }
 },
 "nbformat": 4,
 "nbformat_minor": 5
}
