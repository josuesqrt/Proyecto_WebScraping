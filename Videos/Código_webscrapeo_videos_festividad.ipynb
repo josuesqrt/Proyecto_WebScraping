{
 "cells": [
  {
   "cell_type": "code",
   "execution_count": 1,
   "id": "ad117e71-65c4-416a-996f-af493cf6eeb9",
   "metadata": {},
   "outputs": [
    {
     "name": "stdout",
     "output_type": "stream",
     "text": [
      "\n",
      " Iniciando navegador...\n",
      "\n",
      "🎬 Amazonas - Título: Reportaje al Perú - AMAZONAS el valle de las cataratas (estreno)\n",
      "🔗 URL: https://www.youtube.com/watch?v=FmtLvl2OtHw&pp=ygUZVHVyaXNtbyBlbiBBbWF6b25hcyBQZXLDug%3D%3D\n",
      "\n",
      "🎬 Áncash - Título: Reportaje al Perú: Áncash (22/09/2024) | TVPerú\n",
      "🔗 URL: https://www.youtube.com/watch?v=z56Llh3sSXs&pp=ygUYVHVyaXNtbyBlbiDDgW5jYXNoIFBlcsO6\n",
      "\n",
      "🎬 Apurímac - Título: ¿Qué hacer y cuánto cuesta VIAJAR A APURÍMAC un fin de semana? ⛰️🌳 l APURÍMAC CON NIÑOS\n",
      "🔗 URL: https://www.youtube.com/watch?v=m-YHSVXai0g&pp=ygUaVHVyaXNtbyBlbiBBcHVyw61tYWMgUGVyw7o%3D\n",
      "\n",
      "🎬 Arequipa - Título: AREQUIPA | 13 LUGARES TURÍSTICOS PARA VISITAR (TODO lo que DEBES SABER, HACER y CONOCER) 😲\n",
      "🔗 URL: https://www.youtube.com/watch?v=duFze7nWfR8&pp=ygUZVHVyaXNtbyBlbiBBcmVxdWlwYSBQZXLDug%3D%3D\n",
      "\n",
      "🎬 Ayacucho - Título: 12 LUGARES EN AYACUCHO que debes visitar este 2023\n",
      "🔗 URL: https://www.youtube.com/watch?v=IFkKuiTGpAg&pp=ygUZVHVyaXNtbyBlbiBBeWFjdWNobyBQZXLDug%3D%3D\n",
      "\n",
      "🎬 Cajamarca - Título: 10 LUGARES TURÍSTICOS para visitar en CAJAMARCA.🇵🇪\n",
      "🔗 URL: https://www.youtube.com/watch?v=echIcCeMeRc&pp=ygUaVHVyaXNtbyBlbiBDYWphbWFyY2EgUGVyw7o%3D\n",
      "\n",
      "🎬 Cusco - Título: 👉 CUSCO en 7 días ⛰️🇵🇪 ... GUÍA DE VIAJE y lugares imperdibles 😉 ... #recomendaciones #viajes\n",
      "🔗 URL: https://www.youtube.com/watch?v=b0DtwUq386Y&pp=ygUWVHVyaXNtbyBlbiBDdXNjbyBQZXLDug%3D%3D\n",
      "\n",
      "🎬 Huancavelica - Título: 7 Joyas OCULTAS DE HUANCAVELICA que te dejarán sin aliento 😲🏔️ PERÚ\n",
      "🔗 URL: https://www.youtube.com/watch?v=bmaMzXiw1WA&pp=ygUdVHVyaXNtbyBlbiBIdWFuY2F2ZWxpY2EgUGVyw7o%3D\n",
      "\n",
      "🎬 Huánuco - Título: Reportaje al Perú: HUÁNUCO, tierra de tradiciones (23/02/2020) | TVPerú\n",
      "🔗 URL: https://www.youtube.com/watch?v=bpksE3EFti0&pp=ygUZVHVyaXNtbyBlbiBIdcOhbnVjbyBQZXLDutIHCQnYCQGHKiGM7w%3D%3D\n",
      "\n",
      "🎬 Ica - Título: 5 LUGARES QUE DEBES DE CONOCER DE LA REGIÓN ICA\n",
      "🔗 URL: https://www.youtube.com/watch?v=ZS2UirVug10&pp=ygUUVHVyaXNtbyBlbiBJY2EgUGVyw7o%3D\n",
      "\n",
      "🎬 Junín - Título: DESCUBRE 10 SORPRENDENTES LUGARES en Junín ¡No querrás volver de esta aventura!\n",
      "🔗 URL: https://www.youtube.com/watch?v=C9VXG0Zpg6M&pp=ygUXVHVyaXNtbyBlbiBKdW7DrW4gUGVyw7o%3D\n",
      "\n",
      "🎬 La Libertad - Título: 🔥 Huamachuco, La Libertad: 8 lugares en 2 dias TODO INCLUIDO 🔥🏞️🚣‍♀️🏝️ Trujillo lugares turisticos\n",
      "🔗 URL: https://www.youtube.com/watch?v=qhaGHyx41Ps&pp=ygUcVHVyaXNtbyBlbiBMYSBMaWJlcnRhZCBQZXLDug%3D%3D\n",
      "\n",
      "🎬 Lambayeque - Título: Chiclayo y sus imperdibles atractivos turísticos\n",
      "🔗 URL: https://www.youtube.com/watch?v=kfcCFvDS_bc&pp=ygUbVHVyaXNtbyBlbiBMYW1iYXllcXVlIFBlcsO6\n",
      "\n",
      "🎬 Lima - Título: ✨ LIMA en 3 DÍAS: Los Lugares IMPERDIBLES para Visitar en 2025 🇵🇪 ¡Guía Completa!\n",
      "🔗 URL: https://www.youtube.com/watch?v=gXrBMAj8zSE&pp=ygUVVHVyaXNtbyBlbiBMaW1hIFBlcsO6\n",
      "\n",
      "🎬 Loreto - Título: Disfrute de Loreto y sus atractivos turísticos\n",
      "🔗 URL: https://www.youtube.com/watch?v=rSYLIMjbDVQ&pp=ygUXVHVyaXNtbyBlbiBMb3JldG8gUGVyw7rSBwkJ2AkBhyohjO8%3D\n",
      "\n",
      "🎬 Madre de Dios - Título: 10 lugares turísticos de Puerto Maldonado, Madre de Dios\n",
      "🔗 URL: https://www.youtube.com/watch?v=TbyMETOEdKI&pp=ygUeVHVyaXNtbyBlbiBNYWRyZSBkZSBEaW9zIFBlcsO6\n",
      "\n",
      "🎬 Moquegua - Título: MOQUEGUA: 5 maravillas ocultas que debes conocer | Turismo | Viajes\n",
      "🔗 URL: https://www.youtube.com/watch?v=99YAbhTGa-M&pp=ygUZVHVyaXNtbyBlbiBNb3F1ZWd1YSBQZXLDug%3D%3D\n",
      "\n",
      "🎬 Pasco - Título: Las MARAVILLAS DE Cerro de Pasco, Bosque de Piedras de Huayllay - Nevado Huaguruncho\n",
      "🔗 URL: https://www.youtube.com/watch?v=lSZ3BqiyYtU&pp=ygUWVHVyaXNtbyBlbiBQYXNjbyBQZXLDug%3D%3D\n",
      "\n",
      "🎬 Piura - Título: PIURA:¿QUE VISITAR EN LA CIUDAD DEL ETERNO CALOR?. #1\n",
      "🔗 URL: https://www.youtube.com/watch?v=jfLlRVjfGR8&pp=ygUWVHVyaXNtbyBlbiBQaXVyYSBQZXLDug%3D%3D\n",
      "\n",
      "🎬 Puno - Título: 5 LUGARES TURÍSTICOS IMPRESCINDIBLES para visitar en PUNO🇵🇪\n",
      "🔗 URL: https://www.youtube.com/watch?v=xQwE0AlPoNM&pp=ygUVVHVyaXNtbyBlbiBQdW5vIFBlcsO6\n",
      "\n",
      "🎬 San Martín - Título: Descubre la maravillosa región de San Martín #ElPerúEsSusRegiones\n",
      "🔗 URL: https://www.youtube.com/watch?v=-NyTVxp2wgw&pp=ygUcVHVyaXNtbyBlbiBTYW4gTWFydMOtbiBQZXLDug%3D%3D\n",
      "\n",
      "🎬 Tacna - Título: TACNA | 10 LUGARES TURÍSTICOS PARA VISITAR en la CIUDAD HEROICA del PERÚ (QUE HACER y QUE CONOCER)\n",
      "🔗 URL: https://www.youtube.com/watch?v=jBZNko7b2QY&pp=ygUWVHVyaXNtbyBlbiBUYWNuYSBQZXLDutIHCQnYCQGHKiGM7w%3D%3D\n",
      "\n",
      "🎬 Tumbes - Título: Reportaje al Perú: Tumbes (07/07/2024) | TVPerú\n",
      "🔗 URL: https://www.youtube.com/watch?v=5nqgLqoQoxI&pp=ygUXVHVyaXNtbyBlbiBUdW1iZXMgUGVyw7o%3D\n",
      "\n",
      "🎬 Ucayali - Título: Reportaje al Perú: Ucayali (04/08/2024) | TVPerú\n",
      "🔗 URL: https://www.youtube.com/watch?v=D3mENqKVxhM&pp=ygUYVHVyaXNtbyBlbiBVY2F5YWxpIFBlcsO6\n"
     ]
    }
   ],
   "source": [
    "# IMPORTACIÓN DE LIBRERÍAS\n",
    "\n",
    "\n",
    "import pandas as pd                    # Para manejar datos en tablas (DataFrame)\n",
    "import time                            # Para pausar la ejecución entre acciones\n",
    "from selenium import webdriver         # Para controlar el navegador automáticamente\n",
    "from selenium.webdriver.chrome.service import Service  # Para configurar el driver de Chrome\n",
    "from selenium.webdriver.chrome.options import Options  # Para establecer opciones del navegador\n",
    "from selenium.webdriver.common.by import By           # Para localizar elementos HTML (XPATH)\n",
    "from webdriver_manager.chrome import ChromeDriverManager  # Para instalar automáticamente el driver de Chrome\n",
    "\n",
    "\n",
    "# CREAR LISTA DE DEPARTAMENTOS DEL PERÚ\n",
    "\n",
    "\n",
    "departamentos = [\n",
    "    \"Amazonas\", \"Áncash\", \"Apurímac\", \"Arequipa\", \"Ayacucho\", \"Cajamarca\",\n",
    "    \"Cusco\", \"Huancavelica\", \"Huánuco\", \"Ica\", \"Junín\", \"La Libertad\",\n",
    "    \"Lambayeque\", \"Lima\", \"Loreto\", \"Madre de Dios\", \"Moquegua\", \"Pasco\",\n",
    "    \"Piura\", \"Puno\", \"San Martín\", \"Tacna\", \"Tumbes\", \"Ucayali\"\n",
    "]\n",
    "\n",
    "# CREAR DATAFRAME Y COLUMNA DE BÚSQUEDA\n",
    "\n",
    "\n",
    "df = pd.DataFrame({\"Departamento\": departamentos})         # Crear un DataFrame con la columna Departamento\n",
    "df[\"Busqueda\"] = \"Turismo en \" + df[\"Departamento\"] + \" Perú\"  # Nueva columna con frase de búsqueda para YouTube\n",
    "\n",
    "\n",
    "# CONFIGURAR OPCIONES DEL NAVEGADOR\n",
    "\n",
    "\n",
    "options = Options()\n",
    "options.add_argument(\"--headless\")                  # Ejecutar navegador en segundo plano (sin ventana)\n",
    "options.add_argument(\"--no-sandbox\")                # Desactiva sandboxing (útil en Linux)\n",
    "options.add_argument(\"--disable-dev-shm-usage\")     # Evita errores de recursos compartidos\n",
    "options.add_argument('--log-level=3')               # Reduce la cantidad de mensajes de consola\n",
    "\n",
    "\n",
    "# INICIAR NAVEGADOR\n",
    "\n",
    "\n",
    "print(\"\\n Iniciando navegador...\")\n",
    "driver = webdriver.Chrome(service=Service(ChromeDriverManager().install()), options=options)\n",
    "\n",
    "\n",
    "# BUSCAR VIDEOS Y GUARDAR RESULTADOS\n",
    "\n",
    "resultados = []  # Lista vacía para guardar resultados\n",
    "\n",
    "for _, row in df.iterrows():                      # Iterar fila por fila en el DataFrame\n",
    "    busqueda = row[\"Busqueda\"]                    # Frase de búsqueda (ej: \"Turismo en Cusco Perú\")\n",
    "    driver.get(f\"https://www.youtube.com/results?search_query={busqueda}\")  # Buscar en YouTube\n",
    "    time.sleep(4)                                 # Esperar 4 segundos para que cargue la página\n",
    "\n",
    "    try:\n",
    "        video = driver.find_element(By.XPATH, '//ytd-video-renderer')                  # Primer video en resultados\n",
    "        titulo_elem = video.find_element(By.XPATH, './/a[@id=\"video-title\"]')          # Elemento del título\n",
    "        titulo = titulo_elem.text.strip()                                              # Texto del título sin espacios\n",
    "        url = titulo_elem.get_attribute(\"href\")                                        # URL del video\n",
    "\n",
    "        print(f\"\\n🎬 {row['Departamento']} - Título: {titulo}\")                        # Mostrar título\n",
    "        print(f\"🔗 URL: {url}\")                                                        # Mostrar enlace\n",
    "\n",
    "        resultados.append({                                                            # Guardar resultado\n",
    "            \"Departamento\": row[\"Departamento\"],\n",
    "            \"Título del Video\": titulo,\n",
    "            \"URL\": url\n",
    "        })\n",
    "\n",
    "    except Exception:\n",
    "        print(f\"\\n No se encontró video para: {row['Departamento']}\")                # Mensaje si falla\n",
    "\n",
    "    time.sleep(2)  # Esperar 2 segundos antes de pasar al siguiente\n",
    "\n",
    "\n",
    "\n",
    "driver.quit()  # Finalizar el navegador"
   ]
  },
  {
   "cell_type": "code",
   "execution_count": 2,
   "id": "643ab5a2-a130-496e-9c19-134ed7876df6",
   "metadata": {},
   "outputs": [
    {
     "name": "stdout",
     "output_type": "stream",
     "text": [
      "\n",
      "🌐 Iniciando navegador...\n"
     ]
    },
    {
     "name": "stderr",
     "output_type": "stream",
     "text": [
      "  0%|                                                                                           | 0/24 [00:00<?, ?it/s]"
     ]
    },
    {
     "name": "stdout",
     "output_type": "stream",
     "text": [
      "\n",
      "📍 Amazonas\n",
      "🎬 Título: Reportaje al Perú - AMAZONAS el valle de las cataratas (estreno)\n",
      "🔗 URL: https://www.youtube.com/watch?v=FmtLvl2OtHw&pp=ygUZVHVyaXNtbyBlbiBBbWF6b25hcyBQZXLDug%3D%3D\n"
     ]
    },
    {
     "name": "stderr",
     "output_type": "stream",
     "text": [
      "  4%|███▍                                                                               | 1/24 [00:32<12:32, 32.71s/it]"
     ]
    },
    {
     "name": "stdout",
     "output_type": "stream",
     "text": [
      "\n",
      "📍 Áncash\n",
      "🎬 Título: Reportaje al Perú: Áncash (22/09/2024) | TVPerú\n",
      "🔗 URL: https://www.youtube.com/watch?v=z56Llh3sSXs&pp=ygUYVHVyaXNtbyBlbiDDgW5jYXNoIFBlcsO6\n"
     ]
    },
    {
     "name": "stderr",
     "output_type": "stream",
     "text": [
      "  8%|██████▉                                                                            | 2/24 [00:54<09:42, 26.46s/it]"
     ]
    },
    {
     "name": "stdout",
     "output_type": "stream",
     "text": [
      "\n",
      "📍 Apurímac\n",
      "🎬 Título: ¿Qué hacer y cuánto cuesta VIAJAR A APURÍMAC un fin de semana? ⛰️🌳 l APURÍMAC CON NIÑOS\n",
      "🔗 URL: https://www.youtube.com/watch?v=m-YHSVXai0g&pp=ygUaVHVyaXNtbyBlbiBBcHVyw61tYWMgUGVyw7o%3D\n"
     ]
    },
    {
     "name": "stderr",
     "output_type": "stream",
     "text": [
      " 12%|██████████▍                                                                        | 3/24 [01:16<08:26, 24.12s/it]"
     ]
    },
    {
     "name": "stdout",
     "output_type": "stream",
     "text": [
      "\n",
      "📍 Arequipa\n",
      "🎬 Título: AREQUIPA | 13 LUGARES TURÍSTICOS PARA VISITAR (TODO lo que DEBES SABER, HACER y CONOCER) 😲\n",
      "🔗 URL: https://www.youtube.com/watch?v=duFze7nWfR8&pp=ygUZVHVyaXNtbyBlbiBBcmVxdWlwYSBQZXLDug%3D%3D\n"
     ]
    },
    {
     "name": "stderr",
     "output_type": "stream",
     "text": [
      " 17%|█████████████▊                                                                     | 4/24 [01:37<07:36, 22.85s/it]"
     ]
    },
    {
     "name": "stdout",
     "output_type": "stream",
     "text": [
      "\n",
      "📍 Ayacucho\n",
      "🎬 Título: 12 LUGARES EN AYACUCHO que debes visitar este 2023\n",
      "🔗 URL: https://www.youtube.com/watch?v=IFkKuiTGpAg&pp=ygUZVHVyaXNtbyBlbiBBeWFjdWNobyBQZXLDug%3D%3D\n"
     ]
    },
    {
     "name": "stderr",
     "output_type": "stream",
     "text": [
      " 21%|█████████████████▎                                                                 | 5/24 [01:55<06:43, 21.25s/it]"
     ]
    },
    {
     "name": "stdout",
     "output_type": "stream",
     "text": [
      "\n",
      "📍 Cajamarca\n",
      "🎬 Título: 10 LUGARES TURÍSTICOS para visitar en CAJAMARCA.🇵🇪\n",
      "🔗 URL: https://www.youtube.com/watch?v=echIcCeMeRc&pp=ygUaVHVyaXNtbyBlbiBDYWphbWFyY2EgUGVyw7o%3D\n"
     ]
    },
    {
     "name": "stderr",
     "output_type": "stream",
     "text": [
      " 25%|████████████████████▊                                                              | 6/24 [02:13<06:03, 20.21s/it]"
     ]
    },
    {
     "name": "stdout",
     "output_type": "stream",
     "text": [
      "\n",
      "📍 Cusco\n",
      "🎬 Título: 👉 CUSCO en 7 días ⛰️🇵🇪 ... GUÍA DE VIAJE y lugares imperdibles 😉 ... #recomendaciones #viajes\n",
      "🔗 URL: https://www.youtube.com/watch?v=b0DtwUq386Y&pp=ygUWVHVyaXNtbyBlbiBDdXNjbyBQZXLDug%3D%3D\n"
     ]
    },
    {
     "name": "stderr",
     "output_type": "stream",
     "text": [
      " 29%|████████████████████████▏                                                          | 7/24 [02:34<05:44, 20.29s/it]"
     ]
    },
    {
     "name": "stdout",
     "output_type": "stream",
     "text": [
      "\n",
      "📍 Huancavelica\n",
      "🎬 Título: 7 Joyas OCULTAS DE HUANCAVELICA que te dejarán sin aliento 😲🏔️ PERÚ\n",
      "🔗 URL: https://www.youtube.com/watch?v=bmaMzXiw1WA&pp=ygUdVHVyaXNtbyBlbiBIdWFuY2F2ZWxpY2EgUGVyw7o%3D\n"
     ]
    },
    {
     "name": "stderr",
     "output_type": "stream",
     "text": [
      " 33%|███████████████████████████▋                                                       | 8/24 [02:51<05:11, 19.47s/it]"
     ]
    },
    {
     "name": "stdout",
     "output_type": "stream",
     "text": [
      "\n",
      "📍 Huánuco\n",
      "🎬 Título: Reportaje al Perú: HUÁNUCO, tierra de tradiciones (23/02/2020) | TVPerú\n",
      "🔗 URL: https://www.youtube.com/watch?v=bpksE3EFti0&pp=ygUZVHVyaXNtbyBlbiBIdcOhbnVjbyBQZXLDug%3D%3D\n"
     ]
    },
    {
     "name": "stderr",
     "output_type": "stream",
     "text": [
      " 38%|███████████████████████████████▏                                                   | 9/24 [03:09<04:43, 18.92s/it]"
     ]
    },
    {
     "name": "stdout",
     "output_type": "stream",
     "text": [
      "\n",
      "📍 Ica\n",
      "🎬 Título: 5 LUGARES QUE DEBES DE CONOCER DE LA REGIÓN ICA\n",
      "🔗 URL: https://www.youtube.com/watch?v=ZS2UirVug10&pp=ygUUVHVyaXNtbyBlbiBJY2EgUGVyw7o%3D\n"
     ]
    },
    {
     "name": "stderr",
     "output_type": "stream",
     "text": [
      " 42%|██████████████████████████████████▏                                               | 10/24 [03:25<04:10, 17.88s/it]"
     ]
    },
    {
     "name": "stdout",
     "output_type": "stream",
     "text": [
      "\n",
      "📍 Junín\n",
      "🎬 Título: DESCUBRE 10 SORPRENDENTES LUGARES en Junín ¡No querrás volver de esta aventura!\n",
      "🔗 URL: https://www.youtube.com/watch?v=C9VXG0Zpg6M&pp=ygUXVHVyaXNtbyBlbiBKdW7DrW4gUGVyw7o%3D\n"
     ]
    },
    {
     "name": "stderr",
     "output_type": "stream",
     "text": [
      " 46%|█████████████████████████████████████▌                                            | 11/24 [03:48<04:14, 19.60s/it]"
     ]
    },
    {
     "name": "stdout",
     "output_type": "stream",
     "text": [
      "\n",
      "📍 La Libertad\n",
      "🎬 Título: 🔥 Huamachuco, La Libertad: 8 lugares en 2 dias TODO INCLUIDO 🔥🏞️🚣‍♀️🏝️ Trujillo lugares turisticos\n",
      "🔗 URL: https://www.youtube.com/watch?v=qhaGHyx41Ps&pp=ygUcVHVyaXNtbyBlbiBMYSBMaWJlcnRhZCBQZXLDug%3D%3D\n"
     ]
    },
    {
     "name": "stderr",
     "output_type": "stream",
     "text": [
      " 50%|█████████████████████████████████████████                                         | 12/24 [04:06<03:48, 19.04s/it]"
     ]
    },
    {
     "name": "stdout",
     "output_type": "stream",
     "text": [
      "\n",
      "📍 Lambayeque\n",
      "🎬 Título: Chiclayo y sus imperdibles atractivos turísticos\n",
      "🔗 URL: https://www.youtube.com/watch?v=kfcCFvDS_bc&pp=ygUbVHVyaXNtbyBlbiBMYW1iYXllcXVlIFBlcsO6\n"
     ]
    },
    {
     "name": "stderr",
     "output_type": "stream",
     "text": [
      " 54%|████████████████████████████████████████████▍                                     | 13/24 [04:27<03:36, 19.71s/it]"
     ]
    },
    {
     "name": "stdout",
     "output_type": "stream",
     "text": [
      "\n",
      "📍 Lima\n",
      "🎬 Título: ✨ LIMA en 3 DÍAS: Los Lugares IMPERDIBLES para Visitar en 2025 🇵🇪 ¡Guía Completa!\n",
      "🔗 URL: https://www.youtube.com/watch?v=gXrBMAj8zSE&pp=ygUVVHVyaXNtbyBlbiBMaW1hIFBlcsO6\n"
     ]
    },
    {
     "name": "stderr",
     "output_type": "stream",
     "text": [
      " 58%|███████████████████████████████████████████████▊                                  | 14/24 [04:44<03:09, 18.96s/it]"
     ]
    },
    {
     "name": "stdout",
     "output_type": "stream",
     "text": [
      "\n",
      "📍 Loreto\n",
      "🎬 Título: Disfrute de Loreto y sus atractivos turísticos\n",
      "🔗 URL: https://www.youtube.com/watch?v=rSYLIMjbDVQ&pp=ygUXVHVyaXNtbyBlbiBMb3JldG8gUGVyw7o%3D\n"
     ]
    },
    {
     "name": "stderr",
     "output_type": "stream",
     "text": [
      " 62%|███████████████████████████████████████████████████▎                              | 15/24 [05:06<02:58, 19.87s/it]"
     ]
    },
    {
     "name": "stdout",
     "output_type": "stream",
     "text": [
      "\n",
      "📍 Madre de Dios\n",
      "🎬 Título: 10 lugares turísticos de Puerto Maldonado, Madre de Dios\n",
      "🔗 URL: https://www.youtube.com/watch?v=TbyMETOEdKI&pp=ygUeVHVyaXNtbyBlbiBNYWRyZSBkZSBEaW9zIFBlcsO6\n"
     ]
    },
    {
     "name": "stderr",
     "output_type": "stream",
     "text": [
      " 67%|██████████████████████████████████████████████████████▋                           | 16/24 [05:27<02:42, 20.26s/it]"
     ]
    },
    {
     "name": "stdout",
     "output_type": "stream",
     "text": [
      "\n",
      "📍 Moquegua\n",
      "🎬 Título: MOQUEGUA: 5 maravillas ocultas que debes conocer | Turismo | Viajes\n",
      "🔗 URL: https://www.youtube.com/watch?v=99YAbhTGa-M&pp=ygUZVHVyaXNtbyBlbiBNb3F1ZWd1YSBQZXLDug%3D%3D\n"
     ]
    },
    {
     "name": "stderr",
     "output_type": "stream",
     "text": [
      " 71%|██████████████████████████████████████████████████████████                        | 17/24 [05:49<02:24, 20.70s/it]"
     ]
    },
    {
     "name": "stdout",
     "output_type": "stream",
     "text": [
      "\n",
      "📍 Pasco\n",
      "🎬 Título: Las MARAVILLAS DE Cerro de Pasco, Bosque de Piedras de Huayllay - Nevado Huaguruncho\n",
      "🔗 URL: https://www.youtube.com/watch?v=lSZ3BqiyYtU&pp=ygUWVHVyaXNtbyBlbiBQYXNjbyBQZXLDug%3D%3D\n"
     ]
    },
    {
     "name": "stderr",
     "output_type": "stream",
     "text": [
      " 75%|█████████████████████████████████████████████████████████████▌                    | 18/24 [06:21<02:24, 24.12s/it]"
     ]
    },
    {
     "name": "stdout",
     "output_type": "stream",
     "text": [
      "\n",
      "📍 Piura\n",
      "🎬 Título: PIURA:¿QUE VISITAR EN LA CIUDAD DEL ETERNO CALOR?. #1\n",
      "🔗 URL: https://www.youtube.com/watch?v=jfLlRVjfGR8&pp=ygUWVHVyaXNtbyBlbiBQaXVyYSBQZXLDug%3D%3D\n"
     ]
    },
    {
     "name": "stderr",
     "output_type": "stream",
     "text": [
      " 79%|████████████████████████████████████████████████████████████████▉                 | 19/24 [06:49<02:05, 25.15s/it]"
     ]
    },
    {
     "name": "stdout",
     "output_type": "stream",
     "text": [
      "\n",
      "📍 Puno\n",
      "🎬 Título: 5 LUGARES TURÍSTICOS IMPRESCINDIBLES para visitar en PUNO🇵🇪\n",
      "🔗 URL: https://www.youtube.com/watch?v=xQwE0AlPoNM&pp=ygUVVHVyaXNtbyBlbiBQdW5vIFBlcsO6\n"
     ]
    },
    {
     "name": "stderr",
     "output_type": "stream",
     "text": [
      " 83%|████████████████████████████████████████████████████████████████████▎             | 20/24 [07:17<01:44, 26.10s/it]"
     ]
    },
    {
     "name": "stdout",
     "output_type": "stream",
     "text": [
      "\n",
      "📍 San Martín\n",
      "🎬 Título: Descubre la maravillosa región de San Martín #ElPerúEsSusRegiones\n",
      "🔗 URL: https://www.youtube.com/watch?v=-NyTVxp2wgw&pp=ygUcVHVyaXNtbyBlbiBTYW4gTWFydMOtbiBQZXLDug%3D%3D\n"
     ]
    },
    {
     "name": "stderr",
     "output_type": "stream",
     "text": [
      " 88%|███████████████████████████████████████████████████████████████████████▊          | 21/24 [07:42<01:17, 25.77s/it]"
     ]
    },
    {
     "name": "stdout",
     "output_type": "stream",
     "text": [
      "\n",
      "📍 Tacna\n",
      "🎬 Título: TACNA | 10 LUGARES TURÍSTICOS PARA VISITAR en la CIUDAD HEROICA del PERÚ (QUE HACER y QUE CONOCER)\n",
      "🔗 URL: https://www.youtube.com/watch?v=jBZNko7b2QY&pp=ygUWVHVyaXNtbyBlbiBUYWNuYSBQZXLDutIHCQnYCQGHKiGM7w%3D%3D\n"
     ]
    },
    {
     "name": "stderr",
     "output_type": "stream",
     "text": [
      " 92%|███████████████████████████████████████████████████████████████████████████▏      | 22/24 [08:01<00:47, 23.83s/it]"
     ]
    },
    {
     "name": "stdout",
     "output_type": "stream",
     "text": [
      "\n",
      "📍 Tumbes\n",
      "🎬 Título: Reportaje al Perú: Tumbes (07/07/2024) | TVPerú\n",
      "🔗 URL: https://www.youtube.com/watch?v=5nqgLqoQoxI&pp=ygUXVHVyaXNtbyBlbiBUdW1iZXMgUGVyw7o%3D\n"
     ]
    },
    {
     "name": "stderr",
     "output_type": "stream",
     "text": [
      " 96%|██████████████████████████████████████████████████████████████████████████████▌   | 23/24 [08:25<00:23, 23.77s/it]"
     ]
    },
    {
     "name": "stdout",
     "output_type": "stream",
     "text": [
      "\n",
      "📍 Ucayali\n",
      "🎬 Título: Reportaje al Perú: Ucayali (04/08/2024) | TVPerú\n",
      "🔗 URL: https://www.youtube.com/watch?v=D3mENqKVxhM&pp=ygUYVHVyaXNtbyBlbiBVY2F5YWxpIFBlcsO6\n"
     ]
    },
    {
     "name": "stderr",
     "output_type": "stream",
     "text": [
      "100%|██████████████████████████████████████████████████████████████████████████████████| 24/24 [08:50<00:00, 22.09s/it]\n"
     ]
    }
   ],
   "source": [
    "# ---------------------------\n",
    "# PARTE 1: Lista de departamentos (simula festividades)\n",
    "# ---------------------------\n",
    "import pandas as pd\n",
    "\n",
    "departamentos = [\n",
    "    \"Amazonas\", \"Áncash\", \"Apurímac\", \"Arequipa\", \"Ayacucho\", \"Cajamarca\",\n",
    "    \"Cusco\", \"Huancavelica\", \"Huánuco\", \"Ica\", \"Junín\", \"La Libertad\",\n",
    "    \"Lambayeque\", \"Lima\", \"Loreto\", \"Madre de Dios\", \"Moquegua\", \"Pasco\",\n",
    "    \"Piura\", \"Puno\", \"San Martín\", \"Tacna\", \"Tumbes\", \"Ucayali\"\n",
    "]\n",
    "\n",
    "# Creamos el DataFrame como si fuera el de festividades\n",
    "df = pd.DataFrame({\"Departamento\": departamentos})\n",
    "df[\"Busqueda\"] = \"Turismo en \" + df[\"Departamento\"] + \" Perú\"\n",
    "\n",
    "# ---------------------------\n",
    "# PARTE 2: Buscar video por departamento en YouTube\n",
    "# ---------------------------\n",
    "from selenium import webdriver\n",
    "from selenium.webdriver.chrome.service import Service\n",
    "from selenium.webdriver.chrome.options import Options\n",
    "from selenium.webdriver.common.by import By\n",
    "from webdriver_manager.chrome import ChromeDriverManager\n",
    "import time\n",
    "from tqdm import tqdm\n",
    "\n",
    "# Configurar navegador\n",
    "options = Options()\n",
    "options.add_argument(\"--headless\")  # Modo invisible\n",
    "options.add_argument(\"--no-sandbox\")\n",
    "options.add_argument(\"--disable-dev-shm-usage\")\n",
    "options.add_argument('--log-level=3')\n",
    "\n",
    "print(\"\\n🌐 Iniciando navegador...\")\n",
    "driver = webdriver.Chrome(service=Service(ChromeDriverManager().install()), options=options)\n",
    "\n",
    "resultados = []\n",
    "\n",
    "for _, row in tqdm(df.iterrows(), total=len(df)):\n",
    "    busqueda = row[\"Busqueda\"]\n",
    "    driver.get(f\"https://www.youtube.com/results?search_query={busqueda}\")\n",
    "    time.sleep(3)\n",
    "\n",
    "    try:\n",
    "        video = driver.find_element(By.XPATH, '//ytd-video-renderer')\n",
    "        titulo_elem = video.find_element(By.XPATH, './/a[@id=\"video-title\"]')\n",
    "        titulo = titulo_elem.text.strip()\n",
    "        url = titulo_elem.get_attribute(\"href\")\n",
    "\n",
    "        print(f\"\\n📍 {row['Departamento']}\")\n",
    "        print(f\"🎬 Título: {titulo}\")\n",
    "        print(f\"🔗 URL: {url}\")\n",
    "\n",
    "        resultados.append({\n",
    "            \"Departamento\": row[\"Departamento\"],\n",
    "            \"Título del Video\": titulo,\n",
    "            \"URL\": url\n",
    "        })\n",
    "\n",
    "    except Exception:\n",
    "        print(f\"\\n⚠️ No se encontró video para: {row['Departamento']}\")\n",
    "        resultados.append({\n",
    "            \"Departamento\": row[\"Departamento\"],\n",
    "            \"Título del Video\": \"No encontrado\",\n",
    "            \"URL\": \"N/A\"\n",
    "        })\n",
    "\n",
    "    time.sleep(1.5)\n",
    "\n",
    "driver.quit()"
   ]
  },
  {
   "cell_type": "code",
   "execution_count": 3,
   "id": "4f8b805a-f640-4afd-892e-b13707232136",
   "metadata": {},
   "outputs": [
    {
     "name": "stdout",
     "output_type": "stream",
     "text": [
      "🌐 Iniciando navegador...\n",
      "\n",
      "🔎 Buscando video para: Amazonas\n",
      "🎬 Título: Reportaje al Perú - AMAZONAS el valle de las cataratas (estreno)\n",
      "🔗 URL: https://www.youtube.com/watch?v=FmtLvl2OtHw&pp=ygUZdHVyaXNtbyBlbiBBbWF6b25hcyBQZXLDug%3D%3D\n",
      "\n",
      "🔎 Buscando video para: Áncash\n",
      "🎬 Título: Reportaje al Perú: Áncash (22/09/2024) | TVPerú\n",
      "🔗 URL: https://www.youtube.com/watch?v=z56Llh3sSXs&pp=ygUYdHVyaXNtbyBlbiDDgW5jYXNoIFBlcsO6\n",
      "\n",
      "🔎 Buscando video para: Apurímac\n",
      "🎬 Título: ¿Qué hacer y cuánto cuesta VIAJAR A APURÍMAC un fin de semana? ⛰️🌳 l APURÍMAC CON NIÑOS\n",
      "🔗 URL: https://www.youtube.com/watch?v=m-YHSVXai0g&pp=ygUadHVyaXNtbyBlbiBBcHVyw61tYWMgUGVyw7o%3D\n",
      "\n",
      "🔎 Buscando video para: Arequipa\n",
      "🎬 Título: AREQUIPA | 13 LUGARES TURÍSTICOS PARA VISITAR (TODO lo que DEBES SABER, HACER y CONOCER) 😲\n",
      "🔗 URL: https://www.youtube.com/watch?v=duFze7nWfR8&pp=ygUZdHVyaXNtbyBlbiBBcmVxdWlwYSBQZXLDug%3D%3D\n",
      "\n",
      "🔎 Buscando video para: Ayacucho\n",
      "🎬 Título: 12 LUGARES EN AYACUCHO que debes visitar este 2023\n",
      "🔗 URL: https://www.youtube.com/watch?v=IFkKuiTGpAg&pp=ygUZdHVyaXNtbyBlbiBBeWFjdWNobyBQZXLDug%3D%3D\n",
      "\n",
      "🔎 Buscando video para: Cajamarca\n",
      "🎬 Título: 10 LUGARES TURÍSTICOS para visitar en CAJAMARCA.🇵🇪\n",
      "🔗 URL: https://www.youtube.com/watch?v=echIcCeMeRc&pp=ygUadHVyaXNtbyBlbiBDYWphbWFyY2EgUGVyw7rSBwkJ2AkBhyohjO8%3D\n",
      "\n",
      "🔎 Buscando video para: Cusco\n",
      "🎬 Título: 👉 CUSCO en 7 días ⛰️🇵🇪 ... GUÍA DE VIAJE y lugares imperdibles 😉 ... #recomendaciones #viajes\n",
      "🔗 URL: https://www.youtube.com/watch?v=b0DtwUq386Y&pp=ygUWdHVyaXNtbyBlbiBDdXNjbyBQZXLDug%3D%3D\n",
      "\n",
      "🔎 Buscando video para: Huancavelica\n",
      "🎬 Título: 7 Joyas OCULTAS DE HUANCAVELICA que te dejarán sin aliento 😲🏔️ PERÚ\n",
      "🔗 URL: https://www.youtube.com/watch?v=bmaMzXiw1WA&pp=ygUddHVyaXNtbyBlbiBIdWFuY2F2ZWxpY2EgUGVyw7o%3D\n",
      "\n",
      "🔎 Buscando video para: Huánuco\n",
      "🎬 Título: Reportaje al Perú: HUÁNUCO, tierra de tradiciones (23/02/2020) | TVPerú\n",
      "🔗 URL: https://www.youtube.com/watch?v=bpksE3EFti0&pp=ygUZdHVyaXNtbyBlbiBIdcOhbnVjbyBQZXLDug%3D%3D\n",
      "\n",
      "🔎 Buscando video para: Ica\n",
      "🎬 Título: 5 LUGARES QUE DEBES DE CONOCER DE LA REGIÓN ICA\n",
      "🔗 URL: https://www.youtube.com/watch?v=ZS2UirVug10&pp=ygUUdHVyaXNtbyBlbiBJY2EgUGVyw7o%3D\n",
      "\n",
      "🔎 Buscando video para: Junín\n",
      "🎬 Título: DESCUBRE 10 SORPRENDENTES LUGARES en Junín ¡No querrás volver de esta aventura!\n",
      "🔗 URL: https://www.youtube.com/watch?v=C9VXG0Zpg6M&pp=ygUXdHVyaXNtbyBlbiBKdW7DrW4gUGVyw7o%3D\n",
      "\n",
      "🔎 Buscando video para: La Libertad\n",
      "🎬 Título: 🔥 Huamachuco, La Libertad: 8 lugares en 2 dias TODO INCLUIDO 🔥🏞️🚣‍♀️🏝️ Trujillo lugares turisticos\n",
      "🔗 URL: https://www.youtube.com/watch?v=qhaGHyx41Ps&pp=ygUcdHVyaXNtbyBlbiBMYSBMaWJlcnRhZCBQZXLDug%3D%3D\n",
      "\n",
      "🔎 Buscando video para: Lambayeque\n",
      "🎬 Título: Chiclayo y sus imperdibles atractivos turísticos\n",
      "🔗 URL: https://www.youtube.com/watch?v=kfcCFvDS_bc&pp=ygUbdHVyaXNtbyBlbiBMYW1iYXllcXVlIFBlcsO6\n",
      "\n",
      "🔎 Buscando video para: Lima\n",
      "🎬 Título: ✨ LIMA en 3 DÍAS: Los Lugares IMPERDIBLES para Visitar en 2025 🇵🇪 ¡Guía Completa!\n",
      "🔗 URL: https://www.youtube.com/watch?v=gXrBMAj8zSE&pp=ygUVdHVyaXNtbyBlbiBMaW1hIFBlcsO60gcJCdgJAYcqIYzv\n",
      "\n",
      "🔎 Buscando video para: Loreto\n",
      "🎬 Título: Disfrute de Loreto y sus atractivos turísticos\n",
      "🔗 URL: https://www.youtube.com/watch?v=rSYLIMjbDVQ&pp=ygUXdHVyaXNtbyBlbiBMb3JldG8gUGVyw7o%3D\n",
      "\n",
      "🔎 Buscando video para: Madre de Dios\n",
      "🎬 Título: 10 lugares turísticos de Puerto Maldonado, Madre de Dios\n",
      "🔗 URL: https://www.youtube.com/watch?v=TbyMETOEdKI&pp=ygUedHVyaXNtbyBlbiBNYWRyZSBkZSBEaW9zIFBlcsO6\n",
      "\n",
      "🔎 Buscando video para: Moquegua\n",
      "🎬 Título: MOQUEGUA: 5 maravillas ocultas que debes conocer | Turismo | Viajes\n",
      "🔗 URL: https://www.youtube.com/watch?v=99YAbhTGa-M&pp=ygUZdHVyaXNtbyBlbiBNb3F1ZWd1YSBQZXLDug%3D%3D\n",
      "\n",
      "🔎 Buscando video para: Pasco\n",
      "🎬 Título: Las MARAVILLAS DE Cerro de Pasco, Bosque de Piedras de Huayllay - Nevado Huaguruncho\n",
      "🔗 URL: https://www.youtube.com/watch?v=lSZ3BqiyYtU&pp=ygUWdHVyaXNtbyBlbiBQYXNjbyBQZXLDug%3D%3D\n",
      "\n",
      "🔎 Buscando video para: Piura\n",
      "🎬 Título: PIURA:¿QUE VISITAR EN LA CIUDAD DEL ETERNO CALOR?. #1\n",
      "🔗 URL: https://www.youtube.com/watch?v=jfLlRVjfGR8&pp=ygUWdHVyaXNtbyBlbiBQaXVyYSBQZXLDug%3D%3D\n",
      "\n",
      "🔎 Buscando video para: Puno\n",
      "🎬 Título: 5 LUGARES TURÍSTICOS IMPRESCINDIBLES para visitar en PUNO🇵🇪\n",
      "🔗 URL: https://www.youtube.com/watch?v=xQwE0AlPoNM&pp=ygUVdHVyaXNtbyBlbiBQdW5vIFBlcsO6\n",
      "\n",
      "🔎 Buscando video para: San Martín\n",
      "🎬 Título: Descubre la maravillosa región de San Martín #ElPerúEsSusRegiones\n",
      "🔗 URL: https://www.youtube.com/watch?v=-NyTVxp2wgw&pp=ygUcdHVyaXNtbyBlbiBTYW4gTWFydMOtbiBQZXLDug%3D%3D\n",
      "\n",
      "🔎 Buscando video para: Tacna\n",
      "🎬 Título: TACNA | 10 LUGARES TURÍSTICOS PARA VISITAR en la CIUDAD HEROICA del PERÚ (QUE HACER y QUE CONOCER)\n",
      "🔗 URL: https://www.youtube.com/watch?v=jBZNko7b2QY&pp=ygUWdHVyaXNtbyBlbiBUYWNuYSBQZXLDug%3D%3D\n",
      "\n",
      "🔎 Buscando video para: Tumbes\n",
      "🎬 Título: Reportaje al Perú: Tumbes (07/07/2024) | TVPerú\n",
      "🔗 URL: https://www.youtube.com/watch?v=5nqgLqoQoxI&pp=ygUXdHVyaXNtbyBlbiBUdW1iZXMgUGVyw7o%3D\n",
      "\n",
      "🔎 Buscando video para: Ucayali\n",
      "🎬 Título: Reportaje al Perú: Ucayali (04/08/2024) | TVPerú\n",
      "🔗 URL: https://www.youtube.com/watch?v=D3mENqKVxhM&pp=ygUYdHVyaXNtbyBlbiBVY2F5YWxpIFBlcsO6\n",
      "\n"
     ]
    }
   ],
   "source": [
    "from selenium import webdriver\n",
    "from selenium.webdriver.chrome.service import Service\n",
    "from selenium.webdriver.chrome.options import Options\n",
    "from selenium.webdriver.common.by import By\n",
    "from webdriver_manager.chrome import ChromeDriverManager\n",
    "import pandas as pd\n",
    "import time\n",
    "\n",
    "# Lista de departamentos\n",
    "departamentos = [\n",
    "    \"Amazonas\", \"Áncash\", \"Apurímac\", \"Arequipa\", \"Ayacucho\", \"Cajamarca\",\n",
    "    \"Cusco\", \"Huancavelica\", \"Huánuco\", \"Ica\", \"Junín\", \"La Libertad\",\n",
    "    \"Lambayeque\", \"Lima\", \"Loreto\", \"Madre de Dios\", \"Moquegua\", \"Pasco\",\n",
    "    \"Piura\", \"Puno\", \"San Martín\", \"Tacna\", \"Tumbes\", \"Ucayali\"\n",
    "]\n",
    "\n",
    "# Configuración de Selenium\n",
    "options = Options()\n",
    "options.add_argument(\"--headless\")  # No abre ventana\n",
    "options.add_argument(\"--no-sandbox\")\n",
    "options.add_argument(\"--disable-dev-shm-usage\")\n",
    "options.add_argument(\"--log-level=3\")\n",
    "\n",
    "print(\"🌐 Iniciando navegador...\\n\")\n",
    "driver = webdriver.Chrome(service=Service(ChromeDriverManager().install()), options=options)\n",
    "\n",
    "# Lista para guardar resultados\n",
    "resultados = []\n",
    "\n",
    "# Búsqueda de videos por departamento\n",
    "for depto in departamentos:\n",
    "    busqueda = f\"turismo en {depto} Perú\"\n",
    "    print(f\"🔎 Buscando video para: {depto}\")\n",
    "    driver.get(f\"https://www.youtube.com/results?search_query={busqueda}\")\n",
    "    time.sleep(3)\n",
    "\n",
    "    try:\n",
    "        video = driver.find_element(By.XPATH, '//ytd-video-renderer')\n",
    "        titulo_elem = video.find_element(By.XPATH, './/a[@id=\"video-title\"]')\n",
    "        titulo = titulo_elem.text.strip()\n",
    "        url = titulo_elem.get_attribute(\"href\")\n",
    "\n",
    "        print(f\"🎬 Título: {titulo}\")\n",
    "        print(f\"🔗 URL: {url}\\n\")\n",
    "\n",
    "        resultados.append({\n",
    "            \"Departamento\": depto,\n",
    "            \"Título del Video\": titulo,\n",
    "            \"URL\": url\n",
    "        })\n",
    "\n",
    "    except Exception:\n",
    "        print(f\"⚠️ No se encontró video para: {depto}\\n\")\n",
    "        resultados.append({\n",
    "            \"Departamento\": depto,\n",
    "            \"Título del Video\": \"No encontrado\",\n",
    "            \"URL\": \"N/A\"\n",
    "        })\n",
    "\n",
    "    time.sleep(1.5)\n",
    "\n",
    "driver.quit()"
   ]
  },
  {
   "cell_type": "code",
   "execution_count": 4,
   "id": "2233aec8-3e52-431b-8c7b-57d74ab222e8",
   "metadata": {},
   "outputs": [
    {
     "name": "stdout",
     "output_type": "stream",
     "text": [
      " Obteniendo festividades por departamento...\n",
      "\n"
     ]
    },
    {
     "name": "stderr",
     "output_type": "stream",
     "text": [
      "100%|██████████████████████████████████████████████████████████████████████████████████| 24/24 [00:19<00:00,  1.25it/s]\n"
     ]
    },
    {
     "name": "stdout",
     "output_type": "stream",
     "text": [
      "\n",
      " Iniciando navegador...\n"
     ]
    },
    {
     "name": "stderr",
     "output_type": "stream",
     "text": [
      "  0%|                                                                                          | 0/777 [00:00<?, ?it/s]"
     ]
    },
    {
     "name": "stdout",
     "output_type": "stream",
     "text": [
      "\n",
      " Carnavales. (Amazonas)\n",
      " Título: Carnaval de Bagua - Amazonas - Perú (2023)\n",
      " URL: https://www.youtube.com/watch?v=0SrFkcucWIw&pp=ygUaQ2FybmF2YWxlcy4gQW1hem9uYXMgUGVyw7o%3D\n"
     ]
    },
    {
     "name": "stderr",
     "output_type": "stream",
     "text": [
      "  0%|                                                                                | 1/777 [00:25<5:32:06, 25.68s/it]"
     ]
    },
    {
     "name": "stdout",
     "output_type": "stream",
     "text": [
      "\n",
      " Fiesta de las Cruces. (Amazonas)\n",
      " Título: Así se celebra la fiesta de las Cruces en Cajamarca | Celebra Perú\n",
      " URL: https://www.youtube.com/watch?v=F4bcK2NQ0qM&pp=ygUkRmllc3RhIGRlIGxhcyBDcnVjZXMuIEFtYXpvbmFzIFBlcsO6\n"
     ]
    },
    {
     "name": "stderr",
     "output_type": "stream",
     "text": [
      "  0%|▏                                                                               | 2/777 [00:45<4:50:05, 22.46s/it]"
     ]
    },
    {
     "name": "stdout",
     "output_type": "stream",
     "text": [
      "\n",
      " Fiesta de San Juan. (Amazonas)\n",
      " Título: Así se vive la tradicional fiesta de “San Juan” en la selva peruana\n",
      " URL: https://www.youtube.com/watch?v=PeYmpXJOV-M&pp=ygUiRmllc3RhIGRlIFNhbiBKdWFuLiBBbWF6b25hcyBQZXLDug%3D%3D\n"
     ]
    },
    {
     "name": "stderr",
     "output_type": "stream",
     "text": [
      "  0%|▎                                                                               | 3/777 [01:01<4:10:10, 19.39s/it]"
     ]
    },
    {
     "name": "stdout",
     "output_type": "stream",
     "text": [
      "\n",
      " Festividad de San Pedro y San Pablo. (Amazonas)\n",
      " Título: Ancón celebra con fe y alegría a San Pedro y San Pablo en su tradicional fiesta en el mar\n",
      " URL: https://www.youtube.com/watch?v=-gUd0esRyVg&pp=ygUzRmVzdGl2aWRhZCBkZSBTYW4gUGVkcm8geSBTYW4gUGFibG8uIEFtYXpvbmFzIFBlcsO6\n"
     ]
    },
    {
     "name": "stderr",
     "output_type": "stream",
     "text": [
      "  1%|▍                                                                               | 4/777 [01:16<3:48:44, 17.76s/it]"
     ]
    },
    {
     "name": "stdout",
     "output_type": "stream",
     "text": [
      "\n",
      " Semana Turística. (Amazonas)\n",
      " Título: Raymi Llaqta 2025: Todo sobre la semana turística de Amazonas #ROTATIVARPP | ENTREVISTA\n",
      " URL: https://www.youtube.com/watch?v=_XC1Ecnl304&pp=ygUhU2VtYW5hIFR1csOtc3RpY2EuIEFtYXpvbmFzIFBlcsO6\n"
     ]
    },
    {
     "name": "stderr",
     "output_type": "stream",
     "text": [
      "  1%|▌                                                                               | 5/777 [01:37<4:01:25, 18.76s/it]"
     ]
    },
    {
     "name": "stdout",
     "output_type": "stream",
     "text": [
      "\n",
      " Fiesta del Apóstol Santiago. (Amazonas)\n",
      " Título: SET 1 PROGRAMA ESPECIAL AL APÓSTOL SANTIAGO, CABANA, PERÚ\n",
      " URL: https://www.youtube.com/watch?v=LzntEln3ecg&pp=ygUsRmllc3RhIGRlbCBBcMOzc3RvbCBTYW50aWFnby4gQW1hem9uYXMgUGVyw7o%3D\n"
     ]
    },
    {
     "name": "stderr",
     "output_type": "stream",
     "text": [
      "  1%|▌                                                                               | 6/777 [01:48<3:27:03, 16.11s/it]"
     ]
    },
    {
     "name": "stdout",
     "output_type": "stream",
     "text": [
      "\n",
      " Fiesta Patronal de la Virgen del Carmen. (Amazonas)\n",
      " Título: FIESTA PATRONAL HONOR A LA SANTISIMA VIRGEN DEL CARMEN - PATRONA DE LOS LACHAQUINOS - PARTE 1\n",
      " URL: https://www.youtube.com/watch?v=W2VPtBtRpUA&pp=ygU3Rmllc3RhIFBhdHJvbmFsIGRlIGxhIFZpcmdlbiBkZWwgQ2FybWVuLiBBbWF6b25hcyBQZXLDutIHCQnYCQGHKiGM7w%3D%3D\n"
     ]
    },
    {
     "name": "stderr",
     "output_type": "stream",
     "text": [
      "  1%|▋                                                                               | 7/777 [02:01<3:12:29, 15.00s/it]"
     ]
    },
    {
     "name": "stdout",
     "output_type": "stream",
     "text": [
      "\n",
      " Fiesta Patronal de la Virgen Asunta. (Amazonas)\n",
      " Título: PERÚ PROFUNDO 🇵🇪| Fiesta Patronal de la Virgen de Asunta en Chachapoyas (Amazonas)- 15 de agosto\n",
      " URL: https://www.youtube.com/watch?v=v-DXm7noqks&pp=ygUzRmllc3RhIFBhdHJvbmFsIGRlIGxhIFZpcmdlbiBBc3VudGEuIEFtYXpvbmFzIFBlcsO6\n"
     ]
    },
    {
     "name": "stderr",
     "output_type": "stream",
     "text": [
      "  1%|▊                                                                               | 8/777 [02:24<3:47:24, 17.74s/it]"
     ]
    },
    {
     "name": "stdout",
     "output_type": "stream",
     "text": [
      "\n",
      " Aniversario de la fundación de la ciudad.\n",
      "Fiesta Patronal de San Nicolás. (Amazonas)\n",
      " Título: Fiestas Patronales del distrito de Santa Rosa, Amazonas, Perú.\n",
      " URL: https://www.youtube.com/watch?v=lFsm9Wi_GEo&pp=ygVZQW5pdmVyc2FyaW8gZGUgbGEgZnVuZGFjacOzbiBkZSBsYSBjaXVkYWQuRmllc3RhIFBhdHJvbmFsIGRlIFNhbiBOaWNvbMOhcy4gQW1hem9uYXMgUGVyw7o%3D\n"
     ]
    },
    {
     "name": "stderr",
     "output_type": "stream",
     "text": [
      "  1%|▉                                                                               | 9/777 [02:38<3:31:13, 16.50s/it]"
     ]
    },
    {
     "name": "stdout",
     "output_type": "stream",
     "text": [
      "\n",
      " Fiesta Patronal del Señor de Gualamita. (Amazonas)\n",
      " Título: Fiesta patronal del Señor de Gualamita - 14 de Setiembre | PERÚ PROFUNDO 🇵🇪\n",
      " URL: https://www.youtube.com/watch?v=brXU7CKqtrI&pp=ygU3Rmllc3RhIFBhdHJvbmFsIGRlbCBTZcOxb3IgZGUgR3VhbGFtaXRhLiBBbWF6b25hcyBQZXLDug%3D%3D\n"
     ]
    },
    {
     "name": "stderr",
     "output_type": "stream",
     "text": [
      "  1%|█                                                                              | 10/777 [02:50<3:11:39, 14.99s/it]"
     ]
    },
    {
     "name": "stdout",
     "output_type": "stream",
     "text": [
      "\n",
      " Fiesta Patronal del Señor de los Milagros.\n",
      "Fiesta Patronal de San Lucas. (Amazonas)\n",
      " Título: Huancas: Señor de los Milagros reúne a fieles y devotos en una procesión cargada de tradición y fe\n",
      " URL: https://www.youtube.com/watch?v=EFaW2yz4ZfQ&pp=ygVXRmllc3RhIFBhdHJvbmFsIGRlbCBTZcOxb3IgZGUgbG9zIE1pbGFncm9zLkZpZXN0YSBQYXRyb25hbCBkZSBTYW4gTHVjYXMuIEFtYXpvbmFzIFBlcsO6\n"
     ]
    },
    {
     "name": "stderr",
     "output_type": "stream",
     "text": [
      "  1%|█                                                                              | 11/777 [03:03<3:06:03, 14.57s/it]"
     ]
    },
    {
     "name": "stdout",
     "output_type": "stream",
     "text": [
      "\n",
      " Día de los difuntos. (Amazonas)\n",
      " Título: Un día de los Fieles Difuntos tradicional en Luya | Amazonas\n",
      " URL: https://www.youtube.com/watch?v=boqgZX7kkVE&pp=ygUkRMOtYSBkZSBsb3MgZGlmdW50b3MuIEFtYXpvbmFzIFBlcsO6\n"
     ]
    },
    {
     "name": "stderr",
     "output_type": "stream",
     "text": [
      "  2%|█▏                                                                             | 12/777 [03:18<3:06:09, 14.60s/it]"
     ]
    },
    {
     "name": "stdout",
     "output_type": "stream",
     "text": [
      "\n",
      " Aniversario del departamento. (Amazonas)\n",
      " Título: Amazonas se alista para celebrar su 190 aniversario\n",
      " URL: https://www.youtube.com/watch?v=zuVZTc_Au2s&pp=ygUsQW5pdmVyc2FyaW8gZGVsIGRlcGFydGFtZW50by4gQW1hem9uYXMgUGVyw7o%3D\n"
     ]
    },
    {
     "name": "stderr",
     "output_type": "stream",
     "text": [
      "  2%|█▎                                                                             | 13/777 [03:33<3:07:38, 14.74s/it]"
     ]
    },
    {
     "name": "stdout",
     "output_type": "stream",
     "text": [
      "\n",
      " Velación del Niño Jesús. (Amazonas)\n",
      " Título: velación del niño Jesús y del señor de la buena esperanza Familia.Bermejo Muñoz.. GN Producciónes\n",
      " URL: https://www.youtube.com/watch?v=ctklFLDgnZA&pp=ygUqVmVsYWNpw7NuIGRlbCBOacOxbyBKZXPDunMuIEFtYXpvbmFzIFBlcsO6\n"
     ]
    },
    {
     "name": "stderr",
     "output_type": "stream",
     "text": [
      "  2%|█▍                                                                             | 14/777 [03:47<3:05:42, 14.60s/it]"
     ]
    },
    {
     "name": "stdout",
     "output_type": "stream",
     "text": [
      "\n",
      " Fiesta del Año Nuevo de los Jueces de\n",
      "Agua (Ancash)\n",
      " Título: Los jueces de Agua de Corongo: Las Relimpias\n",
      " URL: https://www.youtube.com/watch?v=JUq29WaWqII&pp=ygU3Rmllc3RhIGRlbCBBw7FvIE51ZXZvIGRlIGxvcyBKdWVjZXMgZGVBZ3VhIEFuY2FzaCBQZXLDug%3D%3D\n"
     ]
    },
    {
     "name": "stderr",
     "output_type": "stream",
     "text": [
      "  2%|█▌                                                                             | 15/777 [04:01<3:02:40, 14.38s/it]"
     ]
    },
    {
     "name": "stdout",
     "output_type": "stream",
     "text": [
      "\n",
      " Danza de los Negritos y el Niño Jesús (Ancash)\n",
      " Título: Visita Recreo Tres Hornitos - Cofradía Negritos Niño Jesús de la Esperanza 2013 #huánuco #tradición\n",
      " URL: https://www.youtube.com/shorts/81lwjZYgubc\n"
     ]
    },
    {
     "name": "stderr",
     "output_type": "stream",
     "text": [
      "  2%|█▋                                                                             | 16/777 [04:17<3:06:21, 14.69s/it]"
     ]
    },
    {
     "name": "stdout",
     "output_type": "stream",
     "text": [
      "\n",
      " Herodes del Balcón y Tres Reyes (Ancash)\n",
      " Título: El rey Herodes y los 3 Reyes Magos de Oriente\n",
      " URL: https://www.youtube.com/watch?v=HPv4SfF1lGk&pp=ygUtSGVyb2RlcyBkZWwgQmFsY8OzbiB5IFRyZXMgUmV5ZXMgQW5jYXNoIFBlcsO6\n"
     ]
    },
    {
     "name": "stderr",
     "output_type": "stream",
     "text": [
      "  2%|█▋                                                                             | 17/777 [04:31<3:05:04, 14.61s/it]"
     ]
    },
    {
     "name": "stdout",
     "output_type": "stream",
     "text": [
      "\n",
      " Festival de San Sebastián (Ancash)\n",
      " Título: La Fiesta de San Sebastián\n",
      " URL: https://www.youtube.com/watch?v=lKniEKWW1-c&pp=ygUnRmVzdGl2YWwgZGUgU2FuIFNlYmFzdGnDoW4gQW5jYXNoIFBlcsO6\n"
     ]
    },
    {
     "name": "stderr",
     "output_type": "stream",
     "text": [
      "  2%|█▊                                                                             | 18/777 [04:44<2:59:31, 14.19s/it]"
     ]
    },
    {
     "name": "stdout",
     "output_type": "stream",
     "text": [
      "\n",
      " Caraz, San Sebastián, Recuay Fiesta de\n",
      "la Virgen de Chinquinquirá (Ancash)\n",
      " Título: #𝗖𝗔𝗥𝗔𝗭, #𝗛𝗨𝗔𝗬𝗟𝗔𝗦, #𝗔𝗡𝗖𝗔𝗦𝗛. Barrio CUMPAYHUARA. Espectacular Castillo de Fuegos Artificiales SanPedro\n",
      " URL: https://www.youtube.com/watch?v=KbnP8Qn-EtE&pp=ygVPQ2FyYXosIFNhbiBTZWJhc3Rpw6FuLCBSZWN1YXkgRmllc3RhIGRlbGEgVmlyZ2VuIGRlIENoaW5xdWlucXVpcsOhIEFuY2FzaCBQZXLDug%3D%3D\n"
     ]
    },
    {
     "name": "stderr",
     "output_type": "stream",
     "text": [
      "  2%|█▉                                                                             | 19/777 [04:56<2:50:43, 13.51s/it]"
     ]
    },
    {
     "name": "stdout",
     "output_type": "stream",
     "text": [
      "\n",
      " Carnaval Huachihualito y Cortamonte (Ancash)\n",
      " Título: Carnaval de Usamasanga / Ancash / HupayMarka ( Nuevo Amanecer 2024 - Musuck Yllary )\n",
      " URL: https://www.youtube.com/watch?v=vF0dXPZQFhU&pp=ygUwQ2FybmF2YWwgSHVhY2hpaHVhbGl0byB5IENvcnRhbW9udGUgQW5jYXNoIFBlcsO6\n"
     ]
    },
    {
     "name": "stderr",
     "output_type": "stream",
     "text": [
      "  3%|██                                                                             | 20/777 [05:11<2:56:05, 13.96s/it]"
     ]
    },
    {
     "name": "stdout",
     "output_type": "stream",
     "text": [
      "\n",
      " Fiesta de la Virgen de Lourdes (Ancash)\n",
      " Título: Fiesta patronal \"Virgen de Lourdes\" huanchuy_ yungay_ancash_perú\n",
      " URL: https://www.youtube.com/watch?v=P5i_6ZMa4DI&pp=ygUrRmllc3RhIGRlIGxhIFZpcmdlbiBkZSBMb3VyZGVzIEFuY2FzaCBQZXLDutIHCQnYCQGHKiGM7w%3D%3D\n"
     ]
    },
    {
     "name": "stderr",
     "output_type": "stream",
     "text": [
      "  3%|██▏                                                                            | 21/777 [05:24<2:52:24, 13.68s/it]"
     ]
    },
    {
     "name": "stdout",
     "output_type": "stream",
     "text": [
      "\n",
      " Fiesta de la Virgen de la Candelaria (Ancash)\n",
      " Título: La fiesta de la Virgen de la Candelaria en Puno\n",
      " URL: https://www.youtube.com/watch?v=svHORMXjZ5w&pp=ygUxRmllc3RhIGRlIGxhIFZpcmdlbiBkZSBsYSBDYW5kZWxhcmlhIEFuY2FzaCBQZXLDutIHCQnYCQGHKiGM7w%3D%3D\n"
     ]
    },
    {
     "name": "stderr",
     "output_type": "stream",
     "text": [
      "  3%|██▏                                                                            | 22/777 [05:39<2:58:29, 14.18s/it]"
     ]
    },
    {
     "name": "stdout",
     "output_type": "stream",
     "text": [
      "\n",
      " Fiesta de las Cruces (Ancash)\n",
      " Título: Fiesta de las Cruces de Campo de Huaraz - Perú- carnavales huaracinos\n",
      " URL: https://www.youtube.com/watch?v=AWVcjGrFADU&pp=ygUhRmllc3RhIGRlIGxhcyBDcnVjZXMgQW5jYXNoIFBlcsO6\n"
     ]
    },
    {
     "name": "stderr",
     "output_type": "stream",
     "text": [
      "  3%|██▎                                                                            | 23/777 [05:55<3:02:28, 14.52s/it]"
     ]
    },
    {
     "name": "stdout",
     "output_type": "stream",
     "text": [
      "\n",
      " Procesión del Señor en burro vivo (Ancash)\n",
      " Título: Semana Santa en Ayacucho: multitudinario fervor al Señor de la Resurrección\n",
      " URL: https://www.youtube.com/watch?v=x56W5fkqe5k&pp=ygUwUHJvY2VzacOzbiBkZWwgU2XDsW9yIGVuIGJ1cnJvIHZpdm8gQW5jYXNoIFBlcsO6\n"
     ]
    },
    {
     "name": "stderr",
     "output_type": "stream",
     "text": [
      "  3%|██▍                                                                            | 24/777 [06:11<3:06:57, 14.90s/it]"
     ]
    },
    {
     "name": "stdout",
     "output_type": "stream",
     "text": [
      "\n",
      " Semana Santa (Ancash)\n",
      " Título: Así se vive SEMANA SANTA en el PERÚ PROFUNDO (tradición, fe y devoción) | Jordy Aventurero\n",
      " URL: https://www.youtube.com/watch?v=HVaupGolBRE&pp=ygUZU2VtYW5hIFNhbnRhIEFuY2FzaCBQZXLDug%3D%3D\n"
     ]
    },
    {
     "name": "stderr",
     "output_type": "stream",
     "text": [
      "  3%|██▌                                                                            | 25/777 [06:25<3:03:52, 14.67s/it]"
     ]
    },
    {
     "name": "stdout",
     "output_type": "stream",
     "text": [
      "\n",
      " Fiesta Patronal (Ancash)\n",
      " Título: FIESTA DE TAYA - PAROBAMBA ANCASH PERU\n",
      " URL: https://www.youtube.com/watch?v=m96IICZSZnc&pp=ygUcRmllc3RhIFBhdHJvbmFsIEFuY2FzaCBQZXLDug%3D%3D\n"
     ]
    },
    {
     "name": "stderr",
     "output_type": "stream",
     "text": [
      "  3%|██▋                                                                            | 26/777 [06:41<3:08:13, 15.04s/it]"
     ]
    },
    {
     "name": "stdout",
     "output_type": "stream",
     "text": [
      "\n",
      " San José- (Ancash)\n",
      " Título: Pueblo de San Jose en Nepeña Ancash\n",
      " URL: https://www.youtube.com/watch?v=XwrZptDQxig&pp=ygUXU2FuIEpvc8OpLSBBbmNhc2ggUGVyw7o%3D\n"
     ]
    },
    {
     "name": "stderr",
     "output_type": "stream",
     "text": [
      "  3%|██▋                                                                            | 27/777 [06:56<3:08:54, 15.11s/it]"
     ]
    },
    {
     "name": "stdout",
     "output_type": "stream",
     "text": [
      "\n",
      " Fiesta de Santo Toribio de Mogrovejo (Ancash)\n",
      " Título: REALIZARÁN PEREGRINACIÓN AL SANTUARIO DE SANTO TORIBIO DE MOGROVEJO DE CHINCHAS\n",
      " URL: https://www.youtube.com/watch?v=AsaLQUdrwJw&pp=ygUxRmllc3RhIGRlIFNhbnRvIFRvcmliaW8gZGUgTW9ncm92ZWpvIEFuY2FzaCBQZXLDug%3D%3D\n"
     ]
    },
    {
     "name": "stderr",
     "output_type": "stream",
     "text": [
      "  4%|██▊                                                                            | 28/777 [07:13<3:16:02, 15.70s/it]"
     ]
    },
    {
     "name": "stdout",
     "output_type": "stream",
     "text": [
      "\n",
      " Santo Toribio (Ancash)\n",
      " Título: PLAZA MAYOR DE SANTO TORIBIO - ANCASH\n",
      " URL: https://www.youtube.com/watch?v=y675tP96fFg&pp=ygUaU2FudG8gVG9yaWJpbyBBbmNhc2ggUGVyw7o%3D\n"
     ]
    },
    {
     "name": "stderr",
     "output_type": "stream",
     "text": [
      "  4%|██▉                                                                            | 29/777 [07:29<3:15:39, 15.69s/it]"
     ]
    },
    {
     "name": "stdout",
     "output_type": "stream",
     "text": [
      "\n",
      " Día del Milagro, Santo Toribio (Ancash)\n",
      " Título: PROCESION DIA CENTRAL 2018 - SANTO TORIBIO ANCASH - PERÚ\n",
      " URL: https://www.youtube.com/watch?v=4_EnvfAGJ8Y&pp=ygUsRMOtYSBkZWwgTWlsYWdybywgU2FudG8gVG9yaWJpbyBBbmNhc2ggUGVyw7o%3D\n"
     ]
    },
    {
     "name": "stderr",
     "output_type": "stream",
     "text": [
      "  4%|███                                                                            | 30/777 [07:44<3:15:06, 15.67s/it]"
     ]
    },
    {
     "name": "stdout",
     "output_type": "stream",
     "text": [
      "\n",
      " El Señor de Mayo y la Exaltación\n",
      "de la Santísima cruz (Ancash)\n",
      " Título: PROCESIÓN EN HONOR AL SEÑOR DE LA EXALTACIÓN DE LA SANTA CRUZ\n",
      " URL: https://www.youtube.com/watch?v=srkhI-Kg9CQ&pp=ygVERWwgU2XDsW9yIGRlIE1heW8geSBsYSBFeGFsdGFjacOzbmRlIGxhIFNhbnTDrXNpbWEgY3J1eiBBbmNhc2ggUGVyw7o%3D\n"
     ]
    },
    {
     "name": "stderr",
     "output_type": "stream",
     "text": [
      "  4%|███▏                                                                           | 31/777 [07:58<3:08:06, 15.13s/it]"
     ]
    },
    {
     "name": "stdout",
     "output_type": "stream",
     "text": [
      "\n",
      " Fiesta Patronal del Señor de Cahucayán (Ancash)\n",
      " Título: FESTIVIDAD EN HONOR AL SEÑOR DE CAYAC. AQUIA - BOLOGNESI - ANCASH - 2025 - RESIDENTES EN LIMA.\n",
      " URL: https://www.youtube.com/watch?v=sj7RdPVIN6M&pp=ygU1Rmllc3RhIFBhdHJvbmFsIGRlbCBTZcOxb3IgZGUgQ2FodWNhecOhbiBBbmNhc2ggUGVyw7o%3D\n"
     ]
    },
    {
     "name": "stderr",
     "output_type": "stream",
     "text": [
      "  4%|███▎                                                                           | 32/777 [08:13<3:07:53, 15.13s/it]"
     ]
    },
    {
     "name": "stdout",
     "output_type": "stream",
     "text": [
      "\n",
      " El Señor de la Soledad (Ancash)\n",
      " Título: HUARAZ: Todo sobre la festividad del Señor de la Soledad\n",
      " URL: https://www.youtube.com/watch?v=9ubhFE0FA3Y&pp=ygUkRWwgU2XDsW9yIGRlIGxhIFNvbGVkYWQgQW5jYXNoIFBlcsO6\n"
     ]
    },
    {
     "name": "stderr",
     "output_type": "stream",
     "text": [
      "  4%|███▎                                                                           | 33/777 [08:25<2:53:49, 14.02s/it]"
     ]
    },
    {
     "name": "stdout",
     "output_type": "stream",
     "text": [
      "\n",
      " San Isidro (Ancash)\n",
      " Título: San Isidro ancash peru\n",
      " URL: https://www.youtube.com/watch?v=ML__6MJlZAY&pp=ygUXU2FuIElzaWRybyBBbmNhc2ggUGVyw7o%3D\n"
     ]
    },
    {
     "name": "stderr",
     "output_type": "stream",
     "text": [
      "  4%|███▍                                                                           | 34/777 [08:37<2:47:23, 13.52s/it]"
     ]
    },
    {
     "name": "stdout",
     "output_type": "stream",
     "text": [
      "\n",
      " Corpus Christi (Ancash)\n",
      " Título: 2. - Wanka Danza-Corpus Christi- Kenedy Dominguez Garay-San Marcos-Huari-Ancash 30/06/2017\n",
      " URL: https://www.youtube.com/watch?v=gVfzl09pUcM&pp=ygUbQ29ycHVzIENocmlzdGkgQW5jYXNoIFBlcsO6\n"
     ]
    },
    {
     "name": "stderr",
     "output_type": "stream",
     "text": [
      "  5%|███▌                                                                           | 35/777 [08:53<2:56:03, 14.24s/it]"
     ]
    },
    {
     "name": "stdout",
     "output_type": "stream",
     "text": [
      "\n",
      " Fiesta de la Virgen Purísima (Ancash)\n",
      " Título: FIESTA DE TAYA PAROBAMBA ANCASH EN HOMENAJE A VIRGEN PURISIMA\n",
      " URL: https://www.youtube.com/watch?v=KTuqkTFIrFM&list=RDKTuqkTFIrFM&start_radio=1&pp=ygUqRmllc3RhIGRlIGxhIFZpcmdlbiBQdXLDrXNpbWEgQW5jYXNoIFBlcsO6oAcB\n"
     ]
    },
    {
     "name": "stderr",
     "output_type": "stream",
     "text": [
      "  5%|███▋                                                                           | 36/777 [09:05<2:47:00, 13.52s/it]"
     ]
    },
    {
     "name": "stdout",
     "output_type": "stream",
     "text": [
      "\n",
      " San Antonio (Ancash)\n",
      " Título: ¡Así se vive el inicio de la fiesta en Bolognesi, Pallasca!\n",
      " URL: https://www.youtube.com/watch?v=4SJT3fsIkME&pp=ygUYU2FuIEFudG9uaW8gQW5jYXNoIFBlcsO6\n"
     ]
    },
    {
     "name": "stderr",
     "output_type": "stream",
     "text": [
      "  5%|███▊                                                                           | 37/777 [09:18<2:46:17, 13.48s/it]"
     ]
    },
    {
     "name": "stdout",
     "output_type": "stream",
     "text": [
      "\n",
      " Fiesta de San Pedro (Ancash)\n",
      " Título: Fiestas de San Pedro | Celebra Perú\n",
      " URL: https://www.youtube.com/watch?v=KykRFdA45xc&pp=ygUgRmllc3RhIGRlIFNhbiBQZWRybyBBbmNhc2ggUGVyw7o%3D\n"
     ]
    },
    {
     "name": "stderr",
     "output_type": "stream",
     "text": [
      "  5%|███▊                                                                           | 38/777 [09:34<2:54:50, 14.20s/it]"
     ]
    },
    {
     "name": "stdout",
     "output_type": "stream",
     "text": [
      "\n",
      " San Juan (Ancash)\n",
      " Título: FIESTA DE SAN JUAN Y SAN PEDRO. CHULLIN - SIHUAS - ANCASH. REPORTAJE 2023. MAS QUE VIAJES.\n",
      " URL: https://www.youtube.com/watch?v=ETu4OP5n6Mc&pp=ygUVU2FuIEp1YW4gQW5jYXNoIFBlcsO6\n"
     ]
    },
    {
     "name": "stderr",
     "output_type": "stream",
     "text": [
      "  5%|███▉                                                                           | 39/777 [09:52<3:08:57, 15.36s/it]"
     ]
    },
    {
     "name": "stdout",
     "output_type": "stream",
     "text": [
      "\n",
      " Fiesta de San Juan (Ancash)\n",
      " Título: FIESTA DE SAN JUAN Y SAN PEDRO. CHULLIN - SIHUAS - ANCASH. REPORTAJE 2023. MAS QUE VIAJES.\n",
      " URL: https://www.youtube.com/watch?v=ETu4OP5n6Mc&pp=ygUfRmllc3RhIGRlIFNhbiBKdWFuIEFuY2FzaCBQZXLDug%3D%3D\n"
     ]
    },
    {
     "name": "stderr",
     "output_type": "stream",
     "text": [
      "  5%|████                                                                           | 40/777 [10:08<3:09:30, 15.43s/it]"
     ]
    },
    {
     "name": "stdout",
     "output_type": "stream",
     "text": [
      "\n",
      " Fiesta de San Pedro y San Pablo (Ancash)\n",
      " Título: PISCOBAMBA ANCASH FIESTA SAN PEDRO Y SAN PABLO 2025\n",
      " URL: https://www.youtube.com/watch?v=sUQnM44Q-aI&pp=ygUsRmllc3RhIGRlIFNhbiBQZWRybyB5IFNhbiBQYWJsbyBBbmNhc2ggUGVyw7o%3D\n"
     ]
    },
    {
     "name": "stderr",
     "output_type": "stream",
     "text": [
      "  5%|████▏                                                                          | 41/777 [10:18<2:50:10, 13.87s/it]"
     ]
    },
    {
     "name": "stdout",
     "output_type": "stream",
     "text": [
      "\n",
      " Festividad de Santa Isabel o la Virgen de las\n",
      "Cosechas (Ancash)\n",
      " Título: PERÚ PROFUNDO 🇵🇪| Festividad en honor a la virgen María y Santa Isabel en Ancash - 08 de Julio\n",
      " URL: https://www.youtube.com/watch?v=WNkCxQ_XJ0U&pp=ygVCRmVzdGl2aWRhZCBkZSBTYW50YSBJc2FiZWwgbyBsYSBWaXJnZW4gZGUgbGFzQ29zZWNoYXMgQW5jYXNoIFBlcsO6\n"
     ]
    },
    {
     "name": "stderr",
     "output_type": "stream",
     "text": [
      "  5%|████▎                                                                          | 42/777 [10:32<2:49:53, 13.87s/it]"
     ]
    },
    {
     "name": "stdout",
     "output_type": "stream",
     "text": [
      "\n",
      " Santa Isabel (Ancash)\n",
      " Título: 🎉 FIESTA de la VIRGEN MARÍA y SANTA ISABEL de HUAYLAS 2011 ❤ PROCESIÓN PARTE 1 🙏🏼✨\n",
      " URL: https://www.youtube.com/watch?v=8dkrAJxbtyY&pp=ygUZU2FudGEgSXNhYmVsIEFuY2FzaCBQZXLDug%3D%3D\n"
     ]
    },
    {
     "name": "stderr",
     "output_type": "stream",
     "text": [
      "  6%|████▎                                                                          | 43/777 [10:45<2:47:44, 13.71s/it]"
     ]
    },
    {
     "name": "stdout",
     "output_type": "stream",
     "text": [
      "\n",
      " Fiesta Patronal (Ancash)\n",
      " Título: FIESTA DE TAYA - PAROBAMBA ANCASH PERU\n",
      " URL: https://www.youtube.com/watch?v=m96IICZSZnc&pp=ygUcRmllc3RhIFBhdHJvbmFsIEFuY2FzaCBQZXLDug%3D%3D\n"
     ]
    },
    {
     "name": "stderr",
     "output_type": "stream",
     "text": [
      "  6%|████▍                                                                          | 44/777 [10:57<2:39:54, 13.09s/it]"
     ]
    },
    {
     "name": "stdout",
     "output_type": "stream",
     "text": [
      "\n",
      " Fiesta de Santiago el Mayor (Ancash)\n",
      " Título: FESTIVIDAD EN HONOR AL APOSTOL SANTIAGO \"EL MAYOR\" CABANA ANCASH 2022 CARLOS MATIENZO ARANDA E HIJOS\n",
      " URL: https://www.youtube.com/watch?v=q3ugQTix0SE&pp=ygUoRmllc3RhIGRlIFNhbnRpYWdvIGVsIE1heW9yIEFuY2FzaCBQZXLDug%3D%3D\n"
     ]
    },
    {
     "name": "stderr",
     "output_type": "stream",
     "text": [
      "  6%|████▌                                                                          | 45/777 [11:11<2:45:02, 13.53s/it]"
     ]
    },
    {
     "name": "stdout",
     "output_type": "stream",
     "text": [
      "\n",
      " Fiesta de la Virgen del Carmen (Ancash)\n",
      " Título: Fiesta Patronal de Huanchi / Ancash / Virgen del Carmen (Puente Piedra 2022 - Llaqta Peru)\n",
      " URL: https://www.youtube.com/watch?v=rRlimzMOCH0&pp=ygUrRmllc3RhIGRlIGxhIFZpcmdlbiBkZWwgQ2FybWVuIEFuY2FzaCBQZXLDug%3D%3D\n"
     ]
    },
    {
     "name": "stderr",
     "output_type": "stream",
     "text": [
      "  6%|████▋                                                                          | 46/777 [11:30<3:01:45, 14.92s/it]"
     ]
    },
    {
     "name": "stdout",
     "output_type": "stream",
     "text": [
      "\n",
      " María Magdalena (Ancash)\n",
      " Título: REPORTAJE MARIA MAGDALENA - MARCA LA K Y ESCRIBE EL 3 POR ANCASH\n",
      " URL: https://www.youtube.com/watch?v=M_Krh_7RxMY&pp=ygUdTWFyw61hIE1hZ2RhbGVuYSBBbmNhc2ggUGVyw7o%3D\n"
     ]
    },
    {
     "name": "stderr",
     "output_type": "stream",
     "text": [
      "  6%|████▊                                                                          | 47/777 [11:48<3:15:35, 16.08s/it]"
     ]
    },
    {
     "name": "stdout",
     "output_type": "stream",
     "text": [
      "\n",
      " Semana Turística del Callejón\n",
      "de Huaylas (Ancash)\n",
      " Título: Reportaje al Perú: Callejón de Huaylas y sus montañas (18/06/2023) | TVPerú\n",
      " URL: https://www.youtube.com/watch?v=fKy3dhfx6oE&pp=ygU2U2VtYW5hIFR1csOtc3RpY2EgZGVsIENhbGxlasOzbmRlIEh1YXlsYXMgQW5jYXNoIFBlcsO6\n"
     ]
    },
    {
     "name": "stderr",
     "output_type": "stream",
     "text": [
      "  6%|████▉                                                                          | 48/777 [12:04<3:14:23, 16.00s/it]"
     ]
    },
    {
     "name": "stdout",
     "output_type": "stream",
     "text": [
      "\n",
      " Fiesta de San Cristóbal (Ancash)\n",
      " Título: ANYI DEL PERU - LAS QUIYAYAS DE RAJAN # 1\n",
      " URL: https://www.youtube.com/watch?v=lQ1XbnJg7EI&pp=ygUlRmllc3RhIGRlIFNhbiBDcmlzdMOzYmFsIEFuY2FzaCBQZXLDug%3D%3D\n"
     ]
    },
    {
     "name": "stderr",
     "output_type": "stream",
     "text": [
      "  6%|████▉                                                                          | 49/777 [12:17<3:04:08, 15.18s/it]"
     ]
    },
    {
     "name": "stdout",
     "output_type": "stream",
     "text": [
      "\n",
      " Fiesta de Santa Ana (Ancash)\n",
      " Título: Fiesta Santa Ana de Cochabamba 2023/ Cochabamba, Ancash, Perú.\n",
      " URL: https://www.youtube.com/watch?v=o4ic8E4lZrg&pp=ygUgRmllc3RhIGRlIFNhbnRhIEFuYSBBbmNhc2ggUGVyw7o%3D\n"
     ]
    },
    {
     "name": "stderr",
     "output_type": "stream",
     "text": [
      "  6%|█████                                                                          | 50/777 [12:31<2:58:54, 14.77s/it]"
     ]
    },
    {
     "name": "stdout",
     "output_type": "stream",
     "text": [
      "\n",
      " Fiesta del Apóstol Santiago (Ancash)\n",
      " Título: SET 1 PROGRAMA ESPECIAL AL APÓSTOL SANTIAGO, CABANA, PERÚ\n",
      " URL: https://www.youtube.com/watch?v=LzntEln3ecg&pp=ygUpRmllc3RhIGRlbCBBcMOzc3RvbCBTYW50aWFnbyBBbmNhc2ggUGVyw7o%3D\n"
     ]
    },
    {
     "name": "stderr",
     "output_type": "stream",
     "text": [
      "  7%|█████▏                                                                         | 51/777 [12:48<3:07:49, 15.52s/it]"
     ]
    },
    {
     "name": "stdout",
     "output_type": "stream",
     "text": [
      "\n",
      " La Virgen del Carmen (Ancash)\n",
      " Título: IGLESIA CHAVÍN -virgen del Carmen -HUARI -ANCASH PERÚ x KLEY ALCOR\n",
      " URL: https://www.youtube.com/watch?v=4uJThX7tNSo&pp=ygUhTGEgVmlyZ2VuIGRlbCBDYXJtZW4gQW5jYXNoIFBlcsO6\n"
     ]
    },
    {
     "name": "stderr",
     "output_type": "stream",
     "text": [
      "  7%|█████▎                                                                         | 52/777 [13:01<2:57:55, 14.72s/it]"
     ]
    },
    {
     "name": "stdout",
     "output_type": "stream",
     "text": [
      "\n",
      " Fiesta Patronal de la Virgen de las Nieves (Ancash)\n",
      " Título: DOCUMENTAL PROV. DE SIHUAS - ANCASH - F.P. VIRGEN DE LAS NIEVES\n",
      " URL: https://www.youtube.com/watch?v=tulCrRJN38Y&pp=ygU3Rmllc3RhIFBhdHJvbmFsIGRlIGxhIFZpcmdlbiBkZSBsYXMgTmlldmVzIEFuY2FzaCBQZXLDug%3D%3D\n"
     ]
    },
    {
     "name": "stderr",
     "output_type": "stream",
     "text": [
      "  7%|█████▍                                                                         | 53/777 [13:17<2:59:39, 14.89s/it]"
     ]
    },
    {
     "name": "stdout",
     "output_type": "stream",
     "text": [
      "\n",
      " Tauca), Yungay, Sto Domingo Santo Domingo (Ancash)\n",
      " Título: FESTIVIDAD EN HONOR A SANTO DOMINGO DE GUZMAN TAUCA -PALLASCA - ANCASH | LIMA 17 DE AGOSTO 2024\n",
      " URL: https://www.youtube.com/watch?v=6T1atjVZdaM&pp=ygU2VGF1Y2EpLCBZdW5nYXksIFN0byBEb21pbmdvIFNhbnRvIERvbWluZ28gQW5jYXNoIFBlcsO6\n"
     ]
    },
    {
     "name": "stderr",
     "output_type": "stream",
     "text": [
      "  7%|█████▍                                                                         | 54/777 [13:33<3:06:06, 15.45s/it]"
     ]
    },
    {
     "name": "stdout",
     "output_type": "stream",
     "text": [
      "\n",
      " Fiesta Patronal de la Virgen de las Nieves (Ancash)\n",
      " Título: DOCUMENTAL PROV. DE SIHUAS - ANCASH - F.P. VIRGEN DE LAS NIEVES\n",
      " URL: https://www.youtube.com/watch?v=tulCrRJN38Y&pp=ygU3Rmllc3RhIFBhdHJvbmFsIGRlIGxhIFZpcmdlbiBkZSBsYXMgTmlldmVzIEFuY2FzaCBQZXLDug%3D%3D\n"
     ]
    },
    {
     "name": "stderr",
     "output_type": "stream",
     "text": [
      "  7%|█████▌                                                                         | 55/777 [13:49<3:07:05, 15.55s/it]"
     ]
    },
    {
     "name": "stdout",
     "output_type": "stream",
     "text": [
      "\n",
      " Huari, Huaylas Fiesta de la Virgen de la Asunción (Ancash)\n",
      " Título: Huaylas 2024_FIESTA PATRONAL EN HONOR A LA VIRGEN MARÍA Y SANTA ISABEL\n",
      " URL: https://www.youtube.com/watch?v=67aVxGR7B58&pp=ygU_SHVhcmksIEh1YXlsYXMgRmllc3RhIGRlIGxhIFZpcmdlbiBkZSBsYSBBc3VuY2nDs24gQW5jYXNoIFBlcsO6\n"
     ]
    },
    {
     "name": "stderr",
     "output_type": "stream",
     "text": [
      "  7%|█████▋                                                                         | 56/777 [14:04<3:03:51, 15.30s/it]"
     ]
    },
    {
     "name": "stdout",
     "output_type": "stream",
     "text": [
      "\n",
      " Fiesta de la Virgen del Rosario (Ancash)\n",
      " Título: Festividad en Honor a la \"Virgen del Rosario\"-Patrona de Musga, Ancash // Residentes en Lima.\n",
      " URL: https://www.youtube.com/watch?v=S8Qqzu7riTI&pp=ygUsRmllc3RhIGRlIGxhIFZpcmdlbiBkZWwgUm9zYXJpbyBBbmNhc2ggUGVyw7rSBwkJ2AkBhyohjO8%3D\n"
     ]
    },
    {
     "name": "stderr",
     "output_type": "stream",
     "text": [
      "  7%|█████▊                                                                         | 57/777 [14:23<3:17:30, 16.46s/it]"
     ]
    },
    {
     "name": "stdout",
     "output_type": "stream",
     "text": [
      "\n",
      " El Señor de Santa 20-22 de agosto (Ancash)\n",
      " Título: PERÚ PROFUNDO 🇵🇪| Festividad del señor crucificado de santa (Áncash) - 11 de agosto\n",
      " URL: https://www.youtube.com/watch?v=bGCFkE9fnGE&pp=ygUvRWwgU2XDsW9yIGRlIFNhbnRhIDIwLTIyIGRlIGFnb3N0byBBbmNhc2ggUGVyw7rSBwkJ2AkBhyohjO8%3D\n"
     ]
    },
    {
     "name": "stderr",
     "output_type": "stream",
     "text": [
      "  7%|█████▉                                                                         | 58/777 [14:35<3:01:58, 15.19s/it]"
     ]
    },
    {
     "name": "stdout",
     "output_type": "stream",
     "text": [
      "\n",
      " Fiesta de la Virgen del Carmen (Ancash)\n",
      " Título: Fiesta Patronal de Huanchi / Ancash / Virgen del Carmen (Puente Piedra 2022 - Llaqta Peru)\n",
      " URL: https://www.youtube.com/watch?v=rRlimzMOCH0&pp=ygUrRmllc3RhIGRlIGxhIFZpcmdlbiBkZWwgQ2FybWVuIEFuY2FzaCBQZXLDug%3D%3D\n"
     ]
    },
    {
     "name": "stderr",
     "output_type": "stream",
     "text": [
      "  8%|█████▉                                                                         | 59/777 [14:48<2:52:49, 14.44s/it]"
     ]
    },
    {
     "name": "stdout",
     "output_type": "stream",
     "text": [
      "\n",
      " San Agustín (Ancash)\n",
      " Título: Fiesta Patronal de San Agustín de Pucur en Ancash, Perú\n",
      " URL: https://www.youtube.com/watch?v=j_5wyFu1DEo&list=RDj_5wyFu1DEo&start_radio=1&pp=ygUZU2FuIEFndXN0w61uIEFuY2FzaCBQZXLDuqAHAQ%3D%3D\n"
     ]
    },
    {
     "name": "stderr",
     "output_type": "stream",
     "text": [
      "  8%|██████                                                                         | 60/777 [15:02<2:50:00, 14.23s/it]"
     ]
    },
    {
     "name": "stdout",
     "output_type": "stream",
     "text": [
      "\n",
      " Fiesta religiosa de Antuhuarán (Ancash)\n",
      " Título: PISCOBAMBA ANCASH FIESTA RELIGIOSA \"SEMANA SANTA\" 2015\n",
      " URL: https://www.youtube.com/watch?v=e3qWDSWVAzI&pp=ygUsRmllc3RhIHJlbGlnaW9zYSBkZSBBbnR1aHVhcsOhbiBBbmNhc2ggUGVyw7o%3D\n"
     ]
    },
    {
     "name": "stderr",
     "output_type": "stream",
     "text": [
      "  8%|██████▏                                                                        | 61/777 [15:16<2:51:01, 14.33s/it]"
     ]
    },
    {
     "name": "stdout",
     "output_type": "stream",
     "text": [
      "\n",
      "  (Ancash)\n",
      " Título: Reportaje al Perú: Áncash (22/09/2024) | TVPerú\n",
      " URL: https://www.youtube.com/watch?v=z56Llh3sSXs&pp=ygUNIEFuY2FzaCBQZXLDug%3D%3D\n"
     ]
    },
    {
     "name": "stderr",
     "output_type": "stream",
     "text": [
      "  8%|██████▎                                                                        | 62/777 [15:29<2:43:42, 13.74s/it]"
     ]
    },
    {
     "name": "stdout",
     "output_type": "stream",
     "text": [
      "\n",
      " Fiesta de la Santa Cruz (Ancash)\n",
      " Título: Fiesta patronal de Santa Cruz de Rurec provincia de Aija - Ancash\n",
      " URL: https://www.youtube.com/watch?v=uPlojgrHubg&pp=ygUkRmllc3RhIGRlIGxhIFNhbnRhIENydXogQW5jYXNoIFBlcsO6\n"
     ]
    },
    {
     "name": "stderr",
     "output_type": "stream",
     "text": [
      "  8%|██████▍                                                                        | 63/777 [15:45<2:53:20, 14.57s/it]"
     ]
    },
    {
     "name": "stdout",
     "output_type": "stream",
     "text": [
      "\n",
      " «Octava» de la Virgen de las Mercedes\n",
      "de Carhuaz (Ancash)\n",
      " Título: Baile, gastronomía y misticismo en la ciudad de Carhuaz: \"La fiesta más duradera del Perú\"\n",
      " URL: https://www.youtube.com/watch?v=D5C18uXgVRw&pp=ygU-wqtPY3RhdmHCuyBkZSBsYSBWaXJnZW4gZGUgbGFzIE1lcmNlZGVzZGUgQ2FyaHVheiBBbmNhc2ggUGVyw7o%3D\n"
     ]
    },
    {
     "name": "stderr",
     "output_type": "stream",
     "text": [
      "  8%|██████▌                                                                        | 64/777 [16:02<3:01:42, 15.29s/it]"
     ]
    },
    {
     "name": "stdout",
     "output_type": "stream",
     "text": [
      "\n",
      " Fiesta de San Francisco de Asís (Ancash)\n",
      " Título: 𝐅𝐈𝐄𝐒𝐓𝐀 𝐏𝐀𝐓𝐑𝐎𝐍𝐀𝐋 𝐄𝐍 𝐇𝐎𝐍𝐎𝐑 𝐀: 𝗦𝗔𝗡 𝗙𝗥𝗔𝗡𝗖𝗜𝗦𝗖𝗢 𝗗𝗘 𝗔𝗦𝗜𝗦 -HUANCHAY- 𝗦𝗜𝗡𝗙𝗢𝗡𝗜𝗖𝗔 𝗔𝗡𝗖𝗔𝗦𝗛 𝗣𝗘𝗥Ú 𝗟𝗔 𝗚𝗥𝗔𝗡𝗗𝗜𝗢𝗦𝗔\n",
      " URL: https://www.youtube.com/watch?v=5WxOHlQCx5Q&list=RD5WxOHlQCx5Q&start_radio=1&pp=ygUtRmllc3RhIGRlIFNhbiBGcmFuY2lzY28gZGUgQXPDrXMgQW5jYXNoIFBlcsO6oAcB\n"
     ]
    },
    {
     "name": "stderr",
     "output_type": "stream",
     "text": [
      "  8%|██████▌                                                                        | 65/777 [16:17<3:00:02, 15.17s/it]"
     ]
    },
    {
     "name": "stdout",
     "output_type": "stream",
     "text": [
      "\n",
      " La Virgen del Rosario (Ancash)\n",
      " Título: Festividad en Honor a la \"Virgen del Rosario\"-Patrona de Musga, Ancash // Residentes en Lima.\n",
      " URL: https://www.youtube.com/watch?v=S8Qqzu7riTI&pp=ygUiTGEgVmlyZ2VuIGRlbCBSb3NhcmlvIEFuY2FzaCBQZXLDug%3D%3D\n"
     ]
    },
    {
     "name": "stderr",
     "output_type": "stream",
     "text": [
      "  8%|██████▋                                                                        | 66/777 [16:30<2:50:48, 14.41s/it]"
     ]
    },
    {
     "name": "stdout",
     "output_type": "stream",
     "text": [
      "\n",
      " San Miguelito (Ancash)\n",
      " Título: Pueblo muy Pequeño Tiene la FIESTA más Grande del Perú / \"San Miguelito de Chinchurajra\"\n",
      " URL: https://www.youtube.com/watch?v=-wbOCtwA5K0&pp=ygUaU2FuIE1pZ3VlbGl0byBBbmNhc2ggUGVyw7o%3D\n"
     ]
    },
    {
     "name": "stderr",
     "output_type": "stream",
     "text": [
      "  9%|██████▊                                                                        | 67/777 [16:43<2:47:07, 14.12s/it]"
     ]
    },
    {
     "name": "stdout",
     "output_type": "stream",
     "text": [
      "\n",
      " La Virgen del Rosario (Ancash)\n",
      " Título: VIRGEN DEL ROSARIO - OCROS ANCASH PERU\n",
      " URL: https://www.youtube.com/watch?v=AL2i5xGbXLI&pp=ygUiTGEgVmlyZ2VuIGRlbCBSb3NhcmlvIEFuY2FzaCBQZXLDug%3D%3D\n"
     ]
    },
    {
     "name": "stderr",
     "output_type": "stream",
     "text": [
      "  9%|██████▉                                                                        | 68/777 [16:54<2:37:01, 13.29s/it]"
     ]
    },
    {
     "name": "stdout",
     "output_type": "stream",
     "text": [
      "\n",
      " La Virgen del Rosario (Ancash)\n",
      " Título: VIRGEN DEL ROSARIO - OCROS ANCASH PERU\n",
      " URL: https://www.youtube.com/watch?v=AL2i5xGbXLI&pp=ygUiTGEgVmlyZ2VuIGRlbCBSb3NhcmlvIEFuY2FzaCBQZXLDug%3D%3D\n"
     ]
    },
    {
     "name": "stderr",
     "output_type": "stream",
     "text": [
      "  9%|███████                                                                        | 69/777 [17:06<2:32:09, 12.89s/it]"
     ]
    },
    {
     "name": "stdout",
     "output_type": "stream",
     "text": [
      "\n",
      " Fiesta Patronal (Ancash)\n",
      " Título: FIESTA DE TAYA - PAROBAMBA ANCASH PERU\n",
      " URL: https://www.youtube.com/watch?v=m96IICZSZnc&pp=ygUcRmllc3RhIFBhdHJvbmFsIEFuY2FzaCBQZXLDug%3D%3D\n"
     ]
    },
    {
     "name": "stderr",
     "output_type": "stream",
     "text": [
      "  9%|███████                                                                        | 70/777 [17:21<2:37:22, 13.36s/it]"
     ]
    },
    {
     "name": "stdout",
     "output_type": "stream",
     "text": [
      "\n",
      " El Señor de la Exaltación (Ancash)\n",
      " Título: Festividad en honor al Señor de la Exaltación en Tzactza - Áncash\n",
      " URL: https://www.youtube.com/watch?v=XXi_izPlr_c&pp=ygUoRWwgU2XDsW9yIGRlIGxhIEV4YWx0YWNpw7NuIEFuY2FzaCBQZXLDug%3D%3D\n"
     ]
    },
    {
     "name": "stderr",
     "output_type": "stream",
     "text": [
      "  9%|███████▏                                                                       | 71/777 [17:35<2:40:44, 13.66s/it]"
     ]
    },
    {
     "name": "stdout",
     "output_type": "stream",
     "text": [
      "\n",
      " La Virgen del Rosario (Ancash)\n",
      " Título: Ocros Ancash Peru Virgen del Rosario 2011 3\n",
      " URL: https://www.youtube.com/watch?v=Uth3NgvAy4o&pp=ygUiTGEgVmlyZ2VuIGRlbCBSb3NhcmlvIEFuY2FzaCBQZXLDug%3D%3D\n"
     ]
    },
    {
     "name": "stderr",
     "output_type": "stream",
     "text": [
      "  9%|███████▎                                                                       | 72/777 [17:48<2:39:14, 13.55s/it]"
     ]
    },
    {
     "name": "stdout",
     "output_type": "stream",
     "text": [
      "\n",
      " Peregrinación y procesión del\n",
      "Señor Cautivo (Ancash)\n",
      " Título: Piura: Peregrinos llegan de rodillas para venerar la imagen del Señor Cautivo de Ayabaca\n",
      " URL: https://www.youtube.com/watch?v=yHFvwNH5Q3c&pp=ygU6UGVyZWdyaW5hY2nDs24geSBwcm9jZXNpw7NuIGRlbFNlw7FvciBDYXV0aXZvIEFuY2FzaCBQZXLDug%3D%3D\n"
     ]
    },
    {
     "name": "stderr",
     "output_type": "stream",
     "text": [
      "  9%|███████▍                                                                       | 73/777 [18:10<3:06:04, 15.86s/it]"
     ]
    },
    {
     "name": "stdout",
     "output_type": "stream",
     "text": [
      "\n",
      " Todos los Santos (Ancash)\n",
      " Título: Procesión de SANTOS Devotos de los Pueblos del ANDE / Huari Ancash\n",
      " URL: https://www.youtube.com/watch?v=wPeIgGFuCNM&pp=ygUdVG9kb3MgbG9zIFNhbnRvcyBBbmNhc2ggUGVyw7rSBwkJ2AkBhyohjO8%3D\n"
     ]
    },
    {
     "name": "stderr",
     "output_type": "stream",
     "text": [
      " 10%|███████▌                                                                       | 74/777 [18:27<3:12:32, 16.43s/it]"
     ]
    },
    {
     "name": "stdout",
     "output_type": "stream",
     "text": [
      "\n",
      " Fiesta de Todos los Santos (Ancash)\n",
      " Título: Carhuaz Ancash 1965 HUARAZ 1957 FIESTA DE TODOS LOS SANTOS 1969 Peliculas Antiguas Ancash Carhuaz\n",
      " URL: https://www.youtube.com/watch?v=IBhxqkVsNW0&pp=ygUnRmllc3RhIGRlIFRvZG9zIGxvcyBTYW50b3MgQW5jYXNoIFBlcsO60gcJCdgJAYcqIYzv\n"
     ]
    },
    {
     "name": "stderr",
     "output_type": "stream",
     "text": [
      " 10%|███████▋                                                                       | 75/777 [18:44<3:13:31, 16.54s/it]"
     ]
    },
    {
     "name": "stdout",
     "output_type": "stream",
     "text": [
      "\n",
      " Día de los difuntos (Ancash)\n",
      " Título: Áncash: encuentran los cuerpos de los tres montañistas desaparecidos en nevado Artesonraju\n",
      " URL: https://www.youtube.com/watch?v=sn_bqgljKUQ&pp=ygUhRMOtYSBkZSBsb3MgZGlmdW50b3MgQW5jYXNoIFBlcsO6\n"
     ]
    },
    {
     "name": "stderr",
     "output_type": "stream",
     "text": [
      " 10%|███████▋                                                                       | 76/777 [18:59<3:07:00, 16.01s/it]"
     ]
    },
    {
     "name": "stdout",
     "output_type": "stream",
     "text": [
      "\n",
      " Santa Catalina (Ancash)\n",
      " Título: BANDA LOS HIJOS DE SANTA CATALINA - HUARAZ - ANCASH - PERÚ, 2019.\n",
      " URL: https://www.youtube.com/watch?v=AL7NjrdAgKs&list=RDAL7NjrdAgKs&start_radio=1&pp=ygUbU2FudGEgQ2F0YWxpbmEgQW5jYXNoIFBlcsO6oAcB\n"
     ]
    },
    {
     "name": "stderr",
     "output_type": "stream",
     "text": [
      " 10%|███████▊                                                                       | 77/777 [19:07<2:39:37, 13.68s/it]"
     ]
    },
    {
     "name": "stdout",
     "output_type": "stream",
     "text": [
      "\n",
      " Fiesta de la Inmaculada Concepción (Ancash)\n",
      " Título: Fiesta de la Virgen Inmaculada Concepción 2022 , Vacas Locas y Fin de Fiesta , 10ma parte\n",
      " URL: https://www.youtube.com/watch?v=0kSqjkEwgeI&pp=ygUwRmllc3RhIGRlIGxhIElubWFjdWxhZGEgQ29uY2VwY2nDs24gQW5jYXNoIFBlcsO6\n"
     ]
    },
    {
     "name": "stderr",
     "output_type": "stream",
     "text": [
      " 10%|███████▉                                                                       | 78/777 [19:23<2:46:47, 14.32s/it]"
     ]
    },
    {
     "name": "stdout",
     "output_type": "stream",
     "text": [
      "\n",
      " Fiesta de mama Loreta o de la Virgen de Loreta (Ancash)\n",
      " Título: La fiesta donde los regalos bailan (Carhuaz)\n",
      " URL: https://www.youtube.com/watch?v=i51EFwO9qjk&pp=ygU7Rmllc3RhIGRlIG1hbWEgTG9yZXRhIG8gZGUgbGEgVmlyZ2VuIGRlIExvcmV0YSBBbmNhc2ggUGVyw7o%3D\n"
     ]
    },
    {
     "name": "stderr",
     "output_type": "stream",
     "text": [
      " 10%|████████                                                                       | 79/777 [19:37<2:44:46, 14.16s/it]"
     ]
    },
    {
     "name": "stdout",
     "output_type": "stream",
     "text": [
      "\n",
      " La Inmaculada Concepción (Ancash)\n",
      " Título: COLEGIO INMACULADA CONCEPCIÓN DE CASMA - ANCASH - PERÚ\n",
      " URL: https://www.youtube.com/watch?v=ybFb4dQtQ44&pp=ygUmTGEgSW5tYWN1bGFkYSBDb25jZXBjacOzbiBBbmNhc2ggUGVyw7o%3D\n"
     ]
    },
    {
     "name": "stderr",
     "output_type": "stream",
     "text": [
      " 10%|████████▏                                                                      | 80/777 [19:55<2:58:50, 15.40s/it]"
     ]
    },
    {
     "name": "stdout",
     "output_type": "stream",
     "text": [
      "\n",
      " La natividad del Niño Jesús. (Ancash)\n",
      " Título: Tradición y fiesta popular en Huari: pastorcillos escenifican el nacimiento de Jesús\n",
      " URL: https://www.youtube.com/watch?v=ESKOQ2UGzA0&pp=ygUrTGEgbmF0aXZpZGFkIGRlbCBOacOxbyBKZXPDunMuIEFuY2FzaCBQZXLDug%3D%3D\n"
     ]
    },
    {
     "name": "stderr",
     "output_type": "stream",
     "text": [
      " 10%|████████▏                                                                      | 81/777 [20:09<2:54:18, 15.03s/it]"
     ]
    },
    {
     "name": "stdout",
     "output_type": "stream",
     "text": [
      "\n",
      " Señor de Navidad (Ancash)\n",
      " Título: Tradiciones de la fiesta navideña en el pueblo ancashino de Huayán - 20 de Diciembre | PERÚ PROFUNDO\n",
      " URL: https://www.youtube.com/watch?v=jKo62V7jaK0&pp=ygUeU2XDsW9yIGRlIE5hdmlkYWQgQW5jYXNoIFBlcsO6\n"
     ]
    },
    {
     "name": "stderr",
     "output_type": "stream",
     "text": [
      " 11%|████████▎                                                                      | 82/777 [20:22<2:45:11, 14.26s/it]"
     ]
    },
    {
     "name": "stdout",
     "output_type": "stream",
     "text": [
      "\n",
      " Diversas celebraciones (Apurimac)\n",
      " Título: LAS 5 FESTIVIDADES MÁS GRANDES DEL PERÚ🎉🎉\n",
      " URL: https://www.youtube.com/watch?v=JGn0n3PoFVY&pp=ygUlRGl2ZXJzYXMgY2VsZWJyYWNpb25lcyBBcHVyaW1hYyBQZXLDug%3D%3D\n"
     ]
    },
    {
     "name": "stderr",
     "output_type": "stream",
     "text": [
      " 11%|████████▍                                                                      | 83/777 [20:36<2:45:47, 14.33s/it]"
     ]
    },
    {
     "name": "stdout",
     "output_type": "stream",
     "text": [
      "\n",
      " Día Patronal del Señor de la Caída (Apurimac)\n",
      " Título: SEÑOR DE LA CAIDA EN CHINCHICHACA - ABANCAY - APURIMAC - PERU\n",
      " URL: https://www.youtube.com/watch?v=hSSVJdAAXp0&pp=ygU0RMOtYSBQYXRyb25hbCBkZWwgU2XDsW9yIGRlIGxhIENhw61kYSBBcHVyaW1hYyBQZXLDug%3D%3D\n"
     ]
    },
    {
     "name": "stderr",
     "output_type": "stream",
     "text": [
      " 11%|████████▌                                                                      | 84/777 [20:48<2:37:13, 13.61s/it]"
     ]
    },
    {
     "name": "stdout",
     "output_type": "stream",
     "text": [
      "\n",
      " Festividad del Niño de Praga (Apurimac)\n",
      " Título: FIESTA PATRONAL NIÑO JESÚS DE PRAGA ANDAHUAYLAS APURIMAC.\n",
      " URL: https://www.youtube.com/watch?v=cy83avG8YPU&list=RDcy83avG8YPU&start_radio=1&pp=ygUsRmVzdGl2aWRhZCBkZWwgTmnDsW8gZGUgUHJhZ2EgQXB1cmltYWMgUGVyw7qgBwHSBwkJ2AkBhyohjO8%3D\n"
     ]
    },
    {
     "name": "stderr",
     "output_type": "stream",
     "text": [
      " 11%|████████▋                                                                      | 85/777 [21:00<2:31:30, 13.14s/it]"
     ]
    },
    {
     "name": "stdout",
     "output_type": "stream",
     "text": [
      "\n",
      " Apurímac Fiesta de la Virgen de la Candelaria (Apurimac)\n",
      " Título: \"Luces de Devoción: La Festividad de la Virgen de la Candelaria en Ocobamba\"\n",
      " URL: https://www.youtube.com/watch?v=TBHf82Pww2k&pp=ygU9QXB1csOtbWFjIEZpZXN0YSBkZSBsYSBWaXJnZW4gZGUgbGEgQ2FuZGVsYXJpYSBBcHVyaW1hYyBQZXLDug%3D%3D\n"
     ]
    },
    {
     "name": "stderr",
     "output_type": "stream",
     "text": [
      " 11%|████████▋                                                                      | 86/777 [21:15<2:37:35, 13.68s/it]"
     ]
    },
    {
     "name": "stdout",
     "output_type": "stream",
     "text": [
      "\n",
      " La Virgen de La Candelaria (Apurimac)\n",
      " Título: virgen de la candelaria de ocobamba. mayordomía 2010\n",
      " URL: https://www.youtube.com/watch?v=88Exslyw2c8&pp=ygUpTGEgVmlyZ2VuIGRlIExhIENhbmRlbGFyaWEgQXB1cmltYWMgUGVyw7o%3D\n"
     ]
    },
    {
     "name": "stderr",
     "output_type": "stream",
     "text": [
      " 11%|████████▊                                                                      | 87/777 [21:30<2:42:20, 14.12s/it]"
     ]
    },
    {
     "name": "stdout",
     "output_type": "stream",
     "text": [
      "\n",
      " Carnavales (Apurimac)\n",
      " Título: Ayrampito / Carnaval de mis Amores / Vídeo Carnaval 2020\n",
      " URL: https://www.youtube.com/watch?v=6dwIC4JDkoM&list=RD6dwIC4JDkoM&start_radio=1&pp=ygUZQ2FybmF2YWxlcyBBcHVyaW1hYyBQZXLDuqAHAdIHCQnYCQGHKiGM7w%3D%3D\n"
     ]
    },
    {
     "name": "stderr",
     "output_type": "stream",
     "text": [
      " 11%|████████▉                                                                      | 88/777 [21:46<2:45:48, 14.44s/it]"
     ]
    },
    {
     "name": "stdout",
     "output_type": "stream",
     "text": [
      "\n",
      " Patrón San José y fiesta de los\n",
      "carpinteros San Jerónimo, Talavera, Chincheros\n",
      "Domingo de Ramos (Apurimac)\n",
      " Título: El patrón San Jerónimo y las Mamachas del QOSQO\n",
      " URL: https://www.youtube.com/watch?v=q39j5G2KH44&pp=ygVvUGF0csOzbiBTYW4gSm9zw6kgeSBmaWVzdGEgZGUgbG9zY2FycGludGVyb3MgU2FuIEplcsOzbmltbywgVGFsYXZlcmEsIENoaW5jaGVyb3NEb21pbmdvIGRlIFJhbW9zIEFwdXJpbWFjIFBlcsO6\n"
     ]
    },
    {
     "name": "stderr",
     "output_type": "stream",
     "text": [
      " 11%|█████████                                                                      | 89/777 [22:00<2:44:41, 14.36s/it]"
     ]
    },
    {
     "name": "stdout",
     "output_type": "stream",
     "text": [
      "\n",
      " Cruz Velácuy (Apurimac)\n",
      " Título: FESTIVIDAD FIESTA DEL CRUZ VELACUY CUSCO: LAS CRUCES DE LA CIUDAD DE CUSCO.\n",
      " URL: https://www.youtube.com/watch?v=ld6NKo6wS6E&pp=ygUcQ3J1eiBWZWzDoWN1eSBBcHVyaW1hYyBQZXLDug%3D%3D\n"
     ]
    },
    {
     "name": "stderr",
     "output_type": "stream",
     "text": [
      " 12%|█████████▏                                                                     | 90/777 [22:15<2:47:00, 14.59s/it]"
     ]
    },
    {
     "name": "stdout",
     "output_type": "stream",
     "text": [
      "\n",
      " Cruz Velacuy (Apurimac)\n",
      " Título: Cruz Velacuy\n",
      " URL: https://www.youtube.com/watch?v=S5fXxtkqFUs&pp=ygUbQ3J1eiBWZWxhY3V5IEFwdXJpbWFjIFBlcsO60gcJCdgJAYcqIYzv\n"
     ]
    },
    {
     "name": "stderr",
     "output_type": "stream",
     "text": [
      " 12%|█████████▎                                                                     | 91/777 [22:30<2:49:07, 14.79s/it]"
     ]
    },
    {
     "name": "stdout",
     "output_type": "stream",
     "text": [
      "\n",
      " Festividad de la Virgen de Fátima (Apurimac)\n",
      " Título: Bonita procesión. Fiesta Virgen de Fátima\n",
      " URL: https://www.youtube.com/watch?v=BjhV78C0lFQ&pp=ygUxRmVzdGl2aWRhZCBkZSBsYSBWaXJnZW4gZGUgRsOhdGltYSBBcHVyaW1hYyBQZXLDutIHCQnYCQGHKiGM7w%3D%3D\n"
     ]
    },
    {
     "name": "stderr",
     "output_type": "stream",
     "text": [
      " 12%|█████████▎                                                                     | 92/777 [22:45<2:47:59, 14.71s/it]"
     ]
    },
    {
     "name": "stdout",
     "output_type": "stream",
     "text": [
      "\n",
      " San Isidro Labrador (Apurimac)\n",
      " Título: \"DANZA SAN ISIDRO LABRADOR\" - CONCURSO DE DANZAS - LIRCAY - ANGARAES - HVCA.\n",
      " URL: https://www.youtube.com/watch?v=lH28vgVL3no&pp=ygUiU2FuIElzaWRybyBMYWJyYWRvciBBcHVyaW1hYyBQZXLDug%3D%3D\n"
     ]
    },
    {
     "name": "stderr",
     "output_type": "stream",
     "text": [
      " 12%|█████████▍                                                                     | 93/777 [23:00<2:48:43, 14.80s/it]"
     ]
    },
    {
     "name": "stdout",
     "output_type": "stream",
     "text": [
      "\n",
      " San Antonio (Apurimac)\n",
      " Título: SAN ANTONIO /GRAU/APURIMAC costumbres y tradiciones de mi pueblo #grau #apurimac #tradición\n",
      " URL: https://www.youtube.com/watch?v=KqcgJlbis3w&pp=ygUaU2FuIEFudG9uaW8gQXB1cmltYWMgUGVyw7o%3D\n"
     ]
    },
    {
     "name": "stderr",
     "output_type": "stream",
     "text": [
      " 12%|█████████▌                                                                     | 94/777 [23:12<2:41:43, 14.21s/it]"
     ]
    },
    {
     "name": "stdout",
     "output_type": "stream",
     "text": [
      "\n",
      " Sóndor Raymi (Apurimac)\n",
      " Título: Sondor: descubre el hermoso centro ceremonial chanka en Apurímac\n",
      " URL: https://www.youtube.com/watch?v=5GUHXc_wNoY&pp=ygUcU8OzbmRvciBSYXltaSBBcHVyaW1hYyBQZXLDug%3D%3D\n"
     ]
    },
    {
     "name": "stderr",
     "output_type": "stream",
     "text": [
      " 12%|█████████▋                                                                     | 95/777 [23:29<2:48:34, 14.83s/it]"
     ]
    },
    {
     "name": "stdout",
     "output_type": "stream",
     "text": [
      "\n",
      " Fiesta de San Marcos (Apurimac)\n",
      " Título: FIESTA PATRONAL SAN MARCOS DE CHANTA DIST. POCOHUANCA\n",
      " URL: https://www.youtube.com/watch?v=8wWAgYp7cbI&pp=ygUjRmllc3RhIGRlIFNhbiBNYXJjb3MgQXB1cmltYWMgUGVyw7o%3D\n"
     ]
    },
    {
     "name": "stderr",
     "output_type": "stream",
     "text": [
      " 12%|█████████▊                                                                     | 96/777 [23:42<2:44:37, 14.50s/it]"
     ]
    },
    {
     "name": "stdout",
     "output_type": "stream",
     "text": [
      "\n",
      " Fiesta de San Juan (Apurimac)\n",
      " Título: Fiesta Costumbrista 2024 \"San Juan Bautista\" Apurimac, Aymaraes, Perú.\n",
      " URL: https://www.youtube.com/watch?v=5kr57BOMWOE&pp=ygUhRmllc3RhIGRlIFNhbiBKdWFuIEFwdXJpbWFjIFBlcsO6\n"
     ]
    },
    {
     "name": "stderr",
     "output_type": "stream",
     "text": [
      " 12%|█████████▊                                                                     | 97/777 [23:59<2:51:30, 15.13s/it]"
     ]
    },
    {
     "name": "stdout",
     "output_type": "stream",
     "text": [
      "\n",
      " Fiesta de San Pedro (Apurimac)\n",
      " Título: FIESTA MAYOR SAN PEDRO SAN PABLO-APU- RIMAC-CONCURSO WAYNA TUPAY 2011-PRODUCCIONES ISA\n",
      " URL: https://www.youtube.com/watch?v=Z9EVrBCCTWQ&list=RDZ9EVrBCCTWQ&start_radio=1&pp=ygUiRmllc3RhIGRlIFNhbiBQZWRybyBBcHVyaW1hYyBQZXLDuqAHAQ%3D%3D\n"
     ]
    },
    {
     "name": "stderr",
     "output_type": "stream",
     "text": [
      " 13%|█████████▉                                                                     | 98/777 [24:13<2:46:51, 14.74s/it]"
     ]
    },
    {
     "name": "stdout",
     "output_type": "stream",
     "text": [
      "\n",
      " Fiesta de patrón de Santiago (Apurimac)\n",
      " Título: Chuquibambilla Grau Apurimac Perú Fiesta de PATRON DE SANTIAGO 9/13/2022\n",
      " URL: https://www.youtube.com/watch?v=Ifm4-Wio99Q&pp=ygUsRmllc3RhIGRlIHBhdHLDs24gZGUgU2FudGlhZ28gQXB1cmltYWMgUGVyw7o%3D\n"
     ]
    },
    {
     "name": "stderr",
     "output_type": "stream",
     "text": [
      " 13%|██████████                                                                     | 99/777 [24:25<2:38:46, 14.05s/it]"
     ]
    },
    {
     "name": "stdout",
     "output_type": "stream",
     "text": [
      "\n",
      " Yawar Fiesta (Apurimac)\n",
      " Título: Cotabambas Apurímac Perú 15 - Yawar fiesta\n",
      " URL: https://www.youtube.com/watch?v=gNiLxM-SxW8&pp=ygUbWWF3YXIgRmllc3RhIEFwdXJpbWFjIFBlcsO6\n"
     ]
    },
    {
     "name": "stderr",
     "output_type": "stream",
     "text": [
      " 13%|██████████                                                                    | 100/777 [24:37<2:29:08, 13.22s/it]"
     ]
    },
    {
     "name": "stdout",
     "output_type": "stream",
     "text": [
      "\n",
      " Fiesta del Señor de Animas (Apurimac)\n",
      " Título: FIESTA MAYOR SEÑOR DE ANIMAS (APURIMAC) CURSO ACTUALIZACION TUSUY ARTES 2025 - PRODUCCIONES ISA - 4K\n",
      " URL: https://www.youtube.com/watch?v=M9_nY4Jhh80&pp=ygUqRmllc3RhIGRlbCBTZcOxb3IgZGUgQW5pbWFzIEFwdXJpbWFjIFBlcsO6\n"
     ]
    },
    {
     "name": "stderr",
     "output_type": "stream",
     "text": [
      " 13%|██████████▏                                                                   | 101/777 [24:49<2:26:45, 13.03s/it]"
     ]
    },
    {
     "name": "stdout",
     "output_type": "stream",
     "text": [
      "\n",
      " Fiesta de la Virgen de las Nieves (Apurimac)\n",
      " Título: La Virgen de las Nieves (Coracora)\n",
      " URL: https://www.youtube.com/watch?v=1sxok_d7aVE&t=1141s&pp=ygUwRmllc3RhIGRlIGxhIFZpcmdlbiBkZSBsYXMgTmlldmVzIEFwdXJpbWFjIFBlcsO6\n"
     ]
    },
    {
     "name": "stderr",
     "output_type": "stream",
     "text": [
      " 13%|██████████▏                                                                   | 102/777 [25:04<2:32:39, 13.57s/it]"
     ]
    },
    {
     "name": "stdout",
     "output_type": "stream",
     "text": [
      "\n",
      " Fiesta de la Virgen de la Asunción (Apurimac)\n",
      " Título: Fiesta de la Virgen de Asuncion - San Mateo Apurimac\n",
      " URL: https://www.youtube.com/watch?v=WD0YoU8jJEY&pp=ygUyRmllc3RhIGRlIGxhIFZpcmdlbiBkZSBsYSBBc3VuY2nDs24gQXB1cmltYWMgUGVyw7o%3D\n"
     ]
    },
    {
     "name": "stderr",
     "output_type": "stream",
     "text": [
      " 13%|██████████▎                                                                   | 103/777 [25:16<2:28:10, 13.19s/it]"
     ]
    },
    {
     "name": "stdout",
     "output_type": "stream",
     "text": [
      "\n",
      " Fiesta de la Virgen de Cocharcas (Apurimac)\n",
      " Título: La ruta de Apurimac - Virgen de Cocharcas 2023 \" Un poco de fe \"\n",
      " URL: https://www.youtube.com/watch?v=lxxe4NWhQ4o&pp=ygUvRmllc3RhIGRlIGxhIFZpcmdlbiBkZSBDb2NoYXJjYXMgQXB1cmltYWMgUGVyw7o%3D\n"
     ]
    },
    {
     "name": "stderr",
     "output_type": "stream",
     "text": [
      " 13%|██████████▍                                                                   | 104/777 [25:29<2:26:00, 13.02s/it]"
     ]
    },
    {
     "name": "stdout",
     "output_type": "stream",
     "text": [
      "\n",
      " Peregrinación al santuario del Señor\n",
      "del Huanca del cerro Campanayoc (Apurimac)\n",
      " Título: Señor de Huanca en Campanayoc - Andahuaylas…\n",
      " URL: https://www.youtube.com/watch?v=l6rD3FL5CfI&pp=ygVUUGVyZWdyaW5hY2nDs24gYWwgc2FudHVhcmlvIGRlbCBTZcOxb3JkZWwgSHVhbmNhIGRlbCBjZXJybyBDYW1wYW5heW9jIEFwdXJpbWFjIFBlcsO6\n"
     ]
    },
    {
     "name": "stderr",
     "output_type": "stream",
     "text": [
      " 14%|██████████▌                                                                   | 105/777 [25:39<2:16:22, 12.18s/it]"
     ]
    },
    {
     "name": "stdout",
     "output_type": "stream",
     "text": [
      "\n",
      " Fiesta de Nuestra Señora de las Mercedes (Apurimac)\n",
      " Título: IEE NUESTRA SEÑORA DE LAS MERCEDES - GOBIERNO REGIONAL DE APURIMAC\n",
      " URL: https://www.youtube.com/watch?v=XH1EhlzTcRc&pp=ygU4Rmllc3RhIGRlIE51ZXN0cmEgU2XDsW9yYSBkZSBsYXMgTWVyY2VkZXMgQXB1cmltYWMgUGVyw7o%3D\n"
     ]
    },
    {
     "name": "stderr",
     "output_type": "stream",
     "text": [
      " 14%|██████████▋                                                                   | 106/777 [25:53<2:19:59, 12.52s/it]"
     ]
    },
    {
     "name": "stdout",
     "output_type": "stream",
     "text": [
      "\n",
      " Fiesta de la Virgen del Rosario (Apurimac)\n",
      " Título: Virgen Rosario de Caraybamba 2018 Aymaraes-Apurimac\n",
      " URL: https://www.youtube.com/watch?v=P0KTswgSVeQ&pp=ygUuRmllc3RhIGRlIGxhIFZpcmdlbiBkZWwgUm9zYXJpbyBBcHVyaW1hYyBQZXLDug%3D%3D\n"
     ]
    },
    {
     "name": "stderr",
     "output_type": "stream",
     "text": [
      " 14%|██████████▋                                                                   | 107/777 [26:03<2:12:48, 11.89s/it]"
     ]
    },
    {
     "name": "stdout",
     "output_type": "stream",
     "text": [
      "\n",
      " Aniversario de la ciudad (Apurimac)\n",
      " Título: Aniversario de la Región Apurimac - 136 Años, DIA DE APURIMAC\n",
      " URL: https://www.youtube.com/watch?v=9DGcTeLGd2I&pp=ygUnQW5pdmVyc2FyaW8gZGUgbGEgY2l1ZGFkIEFwdXJpbWFjIFBlcsO6\n"
     ]
    },
    {
     "name": "stderr",
     "output_type": "stream",
     "text": [
      " 14%|██████████▊                                                                   | 108/777 [26:15<2:13:20, 11.96s/it]"
     ]
    },
    {
     "name": "stdout",
     "output_type": "stream",
     "text": [
      "\n",
      " Fiesta de la Virgen de la Concepción (Apurimac)\n",
      " Título: 04 Fiesta Patronal en Honor a Virgen Inmaculada de la Concepción de Ihuayllo Aymaraes Apurimac 2024\n",
      " URL: https://www.youtube.com/watch?v=ZYT3O77loTo&pp=ygU0Rmllc3RhIGRlIGxhIFZpcmdlbiBkZSBsYSBDb25jZXBjacOzbiBBcHVyaW1hYyBQZXLDug%3D%3D\n"
     ]
    },
    {
     "name": "stderr",
     "output_type": "stream",
     "text": [
      " 14%|██████████▉                                                                   | 109/777 [26:28<2:14:53, 12.12s/it]"
     ]
    },
    {
     "name": "stdout",
     "output_type": "stream",
     "text": [
      "\n",
      " Navidad (Apurimac)\n",
      " Título: NAVIDAD EN ANTABAMBA APURIMAC PERÚ\n",
      " URL: https://www.youtube.com/watch?v=vYYqr5oHRho&pp=ygUWTmF2aWRhZCBBcHVyaW1hYyBQZXLDutIHCQnYCQGHKiGM7w%3D%3D\n"
     ]
    },
    {
     "name": "stderr",
     "output_type": "stream",
     "text": [
      " 14%|███████████                                                                   | 110/777 [26:40<2:16:34, 12.29s/it]"
     ]
    },
    {
     "name": "stdout",
     "output_type": "stream",
     "text": [
      "\n",
      " Bajada de los Reyes y sacudimiento de los\n",
      "perales (Arequipa)\n",
      " Título: \"LA BAJADA DE REYES Y LA SACUDIDA DE PERAS\".Producido en 2010.Arequipa.\n",
      " URL: https://www.youtube.com/watch?v=cQYb8H7FGhA&pp=ygU_QmFqYWRhIGRlIGxvcyBSZXllcyB5IHNhY3VkaW1pZW50byBkZSBsb3NwZXJhbGVzIEFyZXF1aXBhIFBlcsO6\n"
     ]
    },
    {
     "name": "stderr",
     "output_type": "stream",
     "text": [
      " 14%|███████████▏                                                                  | 111/777 [26:48<2:03:02, 11.08s/it]"
     ]
    },
    {
     "name": "stdout",
     "output_type": "stream",
     "text": [
      "\n",
      " Condesuyos Fiesta del Señor de la\n",
      "Sentencia (Arequipa)\n",
      " Título: Reportaje Chichas 166 Aniversario\n",
      " URL: https://www.youtube.com/watch?v=MFW0KZ2u9Gk&pp=ygU6Q29uZGVzdXlvcyBGaWVzdGEgZGVsIFNlw7FvciBkZSBsYVNlbnRlbmNpYSBBcmVxdWlwYSBQZXLDug%3D%3D\n"
     ]
    },
    {
     "name": "stderr",
     "output_type": "stream",
     "text": [
      " 14%|███████████▏                                                                  | 112/777 [27:00<2:03:21, 11.13s/it]"
     ]
    },
    {
     "name": "stdout",
     "output_type": "stream",
     "text": [
      "\n",
      " Fiesta de la Virgen del Buen Paso (Arequipa)\n",
      " Título: VIRGEN DEL BUEN PASO CARAVELI en AREQUIPA\n",
      " URL: https://www.youtube.com/watch?v=CF92WFaWAI8&pp=ygUwRmllc3RhIGRlIGxhIFZpcmdlbiBkZWwgQnVlbiBQYXNvIEFyZXF1aXBhIFBlcsO6\n"
     ]
    },
    {
     "name": "stderr",
     "output_type": "stream",
     "text": [
      " 15%|███████████▎                                                                  | 113/777 [27:12<2:07:13, 11.50s/it]"
     ]
    },
    {
     "name": "stdout",
     "output_type": "stream",
     "text": [
      "\n",
      " Fiesta de la Virgen de la Candelaria (Arequipa)\n",
      " Título: Virgen de la Candelaria Arequipa Cayma octava 2023\n",
      " URL: https://www.youtube.com/watch?v=T951SzTfQn8&pp=ygUzRmllc3RhIGRlIGxhIFZpcmdlbiBkZSBsYSBDYW5kZWxhcmlhIEFyZXF1aXBhIFBlcsO6\n"
     ]
    },
    {
     "name": "stderr",
     "output_type": "stream",
     "text": [
      " 15%|███████████▍                                                                  | 114/777 [27:25<2:10:16, 11.79s/it]"
     ]
    },
    {
     "name": "stdout",
     "output_type": "stream",
     "text": [
      "\n",
      " Carnavales (Arequipa)\n",
      " Título: Carnaval Arequipeño - Ritmos y Matices del Perú\n",
      " URL: https://www.youtube.com/watch?v=bEx9m96mbt8&list=RDbEx9m96mbt8&start_radio=1&pp=ygUZQ2FybmF2YWxlcyBBcmVxdWlwYSBQZXLDuqAHAQ%3D%3D\n"
     ]
    },
    {
     "name": "stderr",
     "output_type": "stream",
     "text": [
      " 15%|███████████▌                                                                  | 115/777 [27:37<2:11:13, 11.89s/it]"
     ]
    },
    {
     "name": "stdout",
     "output_type": "stream",
     "text": [
      "\n",
      " Semana Santa (Arequipa)\n",
      " Título: Arequipa: Conozca los templos que puede recorrer en Semana Santa\n",
      " URL: https://www.youtube.com/watch?v=1QE1N11zw-0&pp=ygUbU2VtYW5hIFNhbnRhIEFyZXF1aXBhIFBlcsO60gcJCdgJAYcqIYzv\n"
     ]
    },
    {
     "name": "stderr",
     "output_type": "stream",
     "text": [
      " 15%|███████████▋                                                                  | 116/777 [27:51<2:17:39, 12.50s/it]"
     ]
    },
    {
     "name": "stdout",
     "output_type": "stream",
     "text": [
      "\n",
      " Fiesta y peregrinación al Santuario\n",
      "de la Virgen de Chapi (Arequipa)\n",
      " Título: Festividad de la VIRGEN DE CHAPI - FIESTAS DE AREQUIPA - PERÚ 🥰\n",
      " URL: https://www.youtube.com/watch?v=o5U_lVribq0&pp=ygVIRmllc3RhIHkgcGVyZWdyaW5hY2nDs24gYWwgU2FudHVhcmlvZGUgbGEgVmlyZ2VuIGRlIENoYXBpIEFyZXF1aXBhIFBlcsO6\n"
     ]
    },
    {
     "name": "stderr",
     "output_type": "stream",
     "text": [
      " 15%|███████████▋                                                                  | 117/777 [28:05<2:22:30, 12.95s/it]"
     ]
    },
    {
     "name": "stdout",
     "output_type": "stream",
     "text": [
      "\n",
      " Fiesta de las cruces (Arequipa)\n",
      " Título: AREQUIPA FIESTAS DE LAS CRUCES DE LA PARTE ALTA DEL DISTRITO DE MIRAFLORES DE AREQUIPA..\n",
      " URL: https://www.youtube.com/watch?v=hUbbVP6vRVE&pp=ygUjRmllc3RhIGRlIGxhcyBjcnVjZXMgQXJlcXVpcGEgUGVyw7o%3D\n"
     ]
    },
    {
     "name": "stderr",
     "output_type": "stream",
     "text": [
      " 15%|███████████▊                                                                  | 118/777 [28:16<2:15:39, 12.35s/it]"
     ]
    },
    {
     "name": "stdout",
     "output_type": "stream",
     "text": [
      "\n",
      " Fiesta de San Isidro Labrador (Arequipa)\n",
      " Título: Danza SAN ISIDRO LABRADOR (Arequipa) -Elenco Danzas Facultad de Educación UNMSM\n",
      " URL: https://www.youtube.com/watch?v=PyLP5dxTKuY&pp=ygUsRmllc3RhIGRlIFNhbiBJc2lkcm8gTGFicmFkb3IgQXJlcXVpcGEgUGVyw7o%3D\n"
     ]
    },
    {
     "name": "stderr",
     "output_type": "stream",
     "text": [
      " 15%|███████████▉                                                                  | 119/777 [28:26<2:08:29, 11.72s/it]"
     ]
    },
    {
     "name": "stdout",
     "output_type": "stream",
     "text": [
      "\n",
      " Fiesta de San Juan Bautista (Arequipa)\n",
      " Título: fiestas patronales de San Juan Bautista Arequipa Salamanca 2023\n",
      " URL: https://www.youtube.com/watch?v=MKfPHaSc3NM&pp=ygUqRmllc3RhIGRlIFNhbiBKdWFuIEJhdXRpc3RhIEFyZXF1aXBhIFBlcsO6\n"
     ]
    },
    {
     "name": "stderr",
     "output_type": "stream",
     "text": [
      " 15%|████████████                                                                  | 120/777 [28:36<2:03:06, 11.24s/it]"
     ]
    },
    {
     "name": "stdout",
     "output_type": "stream",
     "text": [
      "\n",
      " Fiesta de la Virgen del Perpetuo Socorro (Arequipa)\n",
      " Título: PERÚ PROFUNDO 🇵🇪| Festividad de la Virgen del Perpetuo Socorro en Zarumilla (Tumbes) - 16 de agosto\n",
      " URL: https://www.youtube.com/watch?v=ltffiq0I6jM&pp=ygU3Rmllc3RhIGRlIGxhIFZpcmdlbiBkZWwgUGVycGV0dW8gU29jb3JybyBBcmVxdWlwYSBQZXLDug%3D%3D\n"
     ]
    },
    {
     "name": "stderr",
     "output_type": "stream",
     "text": [
      " 16%|████████████▏                                                                 | 121/777 [28:49<2:07:25, 11.66s/it]"
     ]
    },
    {
     "name": "stdout",
     "output_type": "stream",
     "text": [
      "\n",
      " Peleas de toros (Arequipa)\n",
      " Título: 🐂🎉 La esperada pelea de toros en Arequipa deslumbra a fanáticos y autoridades 🎊👑\n",
      " URL: https://www.youtube.com/watch?v=YtiybPGEg2o&pp=ygUeUGVsZWFzIGRlIHRvcm9zIEFyZXF1aXBhIFBlcsO6\n"
     ]
    },
    {
     "name": "stderr",
     "output_type": "stream",
     "text": [
      " 16%|████████████▏                                                                 | 122/777 [29:00<2:07:33, 11.69s/it]"
     ]
    },
    {
     "name": "stdout",
     "output_type": "stream",
     "text": [
      "\n",
      " Fiesta de la Virgen del Carmen (Arequipa)\n",
      " Título: Fiesta en honor a la Virgen del Carmen - Andaray, Condesuyos\n",
      " URL: https://www.youtube.com/watch?v=AHNX6k6RV5U&pp=ygUtRmllc3RhIGRlIGxhIFZpcmdlbiBkZWwgQ2FybWVuIEFyZXF1aXBhIFBlcsO6\n"
     ]
    },
    {
     "name": "stderr",
     "output_type": "stream",
     "text": [
      " 16%|████████████▎                                                                 | 123/777 [29:13<2:11:20, 12.05s/it]"
     ]
    },
    {
     "name": "stdout",
     "output_type": "stream",
     "text": [
      "\n",
      " Procesión del Paso (Arequipa)\n",
      " Título: Tradicional Procesión del Paso - Arequipa 2022.\n",
      " URL: https://www.youtube.com/watch?v=LSLOgtiJYPs&pp=ygUiUHJvY2VzacOzbiBkZWwgUGFzbyBBcmVxdWlwYSBQZXLDug%3D%3D\n"
     ]
    },
    {
     "name": "stderr",
     "output_type": "stream",
     "text": [
      " 16%|████████████▍                                                                 | 124/777 [29:27<2:16:44, 12.56s/it]"
     ]
    },
    {
     "name": "stdout",
     "output_type": "stream",
     "text": [
      "\n",
      " Fiesta del del Señor de la Caña (Arequipa)\n",
      " Título: La Libertad : celebran 92° de la festividad del Señor de la Caña de Chiclín\n",
      " URL: https://www.youtube.com/watch?v=7U3_ehGbNjU&pp=ygUwRmllc3RhIGRlbCBkZWwgU2XDsW9yIGRlIGxhIENhw7FhIEFyZXF1aXBhIFBlcsO6\n"
     ]
    },
    {
     "name": "stderr",
     "output_type": "stream",
     "text": [
      " 16%|████████████▌                                                                 | 125/777 [29:35<2:03:00, 11.32s/it]"
     ]
    },
    {
     "name": "stdout",
     "output_type": "stream",
     "text": [
      "\n",
      " Tinca del ganado y limpia de acequias (Arequipa)\n",
      " Título: LIMPIA DE ACEQUIAS - IESTP Canchaque\n",
      " URL: https://www.youtube.com/watch?v=sMGZ9VnXLFg&pp=ygU0VGluY2EgZGVsIGdhbmFkbyB5IGxpbXBpYSBkZSBhY2VxdWlhcyBBcmVxdWlwYSBQZXLDug%3D%3D\n"
     ]
    },
    {
     "name": "stderr",
     "output_type": "stream",
     "text": [
      " 16%|████████████▋                                                                 | 126/777 [29:47<2:05:09, 11.54s/it]"
     ]
    },
    {
     "name": "stdout",
     "output_type": "stream",
     "text": [
      "\n",
      " Procesión del Paso (Arequipa)\n",
      " Título: Tradicional Procesión del Paso - Arequipa 2022.\n",
      " URL: https://www.youtube.com/watch?v=LSLOgtiJYPs&pp=ygUiUHJvY2VzacOzbiBkZWwgUGFzbyBBcmVxdWlwYSBQZXLDug%3D%3D\n"
     ]
    },
    {
     "name": "stderr",
     "output_type": "stream",
     "text": [
      " 16%|████████████▋                                                                 | 127/777 [29:58<2:03:24, 11.39s/it]"
     ]
    },
    {
     "name": "stdout",
     "output_type": "stream",
     "text": [
      "\n",
      " Aniversario de la ciudad, semana turística\n",
      "de Arequipa (Arequipa)\n",
      " Título: Aniversario de la ciudad de Arequipa por sus 480 años.\n",
      " URL: https://www.youtube.com/watch?v=ggf5f4VckwY&pp=ygVFQW5pdmVyc2FyaW8gZGUgbGEgY2l1ZGFkLCBzZW1hbmEgdHVyw61zdGljYWRlIEFyZXF1aXBhIEFyZXF1aXBhIFBlcsO6\n"
     ]
    },
    {
     "name": "stderr",
     "output_type": "stream",
     "text": [
      " 16%|████████████▊                                                                 | 128/777 [30:13<2:12:59, 12.30s/it]"
     ]
    },
    {
     "name": "stdout",
     "output_type": "stream",
     "text": [
      "\n",
      " Fiesta dela Virgen de la Asunta (Arequipa)\n",
      " Título: Nuestra Señora de la Asunta - Arequipa 2023.\n",
      " URL: https://www.youtube.com/watch?v=q6l8KxnpTVw&pp=ygUuRmllc3RhIGRlbGEgVmlyZ2VuIGRlIGxhIEFzdW50YSBBcmVxdWlwYSBQZXLDutIHCQnYCQGHKiGM7w%3D%3D\n"
     ]
    },
    {
     "name": "stderr",
     "output_type": "stream",
     "text": [
      " 17%|████████████▉                                                                 | 129/777 [30:24<2:09:50, 12.02s/it]"
     ]
    },
    {
     "name": "stdout",
     "output_type": "stream",
     "text": [
      "\n",
      " Fiesta de la Virgen de las Peñas (Arequipa)\n",
      " Título: HOY A LAS 10 PROBLEMAS LIMÍTROFES EN VIRGEN DE LAS PEÑAS - AREQUIPA\n",
      " URL: https://www.youtube.com/watch?v=6WPeyGGS7Y0&pp=ygUwRmllc3RhIGRlIGxhIFZpcmdlbiBkZSBsYXMgUGXDsWFzIEFyZXF1aXBhIFBlcsO6\n"
     ]
    },
    {
     "name": "stderr",
     "output_type": "stream",
     "text": [
      " 17%|█████████████                                                                 | 130/777 [30:37<2:10:38, 12.12s/it]"
     ]
    },
    {
     "name": "stdout",
     "output_type": "stream",
     "text": [
      "\n",
      " Festividad de Santa Fortunata (Arequipa)\n",
      " Título: Festividad de Santa Fortunata Moquegua 2016\n",
      " URL: https://www.youtube.com/watch?v=HlRAQ4vuls8&pp=ygUsRmVzdGl2aWRhZCBkZSBTYW50YSBGb3J0dW5hdGEgQXJlcXVpcGEgUGVyw7rSBwkJ2AkBhyohjO8%3D\n"
     ]
    },
    {
     "name": "stderr",
     "output_type": "stream",
     "text": [
      " 17%|█████████████▏                                                                | 131/777 [30:45<1:57:46, 10.94s/it]"
     ]
    },
    {
     "name": "stdout",
     "output_type": "stream",
     "text": [
      "\n",
      " Fiesta de las guaguas y mazapanes por el Día\n",
      "de los Santos (Arequipa)\n",
      " Título: Festival de Guaguas Arequipa Perú\n",
      " URL: https://www.youtube.com/watch?v=Xa2Db9dEzL8&pp=ygVJRmllc3RhIGRlIGxhcyBndWFndWFzIHkgbWF6YXBhbmVzIHBvciBlbCBEw61hZGUgbG9zIFNhbnRvcyBBcmVxdWlwYSBQZXLDug%3D%3D\n"
     ]
    },
    {
     "name": "stderr",
     "output_type": "stream",
     "text": [
      " 17%|█████████████▎                                                                | 132/777 [30:57<2:02:02, 11.35s/it]"
     ]
    },
    {
     "name": "stdout",
     "output_type": "stream",
     "text": [
      "\n",
      " Procesión de huesos por el Día\n",
      "de los Difuntos (Arequipa)\n",
      " Título: La tradición del desentierro de huesos\n",
      " URL: https://www.youtube.com/watch?v=r4-lCrMtgRc&pp=ygU-UHJvY2VzacOzbiBkZSBodWVzb3MgcG9yIGVsIETDrWFkZSBsb3MgRGlmdW50b3MgQXJlcXVpcGEgUGVyw7o%3D\n"
     ]
    },
    {
     "name": "stderr",
     "output_type": "stream",
     "text": [
      " 17%|█████████████▎                                                                | 133/777 [31:09<2:04:57, 11.64s/it]"
     ]
    },
    {
     "name": "stdout",
     "output_type": "stream",
     "text": [
      "\n",
      " Fiesta de la Inmaculada Concepción (Arequipa)\n",
      " Título: Festividad de la Virgen de la Inmaculada Concepción, Parcialidad de Ccapa, Chivay, Arequipa.\n",
      " URL: https://www.youtube.com/watch?v=PUmMcbTrEJQ&pp=ygUyRmllc3RhIGRlIGxhIElubWFjdWxhZGEgQ29uY2VwY2nDs24gQXJlcXVpcGEgUGVyw7o%3D\n"
     ]
    },
    {
     "name": "stderr",
     "output_type": "stream",
     "text": [
      " 17%|█████████████▍                                                                | 134/777 [31:22<2:08:19, 11.97s/it]"
     ]
    },
    {
     "name": "stdout",
     "output_type": "stream",
     "text": [
      "\n",
      " Fiestas de Navidad (Arequipa)\n",
      " Título: LA FIESTA DE NAVIDAD SE SALIO DE CONTROL EN DISCOTECA AREQUIPA -PERÚ\n",
      " URL: https://www.youtube.com/shorts/VHVvKEPtmh4\n"
     ]
    },
    {
     "name": "stderr",
     "output_type": "stream",
     "text": [
      " 17%|█████████████▌                                                                | 135/777 [31:35<2:10:38, 12.21s/it]"
     ]
    },
    {
     "name": "stdout",
     "output_type": "stream",
     "text": [
      "\n",
      " Adoración del Niño y danzas de\n",
      "la huaylijía y de huera (Ayacucho)\n",
      " Título: Esí es nuestra cultura, adoración al niño Dios\n",
      " URL: https://www.youtube.com/watch?v=Tuxf8XxugIo&pp=ygVHQWRvcmFjacOzbiBkZWwgTmnDsW8geSBkYW56YXMgZGVsYSBodWF5bGlqw61hIHkgZGUgaHVlcmEgQXlhY3VjaG8gUGVyw7rSBwkJ2AkBhyohjO8%3D\n"
     ]
    },
    {
     "name": "stderr",
     "output_type": "stream",
     "text": [
      " 18%|█████████████▋                                                                | 136/777 [31:47<2:11:08, 12.28s/it]"
     ]
    },
    {
     "name": "stdout",
     "output_type": "stream",
     "text": [
      "\n",
      " Bajada de Reyes (Ayacucho)\n",
      " Título: Ayacucho _ Bajada de Reyes de Huancapi 2010\n",
      " URL: https://www.youtube.com/watch?v=vLd6kQKPGic&list=RDvLd6kQKPGic&start_radio=1&pp=ygUeQmFqYWRhIGRlIFJleWVzIEF5YWN1Y2hvIFBlcsO6oAcB0gcJCdgJAYcqIYzv\n"
     ]
    },
    {
     "name": "stderr",
     "output_type": "stream",
     "text": [
      " 18%|█████████████▊                                                                | 137/777 [32:00<2:10:54, 12.27s/it]"
     ]
    },
    {
     "name": "stdout",
     "output_type": "stream",
     "text": [
      "\n",
      " Fiesta de San Sebastián (Ayacucho)\n",
      " Título: Fiesta de San Sebastian Ayacucho\n",
      " URL: https://www.youtube.com/watch?v=V8NdNctdNMU&pp=ygUnRmllc3RhIGRlIFNhbiBTZWJhc3Rpw6FuIEF5YWN1Y2hvIFBlcsO6\n"
     ]
    },
    {
     "name": "stderr",
     "output_type": "stream",
     "text": [
      " 18%|█████████████▊                                                                | 138/777 [32:13<2:15:10, 12.69s/it]"
     ]
    },
    {
     "name": "stdout",
     "output_type": "stream",
     "text": [
      "\n",
      " Fiesta de la Virgen de la Candelaria (Ayacucho)\n",
      " Título: PROCESIÓN VIRGEN DE LA CANDELARIA (templo Calvario Ayacucho)\n",
      " URL: https://www.youtube.com/watch?v=N46yB19qh9c&pp=ygUzRmllc3RhIGRlIGxhIFZpcmdlbiBkZSBsYSBDYW5kZWxhcmlhIEF5YWN1Y2hvIFBlcsO6\n"
     ]
    },
    {
     "name": "stderr",
     "output_type": "stream",
     "text": [
      " 18%|█████████████▉                                                                | 139/777 [32:25<2:11:46, 12.39s/it]"
     ]
    },
    {
     "name": "stdout",
     "output_type": "stream",
     "text": [
      "\n",
      " Carnavales (Ayacucho)\n",
      " Título: Los Carnavales de Ayacucho\n",
      " URL: https://www.youtube.com/watch?v=4S-Va_Yy21Q&pp=ygUZQ2FybmF2YWxlcyBBeWFjdWNobyBQZXLDug%3D%3D\n"
     ]
    },
    {
     "name": "stderr",
     "output_type": "stream",
     "text": [
      " 18%|██████████████                                                                | 140/777 [32:38<2:13:31, 12.58s/it]"
     ]
    },
    {
     "name": "stdout",
     "output_type": "stream",
     "text": [
      "\n",
      " Escenificación del fusilamiento de María\n",
      "Parado de Bellido (Ayacucho)\n",
      " Título: ÑUQANCHIK- TV PERU - ESCENIFICACION DEL FUSILAMIENTO DE MARIA PARADO DE BELLIDO EN AYACUCHO\n",
      " URL: https://www.youtube.com/watch?v=rtWZI66rKXk&pp=ygVKRXNjZW5pZmljYWNpw7NuIGRlbCBmdXNpbGFtaWVudG8gZGUgTWFyw61hUGFyYWRvIGRlIEJlbGxpZG8gQXlhY3VjaG8gUGVyw7o%3D\n"
     ]
    },
    {
     "name": "stderr",
     "output_type": "stream",
     "text": [
      " 18%|██████████████▏                                                               | 141/777 [32:52<2:18:19, 13.05s/it]"
     ]
    },
    {
     "name": "stdout",
     "output_type": "stream",
     "text": [
      "\n",
      " Fiesta Patronal del Señor de Untura (Ayacucho)\n",
      " Título: Toro se escapa y deja más de 30 heridos en fiesta patronal\n",
      " URL: https://www.youtube.com/watch?v=Kk1ZwBKJ_qQ&pp=ygUzRmllc3RhIFBhdHJvbmFsIGRlbCBTZcOxb3IgZGUgVW50dXJhIEF5YWN1Y2hvIFBlcsO6\n"
     ]
    },
    {
     "name": "stderr",
     "output_type": "stream",
     "text": [
      " 18%|██████████████▎                                                               | 142/777 [33:04<2:13:07, 12.58s/it]"
     ]
    },
    {
     "name": "stdout",
     "output_type": "stream",
     "text": [
      "\n",
      " Fiesta de las Cruces (Ayacucho)\n",
      " Título: Antiq Chunchus en la Fiesta de las Cruces. Luricocha, Huanta, Ayacucho, Perú [ALPACA]\n",
      " URL: https://www.youtube.com/watch?v=CJDshm7_7Lk&pp=ygUjRmllc3RhIGRlIGxhcyBDcnVjZXMgQXlhY3VjaG8gUGVyw7o%3D\n"
     ]
    },
    {
     "name": "stderr",
     "output_type": "stream",
     "text": [
      " 18%|██████████████▎                                                               | 143/777 [33:16<2:13:09, 12.60s/it]"
     ]
    },
    {
     "name": "stdout",
     "output_type": "stream",
     "text": [
      "\n",
      " Fiesta de la Virgen de Fátima (Ayacucho)\n",
      " Título: VIRGEN DE LAS NIEVES 💐 4°A Festival de Danzas FATIMA DE AYACUCHO 2024\n",
      " URL: https://www.youtube.com/watch?v=80lnj6cp8tI&pp=ygUtRmllc3RhIGRlIGxhIFZpcmdlbiBkZSBGw6F0aW1hIEF5YWN1Y2hvIFBlcsO6\n"
     ]
    },
    {
     "name": "stderr",
     "output_type": "stream",
     "text": [
      " 19%|██████████████▍                                                               | 144/777 [33:28<2:10:00, 12.32s/it]"
     ]
    },
    {
     "name": "stdout",
     "output_type": "stream",
     "text": [
      "\n",
      " Fiesta de San Juan (Ayacucho)\n",
      " Título: FIESTA PATRONAL DE SAN JUAN - AYACUCHO 2019 (02)\n",
      " URL: https://www.youtube.com/watch?v=Ov6NwVfcR2s&list=RDOv6NwVfcR2s&start_radio=1&pp=ygUhRmllc3RhIGRlIFNhbiBKdWFuIEF5YWN1Y2hvIFBlcsO6oAcB\n"
     ]
    },
    {
     "name": "stderr",
     "output_type": "stream",
     "text": [
      " 19%|██████████████▌                                                               | 145/777 [33:39<2:05:58, 11.96s/it]"
     ]
    },
    {
     "name": "stdout",
     "output_type": "stream",
     "text": [
      "\n",
      " Corpus Christi (Ayacucho)\n",
      " Título: corpus Christi Colca Ayacucho 2023\n",
      " URL: https://www.youtube.com/shorts/thsZeeQ9u4E\n"
     ]
    },
    {
     "name": "stderr",
     "output_type": "stream",
     "text": [
      " 19%|██████████████▋                                                               | 146/777 [33:51<2:05:24, 11.93s/it]"
     ]
    },
    {
     "name": "stdout",
     "output_type": "stream",
     "text": [
      "\n",
      " Fiesta de la Virgen del Carmen (Ayacucho)\n",
      " Título: SANTÍSIMA VIRGEN DEL CARMEN (2024) - AYACUCHO | BLOQUE 01\n",
      " URL: https://www.youtube.com/watch?v=EjEj9Wfebh0&list=RDEjEj9Wfebh0&start_radio=1&pp=ygUtRmllc3RhIGRlIGxhIFZpcmdlbiBkZWwgQ2FybWVuIEF5YWN1Y2hvIFBlcsO6oAcB\n"
     ]
    },
    {
     "name": "stderr",
     "output_type": "stream",
     "text": [
      " 19%|██████████████▊                                                               | 147/777 [34:04<2:09:39, 12.35s/it]"
     ]
    },
    {
     "name": "stdout",
     "output_type": "stream",
     "text": [
      "\n",
      " Fiesta patronal de Santiago (Ayacucho)\n",
      " Título: 🟥fiesta patronal ✔️santiago de huatatas Ayacucho\n",
      " URL: https://www.youtube.com/watch?v=xv7S7JhBz8U&pp=ygUqRmllc3RhIHBhdHJvbmFsIGRlIFNhbnRpYWdvIEF5YWN1Y2hvIFBlcsO60gcJCdgJAYcqIYzv\n"
     ]
    },
    {
     "name": "stderr",
     "output_type": "stream",
     "text": [
      " 19%|██████████████▊                                                               | 148/777 [34:17<2:10:15, 12.43s/it]"
     ]
    },
    {
     "name": "stdout",
     "output_type": "stream",
     "text": [
      "\n",
      " Fiestas, Patrias, Toros y waqrapukus (Ayacucho)\n",
      " Título: Ayacucho: toro se escapa de fiesta patronal y deja tres heridos tras su paso por la ciudad\n",
      " URL: https://www.youtube.com/watch?v=KnCQperVF4c&pp=ygUzRmllc3RhcywgUGF0cmlhcywgVG9yb3MgeSB3YXFyYXB1a3VzIEF5YWN1Y2hvIFBlcsO6\n"
     ]
    },
    {
     "name": "stderr",
     "output_type": "stream",
     "text": [
      " 19%|██████████████▉                                                               | 149/777 [34:32<2:17:33, 13.14s/it]"
     ]
    },
    {
     "name": "stdout",
     "output_type": "stream",
     "text": [
      "\n",
      " Fiesta de la virgen de las Nieves (Ayacucho)\n",
      " Título: La Virgen de las Nieves (Coracora)\n",
      " URL: https://www.youtube.com/watch?v=1sxok_d7aVE&t=1141s&pp=ygUwRmllc3RhIGRlIGxhIHZpcmdlbiBkZSBsYXMgTmlldmVzIEF5YWN1Y2hvIFBlcsO6\n"
     ]
    },
    {
     "name": "stderr",
     "output_type": "stream",
     "text": [
      " 19%|███████████████                                                               | 150/777 [34:42<2:07:52, 12.24s/it]"
     ]
    },
    {
     "name": "stdout",
     "output_type": "stream",
     "text": [
      "\n",
      " Ritual de la herranza o marcación del\n",
      "ganado (Ayacucho)\n",
      " Título: El ritual de la \"herranza\"\n",
      " URL: https://www.youtube.com/watch?v=64wIiT2_pkg&pp=ygU7Uml0dWFsIGRlIGxhIGhlcnJhbnphIG8gbWFyY2FjacOzbiBkZWxnYW5hZG8gQXlhY3VjaG8gUGVyw7o%3D\n"
     ]
    },
    {
     "name": "stderr",
     "output_type": "stream",
     "text": [
      " 19%|███████████████▏                                                              | 151/777 [34:52<2:01:31, 11.65s/it]"
     ]
    },
    {
     "name": "stdout",
     "output_type": "stream",
     "text": [
      "\n",
      " Fiesta de la Virgen de la Asunción (Ayacucho)\n",
      " Título: IMTAAMPAC. Presenta Las Festividades de la Virgen de La Asunción en Ayacucho 2016\n",
      " URL: https://www.youtube.com/watch?v=bfppbSd4is0&pp=ygUyRmllc3RhIGRlIGxhIFZpcmdlbiBkZSBsYSBBc3VuY2nDs24gQXlhY3VjaG8gUGVyw7o%3D\n"
     ]
    },
    {
     "name": "stderr",
     "output_type": "stream",
     "text": [
      " 20%|███████████████▎                                                              | 152/777 [35:04<2:02:07, 11.72s/it]"
     ]
    },
    {
     "name": "stdout",
     "output_type": "stream",
     "text": [
      "\n",
      " Procesión de San Isidro Labrador (Ayacucho)\n",
      " Título: 🌷🎶💘 PROCESION de SAN ISIDRO LABRADOR de CABANA SUR AYACUCHO 💞🌺🎵\n",
      " URL: https://www.youtube.com/watch?v=t_xfch1zebs&pp=ygUwUHJvY2VzacOzbiBkZSBTYW4gSXNpZHJvIExhYnJhZG9yIEF5YWN1Y2hvIFBlcsO6\n"
     ]
    },
    {
     "name": "stderr",
     "output_type": "stream",
     "text": [
      " 20%|███████████████▎                                                              | 153/777 [35:16<2:01:20, 11.67s/it]"
     ]
    },
    {
     "name": "stdout",
     "output_type": "stream",
     "text": [
      "\n",
      " Fiesta de San Bartolomé (Ayacucho)\n",
      " Título: FIESTA COSTUMBRISTA EN HOMENAJE AL SANTO PATRON \" SAN BARTOLOME DE SORAS \" 2014\n",
      " URL: https://www.youtube.com/watch?v=R7414_NTrzk&pp=ygUnRmllc3RhIGRlIFNhbiBCYXJ0b2xvbcOpIEF5YWN1Y2hvIFBlcsO6\n"
     ]
    },
    {
     "name": "stderr",
     "output_type": "stream",
     "text": [
      " 20%|███████████████▍                                                              | 154/777 [35:29<2:05:46, 12.11s/it]"
     ]
    },
    {
     "name": "stdout",
     "output_type": "stream",
     "text": [
      "\n",
      " Fiesta patronal de San Miguel (Ayacucho)\n",
      " Título: Fiesta Patronal De San Miguel La Mar Ayacucho 2022 | TitoRamirez\n",
      " URL: https://www.youtube.com/watch?v=nn7w-AYWd10&pp=ygUsRmllc3RhIHBhdHJvbmFsIGRlIFNhbiBNaWd1ZWwgQXlhY3VjaG8gUGVyw7o%3D\n"
     ]
    },
    {
     "name": "stderr",
     "output_type": "stream",
     "text": [
      " 20%|███████████████▌                                                              | 155/777 [35:42<2:08:17, 12.38s/it]"
     ]
    },
    {
     "name": "stdout",
     "output_type": "stream",
     "text": [
      "\n",
      " Fiesta de la Virgen de Cocharcas (Ayacucho)\n",
      " Título: FIESTA VIRGEN DE COCHARCAS 2017 - SAN DIEGO DE ISHUA- AYACUCHO - PARTE 1\n",
      " URL: https://www.youtube.com/watch?v=URTHswU0BZo&pp=ygUvRmllc3RhIGRlIGxhIFZpcmdlbiBkZSBDb2NoYXJjYXMgQXlhY3VjaG8gUGVyw7o%3D\n"
     ]
    },
    {
     "name": "stderr",
     "output_type": "stream",
     "text": [
      " 20%|███████████████▋                                                              | 156/777 [35:55<2:09:52, 12.55s/it]"
     ]
    },
    {
     "name": "stdout",
     "output_type": "stream",
     "text": [
      "\n",
      " Yarqa asi o limpieza de acequias (Ayacucho)\n",
      " Título: YARQA ASPIY: LIMPIEZA DE ACEQUIAS\n",
      " URL: https://www.youtube.com/watch?v=8goJSbuHYtk&pp=ygUvWWFycWEgYXNpIG8gbGltcGllemEgZGUgYWNlcXVpYXMgQXlhY3VjaG8gUGVyw7o%3D\n"
     ]
    },
    {
     "name": "stderr",
     "output_type": "stream",
     "text": [
      " 20%|███████████████▊                                                              | 157/777 [36:07<2:09:45, 12.56s/it]"
     ]
    },
    {
     "name": "stdout",
     "output_type": "stream",
     "text": [
      "\n",
      " Fiesta del Señor de Quinuapata (Ayacucho)\n",
      " Título: UNSCH 2023: VIDEO REPORTAJE AL SANTUARIO DEL SANTÍSIMO SEÑOR DE QUINUAPATA\n",
      " URL: https://www.youtube.com/watch?v=REP43c32RTw&pp=ygUuRmllc3RhIGRlbCBTZcOxb3IgZGUgUXVpbnVhcGF0YSBBeWFjdWNobyBQZXLDug%3D%3D\n"
     ]
    },
    {
     "name": "stderr",
     "output_type": "stream",
     "text": [
      " 20%|███████████████▊                                                              | 158/777 [36:21<2:11:52, 12.78s/it]"
     ]
    },
    {
     "name": "stdout",
     "output_type": "stream",
     "text": [
      "\n",
      " Fiesta de agua (Ayacucho)\n",
      " Título: Así se vive la FIESTA del AGUA en Puquio Querido | Ayacucho\n",
      " URL: https://www.youtube.com/watch?v=vRoEPmpxylI&pp=ygUdRmllc3RhIGRlIGFndWEgQXlhY3VjaG8gUGVyw7rSBwkJ2AkBhyohjO8%3D\n"
     ]
    },
    {
     "name": "stderr",
     "output_type": "stream",
     "text": [
      " 20%|███████████████▉                                                              | 159/777 [36:32<2:06:21, 12.27s/it]"
     ]
    },
    {
     "name": "stdout",
     "output_type": "stream",
     "text": [
      "\n",
      " Fiesta de la Virgen de las Mercedes (Ayacucho)\n",
      " Título: FIESTA PATRONAL VIRGEN DE LAS MERCEDES DEL PUEBLO DE CCAYANTO\n",
      " URL: https://www.youtube.com/watch?v=rbjDEeuYrrA&pp=ygUyRmllc3RhIGRlIGxhIFZpcmdlbiBkZSBsYXMgTWVyY2VkZXMgQXlhY3VjaG8gUGVyw7o%3D\n"
     ]
    },
    {
     "name": "stderr",
     "output_type": "stream",
     "text": [
      " 21%|████████████████                                                              | 160/777 [36:44<2:06:18, 12.28s/it]"
     ]
    },
    {
     "name": "stdout",
     "output_type": "stream",
     "text": [
      "\n",
      " Fiesta patronal de San Francisco (Ayacucho)\n",
      " Título: FIESTA PATRONAL SAN FRANCISCO ASIS EN EL DISTRITO AYNA SAN FRANCISCO AYACUCHO\n",
      " URL: https://www.youtube.com/watch?v=elddtPyuBCU&pp=ygUvRmllc3RhIHBhdHJvbmFsIGRlIFNhbiBGcmFuY2lzY28gQXlhY3VjaG8gUGVyw7o%3D\n"
     ]
    },
    {
     "name": "stderr",
     "output_type": "stream",
     "text": [
      " 21%|████████████████▏                                                             | 161/777 [36:55<2:02:49, 11.96s/it]"
     ]
    },
    {
     "name": "stdout",
     "output_type": "stream",
     "text": [
      "\n",
      " Celebración de Todos los Santos (Ayacucho)\n",
      " Título: UNSCH 2023: CONOZCAMOS LA TRADICIONAL FIESTA DE TODOS LOS SANTOS EN HUAMANGA\n",
      " URL: https://www.youtube.com/watch?v=l-Gkl3PW0cs&pp=ygUvQ2VsZWJyYWNpw7NuIGRlIFRvZG9zIGxvcyBTYW50b3MgQXlhY3VjaG8gUGVyw7o%3D\n"
     ]
    },
    {
     "name": "stderr",
     "output_type": "stream",
     "text": [
      " 21%|████████████████▎                                                             | 162/777 [37:08<2:05:04, 12.20s/it]"
     ]
    },
    {
     "name": "stdout",
     "output_type": "stream",
     "text": [
      "\n",
      " Día del folclor ayacuchano (Ayacucho)\n",
      " Título: Día del Folklore en A.C. Llaqta Ayacucho (◕‿◕)♡ Sarita Garcia del Perú ♡\n",
      " URL: https://www.youtube.com/watch?v=ziIE3Vpjx4E&pp=ygUqRMOtYSBkZWwgZm9sY2xvciBheWFjdWNoYW5vIEF5YWN1Y2hvIFBlcsO6\n"
     ]
    },
    {
     "name": "stderr",
     "output_type": "stream",
     "text": [
      " 21%|████████████████▎                                                             | 163/777 [37:22<2:10:51, 12.79s/it]"
     ]
    },
    {
     "name": "stdout",
     "output_type": "stream",
     "text": [
      "\n",
      " Aniversario de la batalla de Ayacucho y danza\n",
      "del tusuy y nichik (Ayacucho)\n",
      " Título: Conmemoración del 198.º aniversario de la Batalla de Ayacucho y Día del Ejército del Perú\n",
      " URL: https://www.youtube.com/watch?v=YtaFvETOo1M&pp=ygVOQW5pdmVyc2FyaW8gZGUgbGEgYmF0YWxsYSBkZSBBeWFjdWNobyB5IGRhbnphZGVsIHR1c3V5IHkgbmljaGlrIEF5YWN1Y2hvIFBlcsO6\n"
     ]
    },
    {
     "name": "stderr",
     "output_type": "stream",
     "text": [
      " 21%|████████████████▍                                                             | 164/777 [37:35<2:12:33, 12.98s/it]"
     ]
    },
    {
     "name": "stdout",
     "output_type": "stream",
     "text": [
      "\n",
      " Fiesta de la Inmaculada Concepción (Ayacucho)\n",
      " Título: INMACULADA CONCEPCIÓN - AYACUCHO 2015\n",
      " URL: https://www.youtube.com/watch?v=8yQYYUEioW0&list=RD8yQYYUEioW0&start_radio=1&pp=ygUyRmllc3RhIGRlIGxhIElubWFjdWxhZGEgQ29uY2VwY2nDs24gQXlhY3VjaG8gUGVyw7qgBwE%3D\n"
     ]
    },
    {
     "name": "stderr",
     "output_type": "stream",
     "text": [
      " 21%|████████████████▌                                                             | 165/777 [37:49<2:13:02, 13.04s/it]"
     ]
    },
    {
     "name": "stdout",
     "output_type": "stream",
     "text": [
      "\n",
      " Festival de San Sebastián (Cajamarca)\n",
      " Título: Cajamarca: Festival de Chicha y Pan se celebra en San Sebastián\n",
      " URL: https://www.youtube.com/watch?v=d0h-OlDZHV0&pp=ygUqRmVzdGl2YWwgZGUgU2FuIFNlYmFzdGnDoW4gQ2FqYW1hcmNhIFBlcsO6\n"
     ]
    },
    {
     "name": "stderr",
     "output_type": "stream",
     "text": [
      " 21%|████████████████▋                                                             | 166/777 [38:02<2:13:37, 13.12s/it]"
     ]
    },
    {
     "name": "stdout",
     "output_type": "stream",
     "text": [
      "\n",
      " Fiestas de carnavales (Cajamarca)\n",
      " Título: Guerra de Agua y pintura - La alegre fiesta del carnaval en Cajamarca (T3/E29) || Cajamarca Perú\n",
      " URL: https://www.youtube.com/watch?v=ypg9ir7izXg&pp=ygUlRmllc3RhcyBkZSBjYXJuYXZhbGVzIENhamFtYXJjYSBQZXLDug%3D%3D\n"
     ]
    },
    {
     "name": "stderr",
     "output_type": "stream",
     "text": [
      " 21%|████████████████▊                                                             | 167/777 [38:15<2:13:08, 13.10s/it]"
     ]
    },
    {
     "name": "stdout",
     "output_type": "stream",
     "text": [
      "\n",
      " Semana Santa (Cajamarca)\n",
      " Título: Cajamarca: lanzan actividades por Semana Santa 2025\n",
      " URL: https://www.youtube.com/watch?v=N8EqERkuIc4&pp=ygUcU2VtYW5hIFNhbnRhIENhamFtYXJjYSBQZXLDug%3D%3D\n"
     ]
    },
    {
     "name": "stderr",
     "output_type": "stream",
     "text": [
      " 22%|████████████████▊                                                             | 168/777 [38:34<2:30:23, 14.82s/it]"
     ]
    },
    {
     "name": "stdout",
     "output_type": "stream",
     "text": [
      "\n",
      " Fiesta de Santo Toribio de Mogrovejo (Cajamarca)\n",
      " Título: Documental de la fiesta a Santo Toribio - Tayabamba 2016 HD\n",
      " URL: https://www.youtube.com/watch?v=QKvwG8NHOIU&t=1313s&pp=ygU0Rmllc3RhIGRlIFNhbnRvIFRvcmliaW8gZGUgTW9ncm92ZWpvIENhamFtYXJjYSBQZXLDug%3D%3D\n"
     ]
    },
    {
     "name": "stderr",
     "output_type": "stream",
     "text": [
      " 22%|████████████████▉                                                             | 169/777 [38:51<2:37:58, 15.59s/it]"
     ]
    },
    {
     "name": "stdout",
     "output_type": "stream",
     "text": [
      "\n",
      " Fiesta de San José Obrero (Cajamarca)\n",
      " Título: Solemnidad de San José Obrero\n",
      " URL: https://www.youtube.com/watch?v=6tKhOpjBvUA&pp=ygUqRmllc3RhIGRlIFNhbiBKb3PDqSBPYnJlcm8gQ2FqYW1hcmNhIFBlcsO60gcJCdgJAYcqIYzv\n"
     ]
    },
    {
     "name": "stderr",
     "output_type": "stream",
     "text": [
      " 22%|█████████████████                                                             | 170/777 [39:04<2:29:32, 14.78s/it]"
     ]
    },
    {
     "name": "stdout",
     "output_type": "stream",
     "text": [
      "\n",
      " Fiesta de las Cruces (Cajamarca)\n",
      " Título: ¡INCREIBLE! Así se Vive la FIESTA de las CRUCES en PORCÓN CAJAMARCA 🇵🇪\n",
      " URL: https://www.youtube.com/watch?v=fc6zndAajtI&pp=ygUkRmllc3RhIGRlIGxhcyBDcnVjZXMgQ2FqYW1hcmNhIFBlcsO6\n"
     ]
    },
    {
     "name": "stderr",
     "output_type": "stream",
     "text": [
      " 22%|█████████████████▏                                                            | 171/777 [39:16<2:20:55, 13.95s/it]"
     ]
    },
    {
     "name": "stdout",
     "output_type": "stream",
     "text": [
      "\n",
      " Fiesta de San Isidro Labrador (Cajamarca)\n",
      " Título: PASEO DE YUNTAS EN HONOR A SAN ISIDRO LABRADOR, COSTUMBRE ANCESTRAL DEL DISTRITO DE CHUGAY-REPORTAJE\n",
      " URL: https://www.youtube.com/watch?v=ggeDBWC7i3g&pp=ygUtRmllc3RhIGRlIFNhbiBJc2lkcm8gTGFicmFkb3IgQ2FqYW1hcmNhIFBlcsO6\n"
     ]
    },
    {
     "name": "stderr",
     "output_type": "stream",
     "text": [
      " 22%|█████████████████▎                                                            | 172/777 [39:28<2:15:04, 13.40s/it]"
     ]
    },
    {
     "name": "stdout",
     "output_type": "stream",
     "text": [
      "\n",
      " Corpus Christi (Cajamarca)\n",
      " Título: 🚨¡ESPECTACULAR!🚨 Así es el Corpus Christi en Cajamarca, Perú\n",
      " URL: https://www.youtube.com/watch?v=6GuyfLR5jJ4&pp=ygUeQ29ycHVzIENocmlzdGkgQ2FqYW1hcmNhIFBlcsO6\n"
     ]
    },
    {
     "name": "stderr",
     "output_type": "stream",
     "text": [
      " 22%|█████████████████▎                                                            | 173/777 [39:39<2:08:08, 12.73s/it]"
     ]
    },
    {
     "name": "stdout",
     "output_type": "stream",
     "text": [
      "\n",
      " El Padre Eterno (Cajamarca)\n",
      " Título: 🛑\"PADRE ETERNO\" | Himno para Dios | Vigilia IPC Cajamarca✨️\n",
      " URL: https://www.youtube.com/watch?v=4KCWE2n4g0c&list=RD4KCWE2n4g0c&start_radio=1&pp=ygUfRWwgUGFkcmUgRXRlcm5vIENhamFtYXJjYSBQZXLDuqAHAQ%3D%3D\n"
     ]
    },
    {
     "name": "stderr",
     "output_type": "stream",
     "text": [
      " 22%|█████████████████▍                                                            | 174/777 [39:52<2:06:53, 12.63s/it]"
     ]
    },
    {
     "name": "stdout",
     "output_type": "stream",
     "text": [
      "\n",
      " Fiesta de la Santísima Trinidad (Cajamarca)\n",
      " Título: TRINIDAD CAJAMARCA PERÚ FIESTA PATRONAL STMA TRINIDAD 2oo9\n",
      " URL: https://www.youtube.com/watch?v=wk8JEkuPlqo&list=RDwk8JEkuPlqo&start_radio=1&pp=ygUwRmllc3RhIGRlIGxhIFNhbnTDrXNpbWEgVHJpbmlkYWQgQ2FqYW1hcmNhIFBlcsO6oAcB\n"
     ]
    },
    {
     "name": "stderr",
     "output_type": "stream",
     "text": [
      " 23%|█████████████████▌                                                            | 175/777 [40:04<2:05:12, 12.48s/it]"
     ]
    },
    {
     "name": "stdout",
     "output_type": "stream",
     "text": [
      "\n",
      " Fiesta de San Juan (Cajamarca)\n",
      " Título: SAN JUAN - CAJAMARCA - PERÚ FIESTA PATRONAL DE SAN JUAN BAUTISTA\n",
      " URL: https://www.youtube.com/watch?v=usUcxaxfOPQ&pp=ygUiRmllc3RhIGRlIFNhbiBKdWFuIENhamFtYXJjYSBQZXLDug%3D%3D\n"
     ]
    },
    {
     "name": "stderr",
     "output_type": "stream",
     "text": [
      " 23%|█████████████████▋                                                            | 176/777 [40:18<2:10:51, 13.06s/it]"
     ]
    },
    {
     "name": "stdout",
     "output_type": "stream",
     "text": [
      "\n",
      " San Pedro y San Pablo (Cajamarca)\n",
      " Título: San Pedro y San Pablo en Perú: una explosión de FE y TRADICIONES\n",
      " URL: https://www.youtube.com/watch?v=lgcoYr2SIPk&pp=ygUlU2FuIFBlZHJvIHkgU2FuIFBhYmxvIENhamFtYXJjYSBQZXLDug%3D%3D\n"
     ]
    },
    {
     "name": "stderr",
     "output_type": "stream",
     "text": [
      " 23%|█████████████████▊                                                            | 177/777 [40:31<2:10:34, 13.06s/it]"
     ]
    },
    {
     "name": "stdout",
     "output_type": "stream",
     "text": [
      "\n",
      " Festividad de San Antonio (Cajamarca)\n",
      " Título: HACIENDA SAN ANTONIO CAJAMARCA - REPORTAJE\n",
      " URL: https://www.youtube.com/watch?v=OTk1jd4rF6M&pp=ygUpRmVzdGl2aWRhZCBkZSBTYW4gQW50b25pbyBDYWphbWFyY2EgUGVyw7o%3D\n"
     ]
    },
    {
     "name": "stderr",
     "output_type": "stream",
     "text": [
      " 23%|█████████████████▊                                                            | 178/777 [40:44<2:08:00, 12.82s/it]"
     ]
    },
    {
     "name": "stdout",
     "output_type": "stream",
     "text": [
      "\n",
      " San Pedro (Cajamarca)\n",
      " Título: 🎆🔥¡Así se Vive el Carnaval en el Pregón del Barrio San Pedro! Cajamarca 2025 🌟🎉\n",
      " URL: https://www.youtube.com/watch?v=KExY-VBuBaY&pp=ygUZU2FuIFBlZHJvIENhamFtYXJjYSBQZXLDug%3D%3D\n"
     ]
    },
    {
     "name": "stderr",
     "output_type": "stream",
     "text": [
      " 23%|█████████████████▉                                                            | 179/777 [40:55<2:04:08, 12.46s/it]"
     ]
    },
    {
     "name": "stdout",
     "output_type": "stream",
     "text": [
      "\n",
      " Fiesta de la Virgen del carmen (Cajamarca)\n",
      " Título: \"FIESTA EN HONOR A LA VIRGEN DEL CARMEN\". (Celendín-Cajamarca-Perú).mpg.\n",
      " URL: https://www.youtube.com/watch?v=PsDN28Bc-Ug&list=RDPsDN28Bc-Ug&start_radio=1&pp=ygUuRmllc3RhIGRlIGxhIFZpcmdlbiBkZWwgY2FybWVuIENhamFtYXJjYSBQZXLDuqAHAQ%3D%3D\n"
     ]
    },
    {
     "name": "stderr",
     "output_type": "stream",
     "text": [
      " 23%|██████████████████                                                            | 180/777 [41:10<2:10:47, 13.14s/it]"
     ]
    },
    {
     "name": "stdout",
     "output_type": "stream",
     "text": [
      "\n",
      " Fiesta patronal de San José (Cajamarca)\n",
      " Título: FERIA PATRONAL EN NUEVO TRUJILLO DE SAN JOSÉ DE LOURDES - SAN IGNACIO CAJAMARCA\n",
      " URL: https://www.youtube.com/watch?v=fKAJ9Gap474&pp=ygUsRmllc3RhIHBhdHJvbmFsIGRlIFNhbiBKb3PDqSBDYWphbWFyY2EgUGVyw7o%3D\n"
     ]
    },
    {
     "name": "stderr",
     "output_type": "stream",
     "text": [
      " 23%|██████████████████▏                                                           | 181/777 [41:26<2:18:26, 13.94s/it]"
     ]
    },
    {
     "name": "stdout",
     "output_type": "stream",
     "text": [
      "\n",
      " Fiesta del Apóstol Santiago (Cajamarca)\n",
      " Título: Alabado en la Fiesta Patronal Santiago Apostol de C.P Agocucho\n",
      " URL: https://www.youtube.com/watch?v=FTxi24-0cCE&list=RDFTxi24-0cCE&start_radio=1&pp=ygUsRmllc3RhIGRlbCBBcMOzc3RvbCBTYW50aWFnbyBDYWphbWFyY2EgUGVyw7qgBwE%3D\n"
     ]
    },
    {
     "name": "stderr",
     "output_type": "stream",
     "text": [
      " 23%|██████████████████▎                                                           | 182/777 [41:35<2:03:51, 12.49s/it]"
     ]
    },
    {
     "name": "stdout",
     "output_type": "stream",
     "text": [
      "\n",
      " Feria agropecuaria (Cajamarca)\n",
      " Título: Comprando TOROS en la Feria ganadera de Cajamarca\n",
      " URL: https://www.youtube.com/watch?v=fPH_VtXAmB0&pp=ygUiRmVyaWEgYWdyb3BlY3VhcmlhIENhamFtYXJjYSBQZXLDug%3D%3D\n"
     ]
    },
    {
     "name": "stderr",
     "output_type": "stream",
     "text": [
      " 24%|██████████████████▎                                                           | 183/777 [41:50<2:10:47, 13.21s/it]"
     ]
    },
    {
     "name": "stdout",
     "output_type": "stream",
     "text": [
      "\n",
      " Fiesta del Apóstol Santiago (Cajamarca)\n",
      " Título: Alabado en la Fiesta Patronal Santiago Apostol de C.P Agocucho\n",
      " URL: https://www.youtube.com/watch?v=FTxi24-0cCE&list=RDFTxi24-0cCE&start_radio=1&pp=ygUsRmllc3RhIGRlbCBBcMOzc3RvbCBTYW50aWFnbyBDYWphbWFyY2EgUGVyw7qgBwE%3D\n"
     ]
    },
    {
     "name": "stderr",
     "output_type": "stream",
     "text": [
      " 24%|██████████████████▍                                                           | 184/777 [42:04<2:12:51, 13.44s/it]"
     ]
    },
    {
     "name": "stdout",
     "output_type": "stream",
     "text": [
      "\n",
      " Fiesta patronal de San Ignacio de Loyola (Cajamarca)\n",
      " Título: Fiesta de San Ignacio de Loyola en Cajamarca | Perú Profundo en #PBO\n",
      " URL: https://www.youtube.com/watch?v=dkBU5IjQyGQ&pp=ygU4Rmllc3RhIHBhdHJvbmFsIGRlIFNhbiBJZ25hY2lvIGRlIExveW9sYSBDYWphbWFyY2EgUGVyw7o%3D\n"
     ]
    },
    {
     "name": "stderr",
     "output_type": "stream",
     "text": [
      " 24%|██████████████████▌                                                           | 185/777 [42:16<2:10:26, 13.22s/it]"
     ]
    },
    {
     "name": "stdout",
     "output_type": "stream",
     "text": [
      "\n",
      " Día de los Niños (Cajamarca)\n",
      " Título: “BIENVENIDOS”, UN CORTOMETRAJE CON LOS NIÑOS DE CAJAMARCA\n",
      " URL: https://www.youtube.com/watch?v=-PQgiGLsqcE&pp=ygUiRMOtYSBkZSBsb3MgTmnDsW9zIENhamFtYXJjYSBQZXLDug%3D%3D\n"
     ]
    },
    {
     "name": "stderr",
     "output_type": "stream",
     "text": [
      " 24%|██████████████████▋                                                           | 186/777 [42:28<2:06:16, 12.82s/it]"
     ]
    },
    {
     "name": "stdout",
     "output_type": "stream",
     "text": [
      "\n",
      " La Virgen de Asunción (Cajamarca)\n",
      " Título: DISTRITO DE ASUNCIÓN - CAJAMARCA\n",
      " URL: https://www.youtube.com/watch?v=Me4qwuFMJBI&pp=ygUmTGEgVmlyZ2VuIGRlIEFzdW5jacOzbiBDYWphbWFyY2EgUGVyw7o%3D\n"
     ]
    },
    {
     "name": "stderr",
     "output_type": "stream",
     "text": [
      " 24%|██████████████████▊                                                           | 187/777 [42:41<2:05:50, 12.80s/it]"
     ]
    },
    {
     "name": "stdout",
     "output_type": "stream",
     "text": [
      "\n",
      " Aniversario de la provincia (Cajamarca)\n",
      " Título: 162 Aniversario Cajamarca\n",
      " URL: https://www.youtube.com/watch?v=jSEhLwpwvmQ&pp=ygUrQW5pdmVyc2FyaW8gZGUgbGEgcHJvdmluY2lhIENhamFtYXJjYSBQZXLDug%3D%3D\n"
     ]
    },
    {
     "name": "stderr",
     "output_type": "stream",
     "text": [
      " 24%|██████████████████▊                                                           | 188/777 [42:52<2:00:32, 12.28s/it]"
     ]
    },
    {
     "name": "stdout",
     "output_type": "stream",
     "text": [
      "\n",
      " Fiesta de San Agustín (Cajamarca)\n",
      " Título: Mix Cajamarca - Gran Banda San Agustín de Catache - Video Oficial 2022\n",
      " URL: https://www.youtube.com/watch?v=z1ADngtQbL8&list=RDz1ADngtQbL8&start_radio=1&pp=ygUmRmllc3RhIGRlIFNhbiBBZ3VzdMOtbiBDYWphbWFyY2EgUGVyw7qgBwE%3D\n"
     ]
    },
    {
     "name": "stderr",
     "output_type": "stream",
     "text": [
      " 24%|██████████████████▉                                                           | 189/777 [43:07<2:07:02, 12.96s/it]"
     ]
    },
    {
     "name": "stdout",
     "output_type": "stream",
     "text": [
      "\n",
      " La Virgen de Asunción (Cajamarca)\n",
      " Título: PROCESION DE LA VIRGEN DE LA ASUNCION CAJAMARCA HD\n",
      " URL: https://www.youtube.com/watch?v=T1TpvhfKat4&pp=ygUmTGEgVmlyZ2VuIGRlIEFzdW5jacOzbiBDYWphbWFyY2EgUGVyw7o%3D\n"
     ]
    },
    {
     "name": "stderr",
     "output_type": "stream",
     "text": [
      " 24%|███████████████████                                                           | 190/777 [43:19<2:05:10, 12.80s/it]"
     ]
    },
    {
     "name": "stdout",
     "output_type": "stream",
     "text": [
      "\n",
      " Fiesta de San Agustín (Cajamarca)\n",
      " Título: Mix Cajamarca - Gran Banda San Agustín de Catache - Video Oficial 2022\n",
      " URL: https://www.youtube.com/watch?v=z1ADngtQbL8&list=RDz1ADngtQbL8&start_radio=1&pp=ygUmRmllc3RhIGRlIFNhbiBBZ3VzdMOtbiBDYWphbWFyY2EgUGVyw7qgBwE%3D\n"
     ]
    },
    {
     "name": "stderr",
     "output_type": "stream",
     "text": [
      " 25%|███████████████████▏                                                          | 191/777 [43:33<2:07:28, 13.05s/it]"
     ]
    },
    {
     "name": "stdout",
     "output_type": "stream",
     "text": [
      "\n",
      " La Virgen del Carmen (Cajamarca)\n",
      " Título: \"FIESTA EN HONOR A LA VIRGEN DEL CARMEN\". (Celendín-Cajamarca-Perú).mpg.\n",
      " URL: https://www.youtube.com/watch?v=PsDN28Bc-Ug&list=RDPsDN28Bc-Ug&start_radio=1&pp=ygUkTGEgVmlyZ2VuIGRlbCBDYXJtZW4gQ2FqYW1hcmNhIFBlcsO6oAcB\n"
     ]
    },
    {
     "name": "stderr",
     "output_type": "stream",
     "text": [
      " 25%|███████████████████▎                                                          | 192/777 [43:47<2:09:36, 13.29s/it]"
     ]
    },
    {
     "name": "stdout",
     "output_type": "stream",
     "text": [
      "\n",
      " Fiesta de San Francisco (Cajamarca)\n",
      " Título: Iglesia San Francisco, Cajamarca, Perú\n",
      " URL: https://www.youtube.com/shorts/1G93OYNfbkw\n"
     ]
    },
    {
     "name": "stderr",
     "output_type": "stream",
     "text": [
      " 25%|███████████████████▎                                                          | 193/777 [43:59<2:07:17, 13.08s/it]"
     ]
    },
    {
     "name": "stdout",
     "output_type": "stream",
     "text": [
      "\n",
      " Fiesta del Wanchaco (Cajamarca)\n",
      " Título: Inicia la fiesta del Huanchaco 2024 - Los Baños del Inca - Cajamarca - Perú 🇵🇪\n",
      " URL: https://www.youtube.com/watch?v=dsL6_vWLMc8&pp=ygUjRmllc3RhIGRlbCBXYW5jaGFjbyBDYWphbWFyY2EgUGVyw7o%3D\n"
     ]
    },
    {
     "name": "stderr",
     "output_type": "stream",
     "text": [
      " 25%|███████████████████▍                                                          | 194/777 [44:12<2:06:17, 13.00s/it]"
     ]
    },
    {
     "name": "stdout",
     "output_type": "stream",
     "text": [
      "\n",
      " Feria del señor de Huamantanga (Cajamarca)\n",
      " Título: feria sr de Huamantanga Jaén Cajamarca Perú.\n",
      " URL: https://www.youtube.com/watch?v=A0q1qP1ZdNE&pp=ygUvRmVyaWEgZGVsIHNlw7FvciBkZSBIdWFtYW50YW5nYSBDYWphbWFyY2EgUGVyw7o%3D\n"
     ]
    },
    {
     "name": "stderr",
     "output_type": "stream",
     "text": [
      " 25%|███████████████████▌                                                          | 195/777 [44:25<2:07:24, 13.14s/it]"
     ]
    },
    {
     "name": "stdout",
     "output_type": "stream",
     "text": [
      "\n",
      " Festividad de la Virgen Dolorosa (Cajamarca)\n",
      " Título: PNP CAJAMARCA, REALIZÓ PROCESIÓN Y MISA EN HOMENAJE A LA VIRGEN DE LOS DOLORES\n",
      " URL: https://www.youtube.com/watch?v=Yz2IwOl8isU&pp=ygUwRmVzdGl2aWRhZCBkZSBsYSBWaXJnZW4gRG9sb3Jvc2EgQ2FqYW1hcmNhIFBlcsO6\n"
     ]
    },
    {
     "name": "stderr",
     "output_type": "stream",
     "text": [
      " 25%|███████████████████▋                                                          | 196/777 [44:43<2:19:15, 14.38s/it]"
     ]
    },
    {
     "name": "stdout",
     "output_type": "stream",
     "text": [
      "\n",
      " Fiesta patronal de San Miguel Arcángel (Cajamarca)\n",
      " Título: Fiestas patronales en homenaje a San Miguel Arcángel en el distrito de Acobamba en Tarma\n",
      " URL: https://www.youtube.com/watch?v=daP7ebXHL8Q&pp=ygU3Rmllc3RhIHBhdHJvbmFsIGRlIFNhbiBNaWd1ZWwgQXJjw6FuZ2VsIENhamFtYXJjYSBQZXLDug%3D%3D\n"
     ]
    },
    {
     "name": "stderr",
     "output_type": "stream",
     "text": [
      " 25%|███████████████████▊                                                          | 197/777 [44:53<2:06:18, 13.07s/it]"
     ]
    },
    {
     "name": "stdout",
     "output_type": "stream",
     "text": [
      "\n",
      " La Virgen del Rosario (Cajamarca)\n",
      " Título: Cajamarca, El santuario de la Virgen del Rosario en Polloc, La Encañada\n",
      " URL: https://www.youtube.com/watch?v=pxCpylGhswU&pp=ygUlTGEgVmlyZ2VuIGRlbCBSb3NhcmlvIENhamFtYXJjYSBQZXLDutIHCQnYCQGHKiGM7w%3D%3D\n"
     ]
    },
    {
     "name": "stderr",
     "output_type": "stream",
     "text": [
      " 25%|███████████████████▉                                                          | 198/777 [45:04<2:00:43, 12.51s/it]"
     ]
    },
    {
     "name": "stdout",
     "output_type": "stream",
     "text": [
      "\n",
      " Fiesta de Santa Teresita (Cajamarca)\n",
      " Título: DESFILE DE ANIVERSARIO SANTA TERESITA I │#BuzonAlternativo com\n",
      " URL: https://www.youtube.com/watch?v=K2uxl9PEV8k&pp=ygUoRmllc3RhIGRlIFNhbnRhIFRlcmVzaXRhIENhamFtYXJjYSBQZXLDug%3D%3D\n"
     ]
    },
    {
     "name": "stderr",
     "output_type": "stream",
     "text": [
      " 26%|███████████████████▉                                                          | 199/777 [45:18<2:03:47, 12.85s/it]"
     ]
    },
    {
     "name": "stdout",
     "output_type": "stream",
     "text": [
      "\n",
      " San Francisco de Asís (Cajamarca)\n",
      " Título: Iglesia San Francisco, Cajamarca, Perú\n",
      " URL: https://www.youtube.com/shorts/1G93OYNfbkw\n"
     ]
    },
    {
     "name": "stderr",
     "output_type": "stream",
     "text": [
      " 26%|████████████████████                                                          | 200/777 [45:32<2:07:43, 13.28s/it]"
     ]
    },
    {
     "name": "stdout",
     "output_type": "stream",
     "text": [
      "\n",
      " El Señor de los Milagros (Cajamarca)\n",
      " Título: #buzonalternativo PRIMER RECORRIDO DEL SEÑOR DE LOS MILAGROS EN CAJAMARCA\n",
      " URL: https://www.youtube.com/watch?v=bd94te2vz30&pp=ygUpRWwgU2XDsW9yIGRlIGxvcyBNaWxhZ3JvcyBDYWphbWFyY2EgUGVyw7o%3D\n"
     ]
    },
    {
     "name": "stderr",
     "output_type": "stream",
     "text": [
      " 26%|████████████████████▏                                                         | 201/777 [45:43<1:59:55, 12.49s/it]"
     ]
    },
    {
     "name": "stdout",
     "output_type": "stream",
     "text": [
      "\n",
      " Fiesta Patronal de San Marcos (Cajamarca)\n",
      " Título: Fiesta Patronal San Marcos Cajamarca: Show de Bandas\n",
      " URL: https://www.youtube.com/watch?v=aGCAHS33Opo&pp=ygUtRmllc3RhIFBhdHJvbmFsIGRlIFNhbiBNYXJjb3MgQ2FqYW1hcmNhIFBlcsO6\n"
     ]
    },
    {
     "name": "stderr",
     "output_type": "stream",
     "text": [
      " 26%|████████████████████▎                                                         | 202/777 [45:55<1:58:37, 12.38s/it]"
     ]
    },
    {
     "name": "stdout",
     "output_type": "stream",
     "text": [
      "\n",
      " Fiesta de la Virgen del Rosario de Chiquinquirá (Cajamarca)\n",
      " Título: Fiesta Patronal en Honor a la Virgen del Rosario de Chiquinquirá, Patrona de Cascas\n",
      " URL: https://www.youtube.com/watch?v=Qffci5s1_Ew&pp=ygVARmllc3RhIGRlIGxhIFZpcmdlbiBkZWwgUm9zYXJpbyBkZSBDaGlxdWlucXVpcsOhIENhamFtYXJjYSBQZXLDug%3D%3D\n"
     ]
    },
    {
     "name": "stderr",
     "output_type": "stream",
     "text": [
      " 26%|████████████████████▍                                                         | 203/777 [46:06<1:55:50, 12.11s/it]"
     ]
    },
    {
     "name": "stdout",
     "output_type": "stream",
     "text": [
      "\n",
      " Fiesta de Todos los Santos (Cajamarca)\n",
      " Título: La Festividad de Todos los Santos en Cajamarca\n",
      " URL: https://www.youtube.com/watch?v=ceY2rvShK_s&pp=ygUqRmllc3RhIGRlIFRvZG9zIGxvcyBTYW50b3MgQ2FqYW1hcmNhIFBlcsO6\n"
     ]
    },
    {
     "name": "stderr",
     "output_type": "stream",
     "text": [
      " 26%|████████████████████▍                                                         | 204/777 [46:19<1:57:07, 12.27s/it]"
     ]
    },
    {
     "name": "stdout",
     "output_type": "stream",
     "text": [
      "\n",
      " Fiesta de La Purísima (Cajamarca)\n",
      " Título: Guerra de Agua y pintura - La alegre fiesta del carnaval en Cajamarca (T3/E29) || Cajamarca Perú\n",
      " URL: https://www.youtube.com/watch?v=ypg9ir7izXg&pp=ygUmRmllc3RhIGRlIExhIFB1csOtc2ltYSBDYWphbWFyY2EgUGVyw7o%3D\n"
     ]
    },
    {
     "name": "stderr",
     "output_type": "stream",
     "text": [
      " 26%|████████████████████▌                                                         | 205/777 [46:31<1:56:39, 12.24s/it]"
     ]
    },
    {
     "name": "stdout",
     "output_type": "stream",
     "text": [
      "\n",
      " Fiesta de la Inmaculada Concepción (Cajamarca)\n",
      " Título: PROCESIÓN DE LA INMACULADA CONCEPCIÓN _ CAJAMARCA 2022\n",
      " URL: https://www.youtube.com/watch?v=b252jv12IDg&pp=ygUzRmllc3RhIGRlIGxhIElubWFjdWxhZGEgQ29uY2VwY2nDs24gQ2FqYW1hcmNhIFBlcsO60gcJCdgJAYcqIYzv\n"
     ]
    },
    {
     "name": "stderr",
     "output_type": "stream",
     "text": [
      " 27%|████████████████████▋                                                         | 206/777 [46:44<1:59:01, 12.51s/it]"
     ]
    },
    {
     "name": "stdout",
     "output_type": "stream",
     "text": [
      "\n",
      " Navidad (Cajamarca)\n",
      " Título: NAVIDAD EN CAJAMARCA ..PERÚ\n",
      " URL: https://www.youtube.com/watch?v=PQIwVIO-Gkw&pp=ygUXTmF2aWRhZCBDYWphbWFyY2EgUGVyw7o%3D\n"
     ]
    },
    {
     "name": "stderr",
     "output_type": "stream",
     "text": [
      " 27%|████████████████████▊                                                         | 207/777 [46:56<1:58:00, 12.42s/it]"
     ]
    },
    {
     "name": "stdout",
     "output_type": "stream",
     "text": [
      "\n",
      " Fiesta de la Virgen del Arco (Cajamarca)\n",
      " Título: FIESTA PATRONAL EN HONOR ALA VIRGEN DEL ARCO EN SALACAT SOROCHUCO CELENDÍN CAJAMARCA\n",
      " URL: https://www.youtube.com/watch?v=yCQiylZMHm8&list=RDyCQiylZMHm8&start_radio=1&pp=ygUsRmllc3RhIGRlIGxhIFZpcmdlbiBkZWwgQXJjbyBDYWphbWFyY2EgUGVyw7qgBwE%3D\n"
     ]
    },
    {
     "name": "stderr",
     "output_type": "stream",
     "text": [
      " 27%|████████████████████▉                                                         | 208/777 [47:07<1:52:23, 11.85s/it]"
     ]
    },
    {
     "name": "stdout",
     "output_type": "stream",
     "text": [
      "\n",
      " Festividad de San Silvestre (Cajamarca)\n",
      " Título: CAJAMARCA|San Silvestre de Cochán| Y Los Mejores Carnavales del Perú 🎉🎉\n",
      " URL: https://www.youtube.com/watch?v=mDF6yRUuQbM&pp=ygUrRmVzdGl2aWRhZCBkZSBTYW4gU2lsdmVzdHJlIENhamFtYXJjYSBQZXLDug%3D%3D\n"
     ]
    },
    {
     "name": "stderr",
     "output_type": "stream",
     "text": [
      " 27%|████████████████████▉                                                         | 209/777 [47:17<1:48:38, 11.48s/it]"
     ]
    },
    {
     "name": "stdout",
     "output_type": "stream",
     "text": [
      "\n",
      " Fiesta del Señor del Calvario (Cusco)\n",
      " Título: RETORNO A CASA DEL SEÑOR DEL CALVARIO EN CALCA\n",
      " URL: https://www.youtube.com/watch?v=ZBI3uKAm5Zg&pp=ygUqRmllc3RhIGRlbCBTZcOxb3IgZGVsIENhbHZhcmlvIEN1c2NvIFBlcsO6\n"
     ]
    },
    {
     "name": "stderr",
     "output_type": "stream",
     "text": [
      " 27%|█████████████████████                                                         | 210/777 [47:27<1:44:11, 11.03s/it]"
     ]
    },
    {
     "name": "stdout",
     "output_type": "stream",
     "text": [
      "\n",
      " Bajada de los Reyes Magos (Cusco)\n",
      " Título: Adoración Reyes Magos - San Blas Cusco\n",
      " URL: https://www.youtube.com/watch?v=XmKV9toipIQ&pp=ygUlQmFqYWRhIGRlIGxvcyBSZXllcyBNYWdvcyBDdXNjbyBQZXLDug%3D%3D\n"
     ]
    },
    {
     "name": "stderr",
     "output_type": "stream",
     "text": [
      " 27%|█████████████████████▏                                                        | 211/777 [47:39<1:46:35, 11.30s/it]"
     ]
    },
    {
     "name": "stdout",
     "output_type": "stream",
     "text": [
      "\n",
      " Enfrentamiento ritual o Chiaraqe (Cusco)\n",
      " Título: CHIARAJE 2018! Un MUERTO! en Batalla Sangrienta[ Canas-Cusco-Perú ]\n",
      " URL: https://www.youtube.com/watch?v=OCewvxFsIYQ&pp=ygUsRW5mcmVudGFtaWVudG8gcml0dWFsIG8gQ2hpYXJhcWUgQ3VzY28gUGVyw7o%3D\n"
     ]
    },
    {
     "name": "stderr",
     "output_type": "stream",
     "text": [
      " 27%|█████████████████████▎                                                        | 212/777 [47:51<1:47:21, 11.40s/it]"
     ]
    },
    {
     "name": "stdout",
     "output_type": "stream",
     "text": [
      "\n",
      " Fiesta de San Sebastián (Cusco)\n",
      " Título: La Fiesta de San Sebastián\n",
      " URL: https://www.youtube.com/watch?v=lKniEKWW1-c&pp=ygUkRmllc3RhIGRlIFNhbiBTZWJhc3Rpw6FuIEN1c2NvIFBlcsO6\n"
     ]
    },
    {
     "name": "stderr",
     "output_type": "stream",
     "text": [
      " 27%|█████████████████████▍                                                        | 213/777 [48:04<1:52:11, 11.93s/it]"
     ]
    },
    {
     "name": "stdout",
     "output_type": "stream",
     "text": [
      "\n",
      " Fiesta del Dulce Nombre de Jesús (Cusco)\n",
      " Título: FIESTA DEL SEÑOR \"DULCE NOMBRE DE JESÚS\"\n",
      " URL: https://www.youtube.com/watch?v=VqB1NrEsIpk&pp=ygUtRmllc3RhIGRlbCBEdWxjZSBOb21icmUgZGUgSmVzw7pzIEN1c2NvIFBlcsO6\n"
     ]
    },
    {
     "name": "stderr",
     "output_type": "stream",
     "text": [
      " 28%|█████████████████████▍                                                        | 214/777 [48:18<1:56:34, 12.42s/it]"
     ]
    },
    {
     "name": "stdout",
     "output_type": "stream",
     "text": [
      "\n",
      " Carnavales (Cusco)\n",
      " Título: ASI SON LOS CARNAVALES EN CUSCO 2024 / Plaza de armas Cusco\n",
      " URL: https://www.youtube.com/watch?v=fHhynOlKyig&pp=ygUWQ2FybmF2YWxlcyBDdXNjbyBQZXLDug%3D%3D\n"
     ]
    },
    {
     "name": "stderr",
     "output_type": "stream",
     "text": [
      " 28%|█████████████████████▌                                                        | 215/777 [48:29<1:51:55, 11.95s/it]"
     ]
    },
    {
     "name": "stdout",
     "output_type": "stream",
     "text": [
      "\n",
      " Semana Santa (Cusco)\n",
      " Título: 🟣 Semana Santa en Cusco: Tradición, Fe y Destinos Turísticos Imperdibles\n",
      " URL: https://www.youtube.com/watch?v=NxgVhqrUpKw&pp=ygUYU2VtYW5hIFNhbnRhIEN1c2NvIFBlcsO6\n"
     ]
    },
    {
     "name": "stderr",
     "output_type": "stream",
     "text": [
      " 28%|█████████████████████▋                                                        | 216/777 [48:41<1:53:40, 12.16s/it]"
     ]
    },
    {
     "name": "stdout",
     "output_type": "stream",
     "text": [
      "\n",
      " Cruzvelacut o fiesta de la cruz (Cusco)\n",
      " Título: FIESTA ANDINA DE LA CRUZ \"CRUZVELAKUY\" | Perú | Cusco 🇵🇪\n",
      " URL: https://www.youtube.com/watch?v=RKlDrKTJeS8&pp=ygUrQ3J1enZlbGFjdXQgbyBmaWVzdGEgZGUgbGEgY3J1eiBDdXNjbyBQZXLDug%3D%3D\n"
     ]
    },
    {
     "name": "stderr",
     "output_type": "stream",
     "text": [
      " 28%|█████████████████████▊                                                        | 217/777 [48:53<1:53:11, 12.13s/it]"
     ]
    },
    {
     "name": "stdout",
     "output_type": "stream",
     "text": [
      "\n",
      " Festival Internacional de la cerveza Cusqueña (Cusco)\n",
      " Título: Pedro Suárez-Vertiz Festival Cerveza Cusqueña '98\n",
      " URL: https://www.youtube.com/watch?v=554nOQOFRqY&list=RD554nOQOFRqY&start_radio=1&pp=ygU6RmVzdGl2YWwgSW50ZXJuYWNpb25hbCBkZSBsYSBjZXJ2ZXphIEN1c3F1ZcOxYSBDdXNjbyBQZXLDuqAHAQ%3D%3D\n"
     ]
    },
    {
     "name": "stderr",
     "output_type": "stream",
     "text": [
      " 28%|█████████████████████▉                                                        | 218/777 [49:06<1:55:49, 12.43s/it]"
     ]
    },
    {
     "name": "stdout",
     "output_type": "stream",
     "text": [
      "\n",
      " Fiesta y peregrinación del Señor\n",
      "de Qoyllur Rit’ i (Cusco)\n",
      " Título: Cusco: la impresionante peregrinación al Señor de Qoyllur Riti\n",
      " URL: https://www.youtube.com/watch?v=2wrBckIdAsE&pp=ygVBRmllc3RhIHkgcGVyZWdyaW5hY2nDs24gZGVsIFNlw7FvcmRlIFFveWxsdXIgUml04oCZIGkgQ3VzY28gUGVyw7o%3D\n"
     ]
    },
    {
     "name": "stderr",
     "output_type": "stream",
     "text": [
      " 28%|█████████████████████▉                                                        | 219/777 [49:18<1:52:01, 12.05s/it]"
     ]
    },
    {
     "name": "stdout",
     "output_type": "stream",
     "text": [
      "\n",
      " Fiesta del Corpus Christi (Cusco)\n",
      " Título: MUNDOS SONOROS 1: LA FIESTA DEL CORPUS CHRISTI EN CUSCO\n",
      " URL: https://www.youtube.com/watch?v=ykFDiaKzB2g&pp=ygUlRmllc3RhIGRlbCBDb3JwdXMgQ2hyaXN0aSBDdXNjbyBQZXLDug%3D%3D\n"
     ]
    },
    {
     "name": "stderr",
     "output_type": "stream",
     "text": [
      " 28%|██████████████████████                                                        | 220/777 [49:30<1:53:25, 12.22s/it]"
     ]
    },
    {
     "name": "stdout",
     "output_type": "stream",
     "text": [
      "\n",
      " Fiesta de Ollantay Raymi (Cusco)\n",
      " Título: EN VIVO: OLLANTAYRAYMI \"LA FIESTA DE OLLANTAY\" CUSCO PERU 2021, 29 de junio - DRAMA INCA I PERÚ VIP\n",
      " URL: https://www.youtube.com/watch?v=7vrzhk1dCDQ&pp=ygUkRmllc3RhIGRlIE9sbGFudGF5IFJheW1pIEN1c2NvIFBlcsO6\n"
     ]
    },
    {
     "name": "stderr",
     "output_type": "stream",
     "text": [
      " 28%|██████████████████████▏                                                       | 221/777 [49:43<1:54:36, 12.37s/it]"
     ]
    },
    {
     "name": "stdout",
     "output_type": "stream",
     "text": [
      "\n",
      " Fiesta del Inti Raymi (Cusco)\n",
      " Título: 🔴 EN VIVO | Inti Raymi 2025: ceremonia central desde Cusco | Fiesta del Sol por TVPerú\n",
      " URL: https://www.youtube.com/watch?v=rnCVqJD9_rI&pp=ygUhRmllc3RhIGRlbCBJbnRpIFJheW1pIEN1c2NvIFBlcsO6\n"
     ]
    },
    {
     "name": "stderr",
     "output_type": "stream",
     "text": [
      " 29%|██████████████████████▎                                                       | 222/777 [49:55<1:52:49, 12.20s/it]"
     ]
    },
    {
     "name": "stdout",
     "output_type": "stream",
     "text": [
      "\n",
      " Fiesta de la Virgen del Carmen (Cusco)\n",
      " Título: ASÍ SON LAS FIESTAS DE LA VIRGEN DEL CARMEN (MAMACHA CARMEN) DE PAUCARTAMBO - CUSCO - PERÚ\n",
      " URL: https://www.youtube.com/watch?v=mdAei6g6o0c&pp=ygUqRmllc3RhIGRlIGxhIFZpcmdlbiBkZWwgQ2FybWVuIEN1c2NvIFBlcsO6\n"
     ]
    },
    {
     "name": "stderr",
     "output_type": "stream",
     "text": [
      " 29%|██████████████████████▍                                                       | 223/777 [50:09<1:59:46, 12.97s/it]"
     ]
    },
    {
     "name": "stdout",
     "output_type": "stream",
     "text": [
      "\n",
      " Fiesta del bautizo del ganado (Cusco)\n",
      " Título: BAUTIZO ELMER Y LEYSA - BRINDIS DE HONOR Y PALABRAS DE LOS PADRINOS (POTOSI ) PRODUCCIONES QUIROGA\n",
      " URL: https://www.youtube.com/watch?v=lBmIDNm4Bxc&pp=ygUpRmllc3RhIGRlbCBiYXV0aXpvIGRlbCBnYW5hZG8gQ3VzY28gUGVyw7o%3D\n"
     ]
    },
    {
     "name": "stderr",
     "output_type": "stream",
     "text": [
      " 29%|██████████████████████▍                                                       | 224/777 [50:23<2:02:17, 13.27s/it]"
     ]
    },
    {
     "name": "stdout",
     "output_type": "stream",
     "text": [
      "\n",
      " Huarachikuy (Cusco)\n",
      " Título: Warachikuy: Una celebración de origen inca que contiene las más duras y arduas pruebas\n",
      " URL: https://www.youtube.com/watch?v=_DhSDYnTydQ&pp=ygUXSHVhcmFjaGlrdXkgQ3VzY28gUGVyw7o%3D\n"
     ]
    },
    {
     "name": "stderr",
     "output_type": "stream",
     "text": [
      " 29%|██████████████████████▌                                                       | 225/777 [50:35<1:57:55, 12.82s/it]"
     ]
    },
    {
     "name": "stdout",
     "output_type": "stream",
     "text": [
      "\n",
      " Fiesta de Nuestra Señora de las Nieves (Cusco)\n",
      " Título: Festividad en Honor a la Virgen de las Nieves distrito de Tinta provincia de Canchis Region Cusco\n",
      " URL: https://www.youtube.com/watch?v=jaOqik2Gf_o&pp=ygUzRmllc3RhIGRlIE51ZXN0cmEgU2XDsW9yYSBkZSBsYXMgTmlldmVzIEN1c2NvIFBlcsO6\n"
     ]
    },
    {
     "name": "stderr",
     "output_type": "stream",
     "text": [
      " 29%|██████████████████████▋                                                       | 226/777 [50:47<1:55:26, 12.57s/it]"
     ]
    },
    {
     "name": "stdout",
     "output_type": "stream",
     "text": [
      "\n",
      " Fiesta de Santa Rosa (Cusco)\n",
      " Título: Así celebra Lamay - Cusco a Santa Rosa | Celebra Perú\n",
      " URL: https://www.youtube.com/watch?v=EMeIdcXudCw&pp=ygUgRmllc3RhIGRlIFNhbnRhIFJvc2EgQ3VzY28gUGVyw7o%3D\n"
     ]
    },
    {
     "name": "stderr",
     "output_type": "stream",
     "text": [
      " 29%|██████████████████████▊                                                       | 227/777 [50:59<1:53:45, 12.41s/it]"
     ]
    },
    {
     "name": "stdout",
     "output_type": "stream",
     "text": [
      "\n",
      " Fiesta de la Virgen de la Natividad (Cusco)\n",
      " Título: Fiesta de la Virgen de Natividad en Almudena Cusco 2023\n",
      " URL: https://www.youtube.com/watch?v=gYaeQYvzQEs&pp=ygUvRmllc3RhIGRlIGxhIFZpcmdlbiBkZSBsYSBOYXRpdmlkYWQgQ3VzY28gUGVyw7o%3D\n"
     ]
    },
    {
     "name": "stderr",
     "output_type": "stream",
     "text": [
      " 29%|██████████████████████▉                                                       | 228/777 [51:11<1:52:47, 12.33s/it]"
     ]
    },
    {
     "name": "stdout",
     "output_type": "stream",
     "text": [
      "\n",
      " Semana Turística del Cusco (Cusco)\n",
      " Título: 👉 CUSCO en 7 días ⛰️🇵🇪 ... GUÍA DE VIAJE y lugares imperdibles 😉 ... #recomendaciones #viajes\n",
      " URL: https://www.youtube.com/watch?v=b0DtwUq386Y&pp=ygUnU2VtYW5hIFR1csOtc3RpY2EgZGVsIEN1c2NvIEN1c2NvIFBlcsO6\n"
     ]
    },
    {
     "name": "stderr",
     "output_type": "stream",
     "text": [
      " 29%|██████████████████████▉                                                       | 229/777 [51:25<1:55:39, 12.66s/it]"
     ]
    },
    {
     "name": "stdout",
     "output_type": "stream",
     "text": [
      "\n",
      " Festividad de Todos los Santos y Día\n",
      "de los Difuntos (Cusco)\n",
      " Título: todos santos y día de los muertos en Cusco\n",
      " URL: https://www.youtube.com/watch?v=c8LYZCX0z8Q&pp=ygVARmVzdGl2aWRhZCBkZSBUb2RvcyBsb3MgU2FudG9zIHkgRMOtYWRlIGxvcyBEaWZ1bnRvcyBDdXNjbyBQZXLDug%3D%3D\n"
     ]
    },
    {
     "name": "stderr",
     "output_type": "stream",
     "text": [
      " 30%|███████████████████████                                                       | 230/777 [51:40<2:03:09, 13.51s/it]"
     ]
    },
    {
     "name": "stdout",
     "output_type": "stream",
     "text": [
      "\n",
      " Fiesta de la Inmaculada Concepción (Cusco)\n",
      " Título: 𝐒𝐨𝐥𝐞𝐦𝐧𝐢𝐝𝐚𝐝 𝐝𝐞 𝐥𝐚 𝐈𝐧𝐦𝐚𝐜𝐮𝐥𝐚𝐝𝐚 𝐂𝐨𝐧𝐜𝐞𝐩𝐜𝐢𝐨́𝐧\n",
      " URL: https://www.youtube.com/watch?v=NcnBQgD50IE&list=RDNcnBQgD50IE&start_radio=1&pp=ygUvRmllc3RhIGRlIGxhIElubWFjdWxhZGEgQ29uY2VwY2nDs24gQ3VzY28gUGVyw7qgBwE%3D\n"
     ]
    },
    {
     "name": "stderr",
     "output_type": "stream",
     "text": [
      " 30%|███████████████████████▏                                                      | 231/777 [51:52<1:59:17, 13.11s/it]"
     ]
    },
    {
     "name": "stdout",
     "output_type": "stream",
     "text": [
      "\n",
      " Fiesta de San Blas (Cusco)\n",
      " Título: Patrón San Blas - Cusco 2025 // (Paso procesional)\n",
      " URL: https://www.youtube.com/watch?v=grH7Xga7H4A&pp=ygUeRmllc3RhIGRlIFNhbiBCbGFzIEN1c2NvIFBlcsO6\n"
     ]
    },
    {
     "name": "stderr",
     "output_type": "stream",
     "text": [
      " 30%|███████████████████████▎                                                      | 232/777 [52:07<2:01:46, 13.41s/it]"
     ]
    },
    {
     "name": "stdout",
     "output_type": "stream",
     "text": [
      "\n",
      " Santuranticuy (Cusco)\n",
      " Título: SANTURANTIKUY 2020 - CUSCO ✅\n",
      " URL: https://www.youtube.com/watch?v=rkAqCkdLrRg&pp=ygUZU2FudHVyYW50aWN1eSBDdXNjbyBQZXLDug%3D%3D\n"
     ]
    },
    {
     "name": "stderr",
     "output_type": "stream",
     "text": [
      " 30%|███████████████████████▍                                                      | 233/777 [52:14<1:46:21, 11.73s/it]"
     ]
    },
    {
     "name": "stdout",
     "output_type": "stream",
     "text": [
      "\n",
      " Fiesta del Niño Huayna Cápac (Cusco)\n",
      " Título: 🇵🇪El Mejor Documental \"MOMIAS EN LAS MONTAÑAS SAGRADAS DE LOS INCAS\" | Machu Picchu | Perú Vip 🇲🇽🇧🇷\n",
      " URL: https://www.youtube.com/watch?v=m_VWTfB31gs&pp=ygUqRmllc3RhIGRlbCBOacOxbyBIdWF5bmEgQ8OhcGFjIEN1c2NvIFBlcsO6\n"
     ]
    },
    {
     "name": "stderr",
     "output_type": "stream",
     "text": [
      " 30%|███████████████████████▍                                                      | 234/777 [52:26<1:45:30, 11.66s/it]"
     ]
    },
    {
     "name": "stdout",
     "output_type": "stream",
     "text": [
      "\n",
      " El Niño Callaucarpino y danzas. Danza\n",
      "de los Negritos. (Huancavelica)\n",
      " Título: Huancavelica: conoce la tradicional danza “Los Negritos” en honor al Niño Dulce Nombre de Jesús\n",
      " URL: https://www.youtube.com/watch?v=1WzqKerusO8&pp=ygVJRWwgTmnDsW8gQ2FsbGF1Y2FycGlubyB5IGRhbnphcy4gRGFuemFkZSBsb3MgTmVncml0b3MuIEh1YW5jYXZlbGljYSBQZXLDug%3D%3D\n"
     ]
    },
    {
     "name": "stderr",
     "output_type": "stream",
     "text": [
      " 30%|███████████████████████▌                                                      | 235/777 [52:37<1:43:25, 11.45s/it]"
     ]
    },
    {
     "name": "stdout",
     "output_type": "stream",
     "text": [
      "\n",
      " Año Nuevo. (Huancavelica)\n",
      " Título: RECIBIENDO EL AÑO NUEVO EN HUANCAVELICA- PERU 2019\n",
      " URL: https://www.youtube.com/watch?v=KlIg43r_BuU&pp=ygUeQcOxbyBOdWV2by4gSHVhbmNhdmVsaWNhIFBlcsO6\n"
     ]
    },
    {
     "name": "stderr",
     "output_type": "stream",
     "text": [
      " 30%|███████████████████████▋                                                      | 236/777 [52:53<1:57:14, 13.00s/it]"
     ]
    },
    {
     "name": "stdout",
     "output_type": "stream",
     "text": [
      "\n",
      " Bajada de Reyes, Herodes en la Catedral, pastores\n",
      "y quiscamayos. El Niño Occe. (Huancavelica)\n",
      " Título: Escenificaron el Autosacramental de la Adoración de los Reyes Magos en honor al Niño Reyes\n",
      " URL: https://www.youtube.com/watch?v=wubI4o0FPJ8&pp=ygVhQmFqYWRhIGRlIFJleWVzLCBIZXJvZGVzIGVuIGxhIENhdGVkcmFsLCBwYXN0b3Jlc3kgcXVpc2NhbWF5b3MuIEVsIE5pw7FvIE9jY2UuIEh1YW5jYXZlbGljYSBQZXLDug%3D%3D\n"
     ]
    },
    {
     "name": "stderr",
     "output_type": "stream",
     "text": [
      " 31%|███████████████████████▊                                                      | 237/777 [53:05<1:51:40, 12.41s/it]"
     ]
    },
    {
     "name": "stdout",
     "output_type": "stream",
     "text": [
      "\n",
      " Entrada de «Negros». (Huancavelica)\n",
      " Título: negros de huancavelica 2012\n",
      " URL: https://www.youtube.com/watch?v=SXOt3wZjGvM&pp=ygUpRW50cmFkYSBkZSDCq05lZ3Jvc8K7LiBIdWFuY2F2ZWxpY2EgUGVyw7rSBwkJ2AkBhyohjO8%3D\n"
     ]
    },
    {
     "name": "stderr",
     "output_type": "stream",
     "text": [
      " 31%|███████████████████████▉                                                      | 238/777 [53:15<1:46:55, 11.90s/it]"
     ]
    },
    {
     "name": "stdout",
     "output_type": "stream",
     "text": [
      "\n",
      " El Niño Perdido y Danza de los Negros. (Huancavelica)\n",
      " Título: Fiesta del niño Perdido - Negritos de Huancavelica - Los Naramá Costumbrista\n",
      " URL: https://www.youtube.com/watch?v=9hu8Ihb4RE4&list=RD9hu8Ihb4RE4&start_radio=1&pp=ygU6RWwgTmnDsW8gUGVyZGlkbyB5IERhbnphIGRlIGxvcyBOZWdyb3MuIEh1YW5jYXZlbGljYSBQZXLDuqAHAQ%3D%3D\n"
     ]
    },
    {
     "name": "stderr",
     "output_type": "stream",
     "text": [
      " 31%|███████████████████████▉                                                      | 239/777 [53:28<1:48:25, 12.09s/it]"
     ]
    },
    {
     "name": "stdout",
     "output_type": "stream",
     "text": [
      "\n",
      " La Virgen Purísima Inmaculada. (Huancavelica)\n",
      " Título: FIESTA PATRONAL EN HONOR - VIRGEN MARIA PURÍSIMA // PAMPALCA - HUANCAVELICA\n",
      " URL: https://www.youtube.com/watch?v=RwvpTH-lbqs&list=RDRwvpTH-lbqs&start_radio=1&pp=ygUyTGEgVmlyZ2VuIFB1csOtc2ltYSBJbm1hY3VsYWRhLiBIdWFuY2F2ZWxpY2EgUGVyw7qgBwHSBwkJ2AkBhyohjO8%3D\n"
     ]
    },
    {
     "name": "stderr",
     "output_type": "stream",
     "text": [
      " 31%|████████████████████████                                                      | 240/777 [53:41<1:52:11, 12.53s/it]"
     ]
    },
    {
     "name": "stdout",
     "output_type": "stream",
     "text": [
      "\n",
      " La Virgen Purificada. Virgen de la Candelaria. (Huancavelica)\n",
      " Título: Festividad en Honor a la Virgen de la Candelaria - Anccapa, Huancavelica 2024 | Día 13 de Octubre\n",
      " URL: https://www.youtube.com/watch?v=eZQBOD8b1uU&list=RDeZQBOD8b1uU&start_radio=1&pp=ygVBTGEgVmlyZ2VuIFB1cmlmaWNhZGEuIFZpcmdlbiBkZSBsYSBDYW5kZWxhcmlhLiBIdWFuY2F2ZWxpY2EgUGVyw7qgBwE%3D\n"
     ]
    },
    {
     "name": "stderr",
     "output_type": "stream",
     "text": [
      " 31%|████████████████████████▏                                                     | 241/777 [53:53<1:49:30, 12.26s/it]"
     ]
    },
    {
     "name": "stdout",
     "output_type": "stream",
     "text": [
      "\n",
      " Mamacha Candelaria. (Huancavelica)\n",
      " Título: ✅ Fiesta Patronal de la Virgen de la Candelaria Barrio Centro 2016 Palca - Huancavelica [Parte 3]\n",
      " URL: https://www.youtube.com/watch?v=izzu2RykBO0&pp=ygUmTWFtYWNoYSBDYW5kZWxhcmlhLiBIdWFuY2F2ZWxpY2EgUGVyw7o%3D\n"
     ]
    },
    {
     "name": "stderr",
     "output_type": "stream",
     "text": [
      " 31%|████████████████████████▎                                                     | 242/777 [54:00<1:36:18, 10.80s/it]"
     ]
    },
    {
     "name": "stdout",
     "output_type": "stream",
     "text": [
      "\n",
      " Danza de los Negritos. (Huancavelica)\n",
      " Título: Los Negritos de Huancavelica Naramá\n",
      " URL: https://www.youtube.com/watch?v=grylXJpLd7g&pp=ygUpRGFuemEgZGUgbG9zIE5lZ3JpdG9zLiBIdWFuY2F2ZWxpY2EgUGVyw7o%3D\n"
     ]
    },
    {
     "name": "stderr",
     "output_type": "stream",
     "text": [
      " 31%|████████████████████████▍                                                     | 243/777 [54:11<1:36:00, 10.79s/it]"
     ]
    },
    {
     "name": "stdout",
     "output_type": "stream",
     "text": [
      "\n",
      " Carnaval de Putaqa. (Huancavelica)\n",
      " Título: Carnaval Huaytarino - Huancavelica - Peru Manta / Raymi Llaqta 2025 Maqta Tusuq\n",
      " URL: https://www.youtube.com/watch?v=CdRTXdEr_a0&list=RDCdRTXdEr_a0&start_radio=1&pp=ygUmQ2FybmF2YWwgZGUgUHV0YXFhLiBIdWFuY2F2ZWxpY2EgUGVyw7qgBwE%3D\n"
     ]
    },
    {
     "name": "stderr",
     "output_type": "stream",
     "text": [
      " 31%|████████████████████████▍                                                     | 244/777 [54:25<1:43:55, 11.70s/it]"
     ]
    },
    {
     "name": "stdout",
     "output_type": "stream",
     "text": [
      "\n",
      " Carnaval y Tumbamonte. (Huancavelica)\n",
      " Título: Carnaval Huaytarino - Huancavelica - Peru Manta / Raymi Llaqta 2025 Maqta Tusuq\n",
      " URL: https://www.youtube.com/watch?v=CdRTXdEr_a0&list=RDCdRTXdEr_a0&start_radio=1&pp=ygUpQ2FybmF2YWwgeSBUdW1iYW1vbnRlLiBIdWFuY2F2ZWxpY2EgUGVyw7qgBwE%3D\n"
     ]
    },
    {
     "name": "stderr",
     "output_type": "stream",
     "text": [
      " 32%|████████████████████████▌                                                     | 245/777 [54:37<1:46:00, 11.96s/it]"
     ]
    },
    {
     "name": "stdout",
     "output_type": "stream",
     "text": [
      "\n",
      " Fiesta Patronal de la Virgen del Carmen. (Huancavelica)\n",
      " Título: FESTIVIDAD EN HONOR A LA SANTÍSIMA \"VIRGEN DEL CARMEN\" LIRCAY HUANCAVELICA\n",
      " URL: https://www.youtube.com/watch?v=cxURIIU_Nqc&pp=ygU7Rmllc3RhIFBhdHJvbmFsIGRlIGxhIFZpcmdlbiBkZWwgQ2FybWVuLiBIdWFuY2F2ZWxpY2EgUGVyw7o%3D\n"
     ]
    },
    {
     "name": "stderr",
     "output_type": "stream",
     "text": [
      " 32%|████████████████████████▋                                                     | 246/777 [54:50<1:47:55, 12.19s/it]"
     ]
    },
    {
     "name": "stdout",
     "output_type": "stream",
     "text": [
      "\n",
      " San José. (Huancavelica)\n",
      " Título: San José de Acobambilla-Huancavelica. Distrito en los Andes Centrales del Perú\n",
      " URL: https://www.youtube.com/watch?v=TukLdYqmzzo&pp=ygUdU2FuIEpvc8OpLiBIdWFuY2F2ZWxpY2EgUGVyw7o%3D\n"
     ]
    },
    {
     "name": "stderr",
     "output_type": "stream",
     "text": [
      " 32%|████████████████████████▊                                                     | 247/777 [55:02<1:46:44, 12.08s/it]"
     ]
    },
    {
     "name": "stdout",
     "output_type": "stream",
     "text": [
      "\n",
      " Domingo de Ramos: Procesión del Señor\n",
      "Salvador. Lunes Santo: Procesión del Señor\n",
      "del Prendimiento. Martes Santo: Procesión\n",
      "del Señor de los Azotes. (Huancavelica)\n",
      " Título: SEMANA SANTA HUANCAVELICA - MARTES SANTO/SEÑOR DE LOS AZOTES\n",
      " URL: https://www.youtube.com/watch?v=XQmArxoYrFU&pp=ygWpAURvbWluZ28gZGUgUmFtb3M6IFByb2Nlc2nDs24gZGVsIFNlw7FvclNhbHZhZG9yLiBMdW5lcyBTYW50bzogUHJvY2VzacOzbiBkZWwgU2XDsW9yZGVsIFByZW5kaW1pZW50by4gTWFydGVzIFNhbnRvOiBQcm9jZXNpw7NuZGVsIFNlw7FvciBkZSBsb3MgQXpvdGVzLiBIdWFuY2F2ZWxpY2EgUGVyw7o%3D\n"
     ]
    },
    {
     "name": "stderr",
     "output_type": "stream",
     "text": [
      " 32%|████████████████████████▉                                                     | 248/777 [55:14<1:45:09, 11.93s/it]"
     ]
    },
    {
     "name": "stdout",
     "output_type": "stream",
     "text": [
      "\n",
      " Creación política de Huancavelica\n",
      "(1822). (Huancavelica)\n",
      " Título: Primer día del #MuniEjecutivo Territorial en Huancavelica\n",
      " URL: https://www.youtube.com/shorts/UlLwvSqUVcI\n"
     ]
    },
    {
     "name": "stderr",
     "output_type": "stream",
     "text": [
      " 32%|████████████████████████▉                                                     | 249/777 [55:27<1:48:22, 12.32s/it]"
     ]
    },
    {
     "name": "stdout",
     "output_type": "stream",
     "text": [
      "\n",
      " Restitución de su Categoría de\n",
      "Departamento (1839). (Huancavelica)\n",
      " Título: Celebracion del 183 aniversario de restitucion política como departamento de Huancavelica\n",
      " URL: https://www.youtube.com/watch?v=o42KytSu784&pp=ygVHUmVzdGl0dWNpw7NuIGRlIHN1IENhdGVnb3LDrWEgZGVEZXBhcnRhbWVudG8gKDE4MzkpLiBIdWFuY2F2ZWxpY2EgUGVyw7o%3D\n"
     ]
    },
    {
     "name": "stderr",
     "output_type": "stream",
     "text": [
      " 32%|█████████████████████████                                                     | 250/777 [55:39<1:46:52, 12.17s/it]"
     ]
    },
    {
     "name": "stdout",
     "output_type": "stream",
     "text": [
      "\n",
      " Fiesta de las Cruces. (Huancavelica)\n",
      " Título: FIESTA DE LAS CRUCES HUANCAVELICA PERÚ / GRAN PASACALLE\n",
      " URL: https://www.youtube.com/watch?v=BehQiIEUtGM&pp=ygUoRmllc3RhIGRlIGxhcyBDcnVjZXMuIEh1YW5jYXZlbGljYSBQZXLDug%3D%3D\n"
     ]
    },
    {
     "name": "stderr",
     "output_type": "stream",
     "text": [
      " 32%|█████████████████████████▏                                                    | 251/777 [55:51<1:48:10, 12.34s/it]"
     ]
    },
    {
     "name": "stdout",
     "output_type": "stream",
     "text": [
      "\n",
      " Fiesta de la Cruz. Fiesta del Tres de Mayo.\n",
      "Bajada de la Cruz del Cerro San Cristóbal. (Huancavelica)\n",
      " Título: Fiesta de las cruces Yananaco, Huancavelica- Perú 2023.\n",
      " URL: https://www.youtube.com/watch?v=xYNnpVUB95c&pp=ygVpRmllc3RhIGRlIGxhIENydXouIEZpZXN0YSBkZWwgVHJlcyBkZSBNYXlvLkJhamFkYSBkZSBsYSBDcnV6IGRlbCBDZXJybyBTYW4gQ3Jpc3TDs2JhbC4gSHVhbmNhdmVsaWNhIFBlcsO6\n"
     ]
    },
    {
     "name": "stderr",
     "output_type": "stream",
     "text": [
      " 32%|█████████████████████████▎                                                    | 252/777 [56:04<1:47:30, 12.29s/it]"
     ]
    },
    {
     "name": "stdout",
     "output_type": "stream",
     "text": [
      "\n",
      " La Virgen del Carmen. (Huancavelica)\n",
      " Título: FESTIVIDAD EN HONOR A LA SANTÍSIMA \"VIRGEN DEL CARMEN\" LIRCAY HUANCAVELICA\n",
      " URL: https://www.youtube.com/watch?v=cxURIIU_Nqc&pp=ygUoTGEgVmlyZ2VuIGRlbCBDYXJtZW4uIEh1YW5jYXZlbGljYSBQZXLDug%3D%3D\n"
     ]
    },
    {
     "name": "stderr",
     "output_type": "stream",
     "text": [
      " 33%|█████████████████████████▍                                                    | 253/777 [56:16<1:48:18, 12.40s/it]"
     ]
    },
    {
     "name": "stdout",
     "output_type": "stream",
     "text": [
      "\n",
      " San Isidro. (Huancavelica)\n",
      " Título: SAN ISIDRO de ACOBAMBA - HUANCAVELICA\n",
      " URL: https://www.youtube.com/watch?v=hXCFugzVBik&pp=ygUeU2FuIElzaWRyby4gSHVhbmNhdmVsaWNhIFBlcsO6\n"
     ]
    },
    {
     "name": "stderr",
     "output_type": "stream",
     "text": [
      " 33%|█████████████████████████▍                                                    | 254/777 [56:28<1:46:58, 12.27s/it]"
     ]
    },
    {
     "name": "stdout",
     "output_type": "stream",
     "text": [
      "\n",
      " El Espíritu Santo. (Huancavelica)\n",
      " Título: Celebra Perú - Fiesta de Pentecostés\n",
      " URL: https://www.youtube.com/watch?v=5S0O1bl6OB8&pp=ygUmRWwgRXNww61yaXR1IFNhbnRvLiBIdWFuY2F2ZWxpY2EgUGVyw7o%3D\n"
     ]
    },
    {
     "name": "stderr",
     "output_type": "stream",
     "text": [
      " 33%|█████████████████████████▌                                                    | 255/777 [56:44<1:55:17, 13.25s/it]"
     ]
    },
    {
     "name": "stdout",
     "output_type": "stream",
     "text": [
      "\n",
      " El Señor de Quechccamarca. (Huancavelica)\n",
      " Título: SANTUARIO SEÑOR DE OROPESA huancavelica - Perú 2022 / mapa de Perú /vista panorámica y impresionante\n",
      " URL: https://www.youtube.com/watch?v=ROLvP3Srivw&pp=ygUuRWwgU2XDsW9yIGRlIFF1ZWNoY2NhbWFyY2EuIEh1YW5jYXZlbGljYSBQZXLDutIHCQnYCQGHKiGM7w%3D%3D\n"
     ]
    },
    {
     "name": "stderr",
     "output_type": "stream",
     "text": [
      " 33%|█████████████████████████▋                                                    | 256/777 [56:56<1:52:35, 12.97s/it]"
     ]
    },
    {
     "name": "stdout",
     "output_type": "stream",
     "text": [
      "\n",
      " Papa Allay. (Huancavelica)\n",
      " Título: Así COSECHAMOS PAPA en los Andes de Huancavelica Perú 🇵🇪 | Isabel Quispe\n",
      " URL: https://www.youtube.com/watch?v=vSI6i-x2Wvs&pp=ygUeUGFwYSBBbGxheS4gSHVhbmNhdmVsaWNhIFBlcsO6\n"
     ]
    },
    {
     "name": "stderr",
     "output_type": "stream",
     "text": [
      " 33%|█████████████████████████▊                                                    | 257/777 [57:08<1:49:54, 12.68s/it]"
     ]
    },
    {
     "name": "stdout",
     "output_type": "stream",
     "text": [
      "\n",
      " San Antonio de Padua. (Huancavelica)\n",
      " Título: PLAZA DE ARMAS HUANCAVELICA - PERÚ 2022 /catedral san antonio / hotel presidente / pileta / historia\n",
      " URL: https://www.youtube.com/watch?v=dMBzTlIr5_8&pp=ygUoU2FuIEFudG9uaW8gZGUgUGFkdWEuIEh1YW5jYXZlbGljYSBQZXLDug%3D%3D\n"
     ]
    },
    {
     "name": "stderr",
     "output_type": "stream",
     "text": [
      " 33%|█████████████████████████▉                                                    | 258/777 [57:20<1:48:20, 12.52s/it]"
     ]
    },
    {
     "name": "stdout",
     "output_type": "stream",
     "text": [
      "\n",
      " San Juan Bautista. (Huancavelica)\n",
      " Título: Fiesta San Juan Bautista 2019, Huaytará - Huancavelica - Perú\n",
      " URL: https://www.youtube.com/watch?v=GFbJeL7vFHI&pp=ygUlU2FuIEp1YW4gQmF1dGlzdGEuIEh1YW5jYXZlbGljYSBQZXLDug%3D%3D\n"
     ]
    },
    {
     "name": "stderr",
     "output_type": "stream",
     "text": [
      " 33%|██████████████████████████                                                    | 259/777 [57:33<1:48:49, 12.61s/it]"
     ]
    },
    {
     "name": "stdout",
     "output_type": "stream",
     "text": [
      "\n",
      " Fiesta Patronal de San José. (Huancavelica)\n",
      " Título: SAN JOSÉ DE COLPA - HUACHOCOLPA,TAYACAJA,HUANCAVELICA,PERÚ ANIVERSARIO N° 67\n",
      " URL: https://www.youtube.com/watch?v=PGasNbK_bCQ&pp=ygUwRmllc3RhIFBhdHJvbmFsIGRlIFNhbiBKb3PDqS4gSHVhbmNhdmVsaWNhIFBlcsO6\n"
     ]
    },
    {
     "name": "stderr",
     "output_type": "stream",
     "text": [
      " 33%|██████████████████████████                                                    | 260/777 [57:46<1:48:53, 12.64s/it]"
     ]
    },
    {
     "name": "stdout",
     "output_type": "stream",
     "text": [
      "\n",
      " Fiesta Patronal de la Virgen del Carmen. (Huancavelica)\n",
      " Título: FESTIVIDAD EN HONOR A LA SANTÍSIMA \"VIRGEN DEL CARMEN\" LIRCAY HUANCAVELICA\n",
      " URL: https://www.youtube.com/watch?v=cxURIIU_Nqc&pp=ygU7Rmllc3RhIFBhdHJvbmFsIGRlIGxhIFZpcmdlbiBkZWwgQ2FybWVuLiBIdWFuY2F2ZWxpY2EgUGVyw7o%3D\n"
     ]
    },
    {
     "name": "stderr",
     "output_type": "stream",
     "text": [
      " 34%|██████████████████████████▏                                                   | 261/777 [57:58<1:47:02, 12.45s/it]"
     ]
    },
    {
     "name": "stdout",
     "output_type": "stream",
     "text": [
      "\n",
      " Fiesta Patronal de Taita Shanti. Santiago. (Huancavelica)\n",
      " Título: FIESTA PATRONAL en Honor a \"Tayta Santa Cruz de Atocc\"- Huancavelica #huancavelica\n",
      " URL: https://www.youtube.com/watch?v=Ch-gQl2btB8&pp=ygU9Rmllc3RhIFBhdHJvbmFsIGRlIFRhaXRhIFNoYW50aS4gU2FudGlhZ28uIEh1YW5jYXZlbGljYSBQZXLDug%3D%3D\n"
     ]
    },
    {
     "name": "stderr",
     "output_type": "stream",
     "text": [
      " 34%|██████████████████████████▎                                                   | 262/777 [58:10<1:46:52, 12.45s/it]"
     ]
    },
    {
     "name": "stdout",
     "output_type": "stream",
     "text": [
      "\n",
      " Fiesta Patronal de Santiago. (Huancavelica)\n",
      " Título: Así es el Costumbre Santiago Herranza de Vacas-Chilcapata Huancavelica | TitoRamirez\n",
      " URL: https://www.youtube.com/watch?v=tMY-Gs5vQbc&pp=ygUvRmllc3RhIFBhdHJvbmFsIGRlIFNhbnRpYWdvLiBIdWFuY2F2ZWxpY2EgUGVyw7o%3D\n"
     ]
    },
    {
     "name": "stderr",
     "output_type": "stream",
     "text": [
      " 34%|██████████████████████████▍                                                   | 263/777 [58:23<1:47:40, 12.57s/it]"
     ]
    },
    {
     "name": "stdout",
     "output_type": "stream",
     "text": [
      "\n",
      " Santiago – Taita Shanti. Fiesta Patronal de\n",
      "San Felipe. (Huancavelica)\n",
      " Título: LLEGO SATIAGO 2025 Mes de tayta shanty #huancavelica #tradiciones #cultura #musicaperuana #folklore\n",
      " URL: https://www.youtube.com/shorts/N4LQFf_90FQ\n"
     ]
    },
    {
     "name": "stderr",
     "output_type": "stream",
     "text": [
      " 34%|██████████████████████████▌                                                   | 264/777 [58:37<1:50:12, 12.89s/it]"
     ]
    },
    {
     "name": "stdout",
     "output_type": "stream",
     "text": [
      "\n",
      " Santa Ana. (Huancavelica)\n",
      " Título: Presentacion de los negritos en plazoleta Santa Ana - Huancavelica, patrimonio cultural de la nación\n",
      " URL: https://www.youtube.com/watch?v=LaMJlAfW6II&pp=ygUdU2FudGEgQW5hLiBIdWFuY2F2ZWxpY2EgUGVyw7o%3D\n"
     ]
    },
    {
     "name": "stderr",
     "output_type": "stream",
     "text": [
      " 34%|██████████████████████████▌                                                   | 265/777 [58:50<1:49:58, 12.89s/it]"
     ]
    },
    {
     "name": "stdout",
     "output_type": "stream",
     "text": [
      "\n",
      " Festividad de Santo Domingo. (Huancavelica)\n",
      " Título: Fiesta de Santo Domingo. Huancavelica, Perú.\n",
      " URL: https://www.youtube.com/watch?v=A55ByUhO_c0&pp=ygUvRmVzdGl2aWRhZCBkZSBTYW50byBEb21pbmdvLiBIdWFuY2F2ZWxpY2EgUGVyw7o%3D\n"
     ]
    },
    {
     "name": "stderr",
     "output_type": "stream",
     "text": [
      " 34%|██████████████████████████▋                                                   | 266/777 [59:02<1:49:02, 12.80s/it]"
     ]
    },
    {
     "name": "stdout",
     "output_type": "stream",
     "text": [
      "\n",
      " Fundación española de la capital\n",
      "de Huancavelica (1572) con el nombre de Villa\n",
      "Rica de Oropesa. (Huancavelica)\n",
      " Título: Feliz 453 aniversario de fundación española la otrora Villa Rica de Oropesa\n",
      " URL: https://www.youtube.com/watch?v=mrakiZRVPyg&list=RDmrakiZRVPyg&start_radio=1&pp=ygVyRnVuZGFjacOzbiBlc3Bhw7FvbGEgZGUgbGEgY2FwaXRhbGRlIEh1YW5jYXZlbGljYSAoMTU3MikgY29uIGVsIG5vbWJyZSBkZSBWaWxsYVJpY2EgZGUgT3JvcGVzYS4gSHVhbmNhdmVsaWNhIFBlcsO6oAcB\n"
     ]
    },
    {
     "name": "stderr",
     "output_type": "stream",
     "text": [
      " 34%|██████████████████████████▊                                                   | 267/777 [59:14<1:45:21, 12.40s/it]"
     ]
    },
    {
     "name": "stdout",
     "output_type": "stream",
     "text": [
      "\n",
      " Virgen de la Asunción. (Huancavelica)\n",
      " Título: Churcampa Huancavelica Virgen de la Asuncion 2012 Churcampa Edwin Castillo\n",
      " URL: https://www.youtube.com/watch?v=IPtMaKH37xA&list=RDIPtMaKH37xA&start_radio=1&pp=ygUqVmlyZ2VuIGRlIGxhIEFzdW5jacOzbi4gSHVhbmNhdmVsaWNhIFBlcsO6oAcB\n"
     ]
    },
    {
     "name": "stderr",
     "output_type": "stream",
     "text": [
      " 34%|██████████████████████████▉                                                   | 268/777 [59:22<1:35:25, 11.25s/it]"
     ]
    },
    {
     "name": "stdout",
     "output_type": "stream",
     "text": [
      "\n",
      " Festividad de San Roque. (Huancavelica)\n",
      " Título: Celebra Perú - Fiesta de Pentecostés\n",
      " URL: https://www.youtube.com/watch?v=5S0O1bl6OB8&pp=ygUrRmVzdGl2aWRhZCBkZSBTYW4gUm9xdWUuIEh1YW5jYXZlbGljYSBQZXLDug%3D%3D\n"
     ]
    },
    {
     "name": "stderr",
     "output_type": "stream",
     "text": [
      " 35%|███████████████████████████                                                   | 269/777 [59:37<1:44:02, 12.29s/it]"
     ]
    },
    {
     "name": "stdout",
     "output_type": "stream",
     "text": [
      "\n",
      " Santa Rosa. (Huancavelica)\n",
      " Título: Inauguración del Puente Santa Rosa en Huancavelica\n",
      " URL: https://www.youtube.com/watch?v=K2nMi48uMvQ&pp=ygUeU2FudGEgUm9zYS4gSHVhbmNhdmVsaWNhIFBlcsO6\n"
     ]
    },
    {
     "name": "stderr",
     "output_type": "stream",
     "text": [
      " 35%|███████████████████████████                                                   | 270/777 [59:50<1:46:33, 12.61s/it]"
     ]
    },
    {
     "name": "stdout",
     "output_type": "stream",
     "text": [
      "\n",
      " Biga Wantuy / Qiru Wantuy. (Huancavelica)\n",
      " Título: Costumbres (TV Perú) - Viga Wantuy, Ccasapata. Huancavelica - 16/09/2017\n",
      " URL: https://www.youtube.com/watch?v=UBAwaOpW7RQ&pp=ygUtQmlnYSBXYW50dXkgLyBRaXJ1IFdhbnR1eS4gSHVhbmNhdmVsaWNhIFBlcsO6\n"
     ]
    },
    {
     "name": "stderr",
     "output_type": "stream",
     "text": [
      " 35%|██████████████████████████▌                                                 | 271/777 [1:00:02<1:44:10, 12.35s/it]"
     ]
    },
    {
     "name": "stdout",
     "output_type": "stream",
     "text": [
      "\n",
      " El Señor de Huayllay. (Huancavelica)\n",
      " Título: VISITANDO HUAYLLAY GRANDE - IGLESIA COLONIAL – LIRCAY ANGARES - PUEBLO HISTÓRICO\n",
      " URL: https://www.youtube.com/watch?v=atlK4MxG4qo&pp=ygUpRWwgU2XDsW9yIGRlIEh1YXlsbGF5LiBIdWFuY2F2ZWxpY2EgUGVyw7rSBwkJ2AkBhyohjO8%3D\n"
     ]
    },
    {
     "name": "stderr",
     "output_type": "stream",
     "text": [
      " 35%|██████████████████████████▌                                                 | 272/777 [1:00:16<1:48:59, 12.95s/it]"
     ]
    },
    {
     "name": "stdout",
     "output_type": "stream",
     "text": [
      "\n",
      " Fiesta de la Santa Cruz. (Huancavelica)\n",
      " Título: Descubre la Emoción de la Fiesta de las Cruces en Huancavelica\" YANANACO \"BARRIO QUERIDO\" 🇵🇪\n",
      " URL: https://www.youtube.com/watch?v=g8qtzY0dpFw&pp=ygUrRmllc3RhIGRlIGxhIFNhbnRhIENydXouIEh1YW5jYXZlbGljYSBQZXLDug%3D%3D\n"
     ]
    },
    {
     "name": "stderr",
     "output_type": "stream",
     "text": [
      " 35%|██████████████████████████▋                                                 | 273/777 [1:00:31<1:52:41, 13.41s/it]"
     ]
    },
    {
     "name": "stdout",
     "output_type": "stream",
     "text": [
      "\n",
      " La Virgen de las Mercedes. (Huancavelica)\n",
      " Título: Virgen de las Mercedes - Patrona de Huancavelica.\n",
      " URL: https://www.youtube.com/watch?v=0tnKSJ1_A2s&list=RD0tnKSJ1_A2s&start_radio=1&pp=ygUtTGEgVmlyZ2VuIGRlIGxhcyBNZXJjZWRlcy4gSHVhbmNhdmVsaWNhIFBlcsO6oAcB\n"
     ]
    },
    {
     "name": "stderr",
     "output_type": "stream",
     "text": [
      " 35%|██████████████████████████▊                                                 | 274/777 [1:00:42<1:46:36, 12.72s/it]"
     ]
    },
    {
     "name": "stdout",
     "output_type": "stream",
     "text": [
      "\n",
      " Semana Turística. (Huancavelica)\n",
      " Título: Aniversario de creación y semana turística de Huaytará, Huancavelica | Perú Profundo en #PBO\n",
      " URL: https://www.youtube.com/watch?v=uXM9RJyIpZQ&pp=ygUlU2VtYW5hIFR1csOtc3RpY2EuIEh1YW5jYXZlbGljYSBQZXLDutIHCQnYCQGHKiGM7w%3D%3D\n"
     ]
    },
    {
     "name": "stderr",
     "output_type": "stream",
     "text": [
      " 35%|██████████████████████████▉                                                 | 275/777 [1:00:55<1:46:15, 12.70s/it]"
     ]
    },
    {
     "name": "stdout",
     "output_type": "stream",
     "text": [
      "\n",
      " Arcángel San Miguel y San Miguel de Curis. (Huancavelica)\n",
      " Título: San Miguel de Curis-Sunquypim-Apakuyki- Huncavelica-Peru- Mountain of Peru\n",
      " URL: https://www.youtube.com/watch?v=BasJp6GSLWw&pp=ygU-QXJjw6FuZ2VsIFNhbiBNaWd1ZWwgeSBTYW4gTWlndWVsIGRlIEN1cmlzLiBIdWFuY2F2ZWxpY2EgUGVyw7o%3D\n"
     ]
    },
    {
     "name": "stderr",
     "output_type": "stream",
     "text": [
      " 36%|██████████████████████████▉                                                 | 276/777 [1:01:08<1:46:35, 12.76s/it]"
     ]
    },
    {
     "name": "stdout",
     "output_type": "stream",
     "text": [
      "\n",
      " Turu Watay. (Huancavelica)\n",
      " Título: HUANCAVELICA-TOUR #viajes #travel #turismo\n",
      " URL: https://www.youtube.com/shorts/ZTNZFdkKVSs\n"
     ]
    },
    {
     "name": "stderr",
     "output_type": "stream",
     "text": [
      " 36%|███████████████████████████                                                 | 277/777 [1:01:19<1:43:33, 12.43s/it]"
     ]
    },
    {
     "name": "stdout",
     "output_type": "stream",
     "text": [
      "\n",
      " San Francisco de Asís. (Huancavelica)\n",
      " Título: Concurso de escoltas Acobamba 2023, colegio San Francisco de Asís.\n",
      " URL: https://www.youtube.com/watch?v=vaGRlrBCuLE&pp=ygUqU2FuIEZyYW5jaXNjbyBkZSBBc8Otcy4gSHVhbmNhdmVsaWNhIFBlcsO6\n"
     ]
    },
    {
     "name": "stderr",
     "output_type": "stream",
     "text": [
      " 36%|███████████████████████████▏                                                | 278/777 [1:01:31<1:41:41, 12.23s/it]"
     ]
    },
    {
     "name": "stdout",
     "output_type": "stream",
     "text": [
      "\n",
      " San Francisco. (Huancavelica)\n",
      " Título: Sierra del Perú. San Francisco de Sangayaico. Huancavelica.\n",
      " URL: https://www.youtube.com/watch?v=A9vdY4Y9g-c&pp=ygUhU2FuIEZyYW5jaXNjby4gSHVhbmNhdmVsaWNhIFBlcsO6\n"
     ]
    },
    {
     "name": "stderr",
     "output_type": "stream",
     "text": [
      " 36%|███████████████████████████▎                                                | 279/777 [1:01:43<1:42:05, 12.30s/it]"
     ]
    },
    {
     "name": "stdout",
     "output_type": "stream",
     "text": [
      "\n",
      " San Francisco de Asís. San Francisco\n",
      "de Macho Cruz (Huancavelica)\n",
      " Título: FIESTA PATRONAL A SAN FRANCISCO DE ASIS DOM 15 OCT.\n",
      " URL: https://www.youtube.com/watch?v=t40SsdUdHXc&list=RDt40SsdUdHXc&start_radio=1&pp=ygVFU2FuIEZyYW5jaXNjbyBkZSBBc8Otcy4gU2FuIEZyYW5jaXNjb2RlIE1hY2hvIENydXogSHVhbmNhdmVsaWNhIFBlcsO6oAcB\n"
     ]
    },
    {
     "name": "stderr",
     "output_type": "stream",
     "text": [
      " 36%|███████████████████████████▍                                                | 280/777 [1:01:56<1:43:29, 12.49s/it]"
     ]
    },
    {
     "name": "stdout",
     "output_type": "stream",
     "text": [
      "\n",
      " Fiesta de Octubre. (Huancavelica)\n",
      " Título: Celebra Perú - Fiesta de Pentecostés\n",
      " URL: https://www.youtube.com/watch?v=5S0O1bl6OB8&pp=ygUlRmllc3RhIGRlIE9jdHVicmUuIEh1YW5jYXZlbGljYSBQZXLDug%3D%3D\n"
     ]
    },
    {
     "name": "stderr",
     "output_type": "stream",
     "text": [
      " 36%|███████████████████████████▍                                                | 281/777 [1:02:05<1:32:42, 11.22s/it]"
     ]
    },
    {
     "name": "stdout",
     "output_type": "stream",
     "text": [
      "\n",
      " Día de las Almas. (Huancavelica)\n",
      " Título: Costumbres - El alma de Huancavelica - 19/07/2016\n",
      " URL: https://www.youtube.com/watch?v=LXmFBihc0VY&pp=ygUlRMOtYSBkZSBsYXMgQWxtYXMuIEh1YW5jYXZlbGljYSBQZXLDug%3D%3D\n"
     ]
    },
    {
     "name": "stderr",
     "output_type": "stream",
     "text": [
      " 36%|███████████████████████████▌                                                | 282/777 [1:02:12<1:22:52, 10.04s/it]"
     ]
    },
    {
     "name": "stdout",
     "output_type": "stream",
     "text": [
      "\n",
      " Fray Martín de Porres. (Huancavelica)\n",
      " Título: Negritos de Huancavelica 2017 - Spot\n",
      " URL: https://www.youtube.com/watch?v=vmMxjLJMQ_g&list=RDvmMxjLJMQ_g&start_radio=1&pp=ygUqRnJheSBNYXJ0w61uIGRlIFBvcnJlcy4gSHVhbmNhdmVsaWNhIFBlcsO6oAcB\n"
     ]
    },
    {
     "name": "stderr",
     "output_type": "stream",
     "text": [
      " 36%|███████████████████████████▋                                                | 283/777 [1:02:21<1:19:16,  9.63s/it]"
     ]
    },
    {
     "name": "stdout",
     "output_type": "stream",
     "text": [
      "\n",
      " La Virgen Purísima Inmaculada. (Huancavelica)\n",
      " Título: FIESTA PATRONAL EN HONOR - VIRGEN MARIA PURÍSIMA // PAMPALCA - HUANCAVELICA\n",
      " URL: https://www.youtube.com/watch?v=RwvpTH-lbqs&list=RDRwvpTH-lbqs&start_radio=1&pp=ygUyTGEgVmlyZ2VuIFB1csOtc2ltYSBJbm1hY3VsYWRhLiBIdWFuY2F2ZWxpY2EgUGVyw7qgBwE%3D\n"
     ]
    },
    {
     "name": "stderr",
     "output_type": "stream",
     "text": [
      " 37%|███████████████████████████▊                                                | 284/777 [1:02:28<1:14:27,  9.06s/it]"
     ]
    },
    {
     "name": "stdout",
     "output_type": "stream",
     "text": [
      "\n",
      " Invención del Niño Jesús. (Huancavelica)\n",
      " Título: Historia del Niño Dulce Nombre de Jesús o Niño Perdido - 19 de Diciembre | PERÚ PROFUNDO 🇵🇪\n",
      " URL: https://www.youtube.com/watch?v=Nna-PQoXPUA&pp=ygUvSW52ZW5jacOzbiBkZWwgTmnDsW8gSmVzw7pzLiBIdWFuY2F2ZWxpY2EgUGVyw7o%3D\n"
     ]
    },
    {
     "name": "stderr",
     "output_type": "stream",
     "text": [
      " 37%|███████████████████████████▉                                                | 285/777 [1:02:36<1:11:09,  8.68s/it]"
     ]
    },
    {
     "name": "stdout",
     "output_type": "stream",
     "text": [
      "\n",
      " Navidad (encuentro de los barrios y entrada\n",
      "de nacimientos en baúles). (Huancavelica)\n",
      " Título: NAVIDAD DE ACOBAMBA - HUANCAVELICA 2022 / procesión /encuentro de caporales / de ambos barrios\n",
      " URL: https://www.youtube.com/watch?v=GGqWl8FRMy0&pp=ygVZTmF2aWRhZCAoZW5jdWVudHJvIGRlIGxvcyBiYXJyaW9zIHkgZW50cmFkYWRlIG5hY2ltaWVudG9zIGVuIGJhw7psZXMpLiBIdWFuY2F2ZWxpY2EgUGVyw7o%3D\n"
     ]
    },
    {
     "name": "stderr",
     "output_type": "stream",
     "text": [
      " 37%|███████████████████████████▉                                                | 286/777 [1:02:44<1:08:15,  8.34s/it]"
     ]
    },
    {
     "name": "stdout",
     "output_type": "stream",
     "text": [
      "\n",
      " El Niño Lachoj. (Huancavelica)\n",
      " Título: Historia del Niño Dulce Nombre de Jesús o Niño Perdido - 19 de Diciembre | PERÚ PROFUNDO 🇵🇪\n",
      " URL: https://www.youtube.com/watch?v=Nna-PQoXPUA&pp=ygUjRWwgTmnDsW8gTGFjaG9qLiBIdWFuY2F2ZWxpY2EgUGVyw7o%3D\n"
     ]
    },
    {
     "name": "stderr",
     "output_type": "stream",
     "text": [
      " 37%|████████████████████████████                                                | 287/777 [1:02:53<1:11:03,  8.70s/it]"
     ]
    },
    {
     "name": "stdout",
     "output_type": "stream",
     "text": [
      "\n",
      " Navidad. Nacimiento del Niño Jesús. (Huancavelica)\n",
      " Título: Nacimiento huancavelicano adornará nacimiento en El Vaticano\n",
      " URL: https://www.youtube.com/watch?v=OzU6M-zNFnk&pp=ygU4TmF2aWRhZC4gTmFjaW1pZW50byBkZWwgTmnDsW8gSmVzw7pzLiBIdWFuY2F2ZWxpY2EgUGVyw7o%3D\n"
     ]
    },
    {
     "name": "stderr",
     "output_type": "stream",
     "text": [
      " 37%|████████████████████████████▏                                               | 288/777 [1:03:02<1:10:04,  8.60s/it]"
     ]
    },
    {
     "name": "stdout",
     "output_type": "stream",
     "text": [
      "\n",
      " Año Nuevo. (Huancavelica)\n",
      " Título: AÑO NUEVO ANDINO HUANCAVELICA\n",
      " URL: https://www.youtube.com/watch?v=yBxC99d5Xw4&pp=ygUeQcOxbyBOdWV2by4gSHVhbmNhdmVsaWNhIFBlcsO6\n"
     ]
    },
    {
     "name": "stderr",
     "output_type": "stream",
     "text": [
      " 37%|████████████████████████████▎                                               | 289/777 [1:03:09<1:08:18,  8.40s/it]"
     ]
    },
    {
     "name": "stdout",
     "output_type": "stream",
     "text": [
      "\n",
      " Danza de Tijeras. (Huancavelica)\n",
      " Título: Danza De Tijeras - Huancavelica - NG de Huancavelica (Sentimiento Andino 2021 - Ayllu Tusuykusun)\n",
      " URL: https://www.youtube.com/watch?v=9G3vczPC98w&list=RD9G3vczPC98w&start_radio=1&pp=ygUkRGFuemEgZGUgVGlqZXJhcy4gSHVhbmNhdmVsaWNhIFBlcsO6oAcB\n"
     ]
    },
    {
     "name": "stderr",
     "output_type": "stream",
     "text": [
      " 37%|████████████████████████████▎                                               | 290/777 [1:03:16<1:04:32,  7.95s/it]"
     ]
    },
    {
     "name": "stdout",
     "output_type": "stream",
     "text": [
      "\n",
      " Danza de los Negritos (Huanuco)\n",
      " Título: Negritos de Huánuco - Cofradia Chacon Beaterio (Video Oficial) Full HD Tania Producciones✓\n",
      " URL: https://www.youtube.com/watch?v=e-v9baM6OMk&list=RDe-v9baM6OMk&start_radio=1&pp=ygUjRGFuemEgZGUgbG9zIE5lZ3JpdG9zIEh1YW51Y28gUGVyw7qgBwE%3D\n"
     ]
    },
    {
     "name": "stderr",
     "output_type": "stream",
     "text": [
      " 37%|████████████████████████████▍                                               | 291/777 [1:03:25<1:05:37,  8.10s/it]"
     ]
    },
    {
     "name": "stdout",
     "output_type": "stream",
     "text": [
      "\n",
      " Festividad de San Sebastián (Huanuco)\n",
      " Título: FESTIVIDAD SAN SEBASTIÁN\n",
      " URL: https://www.youtube.com/watch?v=o39QMZv9LqE&pp=ygUqRmVzdGl2aWRhZCBkZSBTYW4gU2ViYXN0acOhbiBIdWFudWNvIFBlcsO60gcJCdgJAYcqIYzv\n"
     ]
    },
    {
     "name": "stderr",
     "output_type": "stream",
     "text": [
      " 38%|████████████████████████████▌                                               | 292/777 [1:03:32<1:02:20,  7.71s/it]"
     ]
    },
    {
     "name": "stdout",
     "output_type": "stream",
     "text": [
      "\n",
      " Aniversario de la incorporación de la\n",
      "provincia a Huánuco (Huanuco)\n",
      " Título: INVITACIÓN A LA CAMPAÑA POR ANIVERSARIO DE LA MORADA EN HUANUCO PERÚ\n",
      " URL: https://www.youtube.com/watch?v=M3SYbQBeLXI&pp=ygVIQW5pdmVyc2FyaW8gZGUgbGEgaW5jb3Jwb3JhY2nDs24gZGUgbGFwcm92aW5jaWEgYSBIdcOhbnVjbyBIdWFudWNvIFBlcsO6\n"
     ]
    },
    {
     "name": "stderr",
     "output_type": "stream",
     "text": [
      " 38%|████████████████████████████▋                                               | 293/777 [1:03:39<1:01:42,  7.65s/it]"
     ]
    },
    {
     "name": "stdout",
     "output_type": "stream",
     "text": [
      "\n",
      " Carnavales (Huanuco)\n",
      " Título: Carnaval Huanuqueño 2025 presenta: \"Jaja jala Compadrito\" #huánuco\n",
      " URL: https://www.youtube.com/watch?v=GBaW8vkMDYI&list=RDGBaW8vkMDYI&start_radio=1&pp=ygUYQ2FybmF2YWxlcyBIdWFudWNvIFBlcsO6oAcB\n"
     ]
    },
    {
     "name": "stderr",
     "output_type": "stream",
     "text": [
      " 38%|████████████████████████████▊                                               | 294/777 [1:03:47<1:01:51,  7.68s/it]"
     ]
    },
    {
     "name": "stdout",
     "output_type": "stream",
     "text": [
      "\n",
      " Semana Santa (Huanuco)\n",
      " Título: 🙏🏻✝VIVE LA SEMANA SANTA EN LA REGIÓN HUÁNUCO 2023 I GOREHCO\n",
      " URL: https://www.youtube.com/watch?v=wabstzqiSm4&pp=ygUaU2VtYW5hIFNhbnRhIEh1YW51Y28gUGVyw7o%3D\n"
     ]
    },
    {
     "name": "stderr",
     "output_type": "stream",
     "text": [
      " 38%|████████████████████████████▊                                               | 295/777 [1:03:55<1:01:52,  7.70s/it]"
     ]
    },
    {
     "name": "stdout",
     "output_type": "stream",
     "text": [
      "\n",
      " Festividad del Señor de Chacos (Huanuco)\n",
      " Título: Costumbres - Señor de Chacos - 24/05/2016\n",
      " URL: https://www.youtube.com/watch?v=fvD-WuE7Rvc&pp=ygUtRmVzdGl2aWRhZCBkZWwgU2XDsW9yIGRlIENoYWNvcyBIdWFudWNvIFBlcsO6\n"
     ]
    },
    {
     "name": "stderr",
     "output_type": "stream",
     "text": [
      " 38%|█████████████████████████████▋                                                | 296/777 [1:04:01<59:25,  7.41s/it]"
     ]
    },
    {
     "name": "stdout",
     "output_type": "stream",
     "text": [
      "\n",
      " Festividad patronal del Señor de Mayo\n",
      "y Semana Turística (Huanuco)\n",
      " Título: El Señor de Quircan, el Patrón de Huánuco ✨ | Suchuriy en Huánuco\n",
      " URL: https://www.youtube.com/watch?v=B77dhi_xfOs&pp=ygVHRmVzdGl2aWRhZCBwYXRyb25hbCBkZWwgU2XDsW9yIGRlIE1heW95IFNlbWFuYSBUdXLDrXN0aWNhIEh1YW51Y28gUGVyw7o%3D\n"
     ]
    },
    {
     "name": "stderr",
     "output_type": "stream",
     "text": [
      " 38%|█████████████████████████████                                               | 297/777 [1:04:09<1:00:16,  7.53s/it]"
     ]
    },
    {
     "name": "stdout",
     "output_type": "stream",
     "text": [
      "\n",
      " Fiesta de San Juan (Huanuco)\n",
      " Título: Así se vivió la Fiesta de San Juan en Pucallpa | Domingo al Día | Perú\n",
      " URL: https://www.youtube.com/watch?v=EFBMCGj9sKg&pp=ygUgRmllc3RhIGRlIFNhbiBKdWFuIEh1YW51Y28gUGVyw7o%3D\n"
     ]
    },
    {
     "name": "stderr",
     "output_type": "stream",
     "text": [
      " 38%|█████████████████████████████▏                                              | 298/777 [1:04:17<1:01:27,  7.70s/it]"
     ]
    },
    {
     "name": "stdout",
     "output_type": "stream",
     "text": [
      "\n",
      " Festividad de la Virgen del Carmen (Huanuco)\n",
      " Título: 𝗛𝗜𝗦𝗧𝗢𝗥𝗜𝗔 𝗗𝗘 𝗟𝗔 𝗩𝗜𝗥𝗚𝗘𝗡 𝗗𝗘𝗟 𝗖𝗔𝗥𝗠𝗘𝗡 𝗗𝗘𝗟 𝗗𝗜𝗦𝗧𝗥𝗜𝗧𝗢 𝗗𝗘 𝗟𝗟𝗔𝗧𝗔‼\n",
      " URL: https://www.youtube.com/watch?v=Hx_Sh7sDOec&pp=ygUwRmVzdGl2aWRhZCBkZSBsYSBWaXJnZW4gZGVsIENhcm1lbiBIdWFudWNvIFBlcsO60gcJCdgJAYcqIYzv\n"
     ]
    },
    {
     "name": "stderr",
     "output_type": "stream",
     "text": [
      " 38%|██████████████████████████████                                                | 299/777 [1:04:24<59:59,  7.53s/it]"
     ]
    },
    {
     "name": "stdout",
     "output_type": "stream",
     "text": [
      "\n",
      " Fiesta de Tingo maría (Huanuco)\n",
      " Título: Música y cultura en el oriente del Perú: Tingo María se prepara para las fiestas de San Juan\n",
      " URL: https://www.youtube.com/watch?v=Eb3eh0R_Eqc&pp=ygUkRmllc3RhIGRlIFRpbmdvIG1hcsOtYSBIdWFudWNvIFBlcsO6\n"
     ]
    },
    {
     "name": "stderr",
     "output_type": "stream",
     "text": [
      " 39%|█████████████████████████████▎                                              | 300/777 [1:04:33<1:02:40,  7.88s/it]"
     ]
    },
    {
     "name": "stdout",
     "output_type": "stream",
     "text": [
      "\n",
      " Fiesta del Sol (Huanuco)\n",
      " Título: Fiesta del Sol 2024 - Huánuco Pampa\n",
      " URL: https://www.youtube.com/watch?v=nHwqiH8lqDY&pp=ygUcRmllc3RhIGRlbCBTb2wgSHVhbnVjbyBQZXLDug%3D%3D\n"
     ]
    },
    {
     "name": "stderr",
     "output_type": "stream",
     "text": [
      " 39%|█████████████████████████████▍                                              | 301/777 [1:04:41<1:01:36,  7.77s/it]"
     ]
    },
    {
     "name": "stdout",
     "output_type": "stream",
     "text": [
      "\n",
      " Aniversario de la Fundación Española\n",
      "y semana Turística de Huánuco (Huanuco)\n",
      " Título: ¡FELIZ ANIVERSARIO MI HUÁNUCO AMADO, 482 AÑOS DE FUNDACIÓN!\n",
      " URL: https://www.youtube.com/shorts/890ExidZZq0\n"
     ]
    },
    {
     "name": "stderr",
     "output_type": "stream",
     "text": [
      " 39%|█████████████████████████████▌                                              | 302/777 [1:04:50<1:05:09,  8.23s/it]"
     ]
    },
    {
     "name": "stdout",
     "output_type": "stream",
     "text": [
      "\n",
      " Festividad patronal de Santa Rosa de Lima (Huanuco)\n",
      " Título: Diana en honor a Santa Rosa de Lima Huacrachuco 2024 2/2\n",
      " URL: https://www.youtube.com/watch?v=u455hp9u3Ts&pp=ygU3RmVzdGl2aWRhZCBwYXRyb25hbCBkZSBTYW50YSBSb3NhIGRlIExpbWEgSHVhbnVjbyBQZXLDug%3D%3D\n"
     ]
    },
    {
     "name": "stderr",
     "output_type": "stream",
     "text": [
      " 39%|█████████████████████████████▋                                              | 303/777 [1:04:57<1:02:50,  7.95s/it]"
     ]
    },
    {
     "name": "stdout",
     "output_type": "stream",
     "text": [
      "\n",
      " Fiesta de la Virgen de las Mercedes (Huanuco)\n",
      " Título: \"🌹Iglesia Virgen de las Mercedes🌹\" HUANUCO - PERÚ\n",
      " URL: https://www.youtube.com/watch?v=LZWSlBCf-eU&pp=ygUxRmllc3RhIGRlIGxhIFZpcmdlbiBkZSBsYXMgTWVyY2VkZXMgSHVhbnVjbyBQZXLDug%3D%3D\n"
     ]
    },
    {
     "name": "stderr",
     "output_type": "stream",
     "text": [
      " 39%|█████████████████████████████▋                                              | 304/777 [1:05:05<1:01:28,  7.80s/it]"
     ]
    },
    {
     "name": "stdout",
     "output_type": "stream",
     "text": [
      "\n",
      " Festividad Patronal de San Miguel Arcángel (Huanuco)\n",
      " Título: Fiestas patronales en homenaje a San Miguel Arcángel en el distrito de Acobamba en Tarma\n",
      " URL: https://www.youtube.com/watch?v=daP7ebXHL8Q&pp=ygU5RmVzdGl2aWRhZCBQYXRyb25hbCBkZSBTYW4gTWlndWVsIEFyY8OhbmdlbCBIdWFudWNvIFBlcsO6\n"
     ]
    },
    {
     "name": "stderr",
     "output_type": "stream",
     "text": [
      " 39%|█████████████████████████████▊                                              | 305/777 [1:05:12<1:00:50,  7.73s/it]"
     ]
    },
    {
     "name": "stdout",
     "output_type": "stream",
     "text": [
      "\n",
      " Aniversario (fecha central 15 de octubre) y\n",
      "Semana Turística de Tingo maría (Huanuco)\n",
      " Título: Top 05 Lugares Turísticos de Tingo María Huánuco Perú 🇵🇪 2024\n",
      " URL: https://www.youtube.com/watch?v=W486mPdr6XI&pp=ygVaQW5pdmVyc2FyaW8gKGZlY2hhIGNlbnRyYWwgMTUgZGUgb2N0dWJyZSkgeVNlbWFuYSBUdXLDrXN0aWNhIGRlIFRpbmdvIG1hcsOtYSBIdWFudWNvIFBlcsO60gcJCdgJAYcqIYzv\n"
     ]
    },
    {
     "name": "stderr",
     "output_type": "stream",
     "text": [
      " 39%|█████████████████████████████▉                                              | 306/777 [1:05:20<1:01:06,  7.78s/it]"
     ]
    },
    {
     "name": "stdout",
     "output_type": "stream",
     "text": [
      "\n",
      " Aniversario de la creación política\n",
      "de Ambo (Huanuco)\n",
      " Título: Video oficial por aniversario de creación política del distrito de Colpas 4k FHD 2021\n",
      " URL: https://www.youtube.com/watch?v=HN4fbHrzGKE&pp=ygU6QW5pdmVyc2FyaW8gZGUgbGEgY3JlYWNpw7NuIHBvbMOtdGljYWRlIEFtYm8gSHVhbnVjbyBQZXLDug%3D%3D\n"
     ]
    },
    {
     "name": "stderr",
     "output_type": "stream",
     "text": [
      " 40%|██████████████████████████████                                              | 307/777 [1:05:28<1:01:42,  7.88s/it]"
     ]
    },
    {
     "name": "stdout",
     "output_type": "stream",
     "text": [
      "\n",
      " Festividad del Señor de Burgos (Huanuco)\n",
      " Título: FESTIVIDAD DEL SEÑOR DE BURGOS - HUÁNUCO: 28 OCTUBRE | Perú profundo #PBO 🇵🇪\n",
      " URL: https://www.youtube.com/watch?v=LrM0d6AD380&pp=ygUtRmVzdGl2aWRhZCBkZWwgU2XDsW9yIGRlIEJ1cmdvcyBIdWFudWNvIFBlcsO6\n"
     ]
    },
    {
     "name": "stderr",
     "output_type": "stream",
     "text": [
      " 40%|██████████████████████████████▏                                             | 308/777 [1:05:35<1:00:00,  7.68s/it]"
     ]
    },
    {
     "name": "stdout",
     "output_type": "stream",
     "text": [
      "\n",
      " Semana Turística (Huanuco)\n",
      " Título: Que hacer en Huanuco #turismo #turismoperu #viajes #conoceperu #huanuco #peru #tourism #tour\n",
      " URL: https://www.youtube.com/shorts/GFcaxctQGE0\n"
     ]
    },
    {
     "name": "stderr",
     "output_type": "stream",
     "text": [
      " 40%|██████████████████████████████▏                                             | 309/777 [1:05:45<1:03:50,  8.18s/it]"
     ]
    },
    {
     "name": "stdout",
     "output_type": "stream",
     "text": [
      "\n",
      " Semana Turística (Huanuco)\n",
      " Título: Que hacer en Huanuco #turismo #turismoperu #viajes #conoceperu #huanuco #peru #tourism #tour\n",
      " URL: https://www.youtube.com/shorts/GFcaxctQGE0\n"
     ]
    },
    {
     "name": "stderr",
     "output_type": "stream",
     "text": [
      " 40%|██████████████████████████████▎                                             | 310/777 [1:05:54<1:06:17,  8.52s/it]"
     ]
    },
    {
     "name": "stdout",
     "output_type": "stream",
     "text": [
      "\n",
      " Aniversario de su fundación y Semana\n",
      "Turística (Huanuco)\n",
      " Título: Huánuco celebra sus 480 años de fundación\n",
      " URL: https://www.youtube.com/watch?v=3jcAsFElHg0&pp=ygU9QW5pdmVyc2FyaW8gZGUgc3UgZnVuZGFjacOzbiB5IFNlbWFuYVR1csOtc3RpY2EgSHVhbnVjbyBQZXLDug%3D%3D\n"
     ]
    },
    {
     "name": "stderr",
     "output_type": "stream",
     "text": [
      " 40%|██████████████████████████████▍                                             | 311/777 [1:06:02<1:05:46,  8.47s/it]"
     ]
    },
    {
     "name": "stdout",
     "output_type": "stream",
     "text": [
      "\n",
      " Semana Turística (Huanuco)\n",
      " Título: Que hacer en Huanuco #turismo #turismoperu #viajes #conoceperu #huanuco #peru #tourism #tour\n",
      " URL: https://www.youtube.com/shorts/GFcaxctQGE0\n"
     ]
    },
    {
     "name": "stderr",
     "output_type": "stream",
     "text": [
      " 40%|██████████████████████████████▌                                             | 312/777 [1:06:12<1:07:04,  8.65s/it]"
     ]
    },
    {
     "name": "stdout",
     "output_type": "stream",
     "text": [
      "\n",
      " Aniversario de la ciudad (Huanuco)\n",
      " Título: Huánuco: La fiesta de Los Caballeros, mira esta linda tradición por su aniversario.\n",
      " URL: https://www.youtube.com/watch?v=wCeYAvehoDY&pp=ygUmQW5pdmVyc2FyaW8gZGUgbGEgY2l1ZGFkIEh1YW51Y28gUGVyw7rSBwkJ2AkBhyohjO8%3D\n"
     ]
    },
    {
     "name": "stderr",
     "output_type": "stream",
     "text": [
      " 40%|██████████████████████████████▌                                             | 313/777 [1:06:19<1:03:24,  8.20s/it]"
     ]
    },
    {
     "name": "stdout",
     "output_type": "stream",
     "text": [
      "\n",
      " Aniversario y Semana Turística (Huanuco)\n",
      " Título: Que hacer en Huanuco #turismo #turismoperu #viajes #conoceperu #huanuco #peru #tourism #tour\n",
      " URL: https://www.youtube.com/shorts/GFcaxctQGE0\n"
     ]
    },
    {
     "name": "stderr",
     "output_type": "stream",
     "text": [
      " 40%|██████████████████████████████▋                                             | 314/777 [1:06:27<1:02:25,  8.09s/it]"
     ]
    },
    {
     "name": "stdout",
     "output_type": "stream",
     "text": [
      "\n",
      " Cofradía de negritos (Huanuco)\n",
      " Título: Negritos de Huánuco - Cofradia Chacon Beaterio (Video Oficial) Full HD Tania Producciones✓\n",
      " URL: https://www.youtube.com/watch?v=e-v9baM6OMk&list=RDe-v9baM6OMk&start_radio=1&pp=ygUjQ29mcmFkw61hIGRlIG5lZ3JpdG9zIEh1YW51Y28gUGVyw7qgBwE%3D\n"
     ]
    },
    {
     "name": "stderr",
     "output_type": "stream",
     "text": [
      " 41%|██████████████████████████████▊                                             | 315/777 [1:06:34<1:00:21,  7.84s/it]"
     ]
    },
    {
     "name": "stdout",
     "output_type": "stream",
     "text": [
      "\n",
      " Festividad de San Silvestre (Huanuco)\n",
      " Título: Huánuco: La fiesta de Los Caballeros, mira esta linda tradición por su aniversario.\n",
      " URL: https://www.youtube.com/watch?v=wCeYAvehoDY&pp=ygUpRmVzdGl2aWRhZCBkZSBTYW4gU2lsdmVzdHJlIEh1YW51Y28gUGVyw7o%3D\n"
     ]
    },
    {
     "name": "stderr",
     "output_type": "stream",
     "text": [
      " 41%|██████████████████████████████▉                                             | 316/777 [1:06:42<1:00:13,  7.84s/it]"
     ]
    },
    {
     "name": "stdout",
     "output_type": "stream",
     "text": [
      "\n",
      " Fiesta de los Negritos (Huanuco)\n",
      " Título: Asi se vive la fiesta de Los Negritos en Amarilis, Huánuco.\n",
      " URL: https://www.youtube.com/watch?v=7kXZjuxwSWI&pp=ygUkRmllc3RhIGRlIGxvcyBOZWdyaXRvcyBIdWFudWNvIFBlcsO6\n"
     ]
    },
    {
     "name": "stderr",
     "output_type": "stream",
     "text": [
      " 41%|███████████████████████████████                                             | 317/777 [1:06:51<1:02:46,  8.19s/it]"
     ]
    },
    {
     "name": "stdout",
     "output_type": "stream",
     "text": [
      "\n",
      " Fiesta de los Reyes Magos (Ica)\n",
      " Título: Los reyes magos en plaza de armas d Ica\n",
      " URL: https://www.youtube.com/watch?v=c5cNR0J5d54&pp=ygUjRmllc3RhIGRlIGxvcyBSZXllcyBNYWdvcyBJY2EgUGVyw7o%3D\n"
     ]
    },
    {
     "name": "stderr",
     "output_type": "stream",
     "text": [
      " 41%|███████████████████████████████                                             | 318/777 [1:06:58<1:01:10,  8.00s/it]"
     ]
    },
    {
     "name": "stdout",
     "output_type": "stream",
     "text": [
      "\n",
      " Fiesta de cumpleaños de la Beatita Melchorita (Ica)\n",
      " Título: CHINCHA - ASI SE CELEBRA EL CUMPLEAÑOS DE MELCHORITA SARAVIA♥ VLOG\n",
      " URL: https://www.youtube.com/watch?v=949jhLTily0&pp=ygU4Rmllc3RhIGRlIGN1bXBsZWHDsW9zIGRlIGxhIEJlYXRpdGEgTWVsY2hvcml0YSBJY2EgUGVyw7o%3D\n"
     ]
    },
    {
     "name": "stderr",
     "output_type": "stream",
     "text": [
      " 41%|████████████████████████████████                                              | 319/777 [1:07:05<58:25,  7.65s/it]"
     ]
    },
    {
     "name": "stdout",
     "output_type": "stream",
     "text": [
      "\n",
      " Fiesta y danza de los Negritos (Ica)\n",
      " Título: Negritos de Ica - Raices Iqueñas (Mamita de Chapi 2018 - Tuki Tusuy ICA)\n",
      " URL: https://www.youtube.com/watch?v=Ue1nueEMscg&pp=ygUoRmllc3RhIHkgZGFuemEgZGUgbG9zIE5lZ3JpdG9zIEljYSBQZXLDug%3D%3D\n"
     ]
    },
    {
     "name": "stderr",
     "output_type": "stream",
     "text": [
      " 41%|████████████████████████████████                                              | 320/777 [1:07:11<55:29,  7.29s/it]"
     ]
    },
    {
     "name": "stdout",
     "output_type": "stream",
     "text": [
      "\n",
      " Semana Turística y Aniversario del distrito (Ica)\n",
      " Título: 5 LUGARES QUE DEBES DE CONOCER DE LA REGIÓN ICA\n",
      " URL: https://www.youtube.com/watch?v=ZS2UirVug10&pp=ygU2U2VtYW5hIFR1csOtc3RpY2EgeSBBbml2ZXJzYXJpbyBkZWwgZGlzdHJpdG8gSWNhIFBlcsO6\n"
     ]
    },
    {
     "name": "stderr",
     "output_type": "stream",
     "text": [
      " 41%|███████████████████████████████▍                                            | 321/777 [1:07:21<1:00:00,  7.89s/it]"
     ]
    },
    {
     "name": "stdout",
     "output_type": "stream",
     "text": [
      "\n",
      " Aniversario de la provincia (Ica)\n",
      " Título: 🔴🔵La provincia de Ica celebra 460 años\n",
      " URL: https://www.youtube.com/watch?v=91dIfJ1yczU&pp=ygUlQW5pdmVyc2FyaW8gZGUgbGEgcHJvdmluY2lhIEljYSBQZXLDug%3D%3D\n"
     ]
    },
    {
     "name": "stderr",
     "output_type": "stream",
     "text": [
      " 41%|███████████████████████████████▍                                            | 322/777 [1:07:29<1:00:03,  7.92s/it]"
     ]
    },
    {
     "name": "stdout",
     "output_type": "stream",
     "text": [
      "\n",
      " Aniversario del distrito (Ica)\n",
      " Título: SPOT POR EL 54 ANIVERSARIO DEL DISTRITO DE LA TINGUIÑA - ICA - PERÚ\n",
      " URL: https://www.youtube.com/watch?v=yJhFvySsQOI&pp=ygUiQW5pdmVyc2FyaW8gZGVsIGRpc3RyaXRvIEljYSBQZXLDug%3D%3D\n"
     ]
    },
    {
     "name": "stderr",
     "output_type": "stream",
     "text": [
      " 42%|████████████████████████████████▍                                             | 323/777 [1:07:36<58:59,  7.80s/it]"
     ]
    },
    {
     "name": "stdout",
     "output_type": "stream",
     "text": [
      "\n",
      " Fiesta de los carnavales de la Candelaria (Ica)\n",
      " Título: La Candelaria - Mix Carnavales Ayacuchanos\n",
      " URL: https://www.youtube.com/watch?v=dy1b4kyeqNc&list=RDdy1b4kyeqNc&start_radio=1&pp=ygUzRmllc3RhIGRlIGxvcyBjYXJuYXZhbGVzIGRlIGxhIENhbmRlbGFyaWEgSWNhIFBlcsO6oAcB\n"
     ]
    },
    {
     "name": "stderr",
     "output_type": "stream",
     "text": [
      " 42%|████████████████████████████████▌                                             | 324/777 [1:07:44<58:05,  7.70s/it]"
     ]
    },
    {
     "name": "stdout",
     "output_type": "stream",
     "text": [
      "\n",
      " Fiesta de la Sirena (Ica)\n",
      " Título: LA LEYENDA DE LA \"HUACACHINA\"\n",
      " URL: https://www.youtube.com/watch?v=3B73VXoD75c&pp=ygUdRmllc3RhIGRlIGxhIFNpcmVuYSBJY2EgUGVyw7o%3D\n"
     ]
    },
    {
     "name": "stderr",
     "output_type": "stream",
     "text": [
      " 42%|████████████████████████████████▋                                             | 325/777 [1:07:51<57:25,  7.62s/it]"
     ]
    },
    {
     "name": "stdout",
     "output_type": "stream",
     "text": [
      "\n",
      " Festival de Verano negro (Ica)\n",
      " Título: I Festival Internacional de Danzas - Verano Negro 2019\n",
      " URL: https://www.youtube.com/watch?v=MxP0F1o8Sqo&pp=ygUiRmVzdGl2YWwgZGUgVmVyYW5vIG5lZ3JvIEljYSBQZXLDug%3D%3D\n"
     ]
    },
    {
     "name": "stderr",
     "output_type": "stream",
     "text": [
      " 42%|████████████████████████████████▋                                             | 326/777 [1:07:58<56:36,  7.53s/it]"
     ]
    },
    {
     "name": "stdout",
     "output_type": "stream",
     "text": [
      "\n",
      " Festival Internacional de la Vendimia (Ica)\n",
      " Título: ¿QUÉ ES EL FESTIVAL DE LA VENDIMIA EN ICA? || LA VENDIMIA ICA || Encendidos Tv - Ica 💡\n",
      " URL: https://www.youtube.com/watch?v=-QoRaOUex90&pp=ygUvRmVzdGl2YWwgSW50ZXJuYWNpb25hbCBkZSBsYSBWZW5kaW1pYSBJY2EgUGVyw7o%3D\n"
     ]
    },
    {
     "name": "stderr",
     "output_type": "stream",
     "text": [
      " 42%|████████████████████████████████▊                                             | 327/777 [1:08:05<55:16,  7.37s/it]"
     ]
    },
    {
     "name": "stdout",
     "output_type": "stream",
     "text": [
      "\n",
      " Jueves Santo (Ica)\n",
      " Título: \"Jueves Santo en Ica\" de Medardo Purizaga Gutiérrez\n",
      " URL: https://www.youtube.com/watch?v=k7AMWEN7aTk&list=RDk7AMWEN7aTk&start_radio=1&pp=ygUWSnVldmVzIFNhbnRvIEljYSBQZXLDuqAHAQ%3D%3D\n"
     ]
    },
    {
     "name": "stderr",
     "output_type": "stream",
     "text": [
      " 42%|████████████████████████████████▉                                             | 328/777 [1:08:13<55:23,  7.40s/it]"
     ]
    },
    {
     "name": "stdout",
     "output_type": "stream",
     "text": [
      "\n",
      " Fiesta de las Cruces (Ica)\n",
      " Título: Fiesta de Cruces, 3 de Mayo 2023, San Pedro de Huacarpana Chincha Ica Perú\n",
      " URL: https://www.youtube.com/watch?v=Gp2L2R7hVI0&pp=ygUeRmllc3RhIGRlIGxhcyBDcnVjZXMgSWNhIFBlcsO6\n"
     ]
    },
    {
     "name": "stderr",
     "output_type": "stream",
     "text": [
      " 42%|█████████████████████████████████                                             | 329/777 [1:08:21<57:45,  7.74s/it]"
     ]
    },
    {
     "name": "stdout",
     "output_type": "stream",
     "text": [
      "\n",
      " Semana Nacional del Pisco (Ica)\n",
      " Título: “EL DÍA NACIONAL DEL PISCO SOUR”.\n",
      " URL: https://www.youtube.com/watch?v=bO28AYTyzlw&pp=ygUjU2VtYW5hIE5hY2lvbmFsIGRlbCBQaXNjbyBJY2EgUGVyw7rSBwkJ2AkBhyohjO8%3D\n"
     ]
    },
    {
     "name": "stderr",
     "output_type": "stream",
     "text": [
      " 42%|████████████████████████████████▎                                           | 330/777 [1:08:31<1:01:30,  8.26s/it]"
     ]
    },
    {
     "name": "stdout",
     "output_type": "stream",
     "text": [
      "\n",
      " Aniversario del distrito (Ica)\n",
      " Título: SPOT POR EL 54 ANIVERSARIO DEL DISTRITO DE LA TINGUIÑA - ICA - PERÚ\n",
      " URL: https://www.youtube.com/watch?v=yJhFvySsQOI&pp=ygUiQW5pdmVyc2FyaW8gZGVsIGRpc3RyaXRvIEljYSBQZXLDug%3D%3D\n"
     ]
    },
    {
     "name": "stderr",
     "output_type": "stream",
     "text": [
      " 43%|█████████████████████████████████▏                                            | 331/777 [1:08:38<59:05,  7.95s/it]"
     ]
    },
    {
     "name": "stdout",
     "output_type": "stream",
     "text": [
      "\n",
      " Romería a la Beatita de Humay (Ica)\n",
      " Título: Beatita de Humay 🙏🇵🇪 Pisco - Ica Perú\n",
      " URL: https://www.youtube.com/shorts/eEChnfwPP8Y\n"
     ]
    },
    {
     "name": "stderr",
     "output_type": "stream",
     "text": [
      " 43%|█████████████████████████████████▎                                            | 332/777 [1:08:46<58:49,  7.93s/it]"
     ]
    },
    {
     "name": "stdout",
     "output_type": "stream",
     "text": [
      "\n",
      " Fiesta de San Pedro (Ica)\n",
      " Título: REPORTAJE SAN PEDRO DE HUACARPANA - CHINCHA - ICA\n",
      " URL: https://www.youtube.com/watch?v=eMxmY6doI4I&pp=ygUdRmllc3RhIGRlIFNhbiBQZWRybyBJY2EgUGVyw7o%3D\n"
     ]
    },
    {
     "name": "stderr",
     "output_type": "stream",
     "text": [
      " 43%|█████████████████████████████████▍                                            | 333/777 [1:08:54<58:07,  7.85s/it]"
     ]
    },
    {
     "name": "stdout",
     "output_type": "stream",
     "text": [
      "\n",
      " Semana Turística (Ica)\n",
      " Título: ICA SUPER BARATO‼️🔥 Nazca + Paracas + 9 Lugares en 3 dias🏂🏝️ Huacachina Peru 2025 Turismo Turisticos\n",
      " URL: https://www.youtube.com/watch?v=9zN2hqcoAl0&pp=ygUbU2VtYW5hIFR1csOtc3RpY2EgSWNhIFBlcsO6\n"
     ]
    },
    {
     "name": "stderr",
     "output_type": "stream",
     "text": [
      " 43%|████████████████████████████████▋                                           | 334/777 [1:09:04<1:02:22,  8.45s/it]"
     ]
    },
    {
     "name": "stdout",
     "output_type": "stream",
     "text": [
      "\n",
      " Fiesta de Santo Domingo de Guzmán (Ica)\n",
      " Título: fiesta del mercado santo domingo - ica\n",
      " URL: https://www.youtube.com/watch?v=9vr-AZvXAJs&pp=ygUsRmllc3RhIGRlIFNhbnRvIERvbWluZ28gZGUgR3V6bcOhbiBJY2EgUGVyw7o%3D\n"
     ]
    },
    {
     "name": "stderr",
     "output_type": "stream",
     "text": [
      " 43%|█████████████████████████████████▋                                            | 335/777 [1:09:11<59:27,  8.07s/it]"
     ]
    },
    {
     "name": "stdout",
     "output_type": "stream",
     "text": [
      "\n",
      " Festival de la Naranja y Fiestas Patronales\n",
      "de la Virgen del Socorro (Ica)\n",
      " Título: Festividad de la virgen del perpetuo socorro 2025 encon chico\n",
      " URL: https://www.youtube.com/shorts/rk1TiOYMceA\n"
     ]
    },
    {
     "name": "stderr",
     "output_type": "stream",
     "text": [
      " 43%|█████████████████████████████████▋                                            | 336/777 [1:09:18<57:45,  7.86s/it]"
     ]
    },
    {
     "name": "stdout",
     "output_type": "stream",
     "text": [
      "\n",
      " Semana Turística y aniversario del distrito (Ica)\n",
      " Título: 5 LUGARES QUE DEBES DE CONOCER DE LA REGIÓN ICA\n",
      " URL: https://www.youtube.com/watch?v=ZS2UirVug10&pp=ygU2U2VtYW5hIFR1csOtc3RpY2EgeSBhbml2ZXJzYXJpbyBkZWwgZGlzdHJpdG8gSWNhIFBlcsO6\n"
     ]
    },
    {
     "name": "stderr",
     "output_type": "stream",
     "text": [
      " 43%|████████████████████████████████▉                                           | 337/777 [1:09:28<1:01:01,  8.32s/it]"
     ]
    },
    {
     "name": "stdout",
     "output_type": "stream",
     "text": [
      "\n",
      " Fiesta patronal de la Virgen de Guadalupe (Ica)\n",
      " Título: Fiesta en Honor a la Santisima Virgen de Guadalupe\n",
      " URL: https://www.youtube.com/watch?v=Sl-DqmgyhpY&pp=ygUzRmllc3RhIHBhdHJvbmFsIGRlIGxhIFZpcmdlbiBkZSBHdWFkYWx1cGUgSWNhIFBlcsO6\n"
     ]
    },
    {
     "name": "stderr",
     "output_type": "stream",
     "text": [
      " 44%|█████████████████████████████████▉                                            | 338/777 [1:09:35<59:51,  8.18s/it]"
     ]
    },
    {
     "name": "stdout",
     "output_type": "stream",
     "text": [
      "\n",
      " Conmemoración del desembarco de la Expedición\n",
      "Libertadora y Semana Turística (Ica)\n",
      " Título: \"Desembarco de la Expedición Libertadora del Perú en Paracas y su transcendencia\".\n",
      " URL: https://www.youtube.com/watch?v=XIjwGfgu8so&pp=ygVYQ29ubWVtb3JhY2nDs24gZGVsIGRlc2VtYmFyY28gZGUgbGEgRXhwZWRpY2nDs25MaWJlcnRhZG9yYSB5IFNlbWFuYSBUdXLDrXN0aWNhIEljYSBQZXLDug%3D%3D\n"
     ]
    },
    {
     "name": "stderr",
     "output_type": "stream",
     "text": [
      " 44%|██████████████████████████████████                                            | 339/777 [1:09:43<57:46,  7.91s/it]"
     ]
    },
    {
     "name": "stdout",
     "output_type": "stream",
     "text": [
      "\n",
      " Semana turística de la ciudad (Ica)\n",
      " Título: PERÚ PROFUNDO 🇵🇪| Semana Turística de la ciudad de Pisco (Ica) - 01 de setiembre\n",
      " URL: https://www.youtube.com/watch?v=MGlDG3giL3o&pp=ygUoU2VtYW5hIHR1csOtc3RpY2EgZGUgbGEgY2l1ZGFkIEljYSBQZXLDug%3D%3D\n"
     ]
    },
    {
     "name": "stderr",
     "output_type": "stream",
     "text": [
      " 44%|██████████████████████████████████▏                                           | 340/777 [1:09:51<59:14,  8.13s/it]"
     ]
    },
    {
     "name": "stdout",
     "output_type": "stream",
     "text": [
      "\n",
      " Peregrinación de la Virgen de Yauca del\n",
      "Rosario (Ica)\n",
      " Título: Tradicional Peregrinación al Santuario de Nuestra Señora del Rosario de Yauca - ICA PERÚ\n",
      " URL: https://www.youtube.com/watch?v=nGIQWCXhtSQ&pp=ygU5UGVyZWdyaW5hY2nDs24gZGUgbGEgVmlyZ2VuIGRlIFlhdWNhIGRlbFJvc2FyaW8gSWNhIFBlcsO6\n"
     ]
    },
    {
     "name": "stderr",
     "output_type": "stream",
     "text": [
      " 44%|██████████████████████████████████▏                                           | 341/777 [1:09:59<57:05,  7.86s/it]"
     ]
    },
    {
     "name": "stdout",
     "output_type": "stream",
     "text": [
      "\n",
      " La Virgen del Rosario (Ica)\n",
      " Título: EN YAUCA DEL ROSARIO ICA PERU\n",
      " URL: https://www.youtube.com/watch?v=pkbgPvF1F0Q&pp=ygUfTGEgVmlyZ2VuIGRlbCBSb3NhcmlvIEljYSBQZXLDug%3D%3D\n"
     ]
    },
    {
     "name": "stderr",
     "output_type": "stream",
     "text": [
      " 44%|██████████████████████████████████▎                                           | 342/777 [1:10:06<56:00,  7.72s/it]"
     ]
    },
    {
     "name": "stdout",
     "output_type": "stream",
     "text": [
      "\n",
      " Festividad del Señor de Luren (Ica)\n",
      " Título: \"Acompañaban a la sagrada imagen de rodillas\": Recorrido procesional del Señor de Luren en Ica\n",
      " URL: https://www.youtube.com/watch?v=Yh86eyW4ay8&pp=ygUoRmVzdGl2aWRhZCBkZWwgU2XDsW9yIGRlIEx1cmVuIEljYSBQZXLDug%3D%3D\n"
     ]
    },
    {
     "name": "stderr",
     "output_type": "stream",
     "text": [
      " 44%|██████████████████████████████████▍                                           | 343/777 [1:10:14<57:25,  7.94s/it]"
     ]
    },
    {
     "name": "stdout",
     "output_type": "stream",
     "text": [
      "\n",
      " Fiesta de la Virgen de Guadalupe (Ica)\n",
      " Título: Fiesta en Honor a la Santisima Virgen de Guadalupe\n",
      " URL: https://www.youtube.com/watch?v=Sl-DqmgyhpY&pp=ygUqRmllc3RhIGRlIGxhIFZpcmdlbiBkZSBHdWFkYWx1cGUgSWNhIFBlcsO6\n"
     ]
    },
    {
     "name": "stderr",
     "output_type": "stream",
     "text": [
      " 44%|██████████████████████████████████▌                                           | 344/777 [1:10:22<56:47,  7.87s/it]"
     ]
    },
    {
     "name": "stdout",
     "output_type": "stream",
     "text": [
      "\n",
      " Día cívico del distrito (Ica)\n",
      " Título: DESFILE CÍVICO ESCOLAR POR EL DÍA DE LA BANDERA - LA TINGUIÑA - ICA - PERÚ\n",
      " URL: https://www.youtube.com/watch?v=M2icwoGlato&pp=ygUjRMOtYSBjw612aWNvIGRlbCBkaXN0cml0byBJY2EgUGVyw7o%3D\n"
     ]
    },
    {
     "name": "stderr",
     "output_type": "stream",
     "text": [
      " 44%|█████████████████████████████████▋                                          | 345/777 [1:10:32<1:00:02,  8.34s/it]"
     ]
    },
    {
     "name": "stdout",
     "output_type": "stream",
     "text": [
      "\n",
      " Día cívico del distrito (Ica)\n",
      " Título: DESFILE CÍVICO ESCOLAR POR EL DÍA DE LA BANDERA - LA TINGUIÑA - ICA - PERÚ\n",
      " URL: https://www.youtube.com/watch?v=M2icwoGlato&pp=ygUjRMOtYSBjw612aWNvIGRlbCBkaXN0cml0byBJY2EgUGVyw7o%3D\n"
     ]
    },
    {
     "name": "stderr",
     "output_type": "stream",
     "text": [
      " 45%|██████████████████████████████████▋                                           | 346/777 [1:10:39<58:29,  8.14s/it]"
     ]
    },
    {
     "name": "stdout",
     "output_type": "stream",
     "text": [
      "\n",
      " Semana Turística y aniversario de la\n",
      "provincia (Ica)\n",
      " Título: 🍇🍇 XL SEMANA TURISTICA ICA 2019 🍇🍇\n",
      " URL: https://www.youtube.com/watch?v=fDdXrnBoTdM&pp=ygU4U2VtYW5hIFR1csOtc3RpY2EgeSBhbml2ZXJzYXJpbyBkZSBsYXByb3ZpbmNpYSBJY2EgUGVyw7o%3D\n"
     ]
    },
    {
     "name": "stderr",
     "output_type": "stream",
     "text": [
      " 45%|█████████████████████████████████▉                                          | 347/777 [1:10:49<1:02:10,  8.68s/it]"
     ]
    },
    {
     "name": "stdout",
     "output_type": "stream",
     "text": [
      "\n",
      " Fiesta de Todos los Santos (Ica)\n",
      " Título: La fiesta popular del Día de Todos los Santos\n",
      " URL: https://www.youtube.com/watch?v=V59O58HbeQI&pp=ygUkRmllc3RhIGRlIFRvZG9zIGxvcyBTYW50b3MgSWNhIFBlcsO6\n"
     ]
    },
    {
     "name": "stderr",
     "output_type": "stream",
     "text": [
      " 45%|██████████████████████████████████▉                                           | 348/777 [1:10:57<59:45,  8.36s/it]"
     ]
    },
    {
     "name": "stdout",
     "output_type": "stream",
     "text": [
      "\n",
      " Romería al santuario de la Beatita de\n",
      "Humay (Ica)\n",
      " Título: LA BEATITA DE HUMAY 🙏 PISCO 🇵🇪 ICA | EL CAMINO AL SANTUARIO DE LA SANTITA MILAGROSA 😇 🏃\n",
      " URL: https://www.youtube.com/watch?v=i7hklpQaXWQ&pp=ygU1Um9tZXLDrWEgYWwgc2FudHVhcmlvIGRlIGxhIEJlYXRpdGEgZGVIdW1heSBJY2EgUGVyw7o%3D\n"
     ]
    },
    {
     "name": "stderr",
     "output_type": "stream",
     "text": [
      " 45%|███████████████████████████████████                                           | 349/777 [1:11:04<56:21,  7.90s/it]"
     ]
    },
    {
     "name": "stdout",
     "output_type": "stream",
     "text": [
      "\n",
      " Aniversario de la villa de Pisco (Ica)\n",
      " Título: Celebrando El Aniversario de Pisco\n",
      " URL: https://www.youtube.com/watch?v=Mbtv4uwd5gA&pp=ygUqQW5pdmVyc2FyaW8gZGUgbGEgdmlsbGEgZGUgUGlzY28gSWNhIFBlcsO6\n"
     ]
    },
    {
     "name": "stderr",
     "output_type": "stream",
     "text": [
      " 45%|███████████████████████████████████▏                                          | 350/777 [1:11:11<54:38,  7.68s/it]"
     ]
    },
    {
     "name": "stdout",
     "output_type": "stream",
     "text": [
      "\n",
      " Aniversartio de la muerte de la Beata Melchorita (Ica)\n",
      " Título: TATIANA MANYARI: 07 ENERO - NACIMIENTO DE LA BEATITA MELCHORITA EN SAN PEDRO DE ÑOCO EN ICA\n",
      " URL: https://www.youtube.com/watch?v=Su06dK4G35w&pp=ygU6QW5pdmVyc2FydGlvIGRlIGxhIG11ZXJ0ZSBkZSBsYSBCZWF0YSBNZWxjaG9yaXRhIEljYSBQZXLDug%3D%3D\n"
     ]
    },
    {
     "name": "stderr",
     "output_type": "stream",
     "text": [
      " 45%|███████████████████████████████████▏                                          | 351/777 [1:11:18<53:28,  7.53s/it]"
     ]
    },
    {
     "name": "stdout",
     "output_type": "stream",
     "text": [
      "\n",
      " Aniversario del distrito y semana turística (Ica)\n",
      " Título: 5 LUGARES QUE DEBES DE CONOCER DE LA REGIÓN ICA\n",
      " URL: https://www.youtube.com/watch?v=ZS2UirVug10&pp=ygU2QW5pdmVyc2FyaW8gZGVsIGRpc3RyaXRvIHkgc2VtYW5hIHR1csOtc3RpY2EgSWNhIFBlcsO6\n"
     ]
    },
    {
     "name": "stderr",
     "output_type": "stream",
     "text": [
      " 45%|███████████████████████████████████▎                                          | 352/777 [1:11:28<57:49,  8.16s/it]"
     ]
    },
    {
     "name": "stdout",
     "output_type": "stream",
     "text": [
      "\n",
      " Fiesta de la Concepción (Ica)\n",
      " Título: Fiesta de la Virgen Inmaculada Concepción 2022 , Vacas Locas y Fin de Fiesta , 10ma parte\n",
      " URL: https://www.youtube.com/watch?v=0kSqjkEwgeI&pp=ygUiRmllc3RhIGRlIGxhIENvbmNlcGNpw7NuIEljYSBQZXLDug%3D%3D\n"
     ]
    },
    {
     "name": "stderr",
     "output_type": "stream",
     "text": [
      " 45%|██████████████████████████████████▌                                         | 353/777 [1:11:37<1:00:37,  8.58s/it]"
     ]
    },
    {
     "name": "stdout",
     "output_type": "stream",
     "text": [
      "\n",
      " Fiesta de la Concepción (Ica)\n",
      " Título: Fiesta de la Virgen Inmaculada Concepción 2022 , Vacas Locas y Fin de Fiesta , 10ma parte\n",
      " URL: https://www.youtube.com/watch?v=0kSqjkEwgeI&pp=ygUiRmllc3RhIGRlIGxhIENvbmNlcGNpw7NuIEljYSBQZXLDug%3D%3D\n"
     ]
    },
    {
     "name": "stderr",
     "output_type": "stream",
     "text": [
      " 46%|██████████████████████████████████▋                                         | 354/777 [1:11:48<1:05:18,  9.26s/it]"
     ]
    },
    {
     "name": "stdout",
     "output_type": "stream",
     "text": [
      "\n",
      " Fiesta de la Virgen de Guadalupe (Ica)\n",
      " Título: Fiesta en Honor a la Santisima Virgen de Guadalupe\n",
      " URL: https://www.youtube.com/watch?v=Sl-DqmgyhpY&pp=ygUqRmllc3RhIGRlIGxhIFZpcmdlbiBkZSBHdWFkYWx1cGUgSWNhIFBlcsO6\n"
     ]
    },
    {
     "name": "stderr",
     "output_type": "stream",
     "text": [
      " 46%|██████████████████████████████████▋                                         | 355/777 [1:11:55<1:01:23,  8.73s/it]"
     ]
    },
    {
     "name": "stdout",
     "output_type": "stream",
     "text": [
      "\n",
      " Aniversario del distrito (Ica)\n",
      " Título: SPOT POR EL 54 ANIVERSARIO DEL DISTRITO DE LA TINGUIÑA - ICA - PERÚ\n",
      " URL: https://www.youtube.com/watch?v=yJhFvySsQOI&pp=ygUiQW5pdmVyc2FyaW8gZGVsIGRpc3RyaXRvIEljYSBQZXLDug%3D%3D\n"
     ]
    },
    {
     "name": "stderr",
     "output_type": "stream",
     "text": [
      " 46%|███████████████████████████████████▋                                          | 356/777 [1:12:03<58:03,  8.28s/it]"
     ]
    },
    {
     "name": "stdout",
     "output_type": "stream",
     "text": [
      "\n",
      " Paseo de los Negritos (Ica)\n",
      " Título: Negritos de Ica - Raices Iqueñas (Mamita de Chapi 2018 - Tuki Tusuy ICA)\n",
      " URL: https://www.youtube.com/watch?v=Ue1nueEMscg&pp=ygUfUGFzZW8gZGUgbG9zIE5lZ3JpdG9zIEljYSBQZXLDug%3D%3D\n"
     ]
    },
    {
     "name": "stderr",
     "output_type": "stream",
     "text": [
      " 46%|███████████████████████████████████▊                                          | 357/777 [1:12:09<54:37,  7.80s/it]"
     ]
    },
    {
     "name": "stdout",
     "output_type": "stream",
     "text": [
      "\n",
      " Navidad Negra (Ica)\n",
      " Título: Son del Perú - Navidad Negra (Ica) - CONCURSO RAICES ANDINAS 2012 - TIKARY PRODUCCIONES\n",
      " URL: https://www.youtube.com/watch?v=XppIJWwvoFs&pp=ygUXTmF2aWRhZCBOZWdyYSBJY2EgUGVyw7o%3D\n"
     ]
    },
    {
     "name": "stderr",
     "output_type": "stream",
     "text": [
      " 46%|███████████████████████████████████▉                                          | 358/777 [1:12:17<54:33,  7.81s/it]"
     ]
    },
    {
     "name": "stdout",
     "output_type": "stream",
     "text": [
      "\n",
      " Festividad de la Virgen del Carmen (Ica)\n",
      " Título: Festividad de la Virgen del Carmen en Chincha (Ica) - 27 de Diciembre | PERÚ PROFUNDO 🇵🇪\n",
      " URL: https://www.youtube.com/watch?v=v8oCkJuShO4&pp=ygUsRmVzdGl2aWRhZCBkZSBsYSBWaXJnZW4gZGVsIENhcm1lbiBJY2EgUGVyw7o%3D\n"
     ]
    },
    {
     "name": "stderr",
     "output_type": "stream",
     "text": [
      " 46%|████████████████████████████████████                                          | 359/777 [1:12:27<57:48,  8.30s/it]"
     ]
    },
    {
     "name": "stdout",
     "output_type": "stream",
     "text": [
      "\n",
      " Fiesta de la Virgen de Topará (Ica)\n",
      " Título: FIESTA DE LA VIRGEN DE TOPARÁ - GROCIO PRADO - PARA TODOS LADOS\n",
      " URL: https://www.youtube.com/watch?v=Oh45sx4dNtI&pp=ygUoRmllc3RhIGRlIGxhIFZpcmdlbiBkZSBUb3BhcsOhIEljYSBQZXLDug%3D%3D\n"
     ]
    },
    {
     "name": "stderr",
     "output_type": "stream",
     "text": [
      " 46%|████████████████████████████████████▏                                         | 360/777 [1:12:35<58:22,  8.40s/it]"
     ]
    },
    {
     "name": "stdout",
     "output_type": "stream",
     "text": [
      "\n",
      " Fiesta del Niño Jesús, Danzas\n",
      "de la pachahura o negrería, del corcovado,\n",
      "del latashauquish, del chacranegro, de la huaconada,\n",
      "de la huaylijía y tunantada, Jesús\n",
      "Salvador y Danza de los viejos principales. (Junin)\n",
      " Título: NEGRITOS DE HUASTA ▶ Homenaje al \"Divino Niño Jesús - Huasta\" 2024 (3)\n",
      " URL: https://www.youtube.com/watch?v=E2jyMOAa8Yw&pp=ygXZAUZpZXN0YSBkZWwgTmnDsW8gSmVzw7pzLCBEYW56YXNkZSBsYSBwYWNoYWh1cmEgbyBuZWdyZXLDrWEsIGRlbCBjb3Jjb3ZhZG8sZGVsIGxhdGFzaGF1cXVpc2gsIGRlbCBjaGFjcmFuZWdybywgZGUgbGEgaHVhY29uYWRhLGRlIGxhIGh1YXlsaWrDrWEgeSB0dW5hbnRhZGEsIEplc8O6c1NhbHZhZG9yIHkgRGFuemEgZGUgbG9zIHZpZWpvcyBwcmluY2lwYWxlcy4gSnVuaW4gUGVyw7o%3D\n"
     ]
    },
    {
     "name": "stderr",
     "output_type": "stream",
     "text": [
      " 46%|████████████████████████████████████▏                                         | 361/777 [1:12:42<55:25,  7.99s/it]"
     ]
    },
    {
     "name": "stdout",
     "output_type": "stream",
     "text": [
      "\n",
      " San Sebastián. (Junin)\n",
      " Título: 4K Fiestas patronal de San Sebastian /Junin/ /Qankunapaq Peru ( 15 Aniv Qankunapaq Peru 2023)\n",
      " URL: https://www.youtube.com/watch?v=Slv_u-SycCQ&pp=ygUbU2FuIFNlYmFzdGnDoW4uIEp1bmluIFBlcsO6\n"
     ]
    },
    {
     "name": "stderr",
     "output_type": "stream",
     "text": [
      " 47%|████████████████████████████████████▎                                         | 362/777 [1:12:50<54:39,  7.90s/it]"
     ]
    },
    {
     "name": "stdout",
     "output_type": "stream",
     "text": [
      "\n",
      " Danza de los Negritos, Danza del corcovado,\n",
      "El Señor de Paca, Danza de la huaylijía. (Junin)\n",
      " Título: Danza Auquish Cumo C.A.F. \"Amerindia\" Concurso Danzas Amp. Pampas del Cusco 2015\n",
      " URL: https://www.youtube.com/watch?v=_nHSXLcpO_g&list=RD_nHSXLcpO_g&start_radio=1&pp=ygVhRGFuemEgZGUgbG9zIE5lZ3JpdG9zLCBEYW56YSBkZWwgY29yY292YWRvLEVsIFNlw7FvciBkZSBQYWNhLCBEYW56YSBkZSBsYSBodWF5bGlqw61hLiBKdW5pbiBQZXLDuqAHAQ%3D%3D\n"
     ]
    },
    {
     "name": "stderr",
     "output_type": "stream",
     "text": [
      " 47%|████████████████████████████████████▍                                         | 363/777 [1:12:58<53:49,  7.80s/it]"
     ]
    },
    {
     "name": "stdout",
     "output_type": "stream",
     "text": [
      "\n",
      " Fiesta Patronal de San Fabián. (Junin)\n",
      " Título: JAUJA 2020 FIESTA EN HONOR A SAN FABIAN Y SAN SEBASTIAN\n",
      " URL: https://www.youtube.com/watch?v=_R-A5ys8nBQ&pp=ygUrRmllc3RhIFBhdHJvbmFsIGRlIFNhbiBGYWJpw6FuLiBKdW5pbiBQZXLDug%3D%3D\n"
     ]
    },
    {
     "name": "stderr",
     "output_type": "stream",
     "text": [
      " 47%|████████████████████████████████████▌                                         | 364/777 [1:13:05<53:00,  7.70s/it]"
     ]
    },
    {
     "name": "stdout",
     "output_type": "stream",
     "text": [
      "\n",
      " Bajada de Reyes, danza del chacranegro y la\n",
      "huaripampeada, Pascua de Reyes y danza de la huaylijía. (Junin)\n",
      " Título: BAJADA DE REYES 2023\n",
      " URL: https://www.youtube.com/watch?v=y2fVBxnyXHw&pp=ygVvQmFqYWRhIGRlIFJleWVzLCBkYW56YSBkZWwgY2hhY3JhbmVncm8geSBsYWh1YXJpcGFtcGVhZGEsIFBhc2N1YSBkZSBSZXllcyB5IGRhbnphIGRlIGxhIGh1YXlsaWrDrWEuIEp1bmluIFBlcsO60gcJCdgJAYcqIYzv\n"
     ]
    },
    {
     "name": "stderr",
     "output_type": "stream",
     "text": [
      " 47%|████████████████████████████████████▋                                         | 365/777 [1:13:12<50:48,  7.40s/it]"
     ]
    },
    {
     "name": "stdout",
     "output_type": "stream",
     "text": [
      "\n",
      " Bajada de Reyes. Fieta del Niño Jesús\n",
      "y Danza del Concorvado. (Junin)\n",
      " Título: Bajada de reyes en honor al Niño Jesús de Praga\n",
      " URL: https://www.youtube.com/shorts/bs4ZJM0__bg\n"
     ]
    },
    {
     "name": "stderr",
     "output_type": "stream",
     "text": [
      " 47%|████████████████████████████████████▋                                         | 366/777 [1:13:19<50:05,  7.31s/it]"
     ]
    },
    {
     "name": "stdout",
     "output_type": "stream",
     "text": [
      "\n",
      " La Virgen de Lourdes, Santa Teresita, Fiesta\n",
      "del Niño Jesús. (Junin)\n",
      " Título: FIESTA DE LA VIRGEN DE LOURDES 2024 #travel #rutasdelperu\n",
      " URL: https://www.youtube.com/shorts/JMVby74GGKw\n"
     ]
    },
    {
     "name": "stderr",
     "output_type": "stream",
     "text": [
      " 47%|████████████████████████████████████▊                                         | 367/777 [1:13:26<49:16,  7.21s/it]"
     ]
    },
    {
     "name": "stdout",
     "output_type": "stream",
     "text": [
      "\n",
      " Fiesta de la tunantada y el 20/01 ejecución\n",
      "del jalapato. (Junin)\n",
      " Título: Pandillada y Jalapato 8\n",
      " URL: https://www.youtube.com/watch?v=38KO_fmvrW4&pp=ygVFRmllc3RhIGRlIGxhIHR1bmFudGFkYSB5IGVsIDIwLzAxIGVqZWN1Y2nDs25kZWwgamFsYXBhdG8uIEp1bmluIFBlcsO6\n"
     ]
    },
    {
     "name": "stderr",
     "output_type": "stream",
     "text": [
      " 47%|████████████████████████████████████▉                                         | 368/777 [1:13:33<49:11,  7.22s/it]"
     ]
    },
    {
     "name": "stdout",
     "output_type": "stream",
     "text": [
      "\n",
      " San Sebastián, San Fabián. Fiesta\n",
      "de Copone y Vaso Sagrado. Los Negritos. Chonguinada\n",
      "y Huacón. (Junin)\n",
      " Título: Víspera de la Fiesta de San Sebastián\n",
      " URL: https://www.youtube.com/watch?v=0tWGO1NWQDY&pp=ygVsU2FuIFNlYmFzdGnDoW4sIFNhbiBGYWJpw6FuLiBGaWVzdGFkZSBDb3BvbmUgeSBWYXNvIFNhZ3JhZG8uIExvcyBOZWdyaXRvcy4gQ2hvbmd1aW5hZGF5IEh1YWPDs24uIEp1bmluIFBlcsO6\n"
     ]
    },
    {
     "name": "stderr",
     "output_type": "stream",
     "text": [
      " 47%|█████████████████████████████████████                                         | 369/777 [1:13:40<48:53,  7.19s/it]"
     ]
    },
    {
     "name": "stdout",
     "output_type": "stream",
     "text": [
      "\n",
      " San Sebastián, San Fabián. Fiesta\n",
      "de Copone y Vaso Sagrado. Los Negritos. Chonguinada\n",
      "y Huacón. (Junin)\n",
      " Título: Víspera de la Fiesta de San Sebastián\n",
      " URL: https://www.youtube.com/watch?v=0tWGO1NWQDY&pp=ygVsU2FuIFNlYmFzdGnDoW4sIFNhbiBGYWJpw6FuLiBGaWVzdGFkZSBDb3BvbmUgeSBWYXNvIFNhZ3JhZG8uIExvcyBOZWdyaXRvcy4gQ2hvbmd1aW5hZGF5IEh1YWPDs24uIEp1bmluIFBlcsO6\n"
     ]
    },
    {
     "name": "stderr",
     "output_type": "stream",
     "text": [
      " 48%|█████████████████████████████████████▏                                        | 370/777 [1:13:48<49:05,  7.24s/it]"
     ]
    },
    {
     "name": "stdout",
     "output_type": "stream",
     "text": [
      "\n",
      " Festival de la Tunantada. (Junin)\n",
      " Título: La tunantada, fiesta costumbrista en Jauja, Junín, Perú\n",
      " URL: https://www.youtube.com/watch?v=ONCZnDAZeyc&pp=ygUlRmVzdGl2YWwgZGUgbGEgVHVuYW50YWRhLiBKdW5pbiBQZXLDug%3D%3D\n"
     ]
    },
    {
     "name": "stderr",
     "output_type": "stream",
     "text": [
      " 48%|█████████████████████████████████████▏                                        | 371/777 [1:13:55<50:04,  7.40s/it]"
     ]
    },
    {
     "name": "stdout",
     "output_type": "stream",
     "text": [
      "\n",
      " Fiesta Patronal de San Sebastián. (Junin)\n",
      " Título: Fiesta Patronal San Sebastian de Matahuasi - Junin / FAC DE ODONTOLOGIA - INTERFACULTADES 2023 UNMSM\n",
      " URL: https://www.youtube.com/watch?v=L26iGFpneiM&list=RDL26iGFpneiM&start_radio=1&pp=ygUuRmllc3RhIFBhdHJvbmFsIGRlIFNhbiBTZWJhc3Rpw6FuLiBKdW5pbiBQZXLDuqAHAdIHCQnYCQGHKiGM7w%3D%3D\n"
     ]
    },
    {
     "name": "stderr",
     "output_type": "stream",
     "text": [
      " 48%|█████████████████████████████████████▎                                        | 372/777 [1:14:06<56:06,  8.31s/it]"
     ]
    },
    {
     "name": "stdout",
     "output_type": "stream",
     "text": [
      "\n",
      " Fiesta del Niño Jesús, Avelinos.\n",
      "El Señor de Paca. Santa Teresita. (Junin)\n",
      " Título: Fiesta en Honor al Niño Jesús 💛 ARTURO ROMO UCEDA ☃️ MARÍA CRISTÓBAL | SUPER SENSACIÓN DEL PERÚ\n",
      " URL: https://www.youtube.com/watch?v=ZNmXfY6_toM&pp=ygVQRmllc3RhIGRlbCBOacOxbyBKZXPDunMsIEF2ZWxpbm9zLkVsIFNlw7FvciBkZSBQYWNhLiBTYW50YSBUZXJlc2l0YS4gSnVuaW4gUGVyw7o%3D\n"
     ]
    },
    {
     "name": "stderr",
     "output_type": "stream",
     "text": [
      " 48%|█████████████████████████████████████▍                                        | 373/777 [1:14:14<56:21,  8.37s/it]"
     ]
    },
    {
     "name": "stdout",
     "output_type": "stream",
     "text": [
      "\n",
      " Fiesta de la Capilla del Copón. (Junin)\n",
      " Título: CAPILLA EL COPÓN, CHONGOS BAJO, CHUPACA, JUNÍN, PERU\n",
      " URL: https://www.youtube.com/watch?v=avwi41KC4y0&pp=ygUsRmllc3RhIGRlIGxhIENhcGlsbGEgZGVsIENvcMOzbi4gSnVuaW4gUGVyw7o%3D\n"
     ]
    },
    {
     "name": "stderr",
     "output_type": "stream",
     "text": [
      " 48%|█████████████████████████████████████▌                                        | 374/777 [1:14:21<53:31,  7.97s/it]"
     ]
    },
    {
     "name": "stdout",
     "output_type": "stream",
     "text": [
      "\n",
      " Taita Niño (Zumbanacuy sangriento). (Junin)\n",
      " Título: Se enfrentan a latigazos: Celebran el Zumbanacuy 2025 en adoración al Tayta Niño\n",
      " URL: https://www.youtube.com/watch?v=sD-X8jFj2eY&pp=ygUwVGFpdGEgTmnDsW8gKFp1bWJhbmFjdXkgc2FuZ3JpZW50bykuIEp1bmluIFBlcsO60gcJCdgJAYcqIYzv\n"
     ]
    },
    {
     "name": "stderr",
     "output_type": "stream",
     "text": [
      " 48%|█████████████████████████████████████▋                                        | 375/777 [1:14:28<51:49,  7.74s/it]"
     ]
    },
    {
     "name": "stdout",
     "output_type": "stream",
     "text": [
      "\n",
      " El Taita Niño de Huayucachi y estampa\n",
      "costumbrista de los chinchillpos y gamonales. (Junin)\n",
      " Título: Fiesta del Tayta Niño - Huayucachi, Huancayo 2025 @ Celebra Perú\n",
      " URL: https://www.youtube.com/watch?v=svVapU01OxA&pp=ygVfRWwgVGFpdGEgTmnDsW8gZGUgSHVheXVjYWNoaSB5IGVzdGFtcGFjb3N0dW1icmlzdGEgZGUgbG9zIGNoaW5jaGlsbHBvcyB5IGdhbW9uYWxlcy4gSnVuaW4gUGVyw7o%3D\n"
     ]
    },
    {
     "name": "stderr",
     "output_type": "stream",
     "text": [
      " 48%|█████████████████████████████████████▋                                        | 376/777 [1:14:36<51:14,  7.67s/it]"
     ]
    },
    {
     "name": "stdout",
     "output_type": "stream",
     "text": [
      "\n",
      " Carnavales. (Junin)\n",
      " Título: Huaylas de Carnaval Junin (Audio)\n",
      " URL: https://www.youtube.com/watch?v=vyU5kLNWmYM&list=RDvyU5kLNWmYM&start_radio=1&pp=ygUXQ2FybmF2YWxlcy4gSnVuaW4gUGVyw7qgBwE%3D\n"
     ]
    },
    {
     "name": "stderr",
     "output_type": "stream",
     "text": [
      " 49%|█████████████████████████████████████▊                                        | 377/777 [1:14:45<54:00,  8.10s/it]"
     ]
    },
    {
     "name": "stdout",
     "output_type": "stream",
     "text": [
      "\n",
      " Fiesta de la Virgen de la Candelaria. «Cortamonte»,\n",
      "Danza de la pandilla. Campña de la Breña.\n",
      "El Macchu y la Paya. chinchillpos y gamonales. (Junin)\n",
      " Título: chinchilpo y Gamonal 2023 en ochomba la fiesta patronal\n",
      " URL: https://www.youtube.com/shorts/qPxBMQqJBXU\n"
     ]
    },
    {
     "name": "stderr",
     "output_type": "stream",
     "text": [
      " 49%|█████████████████████████████████████▉                                        | 378/777 [1:14:52<51:51,  7.80s/it]"
     ]
    },
    {
     "name": "stdout",
     "output_type": "stream",
     "text": [
      "\n",
      " Carnaval, danza de Huaylash. Jalapato y pachahuara.\n",
      "Virgen de la Candelaria. (Junin)\n",
      " Título: La Candelaria - Huaylarsh de Carnaval (Danza Peruana)\n",
      " URL: https://www.youtube.com/watch?v=O5-5O-nsx-M&list=RDO5-5O-nsx-M&start_radio=1&pp=ygVXQ2FybmF2YWwsIGRhbnphIGRlIEh1YXlsYXNoLiBKYWxhcGF0byB5IHBhY2hhaHVhcmEuVmlyZ2VuIGRlIGxhIENhbmRlbGFyaWEuIEp1bmluIFBlcsO6oAcB0gcJCdgJAYcqIYzv\n"
     ]
    },
    {
     "name": "stderr",
     "output_type": "stream",
     "text": [
      " 49%|██████████████████████████████████████                                        | 379/777 [1:15:01<53:08,  8.01s/it]"
     ]
    },
    {
     "name": "stdout",
     "output_type": "stream",
     "text": [
      "\n",
      " Compadres y Comadres – Pachahuara. Nuestra Señora\n",
      "de Lourdes. Fiesta de la Fajina. Fiesta de la\n",
      "Calixtrada y Festival de mulizas. Ritual de la\n",
      "«herranza». (Junin)\n",
      " Título: Fiesta de Compadres\n",
      " URL: https://www.youtube.com/watch?v=vPFKS5z34aU&pp=ygWoAUNvbXBhZHJlcyB5IENvbWFkcmVzIOKAkyBQYWNoYWh1YXJhLiBOdWVzdHJhIFNlw7FvcmFkZSBMb3VyZGVzLiBGaWVzdGEgZGUgbGEgRmFqaW5hLiBGaWVzdGEgZGUgbGFDYWxpeHRyYWRhIHkgRmVzdGl2YWwgZGUgbXVsaXphcy4gUml0dWFsIGRlIGxhwqtoZXJyYW56YcK7LiBKdW5pbiBQZXLDug%3D%3D\n"
     ]
    },
    {
     "name": "stderr",
     "output_type": "stream",
     "text": [
      " 49%|██████████████████████████████████████▏                                       | 380/777 [1:15:08<51:31,  7.79s/it]"
     ]
    },
    {
     "name": "stdout",
     "output_type": "stream",
     "text": [
      "\n",
      " Señor de las Ánimas y perenigración. (Junin)\n",
      " Título: TVPerú Noticias Apurímac: Celebran al Señor de las Ánimas\n",
      " URL: https://www.youtube.com/watch?v=3lXHi_2WV48&pp=ygUzU2XDsW9yIGRlIGxhcyDDgW5pbWFzIHkgcGVyZW5pZ3JhY2nDs24uIEp1bmluIFBlcsO6\n"
     ]
    },
    {
     "name": "stderr",
     "output_type": "stream",
     "text": [
      " 49%|██████████████████████████████████████▏                                       | 381/777 [1:15:15<50:25,  7.64s/it]"
     ]
    },
    {
     "name": "stdout",
     "output_type": "stream",
     "text": [
      "\n",
      " Concurso de baile de huaylarsh, Tacanacuy. El\n",
      "Señor de Paca, Taita Cruz Espinas y Carnaval.\n",
      "El Señor de Ánimas de Paca, juego\n",
      "de «comadres». La Cruz Verde y chalanes. (Junin)\n",
      " Título: INSTITUCIÓN CARNAVALESCA CRUZ DE ESPINAS POMACANCHA 2025\n",
      " URL: https://www.youtube.com/watch?v=Hlf_n6BHckc&pp=ygW0AUNvbmN1cnNvIGRlIGJhaWxlIGRlIGh1YXlsYXJzaCwgVGFjYW5hY3V5LiBFbFNlw7FvciBkZSBQYWNhLCBUYWl0YSBDcnV6IEVzcGluYXMgeSBDYXJuYXZhbC5FbCBTZcOxb3IgZGUgw4FuaW1hcyBkZSBQYWNhLCBqdWVnb2RlIMKrY29tYWRyZXPCuy4gTGEgQ3J1eiBWZXJkZSB5IGNoYWxhbmVzLiBKdW5pbiBQZXLDug%3D%3D\n"
     ]
    },
    {
     "name": "stderr",
     "output_type": "stream",
     "text": [
      " 49%|██████████████████████████████████████▎                                       | 382/777 [1:15:23<49:40,  7.55s/it]"
     ]
    },
    {
     "name": "stdout",
     "output_type": "stream",
     "text": [
      "\n",
      " Feria de Tarma. (Junin)\n",
      " Título: 𝐄𝐋 𝐆𝐑𝐀𝐍 𝐅𝐄𝐒𝐓𝐈𝐕𝐀𝐋 𝐏𝐎𝐑 𝐄𝐋 𝐃𝐈́𝐀 𝐈𝐍𝐓𝐄𝐑𝐍𝐀𝐂𝐈𝐎𝐍𝐀𝐋 𝐃𝐄 𝐋𝐀 𝐏𝐀𝐏𝐀 𝐇𝐔𝐀𝐒𝐀𝐇𝐔𝐀𝐒𝐈 𝐓𝐀𝐑𝐌𝐀 𝟐𝟎𝟐𝟓\n",
      " URL: https://www.youtube.com/watch?v=ytaebFLmn_U&pp=ygUbRmVyaWEgZGUgVGFybWEuIEp1bmluIFBlcsO6\n"
     ]
    },
    {
     "name": "stderr",
     "output_type": "stream",
     "text": [
      " 49%|██████████████████████████████████████▍                                       | 383/777 [1:15:32<54:06,  8.24s/it]"
     ]
    },
    {
     "name": "stdout",
     "output_type": "stream",
     "text": [
      "\n",
      " Señor de las Ánimas. Fiesta de\n",
      "Carnaval y concurso de huaylarsh. Fiesta de comadres\n",
      "y carnaval. (Junin)\n",
      " Título: Huaylarsh de Carnaval / Junin / 2 de Enero Chongos Bajo / Quepamacho de Oro 2022 Maqta Sinchi\n",
      " URL: https://www.youtube.com/watch?v=U9_QsSySopM&pp=ygVrU2XDsW9yIGRlIGxhcyDDgW5pbWFzLiBGaWVzdGEgZGVDYXJuYXZhbCB5IGNvbmN1cnNvIGRlIGh1YXlsYXJzaC4gRmllc3RhIGRlIGNvbWFkcmVzeSBjYXJuYXZhbC4gSnVuaW4gUGVyw7o%3D\n"
     ]
    },
    {
     "name": "stderr",
     "output_type": "stream",
     "text": [
      " 49%|██████████████████████████████████████▌                                       | 384/777 [1:15:40<53:04,  8.10s/it]"
     ]
    },
    {
     "name": "stdout",
     "output_type": "stream",
     "text": [
      "\n",
      " No se encontró video para: Fiesta civica, heroismo de las hermanas Toledo\n",
      "(1821). Fiesta agricola y de carnaval. Fiesta\n",
      "de San Jose. Señor de Tacuna y Señor\n",
      "de Tantalcucho. Celebracion del Dia Mundial del\n",
      "Artesano. Fiesta de la Virgen de la Encarnación. Junin Perú\n"
     ]
    },
    {
     "name": "stderr",
     "output_type": "stream",
     "text": [
      " 50%|██████████████████████████████████████▋                                       | 385/777 [1:15:47<49:52,  7.63s/it]"
     ]
    },
    {
     "name": "stdout",
     "output_type": "stream",
     "text": [
      "\n",
      " Fiesta del Señor de Muruhuay. (Junin)\n",
      " Título: Reportaje al Perú: La fiesta del señor de Muruhuay (28/05/2023) | TVPerú\n",
      " URL: https://www.youtube.com/watch?v=rpShUq9O34A&pp=ygUqRmllc3RhIGRlbCBTZcOxb3IgZGUgTXVydWh1YXkuIEp1bmluIFBlcsO6\n"
     ]
    },
    {
     "name": "stderr",
     "output_type": "stream",
     "text": [
      " 50%|██████████████████████████████████████▋                                       | 386/777 [1:15:55<51:12,  7.86s/it]"
     ]
    },
    {
     "name": "stdout",
     "output_type": "stream",
     "text": [
      "\n",
      " Morenada. (Junin)\n",
      " Título: #huancayo. Morenada en Huarisca, Chupaca, Junín, Perú. Banda de guerra Sinfónica Perú.\n",
      " URL: https://www.youtube.com/watch?v=0RAYNv9CxpQ&pp=ygUVTW9yZW5hZGEuIEp1bmluIFBlcsO6\n"
     ]
    },
    {
     "name": "stderr",
     "output_type": "stream",
     "text": [
      " 50%|██████████████████████████████████████▊                                       | 387/777 [1:16:02<49:28,  7.61s/it]"
     ]
    },
    {
     "name": "stdout",
     "output_type": "stream",
     "text": [
      "\n",
      " Huaylarsh, Octava de Carnaval. Fiesta Patronal. (Junin)\n",
      " Título: Huaylarsh de Carnaval - Junin - Perú Tradición y Costumbre PTC (Sambos de Huaral 2017)\n",
      " URL: https://www.youtube.com/watch?v=9Tc0hLrs5so&pp=ygU7SHVheWxhcnNoLCBPY3RhdmEgZGUgQ2FybmF2YWwuIEZpZXN0YSBQYXRyb25hbC4gSnVuaW4gUGVyw7o%3D\n"
     ]
    },
    {
     "name": "stderr",
     "output_type": "stream",
     "text": [
      " 50%|██████████████████████████████████████▉                                       | 388/777 [1:16:09<48:34,  7.49s/it]"
     ]
    },
    {
     "name": "stdout",
     "output_type": "stream",
     "text": [
      "\n",
      " Procesiones. Procesion de Jesus y bendicion\n",
      "del maiz y del trigo. Procesion de Cristo. Fiesta\n",
      "Civica de la majtada o Tropa de Caceres. Procesion\n",
      "de la Virgen Dolorosa. Danza de la Pandilla. Procesion\n",
      "de Cristo Resucitado. (Junin)\n",
      " Título: Procesión Cristo Resucitado y Virgen de la Alegria, Domingo de resurrección, Lima 2024\n",
      " URL: https://www.youtube.com/shorts/2-SlaSfZHIY\n"
     ]
    },
    {
     "name": "stderr",
     "output_type": "stream",
     "text": [
      " 50%|███████████████████████████████████████                                       | 389/777 [1:16:17<48:36,  7.52s/it]"
     ]
    },
    {
     "name": "stdout",
     "output_type": "stream",
     "text": [
      "\n",
      " Aniversario de la batalla de Carato. (Junin)\n",
      " Título: Batalla de Carato - Chupaca - Junín. 19 de abril de 1882\n",
      " URL: https://www.youtube.com/watch?v=EYUVvvDDb1c&pp=ygUwQW5pdmVyc2FyaW8gZGUgbGEgYmF0YWxsYSBkZSBDYXJhdG8uIEp1bmluIFBlcsO6\n"
     ]
    },
    {
     "name": "stderr",
     "output_type": "stream",
     "text": [
      " 50%|███████████████████████████████████████▏                                      | 390/777 [1:16:24<48:14,  7.48s/it]"
     ]
    },
    {
     "name": "stdout",
     "output_type": "stream",
     "text": [
      "\n",
      " Aniversario heroes de Sicaya. (Junin)\n",
      " Título: Escolares participan en conmemoran 142 años de la inmolación de los héroes sicaínos\n",
      " URL: https://www.youtube.com/watch?v=lalRqMZ3GMo&pp=ygUpQW5pdmVyc2FyaW8gaGVyb2VzIGRlIFNpY2F5YS4gSnVuaW4gUGVyw7o%3D\n"
     ]
    },
    {
     "name": "stderr",
     "output_type": "stream",
     "text": [
      " 50%|███████████████████████████████████████▎                                      | 391/777 [1:16:31<46:58,  7.30s/it]"
     ]
    },
    {
     "name": "stdout",
     "output_type": "stream",
     "text": [
      "\n",
      " Señor de Muruhuay. Aniversario de la\n",
      "fundacion española de Jauja (1534). (Junin)\n",
      " Título: Señor de Muruhuay: así se celebra una de las fiestas religiosas más importantes de Junín\n",
      " URL: https://www.youtube.com/watch?v=oZMHM_CPHbU&pp=ygVVU2XDsW9yIGRlIE11cnVodWF5LiBBbml2ZXJzYXJpbyBkZSBsYWZ1bmRhY2lvbiBlc3Bhw7FvbGEgZGUgSmF1amEgKDE1MzQpLiBKdW5pbiBQZXLDug%3D%3D\n"
     ]
    },
    {
     "name": "stderr",
     "output_type": "stream",
     "text": [
      " 50%|███████████████████████████████████████▎                                      | 392/777 [1:16:38<46:35,  7.26s/it]"
     ]
    },
    {
     "name": "stdout",
     "output_type": "stream",
     "text": [
      "\n",
      " La Virgen de Chapi. (Junin)\n",
      " Título: SANTÍSIMA VIRGEN DE CHAPI - DOCUMENTAL\n",
      " URL: https://www.youtube.com/watch?v=GREpM0coXX8&pp=ygUfTGEgVmlyZ2VuIGRlIENoYXBpLiBKdW5pbiBQZXLDug%3D%3D\n"
     ]
    },
    {
     "name": "stderr",
     "output_type": "stream",
     "text": [
      " 51%|███████████████████████████████████████▍                                      | 393/777 [1:16:47<49:08,  7.68s/it]"
     ]
    },
    {
     "name": "stdout",
     "output_type": "stream",
     "text": [
      "\n",
      " Festividad del Señor de Mayo. (Junin)\n",
      " Título: Señor de Muruhuay: así se celebra una de las fiestas religiosas más importantes de Junín\n",
      " URL: https://www.youtube.com/watch?v=oZMHM_CPHbU&pp=ygUqRmVzdGl2aWRhZCBkZWwgU2XDsW9yIGRlIE1heW8uIEp1bmluIFBlcsO6\n"
     ]
    },
    {
     "name": "stderr",
     "output_type": "stream",
     "text": [
      " 51%|███████████████████████████████████████▌                                      | 394/777 [1:16:54<48:17,  7.57s/it]"
     ]
    },
    {
     "name": "stdout",
     "output_type": "stream",
     "text": [
      "\n",
      " Peregrinación del Señor de Muruhuay. (Junin)\n",
      " Título: Peregrinaciones del Perú: Señor de Muruhuay 2014\n",
      " URL: https://www.youtube.com/watch?v=7krruDPE9iY&pp=ygUyUGVyZWdyaW5hY2nDs24gZGVsIFNlw7FvciBkZSBNdXJ1aHVheS4gSnVuaW4gUGVyw7o%3D\n"
     ]
    },
    {
     "name": "stderr",
     "output_type": "stream",
     "text": [
      " 51%|███████████████████████████████████████▋                                      | 395/777 [1:17:02<47:39,  7.49s/it]"
     ]
    },
    {
     "name": "stdout",
     "output_type": "stream",
     "text": [
      "\n",
      " Danza de la Jija. (Junin)\n",
      " Título: JIJA POR LA INSTITUCIÓN FOLCKLÓRICA CORAZÓN SAUSA - JAUJA.\n",
      " URL: https://www.youtube.com/watch?v=UQg0N2b0DjQ&pp=ygUdRGFuemEgZGUgbGEgSmlqYS4gSnVuaW4gUGVyw7rSBwkJ2AkBhyohjO8%3D\n"
     ]
    },
    {
     "name": "stderr",
     "output_type": "stream",
     "text": [
      " 51%|███████████████████████████████████████▊                                      | 396/777 [1:17:09<47:32,  7.49s/it]"
     ]
    },
    {
     "name": "stdout",
     "output_type": "stream",
     "text": [
      "\n",
      " La Virgen de Chapi. Taita Wali y Danza de la\n",
      "Pandilla. Taita Mayo y Danza de la Jija. (Junin)\n",
      " Título: UNA DANZA ANCESTRAL - ULLUSCA LA JIJA 2024 ( En Honor a la Cruz de Mayo, TAYTA MAYO)\n",
      " URL: https://www.youtube.com/watch?v=PSOu4tPeOvI&pp=ygVgTGEgVmlyZ2VuIGRlIENoYXBpLiBUYWl0YSBXYWxpIHkgRGFuemEgZGUgbGFQYW5kaWxsYS4gVGFpdGEgTWF5byB5IERhbnphIGRlIGxhIEppamEuIEp1bmluIFBlcsO6\n"
     ]
    },
    {
     "name": "stderr",
     "output_type": "stream",
     "text": [
      " 51%|███████████████████████████████████████▊                                      | 397/777 [1:17:18<49:13,  7.77s/it]"
     ]
    },
    {
     "name": "stdout",
     "output_type": "stream",
     "text": [
      "\n",
      " Virgen Maria. San Jose. Festividad del señor\n",
      "de la Agonía, cortamonte y danza de la\n",
      "pandilla. (Junin)\n",
      " Título: BARRIO DE YACUP 2025- FIESTA PATRONAL EN HOMENAJE A LA VIRGEN MARIA Y SANTA ISABEL - HUAYLAS ANCASH\n",
      " URL: https://www.youtube.com/watch?v=CVFec5bvihY&pp=ygVpVmlyZ2VuIE1hcmlhLiBTYW4gSm9zZS4gRmVzdGl2aWRhZCBkZWwgc2XDsW9yZGUgbGEgQWdvbsOtYSwgY29ydGFtb250ZSB5IGRhbnphIGRlIGxhcGFuZGlsbGEuIEp1bmluIFBlcsO6\n"
     ]
    },
    {
     "name": "stderr",
     "output_type": "stream",
     "text": [
      " 51%|███████████████████████████████████████▉                                      | 398/777 [1:17:25<48:47,  7.73s/it]"
     ]
    },
    {
     "name": "stdout",
     "output_type": "stream",
     "text": [
      "\n",
      " Danza de Shapish. Fiesta agricola de Jija. (Junin)\n",
      " Título: CONCURSO SHAPISH 2025 / FUE ¡¡¡IMPRESIONANTE !!!\n",
      " URL: https://www.youtube.com/watch?v=i4-Jy5U8JE0&pp=ygU2RGFuemEgZGUgU2hhcGlzaC4gRmllc3RhIGFncmljb2xhIGRlIEppamEuIEp1bmluIFBlcsO6\n"
     ]
    },
    {
     "name": "stderr",
     "output_type": "stream",
     "text": [
      " 51%|████████████████████████████████████████                                      | 399/777 [1:17:33<48:46,  7.74s/it]"
     ]
    },
    {
     "name": "stdout",
     "output_type": "stream",
     "text": [
      "\n",
      " San Cristobal y Taita Mayo. (Junin)\n",
      " Título: MILAGROSA Santísima Cruz de Mayo, \"Señor de San Cristóbal y Huamantanga\" - Junín, Perú\n",
      " URL: https://www.youtube.com/watch?v=hGqBQJ3YGgU&pp=ygUnU2FuIENyaXN0b2JhbCB5IFRhaXRhIE1heW8uIEp1bmluIFBlcsO6\n"
     ]
    },
    {
     "name": "stderr",
     "output_type": "stream",
     "text": [
      " 51%|████████████████████████████████████████▏                                     | 400/777 [1:17:40<47:21,  7.54s/it]"
     ]
    },
    {
     "name": "stdout",
     "output_type": "stream",
     "text": [
      "\n",
      " Aramachay. Huancadanza. San Martin. (Junin)\n",
      " Título: Huanca Danza de Aramachay en Jauja\n",
      " URL: https://www.youtube.com/watch?v=8_hNBwXq1gU&pp=ygUvQXJhbWFjaGF5LiBIdWFuY2FkYW56YS4gU2FuIE1hcnRpbi4gSnVuaW4gUGVyw7o%3D\n"
     ]
    },
    {
     "name": "stderr",
     "output_type": "stream",
     "text": [
      " 52%|████████████████████████████████████████▎                                     | 401/777 [1:17:48<47:55,  7.65s/it]"
     ]
    },
    {
     "name": "stdout",
     "output_type": "stream",
     "text": [
      "\n",
      " Fiesta Patronal de San Martin de Porres. Señor\n",
      "de Mayo. Heroinas Toledo, Virgen Maria. (Junin)\n",
      " Título: Santiago de la familia Tolentino Rodriguez en el Distrito de Heroínas Toledo en el 2022.\n",
      " URL: https://www.youtube.com/shorts/kqFaQrqjJ5U\n"
     ]
    },
    {
     "name": "stderr",
     "output_type": "stream",
     "text": [
      " 52%|████████████████████████████████████████▎                                     | 402/777 [1:17:55<47:11,  7.55s/it]"
     ]
    },
    {
     "name": "stdout",
     "output_type": "stream",
     "text": [
      "\n",
      " Jija. La Virgen del Carmen. Caña Quinto,\n",
      "Danza de la Caña. Shapish Danza. (Junin)\n",
      " Título: Niños bailan la Danza guerrera de LOS SHAPISH en Chupaca-Huancayo-Perú. #chupaca #junin #huancayo\n",
      " URL: https://www.youtube.com/shorts/W8bhFWgXr-8\n"
     ]
    },
    {
     "name": "stderr",
     "output_type": "stream",
     "text": [
      " 52%|████████████████████████████████████████▍                                     | 403/777 [1:18:03<46:38,  7.48s/it]"
     ]
    },
    {
     "name": "stdout",
     "output_type": "stream",
     "text": [
      "\n",
      " Fiesta de las cruces. La Virgen de Fatima. San\n",
      "Antonio de Padua. (Junin)\n",
      " Título: FIESTA de las Cruces Santillana 💐 | Danzas Fátima 2025 🔥 2A S. IMPERDIBLE 💃\n",
      " URL: https://www.youtube.com/watch?v=0us-L826ewY&list=RD0us-L826ewY&start_radio=1&pp=ygVLRmllc3RhIGRlIGxhcyBjcnVjZXMuIExhIFZpcmdlbiBkZSBGYXRpbWEuIFNhbkFudG9uaW8gZGUgUGFkdWEuIEp1bmluIFBlcsO6oAcB\n"
     ]
    },
    {
     "name": "stderr",
     "output_type": "stream",
     "text": [
      " 52%|████████████████████████████████████████▌                                     | 404/777 [1:18:11<47:27,  7.63s/it]"
     ]
    },
    {
     "name": "stdout",
     "output_type": "stream",
     "text": [
      "\n",
      " Matahuasi. San Isidro Labrador. (Junin)\n",
      " Título: Fiesta Patronal San Sebastian de Matahuasi - Junin / FAC DE ODONTOLOGIA - INTERFACULTADES 2023 UNMSM\n",
      " URL: https://www.youtube.com/watch?v=L26iGFpneiM&list=RDL26iGFpneiM&start_radio=1&pp=ygUrTWF0YWh1YXNpLiBTYW4gSXNpZHJvIExhYnJhZG9yLiBKdW5pbiBQZXLDuqAHAQ%3D%3D\n"
     ]
    },
    {
     "name": "stderr",
     "output_type": "stream",
     "text": [
      " 52%|████████████████████████████████████████▋                                     | 405/777 [1:18:18<46:56,  7.57s/it]"
     ]
    },
    {
     "name": "stdout",
     "output_type": "stream",
     "text": [
      "\n",
      " Fiesta del Niño Jesus. Huaripata. San\n",
      "Isidro. (Junin)\n",
      " Título: FIESTA PATRONAL EN HOMENAJE NIÑO JESÚS PATRON DEL C.P. CHAVÍN-HZ 2023. CONTACTOS 943 43 03 05\n",
      " URL: https://www.youtube.com/watch?v=7x1Wlm1cLms&list=RD7x1Wlm1cLms&start_radio=1&pp=ygU5Rmllc3RhIGRlbCBOacOxbyBKZXN1cy4gSHVhcmlwYXRhLiBTYW5Jc2lkcm8uIEp1bmluIFBlcsO6oAcB0gcJCdgJAYcqIYzv\n"
     ]
    },
    {
     "name": "stderr",
     "output_type": "stream",
     "text": [
      " 52%|████████████████████████████████████████▊                                     | 406/777 [1:18:28<50:49,  8.22s/it]"
     ]
    },
    {
     "name": "stdout",
     "output_type": "stream",
     "text": [
      "\n",
      " El Señor Anima Paca y Danza de la Pandilla. (Junin)\n",
      " Título: Tropa de Caceres / Jauja / A.J Señor Anima de Paca ( Danzando por los Niños de Pangoa 2022 )\n",
      " URL: https://www.youtube.com/watch?v=xuLoFy7Tuvo&pp=ygU4RWwgU2XDsW9yIEFuaW1hIFBhY2EgeSBEYW56YSBkZSBsYSBQYW5kaWxsYS4gSnVuaW4gUGVyw7o%3D\n"
     ]
    },
    {
     "name": "stderr",
     "output_type": "stream",
     "text": [
      " 52%|████████████████████████████████████████▊                                     | 407/777 [1:18:37<52:57,  8.59s/it]"
     ]
    },
    {
     "name": "stdout",
     "output_type": "stream",
     "text": [
      "\n",
      " Taita Cruz de Mayo y Danza de la Pandilla. (Junin)\n",
      " Título: UNA DANZA ANCESTRAL - ULLUSCA LA JIJA 2024 ( En Honor a la Cruz de Mayo, TAYTA MAYO)\n",
      " URL: https://www.youtube.com/watch?v=PSOu4tPeOvI&pp=ygU2VGFpdGEgQ3J1eiBkZSBNYXlvIHkgRGFuemEgZGUgbGEgUGFuZGlsbGEuIEp1bmluIFBlcsO6\n"
     ]
    },
    {
     "name": "stderr",
     "output_type": "stream",
     "text": [
      " 53%|████████████████████████████████████████▉                                     | 408/777 [1:18:44<50:13,  8.17s/it]"
     ]
    },
    {
     "name": "stdout",
     "output_type": "stream",
     "text": [
      "\n",
      " La Virgen del Rosario y Danza de la Capitania.\n",
      "Señor del Mercado. Santa Elena y la Virgen\n",
      "de la Asuncion. (Junin)\n",
      " Título: 👉CAPITANÍA 🐴 🐎 (costumbre) 🎶 GRAN INSTITUCIÓN MUSICAL \"VIRGEN DEL ROSARIO\" DE ULCUMAYO ❤️ JUNIN\n",
      " URL: https://www.youtube.com/watch?v=SojZg4zv5gY&list=RDSojZg4zv5gY&start_radio=1&pp=ygV0TGEgVmlyZ2VuIGRlbCBSb3NhcmlvIHkgRGFuemEgZGUgbGEgQ2FwaXRhbmlhLlNlw7FvciBkZWwgTWVyY2Fkby4gU2FudGEgRWxlbmEgeSBsYSBWaXJnZW5kZSBsYSBBc3VuY2lvbi4gSnVuaW4gUGVyw7qgBwE%3D\n"
     ]
    },
    {
     "name": "stderr",
     "output_type": "stream",
     "text": [
      " 53%|█████████████████████████████████████████                                     | 409/777 [1:18:52<48:38,  7.93s/it]"
     ]
    },
    {
     "name": "stdout",
     "output_type": "stream",
     "text": [
      "\n",
      " El Señor de Muruhuay. (Junin)\n",
      " Título: Reportaje al Perú: La fiesta del señor de Muruhuay (28/05/2023) | TVPerú\n",
      " URL: https://www.youtube.com/watch?v=rpShUq9O34A&pp=ygUiRWwgU2XDsW9yIGRlIE11cnVodWF5LiBKdW5pbiBQZXLDug%3D%3D\n"
     ]
    },
    {
     "name": "stderr",
     "output_type": "stream",
     "text": [
      " 53%|█████████████████████████████████████████▏                                    | 410/777 [1:19:01<51:17,  8.39s/it]"
     ]
    },
    {
     "name": "stdout",
     "output_type": "stream",
     "text": [
      "\n",
      " Fiesta de las Cruces. (Junin)\n",
      " Título: JUNÍN, LA CHONGUINADA y la Fiesta de las Cruces 2023 💃🏻 | TRAVELERAS & @hugoxchugox\n",
      " URL: https://www.youtube.com/watch?v=XznglAxgPnM&pp=ygUhRmllc3RhIGRlIGxhcyBDcnVjZXMuIEp1bmluIFBlcsO6\n"
     ]
    },
    {
     "name": "stderr",
     "output_type": "stream",
     "text": [
      " 53%|█████████████████████████████████████████▎                                    | 411/777 [1:19:09<49:58,  8.19s/it]"
     ]
    },
    {
     "name": "stdout",
     "output_type": "stream",
     "text": [
      "\n",
      " Señor de la Exhaltacion. Fiesta del Señor\n",
      "Chinvan. (Junin)\n",
      " Título: Señor de Muruhuay: así se celebra una de las fiestas religiosas más importantes de Junín\n",
      " URL: https://www.youtube.com/watch?v=oZMHM_CPHbU&pp=ygU_U2XDsW9yIGRlIGxhIEV4aGFsdGFjaW9uLiBGaWVzdGEgZGVsIFNlw7FvckNoaW52YW4uIEp1bmluIFBlcsO6\n"
     ]
    },
    {
     "name": "stderr",
     "output_type": "stream",
     "text": [
      " 53%|█████████████████████████████████████████▎                                    | 412/777 [1:19:17<48:55,  8.04s/it]"
     ]
    },
    {
     "name": "stdout",
     "output_type": "stream",
     "text": [
      "\n",
      " El Señor de Chilca. (Junin)\n",
      " Título: Picaflor de los Andes - SEÑOR DE CHILCA\n",
      " URL: https://www.youtube.com/watch?v=xLN_gtcm_C8&list=RDxLN_gtcm_C8&start_radio=1&pp=ygUgRWwgU2XDsW9yIGRlIENoaWxjYS4gSnVuaW4gUGVyw7qgBwE%3D\n"
     ]
    },
    {
     "name": "stderr",
     "output_type": "stream",
     "text": [
      " 53%|█████████████████████████████████████████▍                                    | 413/777 [1:19:24<47:20,  7.80s/it]"
     ]
    },
    {
     "name": "stdout",
     "output_type": "stream",
     "text": [
      "\n",
      " Fiesta de Matahulo. Fiesta del Padre Eterno. (Junin)\n",
      " Título: SANTÍSIMA TRINIDAD / PADRE ETERNO HUANCAYO 2025\n",
      " URL: https://www.youtube.com/watch?v=e2LQFBybdcY&pp=ygU4Rmllc3RhIGRlIE1hdGFodWxvLiBGaWVzdGEgZGVsIFBhZHJlIEV0ZXJuby4gSnVuaW4gUGVyw7rSBwkJ2AkBhyohjO8%3D\n"
     ]
    },
    {
     "name": "stderr",
     "output_type": "stream",
     "text": [
      " 53%|█████████████████████████████████████████▌                                    | 414/777 [1:19:32<48:36,  8.03s/it]"
     ]
    },
    {
     "name": "stdout",
     "output_type": "stream",
     "text": [
      "\n",
      " Las Cruces Barrios y Danza de la Pandilla Toril. (Junin)\n",
      " Título: Celebra Perú - Fiesta de Pentecostés\n",
      " URL: https://www.youtube.com/watch?v=5S0O1bl6OB8&pp=ygU8TGFzIENydWNlcyBCYXJyaW9zIHkgRGFuemEgZGUgbGEgUGFuZGlsbGEgVG9yaWwuIEp1bmluIFBlcsO6\n"
     ]
    },
    {
     "name": "stderr",
     "output_type": "stream",
     "text": [
      " 53%|█████████████████████████████████████████▋                                    | 415/777 [1:19:40<47:46,  7.92s/it]"
     ]
    },
    {
     "name": "stdout",
     "output_type": "stream",
     "text": [
      "\n",
      " Feria Agropecuaria Artesanal. Tayta Padre. La\n",
      "Santisima Trinidad. (Junin)\n",
      " Título: Vispera Tayta Padre Huancayo- Santisima Trinidad\n",
      " URL: https://www.youtube.com/watch?v=k4Jig55y1AM&pp=ygVMRmVyaWEgQWdyb3BlY3VhcmlhIEFydGVzYW5hbC4gVGF5dGEgUGFkcmUuIExhU2FudGlzaW1hIFRyaW5pZGFkLiBKdW5pbiBQZXLDug%3D%3D\n"
     ]
    },
    {
     "name": "stderr",
     "output_type": "stream",
     "text": [
      " 54%|█████████████████████████████████████████▊                                    | 416/777 [1:19:48<46:46,  7.77s/it]"
     ]
    },
    {
     "name": "stdout",
     "output_type": "stream",
     "text": [
      "\n",
      " San Pedro y San Pablo. (Junin)\n",
      " Título: 29 de junio, celebramos la #Solemnidad de #SanPedro y #SanPablo #Jesus #Apóstoles #Iglesia #Fiestas\n",
      " URL: https://www.youtube.com/shorts/zH1ozgrBrjg\n"
     ]
    },
    {
     "name": "stderr",
     "output_type": "stream",
     "text": [
      " 54%|█████████████████████████████████████████▊                                    | 417/777 [1:19:55<46:16,  7.71s/it]"
     ]
    },
    {
     "name": "stdout",
     "output_type": "stream",
     "text": [
      "\n",
      " Fiesta del Padre Eterno y danza de la chonginada. (Junin)\n",
      " Título: Presentacion de la danza Chonguinada en honor a las Padre Eterno//Huancayo//2024\n",
      " URL: https://www.youtube.com/watch?v=TnecyVotJdU&pp=ygU9Rmllc3RhIGRlbCBQYWRyZSBFdGVybm8geSBkYW56YSBkZSBsYSBjaG9uZ2luYWRhLiBKdW5pbiBQZXLDug%3D%3D\n"
     ]
    },
    {
     "name": "stderr",
     "output_type": "stream",
     "text": [
      " 54%|█████████████████████████████████████████▉                                    | 418/777 [1:20:02<44:27,  7.43s/it]"
     ]
    },
    {
     "name": "stdout",
     "output_type": "stream",
     "text": [
      "\n",
      " La Santisima Cruz de Mayo y danza de la tunantada.\n",
      "San Antonio de Padua y Danza de la Pandilla. San\n",
      "Antonio de Ocopa. Taita Padre. La Santisima Trinidad.\n",
      "Virgen de las Mercedes. (Junin)\n",
      " Título: FESTIVAL DE LA TUNANTADA en Honor SANTISIMA CRUZ DE MAYO 2025 SAUSA - JAUJA 3er. CUARTEL 07/05/25\n",
      " URL: https://www.youtube.com/watch?v=L314gcdPEn0&pp=ygW6AUxhIFNhbnRpc2ltYSBDcnV6IGRlIE1heW8geSBkYW56YSBkZSBsYSB0dW5hbnRhZGEuU2FuIEFudG9uaW8gZGUgUGFkdWEgeSBEYW56YSBkZSBsYSBQYW5kaWxsYS4gU2FuQW50b25pbyBkZSBPY29wYS4gVGFpdGEgUGFkcmUuIExhIFNhbnRpc2ltYSBUcmluaWRhZC5WaXJnZW4gZGUgbGFzIE1lcmNlZGVzLiBKdW5pbiBQZXLDug%3D%3D\n"
     ]
    },
    {
     "name": "stderr",
     "output_type": "stream",
     "text": [
      " 54%|██████████████████████████████████████████                                    | 419/777 [1:20:09<43:53,  7.36s/it]"
     ]
    },
    {
     "name": "stdout",
     "output_type": "stream",
     "text": [
      "\n",
      " Festividad del Señor de Paca, Danza de\n",
      "Negritos y Cortamonte. Corpus Christi y Danza\n",
      "de la Pandilla. (Junin)\n",
      " Título: Fiesta Costumbrista del CORPUS CRISTHI y del Patron San Pedro de Cacra con la Danza de los Negritos\n",
      " URL: https://www.youtube.com/watch?v=V_sEv1D-VeM&pp=ygVvRmVzdGl2aWRhZCBkZWwgU2XDsW9yIGRlIFBhY2EsIERhbnphIGRlTmVncml0b3MgeSBDb3J0YW1vbnRlLiBDb3JwdXMgQ2hyaXN0aSB5IERhbnphZGUgbGEgUGFuZGlsbGEuIEp1bmluIFBlcsO60gcJCdgJAYcqIYzv\n"
     ]
    },
    {
     "name": "stderr",
     "output_type": "stream",
     "text": [
      " 54%|██████████████████████████████████████████▏                                   | 420/777 [1:20:16<42:25,  7.13s/it]"
     ]
    },
    {
     "name": "stdout",
     "output_type": "stream",
     "text": [
      "\n",
      " San Juan Bautista. Feria Artesanal del Centro.\n",
      "San Pedro de Saño. (Junin)\n",
      " Título: OCASIÓN, LOTES EN HUANCAYO. EN EL DISTRITO DE SAÑO A 10 MINUTOS DE LA \"UNCP\" CONTACTOS AL.964583542\n",
      " URL: https://www.youtube.com/watch?v=RkZdgFMVs2E&pp=ygVNU2FuIEp1YW4gQmF1dGlzdGEuIEZlcmlhIEFydGVzYW5hbCBkZWwgQ2VudHJvLlNhbiBQZWRybyBkZSBTYcOxby4gSnVuaW4gUGVyw7o%3D\n"
     ]
    },
    {
     "name": "stderr",
     "output_type": "stream",
     "text": [
      " 54%|██████████████████████████████████████████▎                                   | 421/777 [1:20:22<40:34,  6.84s/it]"
     ]
    },
    {
     "name": "stdout",
     "output_type": "stream",
     "text": [
      "\n",
      " Huanconada, Huaylarsh y Chonguinada. (Junin)\n",
      " Título: Chonguinada / Junin / Sentimiento Wanka ( 14 Aniv de Dos De Enero Chongos Bajo 2025 )\n",
      " URL: https://www.youtube.com/watch?v=24sB3hoy7NE&pp=ygUwSHVhbmNvbmFkYSwgSHVheWxhcnNoIHkgQ2hvbmd1aW5hZGEuIEp1bmluIFBlcsO6\n"
     ]
    },
    {
     "name": "stderr",
     "output_type": "stream",
     "text": [
      " 54%|██████████████████████████████████████████▎                                   | 422/777 [1:20:28<39:24,  6.66s/it]"
     ]
    },
    {
     "name": "stdout",
     "output_type": "stream",
     "text": [
      "\n",
      " La Virgen del Perpetuo Socorro. San Pedro. El\n",
      "Señor de Chilca. Llamichada. (Junin)\n",
      " Título: (En Vivo) Procesión en honor a la Virgen del Perpetuo Socorro 2025\n",
      " URL: https://www.youtube.com/watch?v=AcokBvbK7AI&pp=ygVWTGEgVmlyZ2VuIGRlbCBQZXJwZXR1byBTb2NvcnJvLiBTYW4gUGVkcm8uIEVsU2XDsW9yIGRlIENoaWxjYS4gTGxhbWljaGFkYS4gSnVuaW4gUGVyw7o%3D\n"
     ]
    },
    {
     "name": "stderr",
     "output_type": "stream",
     "text": [
      " 54%|██████████████████████████████████████████▍                                   | 423/777 [1:20:36<41:15,  6.99s/it]"
     ]
    },
    {
     "name": "stdout",
     "output_type": "stream",
     "text": [
      "\n",
      " San Juan Bautista. (Junin)\n",
      " Título: ORQ. MUSICAL INTERNACIONAL PERU - MIX HUAYLASH / FIESTA PATRONAL SAN JUAN BAUTISTA - HUANCHAR 2025\n",
      " URL: https://www.youtube.com/watch?v=NnLaPXREKCA&pp=ygUeU2FuIEp1YW4gQmF1dGlzdGEuIEp1bmluIFBlcsO6\n"
     ]
    },
    {
     "name": "stderr",
     "output_type": "stream",
     "text": [
      " 55%|██████████████████████████████████████████▌                                   | 424/777 [1:20:42<39:53,  6.78s/it]"
     ]
    },
    {
     "name": "stdout",
     "output_type": "stream",
     "text": [
      "\n",
      " Fiesta patronal de San Pedro de Cajas. (Junin)\n",
      " Título: FIESTA PATRONAL DE SAN PEDRO DE CAJAS TARMA JUNI - 2025\n",
      " URL: https://www.youtube.com/watch?v=itnAqPUnhvE&pp=ygUyRmllc3RhIHBhdHJvbmFsIGRlIFNhbiBQZWRybyBkZSBDYWphcy4gSnVuaW4gUGVyw7o%3D\n"
     ]
    },
    {
     "name": "stderr",
     "output_type": "stream",
     "text": [
      " 55%|██████████████████████████████████████████▋                                   | 425/777 [1:20:48<38:46,  6.61s/it]"
     ]
    },
    {
     "name": "stdout",
     "output_type": "stream",
     "text": [
      "\n",
      " La Virgen de Ocopa. (Junin)\n",
      " Título: COVENTO SANTA ROSA DE OCOPA /JUNIN / CONCEPCION / HUANCAYO\n",
      " URL: https://www.youtube.com/watch?v=xi6bGEQpglQ&pp=ygUfTGEgVmlyZ2VuIGRlIE9jb3BhLiBKdW5pbiBQZXLDug%3D%3D\n"
     ]
    },
    {
     "name": "stderr",
     "output_type": "stream",
     "text": [
      " 55%|██████████████████████████████████████████▊                                   | 426/777 [1:20:55<38:43,  6.62s/it]"
     ]
    },
    {
     "name": "stdout",
     "output_type": "stream",
     "text": [
      "\n",
      " Fiesta Patronal Central (25 de julio). (Junin)\n",
      " Título: ACAYA JAUJA 2017 FIESTA DE SANTIAGO 25 DE JULIO\n",
      " URL: https://www.youtube.com/watch?v=p8A6ubT-uSE&pp=ygUyRmllc3RhIFBhdHJvbmFsIENlbnRyYWwgKDI1IGRlIGp1bGlvKS4gSnVuaW4gUGVyw7o%3D\n"
     ]
    },
    {
     "name": "stderr",
     "output_type": "stream",
     "text": [
      " 55%|██████████████████████████████████████████▊                                   | 427/777 [1:21:01<37:41,  6.46s/it]"
     ]
    },
    {
     "name": "stdout",
     "output_type": "stream",
     "text": [
      "\n",
      " Fiesta patronal de San Pedro. (Junin)\n",
      " Título: PERÚ PROFUNDO 🇵🇪| Fiesta Patronal de San Pedro en la región de Junín - 06 de Julio\n",
      " URL: https://www.youtube.com/watch?v=FUetAfXOrL8&pp=ygUpRmllc3RhIHBhdHJvbmFsIGRlIFNhbiBQZWRyby4gSnVuaW4gUGVyw7rSBwkJ2AkBhyohjO8%3D\n"
     ]
    },
    {
     "name": "stderr",
     "output_type": "stream",
     "text": [
      " 55%|██████████████████████████████████████████▉                                   | 428/777 [1:21:07<36:56,  6.35s/it]"
     ]
    },
    {
     "name": "stdout",
     "output_type": "stream",
     "text": [
      "\n",
      " Campaña de la Breña. El Señor\n",
      "de las Animas de Paca y Danzas del Jaljapacuy\n",
      "y de la Pandilla. San Isidro. (Junin)\n",
      " Título: Agrupación Juvenil \"Señor Animas De Paca\" 🏆🇵🇪\n",
      " URL: https://www.youtube.com/watch?v=Y0REA0MtM7w&pp=ygV2Q2FtcGHDsWEgZGUgbGEgQnJlw7FhLiBFbCBTZcOxb3JkZSBsYXMgQW5pbWFzIGRlIFBhY2EgeSBEYW56YXMgZGVsIEphbGphcGFjdXl5IGRlIGxhIFBhbmRpbGxhLiBTYW4gSXNpZHJvLiBKdW5pbiBQZXLDug%3D%3D\n"
     ]
    },
    {
     "name": "stderr",
     "output_type": "stream",
     "text": [
      " 55%|███████████████████████████████████████████                                   | 429/777 [1:21:14<37:30,  6.47s/it]"
     ]
    },
    {
     "name": "stdout",
     "output_type": "stream",
     "text": [
      "\n",
      " Danza de los Auquis o Viejitos. La Virgen del\n",
      "Carmen. San Isidro. (Junin)\n",
      " Título: 🧡 KACHAMPA de PAUCARTAMBO 2022\n",
      " URL: https://www.youtube.com/shorts/j-1E0fqbwkU\n"
     ]
    },
    {
     "name": "stderr",
     "output_type": "stream",
     "text": [
      " 55%|███████████████████████████████████████████▏                                  | 430/777 [1:21:21<38:23,  6.64s/it]"
     ]
    },
    {
     "name": "stdout",
     "output_type": "stream",
     "text": [
      "\n",
      " Fiesta de María Magdalena y Danza de\n",
      "la Tunantada. (Junin)\n",
      " Título: TUNANTADA EN HONOR A SANTA MARÍA MAGDALENA - MARCO 2023 1\n",
      " URL: https://www.youtube.com/watch?v=uZ__0haJZbw&pp=ygU-Rmllc3RhIGRlIE1hcsOtYSBNYWdkYWxlbmEgeSBEYW56YSBkZWxhIFR1bmFudGFkYS4gSnVuaW4gUGVyw7rSBwkJ2AkBhyohjO8%3D\n"
     ]
    },
    {
     "name": "stderr",
     "output_type": "stream",
     "text": [
      " 55%|███████████████████████████████████████████▎                                  | 431/777 [1:21:27<37:38,  6.53s/it]"
     ]
    },
    {
     "name": "stdout",
     "output_type": "stream",
     "text": [
      "\n",
      " Virgen de la Magdalena. (Junin)\n",
      " Título: Chonguinada \"Santa María Magdalena\". Concepción, Junín - Perú / Foto y edición: Miguel Mejía Castro\n",
      " URL: https://www.youtube.com/watch?v=uVz9cUnkvSQ&list=RDuVz9cUnkvSQ&start_radio=1&pp=ygUjVmlyZ2VuIGRlIGxhIE1hZ2RhbGVuYS4gSnVuaW4gUGVyw7qgBwE%3D\n"
     ]
    },
    {
     "name": "stderr",
     "output_type": "stream",
     "text": [
      " 56%|███████████████████████████████████████████▎                                  | 432/777 [1:21:34<38:03,  6.62s/it]"
     ]
    },
    {
     "name": "stdout",
     "output_type": "stream",
     "text": [
      "\n",
      " Santiago. (Junin)\n",
      " Título: ¡Desde huancayo para el mundo!: La fiesta de Santiago, conoce una tradición desde 1538.\n",
      " URL: https://www.youtube.com/watch?v=fXx8hCeUKdQ&pp=ygUVU2FudGlhZ28uIEp1bmluIFBlcsO6\n"
     ]
    },
    {
     "name": "stderr",
     "output_type": "stream",
     "text": [
      " 56%|███████████████████████████████████████████▍                                  | 433/777 [1:21:40<37:07,  6.48s/it]"
     ]
    },
    {
     "name": "stdout",
     "output_type": "stream",
     "text": [
      "\n",
      " La Virgen del Carmen o La Morenada. Fiesta de\n",
      "Santiago. (Junin)\n",
      " Título: Fiesta de la Virgen del Carmen | Comunidad Peruana de Santiago.\n",
      " URL: https://www.youtube.com/watch?v=os_G5fY2geY&pp=ygVCTGEgVmlyZ2VuIGRlbCBDYXJtZW4gbyBMYSBNb3JlbmFkYS4gRmllc3RhIGRlU2FudGlhZ28uIEp1bmluIFBlcsO6\n"
     ]
    },
    {
     "name": "stderr",
     "output_type": "stream",
     "text": [
      " 56%|███████████████████████████████████████████▌                                  | 434/777 [1:21:47<37:45,  6.61s/it]"
     ]
    },
    {
     "name": "stdout",
     "output_type": "stream",
     "text": [
      "\n",
      " Fiesta Patronal de San Cristobal. (Junin)\n",
      " Título: CUADRILLA DE CHONGUINOS BARRIO DE SAN CRISTÓBAL / En Concurso / Honor a Cruces de Mayo - Junín 2024\n",
      " URL: https://www.youtube.com/watch?v=DD01bQAO2fc&list=RDDD01bQAO2fc&start_radio=1&pp=ygUtRmllc3RhIFBhdHJvbmFsIGRlIFNhbiBDcmlzdG9iYWwuIEp1bmluIFBlcsO6oAcB\n"
     ]
    },
    {
     "name": "stderr",
     "output_type": "stream",
     "text": [
      " 56%|███████████████████████████████████████████▋                                  | 435/777 [1:21:53<36:43,  6.44s/it]"
     ]
    },
    {
     "name": "stdout",
     "output_type": "stream",
     "text": [
      "\n",
      " Fiestas Patrias. (Junin)\n",
      " Título: Junín espera más de 80 mil visitantes por Fiestas Patrias\n",
      " URL: https://www.youtube.com/watch?v=SrwtuORMbmc&pp=ygUcRmllc3RhcyBQYXRyaWFzLiBKdW5pbiBQZXLDug%3D%3D\n"
     ]
    },
    {
     "name": "stderr",
     "output_type": "stream",
     "text": [
      " 56%|███████████████████████████████████████████▊                                  | 436/777 [1:21:59<36:11,  6.37s/it]"
     ]
    },
    {
     "name": "stdout",
     "output_type": "stream",
     "text": [
      "\n",
      " Porciuncula en honor a San Francisco y a la\n",
      "Virgen de Ocopa. Santa Ana y Danza de la Pandilla.\n",
      "San Juan de Dios. (Junin)\n",
      " Título: Tradicional Porciúncula recuerda pedido de San Francisco de Asís\n",
      " URL: https://www.youtube.com/watch?v=b18z-30Ooko&pp=ygV6UG9yY2l1bmN1bGEgZW4gaG9ub3IgYSBTYW4gRnJhbmNpc2NvIHkgYSBsYVZpcmdlbiBkZSBPY29wYS4gU2FudGEgQW5hIHkgRGFuemEgZGUgbGEgUGFuZGlsbGEuU2FuIEp1YW4gZGUgRGlvcy4gSnVuaW4gUGVyw7o%3D\n"
     ]
    },
    {
     "name": "stderr",
     "output_type": "stream",
     "text": [
      " 56%|███████████████████████████████████████████▊                                  | 437/777 [1:22:06<36:54,  6.51s/it]"
     ]
    },
    {
     "name": "stdout",
     "output_type": "stream",
     "text": [
      "\n",
      " Fiesta Patronal de la Virgen de las Nieves y\n",
      "Danzas de la Jija y de la Tunantada. Santo Domingo\n",
      "de Guzman. (Junin)\n",
      " Título: Huachac 2011 Historia y víspera Fiesta patronal Santo Domingo de Guzmán\n",
      " URL: https://www.youtube.com/watch?v=DyljsA6IocA&pp=ygV0Rmllc3RhIFBhdHJvbmFsIGRlIGxhIFZpcmdlbiBkZSBsYXMgTmlldmVzIHlEYW56YXMgZGUgbGEgSmlqYSB5IGRlIGxhIFR1bmFudGFkYS4gU2FudG8gRG9taW5nb2RlIEd1em1hbi4gSnVuaW4gUGVyw7o%3D\n"
     ]
    },
    {
     "name": "stderr",
     "output_type": "stream",
     "text": [
      " 56%|███████████████████████████████████████████▉                                  | 438/777 [1:22:12<36:04,  6.38s/it]"
     ]
    },
    {
     "name": "stdout",
     "output_type": "stream",
     "text": [
      "\n",
      " Fiesta de San Juan de Dios. La Virgen de las\n",
      "Nieves y Danzas de la Pandilla y de la Tunantada. (Junin)\n",
      " Título: VIRGEN DE LAS NIEVES FIESTA PATRONAL / CCAINA / HERRAJES DEL ARRIERO 2023\n",
      " URL: https://www.youtube.com/watch?v=7YAXfhpyFfM&list=RD7YAXfhpyFfM&start_radio=1&pp=ygVpRmllc3RhIGRlIFNhbiBKdWFuIGRlIERpb3MuIExhIFZpcmdlbiBkZSBsYXNOaWV2ZXMgeSBEYW56YXMgZGUgbGEgUGFuZGlsbGEgeSBkZSBsYSBUdW5hbnRhZGEuIEp1bmluIFBlcsO6oAcB\n"
     ]
    },
    {
     "name": "stderr",
     "output_type": "stream",
     "text": [
      " 56%|████████████████████████████████████████████                                  | 439/777 [1:22:18<35:28,  6.30s/it]"
     ]
    },
    {
     "name": "stdout",
     "output_type": "stream",
     "text": [
      "\n",
      " Aniversario de la Batalla de Junín. Danza\n",
      "de la Chuncada. (Junin)\n",
      " Título: Provincias bailaron por Aniversario de la Región Junín\n",
      " URL: https://www.youtube.com/watch?v=WlEVF3wpK2I&pp=ygVFQW5pdmVyc2FyaW8gZGUgbGEgQmF0YWxsYSBkZSBKdW7DrW4uIERhbnphZGUgbGEgQ2h1bmNhZGEuIEp1bmluIFBlcsO6\n"
     ]
    },
    {
     "name": "stderr",
     "output_type": "stream",
     "text": [
      " 57%|████████████████████████████████████████████▏                                 | 440/777 [1:22:25<35:09,  6.26s/it]"
     ]
    },
    {
     "name": "stdout",
     "output_type": "stream",
     "text": [
      "\n",
      " El Señor de la Caña. San Isidro.\n",
      "Baile Chacareros. Cruz de Villa Sausa. La Ascension\n",
      "del Señor. Cruz de Mayo. (Junin)\n",
      " Título: 🔰Fiesta a las CRUCES DE MAYO ⛪Capilla Señor de Millpotambo - Junin 2023 (Parte 02)\n",
      " URL: https://www.youtube.com/watch?v=u6kKMyx3__0&pp=ygV6RWwgU2XDsW9yIGRlIGxhIENhw7FhLiBTYW4gSXNpZHJvLkJhaWxlIENoYWNhcmVyb3MuIENydXogZGUgVmlsbGEgU2F1c2EuIExhIEFzY2Vuc2lvbmRlbCBTZcOxb3IuIENydXogZGUgTWF5by4gSnVuaW4gUGVyw7o%3D\n"
     ]
    },
    {
     "name": "stderr",
     "output_type": "stream",
     "text": [
      " 57%|████████████████████████████████████████████▎                                 | 441/777 [1:22:31<35:41,  6.37s/it]"
     ]
    },
    {
     "name": "stdout",
     "output_type": "stream",
     "text": [
      "\n",
      " Fiesta de San Isidro. Fiesta de San Lorenzo,\n",
      "Corrida de toros, Cortamonte y Danza de la Tunantada.\n",
      "El Señor de la Agonia. (Junin)\n",
      " Título: CUTERVO 2025 -6ta de feria | Brindis de Alfonso de Lima a Sebastián Castella el 5to toro de la tarde\n",
      " URL: https://www.youtube.com/watch?v=yQfMIEEs2FQ&pp=ygWEAUZpZXN0YSBkZSBTYW4gSXNpZHJvLiBGaWVzdGEgZGUgU2FuIExvcmVuem8sQ29ycmlkYSBkZSB0b3JvcywgQ29ydGFtb250ZSB5IERhbnphIGRlIGxhIFR1bmFudGFkYS5FbCBTZcOxb3IgZGUgbGEgQWdvbmlhLiBKdW5pbiBQZXLDug%3D%3D\n"
     ]
    },
    {
     "name": "stderr",
     "output_type": "stream",
     "text": [
      " 57%|████████████████████████████████████████████▎                                 | 442/777 [1:22:37<35:17,  6.32s/it]"
     ]
    },
    {
     "name": "stdout",
     "output_type": "stream",
     "text": [
      "\n",
      " 2da. Quincena Chanchamayo. Semana Turistica\n",
      "de San Ramon. (Junin)\n",
      " Título: viajando a la selva central SAN RAMÓN -LA MERCED . #travel #peru #videoblog #viral #photography\n",
      " URL: https://www.youtube.com/shorts/5sTLBoK-LVI\n"
     ]
    },
    {
     "name": "stderr",
     "output_type": "stream",
     "text": [
      " 57%|████████████████████████████████████████████▍                                 | 443/777 [1:22:44<35:34,  6.39s/it]"
     ]
    },
    {
     "name": "stdout",
     "output_type": "stream",
     "text": [
      "\n",
      " La Virgen de la Asuncion y Danza de la Tunantada.\n",
      "San Roque y la Virgen del Perpetuo Socorro. (Junin)\n",
      " Título: TUNANTADA SAN ROQUE - ARTE y TRADICIÓN\n",
      " URL: https://www.youtube.com/watch?v=jmTsAxSN3as&pp=ygVoTGEgVmlyZ2VuIGRlIGxhIEFzdW5jaW9uIHkgRGFuemEgZGUgbGEgVHVuYW50YWRhLlNhbiBSb3F1ZSB5IGxhIFZpcmdlbiBkZWwgUGVycGV0dW8gU29jb3Jyby4gSnVuaW4gUGVyw7o%3D\n"
     ]
    },
    {
     "name": "stderr",
     "output_type": "stream",
     "text": [
      " 57%|████████████████████████████████████████████▌                                 | 444/777 [1:22:50<34:53,  6.29s/it]"
     ]
    },
    {
     "name": "stdout",
     "output_type": "stream",
     "text": [
      "\n",
      " Fiesta Patronal de San Roque. Danza de los Avelinos,\n",
      "Danzas de la Pandilla y de la Tunantada y toros.\n",
      "3era. Sem. Huancayo San Jeronimo de Tunan. (Junin)\n",
      " Título: Los Avelinos de San Jerónimo de Tunán (Junín)\n",
      " URL: https://www.youtube.com/watch?v=9zrReaL7VtQ&pp=ygWaAUZpZXN0YSBQYXRyb25hbCBkZSBTYW4gUm9xdWUuIERhbnphIGRlIGxvcyBBdmVsaW5vcyxEYW56YXMgZGUgbGEgUGFuZGlsbGEgeSBkZSBsYSBUdW5hbnRhZGEgeSB0b3Jvcy4zZXJhLiBTZW0uIEh1YW5jYXlvIFNhbiBKZXJvbmltbyBkZSBUdW5hbi4gSnVuaW4gUGVyw7o%3D\n"
     ]
    },
    {
     "name": "stderr",
     "output_type": "stream",
     "text": [
      " 57%|████████████████████████████████████████████▋                                 | 445/777 [1:22:57<35:59,  6.50s/it]"
     ]
    },
    {
     "name": "stdout",
     "output_type": "stream",
     "text": [
      "\n",
      " Festividad del Señor de la Agonía\n",
      "y danza de la tunantada. (Junin)\n",
      " Título: RECUERDOS DE JULCÁN | CHUTO ENAMORADO hasta los huesos | Tunantada\n",
      " URL: https://www.youtube.com/watch?v=2amc8FzJINA&list=RD2amc8FzJINA&start_radio=1&pp=ygVHRmVzdGl2aWRhZCBkZWwgU2XDsW9yIGRlIGxhIEFnb27DrWF5IGRhbnphIGRlIGxhIHR1bmFudGFkYS4gSnVuaW4gUGVyw7qgBwE%3D\n"
     ]
    },
    {
     "name": "stderr",
     "output_type": "stream",
     "text": [
      " 57%|████████████████████████████████████████████▊                                 | 446/777 [1:23:04<36:15,  6.57s/it]"
     ]
    },
    {
     "name": "stdout",
     "output_type": "stream",
     "text": [
      "\n",
      " Fiesta patronal de San Roque. Fiesta Patronal\n",
      "de San Agustin. (Junin)\n",
      " Título: FIESTA PATRONAL EN HONOR A NUESTRO SANTO PATRÓN SAN AGUSTÍN Soc. de Avelinos San Agustín - SASAN\n",
      " URL: https://www.youtube.com/watch?v=_KqyId7b7nU&pp=ygVIRmllc3RhIHBhdHJvbmFsIGRlIFNhbiBSb3F1ZS4gRmllc3RhIFBhdHJvbmFsZGUgU2FuIEFndXN0aW4uIEp1bmluIFBlcsO6\n"
     ]
    },
    {
     "name": "stderr",
     "output_type": "stream",
     "text": [
      " 58%|████████████████████████████████████████████▊                                 | 447/777 [1:23:10<35:11,  6.40s/it]"
     ]
    },
    {
     "name": "stdout",
     "output_type": "stream",
     "text": [
      "\n",
      " San Bartolome. Santo Cristo. (Junin)\n",
      " Título: 24 de agosto SAN BARTOLOMÉ APÓSTOL, HOMBRE DE FE, HONESTO Y SINCERO\n",
      " URL: https://www.youtube.com/watch?v=4tiD33tOdYg&pp=ygUoU2FuIEJhcnRvbG9tZS4gU2FudG8gQ3Jpc3RvLiBKdW5pbiBQZXLDug%3D%3D\n"
     ]
    },
    {
     "name": "stderr",
     "output_type": "stream",
     "text": [
      " 58%|████████████████████████████████████████████▉                                 | 448/777 [1:23:16<34:39,  6.32s/it]"
     ]
    },
    {
     "name": "stdout",
     "output_type": "stream",
     "text": [
      "\n",
      " Festividad de Santa Rosa de Lima. (Junin)\n",
      " Título: FESTIVIDAD PATRONAL SANTA ROSA DE LIMA 2023\n",
      " URL: https://www.youtube.com/watch?v=nJOKlMMd9hk&pp=ygUtRmVzdGl2aWRhZCBkZSBTYW50YSBSb3NhIGRlIExpbWEuIEp1bmluIFBlcsO6\n"
     ]
    },
    {
     "name": "stderr",
     "output_type": "stream",
     "text": [
      " 58%|█████████████████████████████████████████████                                 | 449/777 [1:23:22<34:23,  6.29s/it]"
     ]
    },
    {
     "name": "stdout",
     "output_type": "stream",
     "text": [
      "\n",
      " Festividad de Santa Rosa y escenificación\n",
      "de la muerte del Inca. San Roque. (Junin)\n",
      " Título: Recrean la muerte del inca Atahualpa en fiesta en Junín\n",
      " URL: https://www.youtube.com/watch?v=0uw4ncHU1vk&pp=ygVXRmVzdGl2aWRhZCBkZSBTYW50YSBSb3NhIHkgZXNjZW5pZmljYWNpw7NuZGUgbGEgbXVlcnRlIGRlbCBJbmNhLiBTYW4gUm9xdWUuIEp1bmluIFBlcsO6\n"
     ]
    },
    {
     "name": "stderr",
     "output_type": "stream",
     "text": [
      " 58%|█████████████████████████████████████████████▏                                | 450/777 [1:23:28<33:48,  6.20s/it]"
     ]
    },
    {
     "name": "stdout",
     "output_type": "stream",
     "text": [
      "\n",
      " Escenificacion de la prision del inca y Fiesta\n",
      "de la Virgen de la Merced. (Junin)\n",
      " Título: Internos del penal de Chanchamayo conmemoran Fiestas Patrias\n",
      " URL: https://www.youtube.com/watch?v=LZgu7aqoe2c&pp=ygVURXNjZW5pZmljYWNpb24gZGUgbGEgcHJpc2lvbiBkZWwgaW5jYSB5IEZpZXN0YWRlIGxhIFZpcmdlbiBkZSBsYSBNZXJjZWQuIEp1bmluIFBlcsO6\n"
     ]
    },
    {
     "name": "stderr",
     "output_type": "stream",
     "text": [
      " 58%|█████████████████████████████████████████████▎                                | 451/777 [1:23:34<33:44,  6.21s/it]"
     ]
    },
    {
     "name": "stdout",
     "output_type": "stream",
     "text": [
      "\n",
      " Fiesta Patronal y Danza de la Pandilla. Fiesta\n",
      "de la Virgen de Cocharcas, danzas de chunchos\n",
      "y pallas. (Junin)\n",
      " Título: ENGREIDOS DE LA VIRGEN DE COCHARCAS SAPALLANGA 2024\n",
      " URL: https://www.youtube.com/watch?v=p717jPfwXTY&pp=ygVwRmllc3RhIFBhdHJvbmFsIHkgRGFuemEgZGUgbGEgUGFuZGlsbGEuIEZpZXN0YWRlIGxhIFZpcmdlbiBkZSBDb2NoYXJjYXMsIGRhbnphcyBkZSBjaHVuY2hvc3kgcGFsbGFzLiBKdW5pbiBQZXLDug%3D%3D\n"
     ]
    },
    {
     "name": "stderr",
     "output_type": "stream",
     "text": [
      " 58%|█████████████████████████████████████████████▎                                | 452/777 [1:23:40<33:26,  6.17s/it]"
     ]
    },
    {
     "name": "stdout",
     "output_type": "stream",
     "text": [
      "\n",
      " Fiesta Patronal de San Isidro. Virgen de Cocharcas. (Junin)\n",
      " Título: Fiesta por la Virgen de Cocharcas 2024 #peru #danza #tradicionesperuanas #orcotuna #junin #2024\n",
      " URL: https://www.youtube.com/shorts/HcRyENxB1tY\n"
     ]
    },
    {
     "name": "stderr",
     "output_type": "stream",
     "text": [
      " 58%|█████████████████████████████████████████████▍                                | 453/777 [1:23:47<34:11,  6.33s/it]"
     ]
    },
    {
     "name": "stdout",
     "output_type": "stream",
     "text": [
      "\n",
      " El Señor de la Agonia Marco y Danza de\n",
      "la Pandilla. (Junin)\n",
      " Título: Hermandad del Señor de la Agonía - Carnaval Marqueño (Junín) CONCURSO WAYRA PERU 2015 - TIKARY PROD.\n",
      " URL: https://www.youtube.com/watch?v=-MvZOCJ-92U&pp=ygU_RWwgU2XDsW9yIGRlIGxhIEFnb25pYSBNYXJjbyB5IERhbnphIGRlbGEgUGFuZGlsbGEuIEp1bmluIFBlcsO60gcJCdgJAYcqIYzv\n"
     ]
    },
    {
     "name": "stderr",
     "output_type": "stream",
     "text": [
      " 58%|█████████████████████████████████████████████▌                                | 454/777 [1:23:53<33:36,  6.24s/it]"
     ]
    },
    {
     "name": "stdout",
     "output_type": "stream",
     "text": [
      "\n",
      " Fiesta del Quince. Fiesta Patronal de San Agustin.\n",
      "Danza de la Pandilla. Festival de la Virgen de\n",
      "Cocharcas. (Junin)\n",
      " Título: Santiago Familia Cosme Rojas // San Agustín de Cajas // Con la Orquesta La Nueva Internacional Perú\n",
      " URL: https://www.youtube.com/watch?v=pabi2wt3nng&pp=ygV2Rmllc3RhIGRlbCBRdWluY2UuIEZpZXN0YSBQYXRyb25hbCBkZSBTYW4gQWd1c3Rpbi5EYW56YSBkZSBsYSBQYW5kaWxsYS4gRmVzdGl2YWwgZGUgbGEgVmlyZ2VuIGRlQ29jaGFyY2FzLiBKdW5pbiBQZXLDug%3D%3D\n"
     ]
    },
    {
     "name": "stderr",
     "output_type": "stream",
     "text": [
      " 59%|█████████████████████████████████████████████▋                                | 455/777 [1:23:59<33:08,  6.18s/it]"
     ]
    },
    {
     "name": "stdout",
     "output_type": "stream",
     "text": [
      "\n",
      " La Virgen de la Natividad. San Cristobal. (Junin)\n",
      " Título: Huachos 2016 - San Cristobal y la Virgen de la Natividad\n",
      " URL: https://www.youtube.com/watch?v=K6hQ9Yaj9Rg&list=RDK6hQ9Yaj9Rg&start_radio=1&pp=ygU1TGEgVmlyZ2VuIGRlIGxhIE5hdGl2aWRhZC4gU2FuIENyaXN0b2JhbC4gSnVuaW4gUGVyw7qgBwE%3D\n"
     ]
    },
    {
     "name": "stderr",
     "output_type": "stream",
     "text": [
      " 59%|█████████████████████████████████████████████▊                                | 456/777 [1:24:05<32:51,  6.14s/it]"
     ]
    },
    {
     "name": "stdout",
     "output_type": "stream",
     "text": [
      "\n",
      " Fiesta de la Virgen de la Merced. (Junin)\n",
      " Título: FIESTA DE LA VIRGEN de la MISERICORDIA PATRONA de los SOLTEROS JUNIN -JUNIN 2025 PARTE 1\n",
      " URL: https://www.youtube.com/watch?v=1bPKBhZTGFE&list=RD1bPKBhZTGFE&start_radio=1&pp=ygUtRmllc3RhIGRlIGxhIFZpcmdlbiBkZSBsYSBNZXJjZWQuIEp1bmluIFBlcsO6oAcB\n"
     ]
    },
    {
     "name": "stderr",
     "output_type": "stream",
     "text": [
      " 59%|█████████████████████████████████████████████▉                                | 457/777 [1:24:11<32:57,  6.18s/it]"
     ]
    },
    {
     "name": "stdout",
     "output_type": "stream",
     "text": [
      "\n",
      " La Virgen de la Merced. (Junin)\n",
      " Título: Así celebra JuanJui - San Martín a la Virgen de la Merced | Celebra Perú\n",
      " URL: https://www.youtube.com/watch?v=b6iAcO7ky6g&pp=ygUjTGEgVmlyZ2VuIGRlIGxhIE1lcmNlZC4gSnVuaW4gUGVyw7rSBwkJ2AkBhyohjO8%3D\n"
     ]
    },
    {
     "name": "stderr",
     "output_type": "stream",
     "text": [
      " 59%|█████████████████████████████████████████████▉                                | 458/777 [1:24:18<33:31,  6.31s/it]"
     ]
    },
    {
     "name": "stdout",
     "output_type": "stream",
     "text": [
      "\n",
      " San Jeronimo. (Junin)\n",
      " Título: Los Avelinos de San Jerónimo de Tunán (Junín)\n",
      " URL: https://www.youtube.com/watch?v=9zrReaL7VtQ&pp=ygUZU2FuIEplcm9uaW1vLiBKdW5pbiBQZXLDug%3D%3D\n"
     ]
    },
    {
     "name": "stderr",
     "output_type": "stream",
     "text": [
      " 59%|██████████████████████████████████████████████                                | 459/777 [1:24:24<33:06,  6.25s/it]"
     ]
    },
    {
     "name": "stdout",
     "output_type": "stream",
     "text": [
      "\n",
      " La Virgen de las Mercedes. 4ta. Semana: Semana\n",
      "Turistica de Huancayo. (Junin)\n",
      " Título: ¡Lleva las tradiciones de Huancayo a Lima con Internacional Crucero! #huancayo #peru #chongos #lima\n",
      " URL: https://www.youtube.com/shorts/dg9dbk7R5ck\n"
     ]
    },
    {
     "name": "stderr",
     "output_type": "stream",
     "text": [
      " 59%|██████████████████████████████████████████████▏                               | 460/777 [1:24:31<33:06,  6.27s/it]"
     ]
    },
    {
     "name": "stdout",
     "output_type": "stream",
     "text": [
      "\n",
      " San Miguel Arcangel. (Junin)\n",
      " Título: SAN MIGUEL ARCÁNGEL: ASEGÚRATE DE QUE TU VIAJE TERRENAL VALGA LA PENA!\n",
      " URL: https://www.youtube.com/watch?v=OJzcu6pWbb4&pp=ygUgU2FuIE1pZ3VlbCBBcmNhbmdlbC4gSnVuaW4gUGVyw7rSBwkJ2AkBhyohjO8%3D\n"
     ]
    },
    {
     "name": "stderr",
     "output_type": "stream",
     "text": [
      " 59%|██████████████████████████████████████████████▎                               | 461/777 [1:24:37<33:57,  6.45s/it]"
     ]
    },
    {
     "name": "stdout",
     "output_type": "stream",
     "text": [
      "\n",
      " Festival. San Miguel Arcangel. (Junin)\n",
      " Título: Comparsa San Miguel Arcángel - Perfume de Carnaval\n",
      " URL: https://www.youtube.com/watch?v=flYNDFHd5vE&list=RDflYNDFHd5vE&start_radio=1&pp=ygUqRmVzdGl2YWwuIFNhbiBNaWd1ZWwgQXJjYW5nZWwuIEp1bmluIFBlcsO6oAcB0gcJCdgJAYcqIYzv\n"
     ]
    },
    {
     "name": "stderr",
     "output_type": "stream",
     "text": [
      " 59%|██████████████████████████████████████████████▍                               | 462/777 [1:24:44<33:19,  6.35s/it]"
     ]
    },
    {
     "name": "stdout",
     "output_type": "stream",
     "text": [
      "\n",
      " Fiesta Patronal de San Jerónimo. Aniversario\n",
      "de Jesus y Danza de la Pandilla. (Junin)\n",
      " Título: La gran fiesta de San Jerónimo en Cusco\n",
      " URL: https://www.youtube.com/watch?v=DuO1EzIxDKc&pp=ygVZRmllc3RhIFBhdHJvbmFsIGRlIFNhbiBKZXLDs25pbW8uIEFuaXZlcnNhcmlvZGUgSmVzdXMgeSBEYW56YSBkZSBsYSBQYW5kaWxsYS4gSnVuaW4gUGVyw7o%3D\n"
     ]
    },
    {
     "name": "stderr",
     "output_type": "stream",
     "text": [
      " 60%|██████████████████████████████████████████████▍                               | 463/777 [1:24:49<32:39,  6.24s/it]"
     ]
    },
    {
     "name": "stdout",
     "output_type": "stream",
     "text": [
      "\n",
      " La Virgen del Rosario. (Junin)\n",
      " Título: Ulcumayo se vistió de gala para la fiesta patronal de la Virgen del Rosario y San Miguel Arcángel\n",
      " URL: https://www.youtube.com/watch?v=qYkgLMG81VI&pp=ygUiTGEgVmlyZ2VuIGRlbCBSb3NhcmlvLiBKdW5pbiBQZXLDug%3D%3D\n"
     ]
    },
    {
     "name": "stderr",
     "output_type": "stream",
     "text": [
      " 60%|██████████████████████████████████████████████▌                               | 464/777 [1:24:57<34:27,  6.61s/it]"
     ]
    },
    {
     "name": "stdout",
     "output_type": "stream",
     "text": [
      "\n",
      " Concurso Regional Folclórico. (Junin)\n",
      " Título: Huaylarsh Carnaval _ Junín / Compañia Folklórica 2 de Enero (1er Concurso Tusuynallay Perú) 2022\n",
      " URL: https://www.youtube.com/watch?v=MMPj04E2SEY&list=RDMMPj04E2SEY&start_radio=1&pp=ygUqQ29uY3Vyc28gUmVnaW9uYWwgRm9sY2zDs3JpY28uIEp1bmluIFBlcsO6oAcB\n"
     ]
    },
    {
     "name": "stderr",
     "output_type": "stream",
     "text": [
      " 60%|██████████████████████████████████████████████▋                               | 465/777 [1:25:04<34:37,  6.66s/it]"
     ]
    },
    {
     "name": "stdout",
     "output_type": "stream",
     "text": [
      "\n",
      " San Francisco de Asis. (Junin)\n",
      " Título: PROCESIÓN : SAN FRANCISCO DE ASÍS - YANTAC - YAULI : JUNÍN : 2019\n",
      " URL: https://www.youtube.com/watch?v=M96rk2PoAI8&pp=ygUiU2FuIEZyYW5jaXNjbyBkZSBBc2lzLiBKdW5pbiBQZXLDug%3D%3D\n"
     ]
    },
    {
     "name": "stderr",
     "output_type": "stream",
     "text": [
      " 60%|██████████████████████████████████████████████▊                               | 466/777 [1:25:10<33:45,  6.51s/it]"
     ]
    },
    {
     "name": "stdout",
     "output_type": "stream",
     "text": [
      "\n",
      " Fiesta de la Virgen del Rosario y Danza de la\n",
      "Pandilla Jaujina. (Junin)\n",
      " Título: Danzas típicas, fiesta de la Virgen del Rosario Jauja-Perú 1\n",
      " URL: https://www.youtube.com/watch?v=2Cb7LZPHN8E&pp=ygVKRmllc3RhIGRlIGxhIFZpcmdlbiBkZWwgUm9zYXJpbyB5IERhbnphIGRlIGxhUGFuZGlsbGEgSmF1amluYS4gSnVuaW4gUGVyw7o%3D\n"
     ]
    },
    {
     "name": "stderr",
     "output_type": "stream",
     "text": [
      " 60%|██████████████████████████████████████████████▉                               | 467/777 [1:25:16<33:40,  6.52s/it]"
     ]
    },
    {
     "name": "stdout",
     "output_type": "stream",
     "text": [
      "\n",
      " Mamita Chapetona y Danza de la Pandilla Jaujina. (Junin)\n",
      " Título: \"Esto me ha regalado mi wayki Oscorima\": La chonginada, una danza que transmite la esencia de Junín\n",
      " URL: https://www.youtube.com/watch?v=cVruRW4w3mo&pp=ygU8TWFtaXRhIENoYXBldG9uYSB5IERhbnphIGRlIGxhIFBhbmRpbGxhIEphdWppbmEuIEp1bmluIFBlcsO6\n"
     ]
    },
    {
     "name": "stderr",
     "output_type": "stream",
     "text": [
      " 60%|██████████████████████████████████████████████▉                               | 468/777 [1:25:23<33:26,  6.49s/it]"
     ]
    },
    {
     "name": "stdout",
     "output_type": "stream",
     "text": [
      "\n",
      " La Virgen del Pilar. (Junin)\n",
      " Título: Jueves Marianos, \"La Virgen del Pilar\" 22.30 hrs. Perú.\n",
      " URL: https://www.youtube.com/watch?v=0Honu-fIBco&pp=ygUgTGEgVmlyZ2VuIGRlbCBQaWxhci4gSnVuaW4gUGVyw7o%3D\n"
     ]
    },
    {
     "name": "stderr",
     "output_type": "stream",
     "text": [
      " 60%|███████████████████████████████████████████████                               | 469/777 [1:25:29<32:51,  6.40s/it]"
     ]
    },
    {
     "name": "stdout",
     "output_type": "stream",
     "text": [
      "\n",
      " San Francisco de Asis. Fiesta de la Virgen del\n",
      "Rosario y Danzas del Jaljapacuy y de la Pandilla.\n",
      "San Lucas. (Junin)\n",
      " Título: Grcias cariño#danza #musica #music #shacsha\n",
      " URL: https://www.youtube.com/shorts/gZ0Th7hqZt0\n"
     ]
    },
    {
     "name": "stderr",
     "output_type": "stream",
     "text": [
      " 60%|███████████████████████████████████████████████▏                              | 470/777 [1:25:35<32:24,  6.33s/it]"
     ]
    },
    {
     "name": "stdout",
     "output_type": "stream",
     "text": [
      "\n",
      " Fiesta del Señor de los Milagros. San\n",
      "Lucas. (Junin)\n",
      " Título: Señor de los Milagros en Junin Huesito Kashka Producciones\n",
      " URL: https://www.youtube.com/watch?v=-tTuJTe0l98&pp=ygU4Rmllc3RhIGRlbCBTZcOxb3IgZGUgbG9zIE1pbGFncm9zLiBTYW5MdWNhcy4gSnVuaW4gUGVyw7o%3D\n"
     ]
    },
    {
     "name": "stderr",
     "output_type": "stream",
     "text": [
      " 61%|███████████████████████████████████████████████▎                              | 471/777 [1:25:42<32:38,  6.40s/it]"
     ]
    },
    {
     "name": "stdout",
     "output_type": "stream",
     "text": [
      "\n",
      " La Virgen del Rosario. (Junin)\n",
      " Título: Ulcumayo se vistió de gala para la fiesta patronal de la Virgen del Rosario y San Miguel Arcángel\n",
      " URL: https://www.youtube.com/watch?v=qYkgLMG81VI&pp=ygUiTGEgVmlyZ2VuIGRlbCBSb3NhcmlvLiBKdW5pbiBQZXLDutIHCQnYCQGHKiGM7w%3D%3D\n"
     ]
    },
    {
     "name": "stderr",
     "output_type": "stream",
     "text": [
      " 61%|███████████████████████████████████████████████▍                              | 472/777 [1:25:48<32:47,  6.45s/it]"
     ]
    },
    {
     "name": "stdout",
     "output_type": "stream",
     "text": [
      "\n",
      " Creacion Politica de San Lorenzo y Danza de\n",
      "la Pandilla. (Junin)\n",
      " Título: Hermosa estampa de la región Junín\n",
      " URL: https://www.youtube.com/watch?v=lOcGNx61He0&pp=ygVDQ3JlYWNpb24gUG9saXRpY2EgZGUgU2FuIExvcmVuem8geSBEYW56YSBkZWxhIFBhbmRpbGxhLiBKdW5pbiBQZXLDug%3D%3D\n"
     ]
    },
    {
     "name": "stderr",
     "output_type": "stream",
     "text": [
      " 61%|███████████████████████████████████████████████▍                              | 473/777 [1:25:55<32:16,  6.37s/it]"
     ]
    },
    {
     "name": "stdout",
     "output_type": "stream",
     "text": [
      "\n",
      " Creacion Politica de El Mantaro. Creacion Politica\n",
      "de Llocllapampa y Danza de la Pandilla. (Junin)\n",
      " Título: OLÉ Y OLÉ!!! Con los CORCOVADOS de LLOCLLAMPAMPA - Huancaní 2025.\n",
      " URL: https://www.youtube.com/shorts/R6yaNuQ2A80\n"
     ]
    },
    {
     "name": "stderr",
     "output_type": "stream",
     "text": [
      " 61%|███████████████████████████████████████████████▌                              | 474/777 [1:26:01<31:46,  6.29s/it]"
     ]
    },
    {
     "name": "stdout",
     "output_type": "stream",
     "text": [
      "\n",
      " San Francisco. (Junin)\n",
      " Título: San Francisco - Junin\n",
      " URL: https://www.youtube.com/shorts/21ZW7b7jZZM\n"
     ]
    },
    {
     "name": "stderr",
     "output_type": "stream",
     "text": [
      " 61%|███████████████████████████████████████████████▋                              | 475/777 [1:26:07<31:26,  6.25s/it]"
     ]
    },
    {
     "name": "stdout",
     "output_type": "stream",
     "text": [
      "\n",
      " Fiesta de la Virgen Chapetona. (Junin)\n",
      " Título: Fiesta de la Virgen Chapetona 2023, Fam. Dávila Víspera\n",
      " URL: https://www.youtube.com/watch?v=jrwaKWHCvHo&pp=ygUqRmllc3RhIGRlIGxhIFZpcmdlbiBDaGFwZXRvbmEuIEp1bmluIFBlcsO6\n"
     ]
    },
    {
     "name": "stderr",
     "output_type": "stream",
     "text": [
      " 61%|███████████████████████████████████████████████▊                              | 476/777 [1:26:14<32:02,  6.39s/it]"
     ]
    },
    {
     "name": "stdout",
     "output_type": "stream",
     "text": [
      "\n",
      " Creacion Politica de Muquiyauyo. (Junin)\n",
      " Título: PROYECTO DE LA PLAZA DE MUQUIYAUYO - JAUJA - JUNIN - PERU\n",
      " URL: https://www.youtube.com/watch?v=P84gH2AvS_M&pp=ygUsQ3JlYWNpb24gUG9saXRpY2EgZGUgTXVxdWl5YXV5by4gSnVuaW4gUGVyw7o%3D\n"
     ]
    },
    {
     "name": "stderr",
     "output_type": "stream",
     "text": [
      " 61%|███████████████████████████████████████████████▉                              | 477/777 [1:26:20<31:23,  6.28s/it]"
     ]
    },
    {
     "name": "stdout",
     "output_type": "stream",
     "text": [
      "\n",
      " Juego del «tejo» o danza de la Pachahuara\n",
      "o Negrería. (Junin)\n",
      " Título: Negreria de Sapallanga - Junin - Modulo A/ V Curso de actualizacion Jayraq 2025\n",
      " URL: https://www.youtube.com/watch?v=MLR6I9Fvt-c&pp=ygVDSnVlZ28gZGVsIMKrdGVqb8K7IG8gZGFuemEgZGUgbGEgUGFjaGFodWFyYW8gTmVncmVyw61hLiBKdW5pbiBQZXLDug%3D%3D\n"
     ]
    },
    {
     "name": "stderr",
     "output_type": "stream",
     "text": [
      " 62%|███████████████████████████████████████████████▉                              | 478/777 [1:26:26<31:42,  6.36s/it]"
     ]
    },
    {
     "name": "stdout",
     "output_type": "stream",
     "text": [
      "\n",
      " Festividad de San Martín de Porres. (Junin)\n",
      " Título: FESTIVIDAD SAN MARTIN DE PORRES DEL CENTRO POBLADO CENTENARIO\n",
      " URL: https://www.youtube.com/watch?v=W4FTaWk4myY&pp=ygUwRmVzdGl2aWRhZCBkZSBTYW4gTWFydMOtbiBkZSBQb3JyZXMuIEp1bmluIFBlcsO60gcJCdgJAYcqIYzv\n"
     ]
    },
    {
     "name": "stderr",
     "output_type": "stream",
     "text": [
      " 62%|████████████████████████████████████████████████                              | 479/777 [1:26:32<31:33,  6.35s/it]"
     ]
    },
    {
     "name": "stdout",
     "output_type": "stream",
     "text": [
      "\n",
      " La Purisima Concepcion. (Junin)\n",
      " Título: 28 - Iglesia \"La Purísima\" de Concepción - Junín\n",
      " URL: https://www.youtube.com/watch?v=fscTjBX219k&pp=ygUjTGEgUHVyaXNpbWEgQ29uY2VwY2lvbi4gSnVuaW4gUGVyw7rSBwkJ2AkBhyohjO8%3D\n"
     ]
    },
    {
     "name": "stderr",
     "output_type": "stream",
     "text": [
      " 62%|████████████████████████████████████████████████▏                             | 480/777 [1:26:38<30:57,  6.26s/it]"
     ]
    },
    {
     "name": "stdout",
     "output_type": "stream",
     "text": [
      "\n",
      " Danza de los auquis o viejitos. (Junin)\n",
      " Título: Tradicional Danza de los AUQUISH MUJERES en MANZANARES - JUNÍN - PERÚ. #huancayo\n",
      " URL: https://www.youtube.com/watch?v=2fNLJBAPs6M&pp=ygUrRGFuemEgZGUgbG9zIGF1cXVpcyBvIHZpZWppdG9zLiBKdW5pbiBQZXLDug%3D%3D\n"
     ]
    },
    {
     "name": "stderr",
     "output_type": "stream",
     "text": [
      " 62%|████████████████████████████████████████████████▎                             | 481/777 [1:26:44<30:28,  6.18s/it]"
     ]
    },
    {
     "name": "stdout",
     "output_type": "stream",
     "text": [
      "\n",
      " Danza de la Pachahuara o Negreria. (Junin)\n",
      " Título: PACHAHUARA 2020 ACOLLA - SINFONÍA JUNÍN DE JAUJA BANDA PAPÁ\n",
      " URL: https://www.youtube.com/watch?v=g1xgL6vovzM&list=RDg1xgL6vovzM&start_radio=1&pp=ygUuRGFuemEgZGUgbGEgUGFjaGFodWFyYSBvIE5lZ3JlcmlhLiBKdW5pbiBQZXLDuqAHAQ%3D%3D\n"
     ]
    },
    {
     "name": "stderr",
     "output_type": "stream",
     "text": [
      " 62%|████████████████████████████████████████████████▍                             | 482/777 [1:26:51<30:12,  6.14s/it]"
     ]
    },
    {
     "name": "stdout",
     "output_type": "stream",
     "text": [
      "\n",
      " Pascua de Navidad. Danzas: de la Pachahuara,\n",
      "del Chacranegro, de Pastoras, de la Huaylijia,\n",
      "del Huayqui, de los Negritos, de la Tunantada,\n",
      "de Pastorcitos, del Corcovado, y de Chutos. (Junin)\n",
      " Título: danza el CHACRANEGRO la pachahuala\n",
      " URL: https://www.youtube.com/watch?v=qcMwt03GvSs&pp=ygW_AVBhc2N1YSBkZSBOYXZpZGFkLiBEYW56YXM6IGRlIGxhIFBhY2hhaHVhcmEsZGVsIENoYWNyYW5lZ3JvLCBkZSBQYXN0b3JhcywgZGUgbGEgSHVheWxpamlhLGRlbCBIdWF5cXVpLCBkZSBsb3MgTmVncml0b3MsIGRlIGxhIFR1bmFudGFkYSxkZSBQYXN0b3JjaXRvcywgZGVsIENvcmNvdmFkbywgeSBkZSBDaHV0b3MuIEp1bmluIFBlcsO6\n"
     ]
    },
    {
     "name": "stderr",
     "output_type": "stream",
     "text": [
      " 62%|████████████████████████████████████████████████▍                             | 483/777 [1:26:57<30:43,  6.27s/it]"
     ]
    },
    {
     "name": "stdout",
     "output_type": "stream",
     "text": [
      "\n",
      " Fiesta del Señor del Calvario (La Libertad)\n",
      " Título: FACALÁ Inician fiestas en honor al Señor del Calvario\n",
      " URL: https://www.youtube.com/watch?v=x7APCidh9mU&pp=ygUwRmllc3RhIGRlbCBTZcOxb3IgZGVsIENhbHZhcmlvIExhIExpYmVydGFkIFBlcsO6\n"
     ]
    },
    {
     "name": "stderr",
     "output_type": "stream",
     "text": [
      " 62%|████████████████████████████████████████████████▌                             | 484/777 [1:27:04<30:59,  6.35s/it]"
     ]
    },
    {
     "name": "stdout",
     "output_type": "stream",
     "text": [
      "\n",
      " Fiesta de San Sebastián (La Libertad)\n",
      " Título: La Fiesta de San Sebastián\n",
      " URL: https://www.youtube.com/watch?v=lKniEKWW1-c&pp=ygUqRmllc3RhIGRlIFNhbiBTZWJhc3Rpw6FuIExhIExpYmVydGFkIFBlcsO6\n"
     ]
    },
    {
     "name": "stderr",
     "output_type": "stream",
     "text": [
      " 62%|████████████████████████████████████████████████▋                             | 485/777 [1:27:10<31:19,  6.44s/it]"
     ]
    },
    {
     "name": "stdout",
     "output_type": "stream",
     "text": [
      "\n",
      " Festival Nacional de la Marinera (La Libertad)\n",
      " Título: Tuvo que desprenderse del saco para campeonar | FINAL SENIOR del Concurso Mundial de Marinera 2025\n",
      " URL: https://www.youtube.com/watch?v=FDhLLiNvSJI&pp=ygUyRmVzdGl2YWwgTmFjaW9uYWwgZGUgbGEgTWFyaW5lcmEgTGEgTGliZXJ0YWQgUGVyw7o%3D\n"
     ]
    },
    {
     "name": "stderr",
     "output_type": "stream",
     "text": [
      " 63%|████████████████████████████████████████████████▊                             | 486/777 [1:27:17<31:36,  6.52s/it]"
     ]
    },
    {
     "name": "stdout",
     "output_type": "stream",
     "text": [
      "\n",
      " Fiesta de la Virgen de la Candelaria (La Libertad)\n",
      " Título: Fiesta de La Virgen de la Candelaria (TV Perú) - 10/03/18 - (promo)\n",
      " URL: https://www.youtube.com/watch?v=Wvh1Mlygj_I&pp=ygU2Rmllc3RhIGRlIGxhIFZpcmdlbiBkZSBsYSBDYW5kZWxhcmlhIExhIExpYmVydGFkIFBlcsO60gcJCdgJAYcqIYzv\n"
     ]
    },
    {
     "name": "stderr",
     "output_type": "stream",
     "text": [
      " 63%|████████████████████████████████████████████████▉                             | 487/777 [1:27:23<31:00,  6.42s/it]"
     ]
    },
    {
     "name": "stdout",
     "output_type": "stream",
     "text": [
      "\n",
      " Fiesta de la Virgen del Socorro (La Libertad)\n",
      " Título: Fiesta de la Virgen del Perpetuo socorro (27 de junio)\n",
      " URL: https://www.youtube.com/shorts/S5pjmGt9xlU\n"
     ]
    },
    {
     "name": "stderr",
     "output_type": "stream",
     "text": [
      " 63%|████████████████████████████████████████████████▉                             | 488/777 [1:27:29<30:29,  6.33s/it]"
     ]
    },
    {
     "name": "stdout",
     "output_type": "stream",
     "text": [
      "\n",
      " Festival de caballitos de totora y Olimplaya (La Libertad)\n",
      " Título: Reliquia del Bicentenario: conoce la milenaria historia de los caballitos de Totora\n",
      " URL: https://www.youtube.com/watch?v=ousEPClY2wo&pp=ygU-RmVzdGl2YWwgZGUgY2FiYWxsaXRvcyBkZSB0b3RvcmEgeSBPbGltcGxheWEgTGEgTGliZXJ0YWQgUGVyw7o%3D\n"
     ]
    },
    {
     "name": "stderr",
     "output_type": "stream",
     "text": [
      " 63%|█████████████████████████████████████████████████                             | 489/777 [1:27:36<30:32,  6.36s/it]"
     ]
    },
    {
     "name": "stdout",
     "output_type": "stream",
     "text": [
      "\n",
      " Festival de San Pedro (La Libertad)\n",
      " Título: La Libertad: inició la feria patronal en San Pedro de Lloc\n",
      " URL: https://www.youtube.com/watch?v=mfWCJ1EsaUk&pp=ygUnRmVzdGl2YWwgZGUgU2FuIFBlZHJvIExhIExpYmVydGFkIFBlcsO60gcJCdgJAYcqIYzv\n"
     ]
    },
    {
     "name": "stderr",
     "output_type": "stream",
     "text": [
      " 63%|█████████████████████████████████████████████████▏                            | 490/777 [1:27:42<30:15,  6.32s/it]"
     ]
    },
    {
     "name": "stdout",
     "output_type": "stream",
     "text": [
      "\n",
      " Fundación española (La Libertad)\n",
      " Título: La Libertad: Guadalupe celebra 473 años de fundación española\n",
      " URL: https://www.youtube.com/watch?v=zwAwz7dZYkY&pp=ygUmRnVuZGFjacOzbiBlc3Bhw7FvbGEgTGEgTGliZXJ0YWQgUGVyw7o%3D\n"
     ]
    },
    {
     "name": "stderr",
     "output_type": "stream",
     "text": [
      " 63%|█████████████████████████████████████████████████▎                            | 491/777 [1:27:48<30:26,  6.39s/it]"
     ]
    },
    {
     "name": "stdout",
     "output_type": "stream",
     "text": [
      "\n",
      " Fiesta de Santo Toribio de Mogrovejo (La Libertad)\n",
      " Título: Fiesta Patronal de Huaylas 2025 \" SANTO TORIBIO - UNIÓN DE BANDAS\n",
      " URL: https://www.youtube.com/watch?v=KjkGQzJwFyQ&pp=ygU2Rmllc3RhIGRlIFNhbnRvIFRvcmliaW8gZGUgTW9ncm92ZWpvIExhIExpYmVydGFkIFBlcsO6\n"
     ]
    },
    {
     "name": "stderr",
     "output_type": "stream",
     "text": [
      " 63%|█████████████████████████████████████████████████▍                            | 492/777 [1:27:56<31:16,  6.58s/it]"
     ]
    },
    {
     "name": "stdout",
     "output_type": "stream",
     "text": [
      "\n",
      " San Antonio de Padua (La Libertad)\n",
      " Título: San Antonio de Padua: El Santo de los Milagros | Los Santos: Amigos de Dios\n",
      " URL: https://www.youtube.com/watch?v=TyKw6wQoVvY&pp=ygUmU2FuIEFudG9uaW8gZGUgUGFkdWEgTGEgTGliZXJ0YWQgUGVyw7o%3D\n"
     ]
    },
    {
     "name": "stderr",
     "output_type": "stream",
     "text": [
      " 63%|█████████████████████████████████████████████████▍                            | 493/777 [1:28:02<30:40,  6.48s/it]"
     ]
    },
    {
     "name": "stdout",
     "output_type": "stream",
     "text": [
      "\n",
      " Fiesta de la Virgen del Rosario (La Libertad)\n",
      " Título: Documental de la fiesta en honor a la Virgen del Rosario - Chilia 2016\n",
      " URL: https://www.youtube.com/watch?v=s8m-LZjF-qM&pp=ygUxRmllc3RhIGRlIGxhIFZpcmdlbiBkZWwgUm9zYXJpbyBMYSBMaWJlcnRhZCBQZXLDug%3D%3D\n"
     ]
    },
    {
     "name": "stderr",
     "output_type": "stream",
     "text": [
      " 64%|█████████████████████████████████████████████████▌                            | 494/777 [1:28:08<30:53,  6.55s/it]"
     ]
    },
    {
     "name": "stdout",
     "output_type": "stream",
     "text": [
      "\n",
      " Fiesta de San Pedro y San Pablo (La Libertad)\n",
      " Título: Ancón celebra con fe y alegría a San Pedro y San Pablo en su tradicional fiesta en el mar\n",
      " URL: https://www.youtube.com/watch?v=-gUd0esRyVg&pp=ygUxRmllc3RhIGRlIFNhbiBQZWRybyB5IFNhbiBQYWJsbyBMYSBMaWJlcnRhZCBQZXLDug%3D%3D\n"
     ]
    },
    {
     "name": "stderr",
     "output_type": "stream",
     "text": [
      " 64%|█████████████████████████████████████████████████▋                            | 495/777 [1:28:15<31:19,  6.67s/it]"
     ]
    },
    {
     "name": "stdout",
     "output_type": "stream",
     "text": [
      "\n",
      " El Señor de la Sangre (La Libertad)\n",
      " Título: Fiesta patronal en homenaje al \"Señor de la Sangre\" #Virú #Lalibertad #Perú\n",
      " URL: https://www.youtube.com/watch?v=J3zSle69lXM&pp=ygUoRWwgU2XDsW9yIGRlIGxhIFNhbmdyZSBMYSBMaWJlcnRhZCBQZXLDug%3D%3D\n"
     ]
    },
    {
     "name": "stderr",
     "output_type": "stream",
     "text": [
      " 64%|█████████████████████████████████████████████████▊                            | 496/777 [1:28:22<30:38,  6.54s/it]"
     ]
    },
    {
     "name": "stdout",
     "output_type": "stream",
     "text": [
      "\n",
      " Fiesta de Santiago. Feria Regional (La Libertad)\n",
      " Título: DOCUMENTAL DE SANTIAGO DE CHUCO - LA LIBERTAD 2023\n",
      " URL: https://www.youtube.com/watch?v=z7_0pOwUUaQ&pp=ygU0Rmllc3RhIGRlIFNhbnRpYWdvLiBGZXJpYSBSZWdpb25hbCBMYSBMaWJlcnRhZCBQZXLDug%3D%3D\n"
     ]
    },
    {
     "name": "stderr",
     "output_type": "stream",
     "text": [
      " 64%|█████████████████████████████████████████████████▉                            | 497/777 [1:28:28<30:54,  6.62s/it]"
     ]
    },
    {
     "name": "stdout",
     "output_type": "stream",
     "text": [
      "\n",
      " Fiesta de la Virgen de la Alta Gracia (La Libertad)\n",
      " Título: Fiestas de la Virgen de Altagracia | Huamachuco, Perú | Mochilera que se respeta\n",
      " URL: https://www.youtube.com/watch?v=SwbUUHpcNzQ&pp=ygU3Rmllc3RhIGRlIGxhIFZpcmdlbiBkZSBsYSBBbHRhIEdyYWNpYSBMYSBMaWJlcnRhZCBQZXLDug%3D%3D\n"
     ]
    },
    {
     "name": "stderr",
     "output_type": "stream",
     "text": [
      " 64%|█████████████████████████████████████████████████▉                            | 498/777 [1:28:35<30:56,  6.65s/it]"
     ]
    },
    {
     "name": "stdout",
     "output_type": "stream",
     "text": [
      "\n",
      " Virgen de la Asunción, patrona de los\n",
      "pueblos (La Libertad)\n",
      " Título: Virgen de la Asunción la Patrona de Guatemala, 12 08 2022, Opinión en Libertad\n",
      " URL: https://www.youtube.com/watch?v=n_dbxp3NTvo&pp=ygU_VmlyZ2VuIGRlIGxhIEFzdW5jacOzbiwgcGF0cm9uYSBkZSBsb3NwdWVibG9zIExhIExpYmVydGFkIFBlcsO6\n"
     ]
    },
    {
     "name": "stderr",
     "output_type": "stream",
     "text": [
      " 64%|██████████████████████████████████████████████████                            | 499/777 [1:28:41<30:09,  6.51s/it]"
     ]
    },
    {
     "name": "stdout",
     "output_type": "stream",
     "text": [
      "\n",
      " Fiesta Patronal del Señor de la Misericordia (La Libertad)\n",
      " Título: La Cuesta Fiesta Patronal Sr de la Misericordia LA LIBERTAD PERU 2014\n",
      " URL: https://www.youtube.com/watch?v=POrp2kkkqT0&list=RDPOrp2kkkqT0&start_radio=1&pp=ygU_Rmllc3RhIFBhdHJvbmFsIGRlbCBTZcOxb3IgZGUgbGEgTWlzZXJpY29yZGlhIExhIExpYmVydGFkIFBlcsO6oAcB\n"
     ]
    },
    {
     "name": "stderr",
     "output_type": "stream",
     "text": [
      " 64%|██████████████████████████████████████████████████▏                           | 500/777 [1:28:47<29:21,  6.36s/it]"
     ]
    },
    {
     "name": "stdout",
     "output_type": "stream",
     "text": [
      "\n",
      " Festival Internacional de la Primavera (La Libertad)\n",
      " Título: La Libertad: regresó con éxito el Festival de la Primavera\n",
      " URL: https://www.youtube.com/watch?v=xSRqpLzGNQw&pp=ygU4RmVzdGl2YWwgSW50ZXJuYWNpb25hbCBkZSBsYSBQcmltYXZlcmEgTGEgTGliZXJ0YWQgUGVyw7rSBwkJ2AkBhyohjO8%3D\n"
     ]
    },
    {
     "name": "stderr",
     "output_type": "stream",
     "text": [
      " 64%|██████████████████████████████████████████████████▎                           | 501/777 [1:28:53<28:43,  6.25s/it]"
     ]
    },
    {
     "name": "stdout",
     "output_type": "stream",
     "text": [
      "\n",
      " San Francisco de Asís (La Libertad)\n",
      " Título: Instituto Católico SAN FRANCISCO DE ASIS (La libertad) - 15 de septiembre\n",
      " URL: https://www.youtube.com/watch?v=cyj-FS5sqyk&pp=ygUoU2FuIEZyYW5jaXNjbyBkZSBBc8OtcyBMYSBMaWJlcnRhZCBQZXLDug%3D%3D\n"
     ]
    },
    {
     "name": "stderr",
     "output_type": "stream",
     "text": [
      " 65%|██████████████████████████████████████████████████▍                           | 502/777 [1:29:00<29:46,  6.50s/it]"
     ]
    },
    {
     "name": "stdout",
     "output_type": "stream",
     "text": [
      "\n",
      " Virgen del Rosario (La Libertad)\n",
      " Título: Documental de la fiesta en honor a la Virgen del Rosario - Chilia 2016\n",
      " URL: https://www.youtube.com/watch?v=s8m-LZjF-qM&pp=ygUkVmlyZ2VuIGRlbCBSb3NhcmlvIExhIExpYmVydGFkIFBlcsO6\n"
     ]
    },
    {
     "name": "stderr",
     "output_type": "stream",
     "text": [
      " 65%|██████████████████████████████████████████████████▍                           | 503/777 [1:29:07<29:46,  6.52s/it]"
     ]
    },
    {
     "name": "stdout",
     "output_type": "stream",
     "text": [
      "\n",
      " Fiesta de Todos los Santos (La Libertad)\n",
      " Título: Documental de la fiesta a Santo Toribio - Tayabamba 2016 HD\n",
      " URL: https://www.youtube.com/watch?v=QKvwG8NHOIU&pp=ygUsRmllc3RhIGRlIFRvZG9zIGxvcyBTYW50b3MgTGEgTGliZXJ0YWQgUGVyw7o%3D\n"
     ]
    },
    {
     "name": "stderr",
     "output_type": "stream",
     "text": [
      " 65%|██████████████████████████████████████████████████▌                           | 504/777 [1:29:14<29:58,  6.59s/it]"
     ]
    },
    {
     "name": "stdout",
     "output_type": "stream",
     "text": [
      "\n",
      " Semana Jubilar (La Libertad)\n",
      " Título: La Libertad: tours turístico desde 20 soles por Semana Santa\n",
      " URL: https://www.youtube.com/watch?v=DCI3KmoyR3A&pp=ygUgU2VtYW5hIEp1YmlsYXIgTGEgTGliZXJ0YWQgUGVyw7o%3D\n"
     ]
    },
    {
     "name": "stderr",
     "output_type": "stream",
     "text": [
      " 65%|██████████████████████████████████████████████████▋                           | 505/777 [1:29:20<29:08,  6.43s/it]"
     ]
    },
    {
     "name": "stdout",
     "output_type": "stream",
     "text": [
      "\n",
      " Bajada de la Virgen del Socorro de trujillo (La Libertad)\n",
      " Título: 68° Bajada Quinquenal - Virgen Madre del Socorro - Huanchaco Perú\n",
      " URL: https://www.youtube.com/watch?v=Lst11s6pacc&pp=ygU9QmFqYWRhIGRlIGxhIFZpcmdlbiBkZWwgU29jb3JybyBkZSB0cnVqaWxsbyBMYSBMaWJlcnRhZCBQZXLDug%3D%3D\n"
     ]
    },
    {
     "name": "stderr",
     "output_type": "stream",
     "text": [
      " 65%|██████████████████████████████████████████████████▊                           | 506/777 [1:29:26<28:32,  6.32s/it]"
     ]
    },
    {
     "name": "stdout",
     "output_type": "stream",
     "text": [
      "\n",
      " Festival de la Virgen de Guadalupe (La Libertad)\n",
      " Título: La Libertad: inicia fiesta patronal en honor a la Señora de Guadalupe\n",
      " URL: https://www.youtube.com/watch?v=J4zL5pdogk4&pp=ygU0RmVzdGl2YWwgZGUgbGEgVmlyZ2VuIGRlIEd1YWRhbHVwZSBMYSBMaWJlcnRhZCBQZXLDug%3D%3D\n"
     ]
    },
    {
     "name": "stderr",
     "output_type": "stream",
     "text": [
      " 65%|██████████████████████████████████████████████████▉                           | 507/777 [1:29:32<28:48,  6.40s/it]"
     ]
    },
    {
     "name": "stdout",
     "output_type": "stream",
     "text": [
      "\n",
      " La Inmaculado Concepción (La Libertad)\n",
      " Título: DOCUMENTAL DE LA FESTIVIDAD PATRONAL \" INMACULADA VIRGEN DELA PUERTA \" OTUZCO LA LIBERTAD 2023\n",
      " URL: https://www.youtube.com/watch?v=YY6wzdMMvBU&pp=ygUrTGEgSW5tYWN1bGFkbyBDb25jZXBjacOzbiBMYSBMaWJlcnRhZCBQZXLDug%3D%3D\n"
     ]
    },
    {
     "name": "stderr",
     "output_type": "stream",
     "text": [
      " 65%|██████████████████████████████████████████████████▉                           | 508/777 [1:29:39<28:50,  6.43s/it]"
     ]
    },
    {
     "name": "stdout",
     "output_type": "stream",
     "text": [
      "\n",
      " Fiesta de la Virgen de la Puerta (La Libertad)\n",
      " Título: Fiesta Patronal de la Virgen de la Puerta en Otuzco La Libertad - 15 de Diciembre | PERÚ PROFUNDO 🇵🇪\n",
      " URL: https://www.youtube.com/watch?v=fPFkv3UNpQQ&pp=ygUyRmllc3RhIGRlIGxhIFZpcmdlbiBkZSBsYSBQdWVydGEgTGEgTGliZXJ0YWQgUGVyw7o%3D\n"
     ]
    },
    {
     "name": "stderr",
     "output_type": "stream",
     "text": [
      " 66%|███████████████████████████████████████████████████                           | 509/777 [1:29:45<28:48,  6.45s/it]"
     ]
    },
    {
     "name": "stdout",
     "output_type": "stream",
     "text": [
      "\n",
      " Aniversario de la Independencia de Trujillo (La Libertad)\n",
      " Título: Trujillo celebra 202 aniversario de independencia\n",
      " URL: https://www.youtube.com/watch?v=KxfITepPGEU&pp=ygU9QW5pdmVyc2FyaW8gZGUgbGEgSW5kZXBlbmRlbmNpYSBkZSBUcnVqaWxsbyBMYSBMaWJlcnRhZCBQZXLDug%3D%3D\n"
     ]
    },
    {
     "name": "stderr",
     "output_type": "stream",
     "text": [
      " 66%|███████████████████████████████████████████████████▏                          | 510/777 [1:29:52<29:24,  6.61s/it]"
     ]
    },
    {
     "name": "stdout",
     "output_type": "stream",
     "text": [
      "\n",
      " San Pablito. (Lambayeque)\n",
      " Título: Feria en Honor al apóstol San Pablo Y San Pedro Pacora-Lambayeque\n",
      " URL: https://www.youtube.com/watch?v=flgRqd9r7j0&pp=ygUdU2FuIFBhYmxpdG8uIExhbWJheWVxdWUgUGVyw7o%3D\n"
     ]
    },
    {
     "name": "stderr",
     "output_type": "stream",
     "text": [
      " 66%|███████████████████████████████████████████████████▎                          | 511/777 [1:29:59<28:43,  6.48s/it]"
     ]
    },
    {
     "name": "stdout",
     "output_type": "stream",
     "text": [
      "\n",
      " El Niño Dios de Reyes y los Reyes Magos. (Lambayeque)\n",
      " Título: Así se celebra la feria del Niño Dios de Reyes. SALAS, Lambayeque, Perú.\n",
      " URL: https://www.youtube.com/watch?v=oUcCzJPmzfs&pp=ygU6RWwgTmnDsW8gRGlvcyBkZSBSZXllcyB5IGxvcyBSZXllcyBNYWdvcy4gTGFtYmF5ZXF1ZSBQZXLDug%3D%3D\n"
     ]
    },
    {
     "name": "stderr",
     "output_type": "stream",
     "text": [
      " 66%|███████████████████████████████████████████████████▍                          | 512/777 [1:30:05<27:58,  6.34s/it]"
     ]
    },
    {
     "name": "stdout",
     "output_type": "stream",
     "text": [
      "\n",
      " Festividad del Divino Niño del Milagro. (Lambayeque)\n",
      " Título: Perú profundo #PBO | 22 de julio: Festividad del Divino Niño del Milagro en la ciudad Eten\n",
      " URL: https://www.youtube.com/watch?v=OdzxritJ_q0&pp=ygU5RmVzdGl2aWRhZCBkZWwgRGl2aW5vIE5pw7FvIGRlbCBNaWxhZ3JvLiBMYW1iYXllcXVlIFBlcsO6\n"
     ]
    },
    {
     "name": "stderr",
     "output_type": "stream",
     "text": [
      " 66%|███████████████████████████████████████████████████▍                          | 513/777 [1:30:11<28:17,  6.43s/it]"
     ]
    },
    {
     "name": "stdout",
     "output_type": "stream",
     "text": [
      "\n",
      " Fiesta de la Purísima Concepcion. (Lambayeque)\n",
      " Título: Festividad en honor a la Virgen Purísima Concepción Túcume | PERÚ PROFUNDO 🇵🇪\n",
      " URL: https://www.youtube.com/watch?v=x86F0Jdsd6w&pp=ygUzRmllc3RhIGRlIGxhIFB1csOtc2ltYSBDb25jZXBjaW9uLiBMYW1iYXllcXVlIFBlcsO6\n"
     ]
    },
    {
     "name": "stderr",
     "output_type": "stream",
     "text": [
      " 66%|███████████████████████████████████████████████████▌                          | 514/777 [1:30:18<28:42,  6.55s/it]"
     ]
    },
    {
     "name": "stdout",
     "output_type": "stream",
     "text": [
      "\n",
      " La Virgen de la Candelaria. (Lambayeque)\n",
      " Título: Así celebran la VIRGEN DE LA CANDELARIA en Ferreñafe | Pueblo Nuevo | Brayan CHUL\n",
      " URL: https://www.youtube.com/watch?v=WAql1oX4h_A&pp=ygUsTGEgVmlyZ2VuIGRlIGxhIENhbmRlbGFyaWEuIExhbWJheWVxdWUgUGVyw7o%3D\n"
     ]
    },
    {
     "name": "stderr",
     "output_type": "stream",
     "text": [
      " 66%|███████████████████████████████████████████████████▋                          | 515/777 [1:30:25<29:24,  6.73s/it]"
     ]
    },
    {
     "name": "stdout",
     "output_type": "stream",
     "text": [
      "\n",
      " Festividad de San Andrés Corsino. (Lambayeque)\n",
      " Título: LAMBAYEQUE: PÁRROCO DE PACORA SE ROBA EL ESPECTÁCULO BAILANDO EN LA FIESTA DE SAN PABLO\n",
      " URL: https://www.youtube.com/watch?v=nL3WrJ5s1c8&pp=ygUzRmVzdGl2aWRhZCBkZSBTYW4gQW5kcsOpcyBDb3JzaW5vLiBMYW1iYXllcXVlIFBlcsO6\n"
     ]
    },
    {
     "name": "stderr",
     "output_type": "stream",
     "text": [
      " 66%|███████████████████████████████████████████████████▊                          | 516/777 [1:30:32<29:04,  6.68s/it]"
     ]
    },
    {
     "name": "stdout",
     "output_type": "stream",
     "text": [
      "\n",
      " Fiesta de la Cruz de Chalpón. (Lambayeque)\n",
      " Título: Festividad de la Santísima Cruz de Chalpón en Motupe, Lambayeque | Perú Profundo en #PBO\n",
      " URL: https://www.youtube.com/watch?v=__Hu4zbGiE8&pp=ygUvRmllc3RhIGRlIGxhIENydXogZGUgQ2hhbHDDs24uIExhbWJheWVxdWUgUGVyw7o%3D\n"
     ]
    },
    {
     "name": "stderr",
     "output_type": "stream",
     "text": [
      " 67%|███████████████████████████████████████████████████▉                          | 517/777 [1:30:38<28:28,  6.57s/it]"
     ]
    },
    {
     "name": "stdout",
     "output_type": "stream",
     "text": [
      "\n",
      " Festival del Arroz. (Lambayeque)\n",
      " Título: COSECHA DEL ARROZ- OYOTÚN - LAMBAYEQUE - PERÚ.\n",
      " URL: https://www.youtube.com/watch?v=F1tv5B2SdFM&pp=ygUkRmVzdGl2YWwgZGVsIEFycm96LiBMYW1iYXllcXVlIFBlcsO6\n"
     ]
    },
    {
     "name": "stderr",
     "output_type": "stream",
     "text": [
      " 67%|████████████████████████████████████████████████████                          | 518/777 [1:30:45<28:47,  6.67s/it]"
     ]
    },
    {
     "name": "stdout",
     "output_type": "stream",
     "text": [
      "\n",
      " Festividad de la Virgen Viajera. (Lambayeque)\n",
      " Título: Diablicos de Túcume: Fiesta en Lambayeque | Celebra Perú\n",
      " URL: https://www.youtube.com/watch?v=u6Rnb_UJ9x8&pp=ygUxRmVzdGl2aWRhZCBkZSBsYSBWaXJnZW4gVmlhamVyYS4gTGFtYmF5ZXF1ZSBQZXLDug%3D%3D\n"
     ]
    },
    {
     "name": "stderr",
     "output_type": "stream",
     "text": [
      " 67%|████████████████████████████████████████████████████                          | 519/777 [1:30:51<27:47,  6.46s/it]"
     ]
    },
    {
     "name": "stdout",
     "output_type": "stream",
     "text": [
      "\n",
      " Fiesta del Señor Cautivo. (Lambayeque)\n",
      " Título: Bonito recuerdo de la festividad de nuestro Señor Cautivo de Ayabaca en el mes de Octubre 2024\n",
      " URL: https://www.youtube.com/watch?v=IFF5ak5PlFQ&pp=ygUrRmllc3RhIGRlbCBTZcOxb3IgQ2F1dGl2by4gTGFtYmF5ZXF1ZSBQZXLDutIHCQnYCQGHKiGM7w%3D%3D\n"
     ]
    },
    {
     "name": "stderr",
     "output_type": "stream",
     "text": [
      " 67%|████████████████████████████████████████████████████▏                         | 520/777 [1:30:58<27:56,  6.52s/it]"
     ]
    },
    {
     "name": "stdout",
     "output_type": "stream",
     "text": [
      "\n",
      " San José Patriarca. (Lambayeque)\n",
      " Título: FESTIVIDAD EN HONOR AL PATRÓN SAN JOSÉ PATRIARCA EN PACORA-LAMBAYEQUE.\n",
      " URL: https://www.youtube.com/watch?v=l0FQdHrpPOE&pp=ygUlU2FuIEpvc8OpIFBhdHJpYXJjYS4gTGFtYmF5ZXF1ZSBQZXLDug%3D%3D\n"
     ]
    },
    {
     "name": "stderr",
     "output_type": "stream",
     "text": [
      " 67%|████████████████████████████████████████████████████▎                         | 521/777 [1:31:05<28:30,  6.68s/it]"
     ]
    },
    {
     "name": "stdout",
     "output_type": "stream",
     "text": [
      "\n",
      " Fiesta de San José. (Lambayeque)\n",
      " Título: SERENATA POR EL 319 ANIV. DEL DISTRITO DE SAN JOSE PART. 1\n",
      " URL: https://www.youtube.com/watch?v=saW9mlrmL20&list=RDsaW9mlrmL20&start_radio=1&pp=ygUlRmllc3RhIGRlIFNhbiBKb3PDqS4gTGFtYmF5ZXF1ZSBQZXLDuqAHAQ%3D%3D\n"
     ]
    },
    {
     "name": "stderr",
     "output_type": "stream",
     "text": [
      " 67%|████████████████████████████████████████████████████▍                         | 522/777 [1:31:12<28:29,  6.70s/it]"
     ]
    },
    {
     "name": "stdout",
     "output_type": "stream",
     "text": [
      "\n",
      " Aniversario de la Fundacion de Chiclayo. La\n",
      "Virgen de los Dolores. (Lambayeque)\n",
      " Título: Chiclayo y su 188 aniversario: BDP destaca su irresistible gastronomía y hospitalidad única\n",
      " URL: https://www.youtube.com/watch?v=0aMVUKee6-w&pp=ygVSQW5pdmVyc2FyaW8gZGUgbGEgRnVuZGFjaW9uIGRlIENoaWNsYXlvLiBMYVZpcmdlbiBkZSBsb3MgRG9sb3Jlcy4gTGFtYmF5ZXF1ZSBQZXLDug%3D%3D\n"
     ]
    },
    {
     "name": "stderr",
     "output_type": "stream",
     "text": [
      " 67%|████████████████████████████████████████████████████▌                         | 523/777 [1:31:17<27:27,  6.48s/it]"
     ]
    },
    {
     "name": "stdout",
     "output_type": "stream",
     "text": [
      "\n",
      " Fiesta del Señor de la Justicia. (Lambayeque)\n",
      " Título: FERREÑAFE CELEBRA AÑO DE LA FERIA SEÑOR DE LA JUSTICIA\n",
      " URL: https://www.youtube.com/watch?v=LaZvUU-u7y4&pp=ygUyRmllc3RhIGRlbCBTZcOxb3IgZGUgbGEgSnVzdGljaWEuIExhbWJheWVxdWUgUGVyw7o%3D\n"
     ]
    },
    {
     "name": "stderr",
     "output_type": "stream",
     "text": [
      " 67%|████████████████████████████████████████████████████▌                         | 524/777 [1:31:24<26:52,  6.37s/it]"
     ]
    },
    {
     "name": "stdout",
     "output_type": "stream",
     "text": [
      "\n",
      " La Cruz de Mayo. (Lambayeque)\n",
      " Título: Cruces de Mayo | Fe y Tradición\n",
      " URL: https://www.youtube.com/watch?v=j3L2oln4d70&pp=ygUhTGEgQ3J1eiBkZSBNYXlvLiBMYW1iYXllcXVlIFBlcsO6\n"
     ]
    },
    {
     "name": "stderr",
     "output_type": "stream",
     "text": [
      " 68%|████████████████████████████████████████████████████▋                         | 525/777 [1:31:30<27:14,  6.49s/it]"
     ]
    },
    {
     "name": "stdout",
     "output_type": "stream",
     "text": [
      "\n",
      " La Cruz Velacuy. (Lambayeque)\n",
      " Título: Cruz Velacuy Cusco - Perú.\n",
      " URL: https://www.youtube.com/watch?v=mnuhRPepraY&pp=ygUhTGEgQ3J1eiBWZWxhY3V5LiBMYW1iYXllcXVlIFBlcsO6\n"
     ]
    },
    {
     "name": "stderr",
     "output_type": "stream",
     "text": [
      " 68%|████████████████████████████████████████████████████▊                         | 526/777 [1:31:36<26:26,  6.32s/it]"
     ]
    },
    {
     "name": "stdout",
     "output_type": "stream",
     "text": [
      "\n",
      " La Cruz de Mayo. (Lambayeque)\n",
      " Título: Cruces de Mayo | Fe y Tradición\n",
      " URL: https://www.youtube.com/watch?v=j3L2oln4d70&pp=ygUhTGEgQ3J1eiBkZSBNYXlvLiBMYW1iYXllcXVlIFBlcsO6\n"
     ]
    },
    {
     "name": "stderr",
     "output_type": "stream",
     "text": [
      " 68%|████████████████████████████████████████████████████▉                         | 527/777 [1:31:43<26:31,  6.37s/it]"
     ]
    },
    {
     "name": "stdout",
     "output_type": "stream",
     "text": [
      "\n",
      " Festividad de la Santísima Cruz de Ucupe. (Lambayeque)\n",
      " Título: Festividad de la Santísima Cruz de Chalpón en Motupe, Lambayeque | Perú Profundo en #PBO\n",
      " URL: https://www.youtube.com/watch?v=__Hu4zbGiE8&pp=ygU7RmVzdGl2aWRhZCBkZSBsYSBTYW50w61zaW1hIENydXogZGUgVWN1cGUuIExhbWJheWVxdWUgUGVyw7o%3D\n"
     ]
    },
    {
     "name": "stderr",
     "output_type": "stream",
     "text": [
      " 68%|█████████████████████████████████████████████████████                         | 528/777 [1:31:49<25:59,  6.26s/it]"
     ]
    },
    {
     "name": "stdout",
     "output_type": "stream",
     "text": [
      "\n",
      " Festividad de la Cruz del Río. (Lambayeque)\n",
      " Título: Festividad de la Santísima Cruz de Chalpón en Motupe, Lambayeque | Perú Profundo en #PBO\n",
      " URL: https://www.youtube.com/watch?v=__Hu4zbGiE8&pp=ygUwRmVzdGl2aWRhZCBkZSBsYSBDcnV6IGRlbCBSw61vLiBMYW1iYXllcXVlIFBlcsO6\n"
     ]
    },
    {
     "name": "stderr",
     "output_type": "stream",
     "text": [
      " 68%|█████████████████████████████████████████████████████                         | 529/777 [1:31:55<26:16,  6.36s/it]"
     ]
    },
    {
     "name": "stdout",
     "output_type": "stream",
     "text": [
      "\n",
      " Festividad de la Cruz de Pañalá. (Lambayeque)\n",
      " Título: Santísima Cruz de Pañalá - Documental\n",
      " URL: https://www.youtube.com/watch?v=qJGlnd2Zksg&pp=ygUzRmVzdGl2aWRhZCBkZSBsYSBDcnV6IGRlIFBhw7FhbMOhLiBMYW1iYXllcXVlIFBlcsO6\n"
     ]
    },
    {
     "name": "stderr",
     "output_type": "stream",
     "text": [
      " 68%|█████████████████████████████████████████████████████▏                        | 530/777 [1:32:02<26:25,  6.42s/it]"
     ]
    },
    {
     "name": "stdout",
     "output_type": "stream",
     "text": [
      "\n",
      " San Isidro Labrador. (Lambayeque)\n",
      " Título: PASEO DE YUNTAS EN HONOR A SAN ISIDRO LABRADOR, COSTUMBRE ANCESTRAL DEL DISTRITO DE CHUGAY-REPORTAJE\n",
      " URL: https://www.youtube.com/watch?v=ggeDBWC7i3g&pp=ygUlU2FuIElzaWRybyBMYWJyYWRvci4gTGFtYmF5ZXF1ZSBQZXLDug%3D%3D\n"
     ]
    },
    {
     "name": "stderr",
     "output_type": "stream",
     "text": [
      " 68%|█████████████████████████████████████████████████████▎                        | 531/777 [1:32:08<26:03,  6.35s/it]"
     ]
    },
    {
     "name": "stdout",
     "output_type": "stream",
     "text": [
      "\n",
      " Festividad de la Cruz del Camal. (Lambayeque)\n",
      " Título: \"Cruz del Camal, principal religión de Jayanca\" Cátedra Sipan-USS\n",
      " URL: https://www.youtube.com/watch?v=dja5sPhPung&pp=ygUxRmVzdGl2aWRhZCBkZSBsYSBDcnV6IGRlbCBDYW1hbC4gTGFtYmF5ZXF1ZSBQZXLDutIHCQnYCQGHKiGM7w%3D%3D\n"
     ]
    },
    {
     "name": "stderr",
     "output_type": "stream",
     "text": [
      " 68%|█████████████████████████████████████████████████████▍                        | 532/777 [1:32:14<25:29,  6.24s/it]"
     ]
    },
    {
     "name": "stdout",
     "output_type": "stream",
     "text": [
      "\n",
      " La Cruz de Mayo. (Lambayeque)\n",
      " Título: Cruces de Mayo | Fe y Tradición\n",
      " URL: https://www.youtube.com/watch?v=j3L2oln4d70&pp=ygUhTGEgQ3J1eiBkZSBNYXlvLiBMYW1iYXllcXVlIFBlcsO6\n"
     ]
    },
    {
     "name": "stderr",
     "output_type": "stream",
     "text": [
      " 69%|█████████████████████████████████████████████████████▌                        | 533/777 [1:32:21<25:59,  6.39s/it]"
     ]
    },
    {
     "name": "stdout",
     "output_type": "stream",
     "text": [
      "\n",
      " Corpus Christi. (Lambayeque)\n",
      " Título: Captura2xFranxyz - CUERPO DE CRISTO 2016 - Lambayeque\n",
      " URL: https://www.youtube.com/watch?v=EM6mHaXQmqw&pp=ygUgQ29ycHVzIENocmlzdGkuIExhbWJheWVxdWUgUGVyw7o%3D\n"
     ]
    },
    {
     "name": "stderr",
     "output_type": "stream",
     "text": [
      " 69%|█████████████████████████████████████████████████████▌                        | 534/777 [1:32:27<25:42,  6.35s/it]"
     ]
    },
    {
     "name": "stdout",
     "output_type": "stream",
     "text": [
      "\n",
      " San Juan. (Lambayeque)\n",
      " Título: Inauguramos el Centro de Educación Básica Alternativa (CEBA) ‘San Juan’ en Lambayeque\n",
      " URL: https://www.youtube.com/watch?v=C6jHWiC1MqA&pp=ygUaU2FuIEp1YW4uIExhbWJheWVxdWUgUGVyw7rSBwkJ2AkBhyohjO8%3D\n"
     ]
    },
    {
     "name": "stderr",
     "output_type": "stream",
     "text": [
      " 69%|█████████████████████████████████████████████████████▋                        | 535/777 [1:32:33<25:15,  6.26s/it]"
     ]
    },
    {
     "name": "stdout",
     "output_type": "stream",
     "text": [
      "\n",
      " San Pedro. San Pablo. (Lambayeque)\n",
      " Título: Feria en Honor al apóstol San Pablo Y San Pedro Pacora-Lambayeque\n",
      " URL: https://www.youtube.com/watch?v=flgRqd9r7j0&pp=ygUmU2FuIFBlZHJvLiBTYW4gUGFibG8uIExhbWJheWVxdWUgUGVyw7o%3D\n"
     ]
    },
    {
     "name": "stderr",
     "output_type": "stream",
     "text": [
      " 69%|█████████████████████████████████████████████████████▊                        | 536/777 [1:32:40<25:28,  6.34s/it]"
     ]
    },
    {
     "name": "stdout",
     "output_type": "stream",
     "text": [
      "\n",
      " San Pablo. (Lambayeque)\n",
      " Título: LAMBAYEQUE: PÁRROCO DE PACORA SE ROBA EL ESPECTÁCULO BAILANDO EN LA FIESTA DE SAN PABLO\n",
      " URL: https://www.youtube.com/watch?v=nL3WrJ5s1c8&pp=ygUbU2FuIFBhYmxvLiBMYW1iYXllcXVlIFBlcsO6\n"
     ]
    },
    {
     "name": "stderr",
     "output_type": "stream",
     "text": [
      " 69%|█████████████████████████████████████████████████████▉                        | 537/777 [1:32:46<25:45,  6.44s/it]"
     ]
    },
    {
     "name": "stdout",
     "output_type": "stream",
     "text": [
      "\n",
      " Festival del Limón. (Lambayeque)\n",
      " Título: Lambayeque: anuncian festival del limón en Olmos\n",
      " URL: https://www.youtube.com/watch?v=ZyAIblMAA9A&pp=ygUlRmVzdGl2YWwgZGVsIExpbcOzbi4gTGFtYmF5ZXF1ZSBQZXLDug%3D%3D\n"
     ]
    },
    {
     "name": "stderr",
     "output_type": "stream",
     "text": [
      " 69%|██████████████████████████████████████████████████████                        | 538/777 [1:32:53<26:01,  6.53s/it]"
     ]
    },
    {
     "name": "stdout",
     "output_type": "stream",
     "text": [
      "\n",
      " Fiesta de San Benito de Palermo. (Lambayeque)\n",
      " Título: Festividad de San Benito - Callanca - Box Norte\n",
      " URL: https://www.youtube.com/watch?v=_1xtrHFLDvM&pp=ygUxRmllc3RhIGRlIFNhbiBCZW5pdG8gZGUgUGFsZXJtby4gTGFtYmF5ZXF1ZSBQZXLDug%3D%3D\n"
     ]
    },
    {
     "name": "stderr",
     "output_type": "stream",
     "text": [
      " 69%|██████████████████████████████████████████████████████                        | 539/777 [1:32:59<25:31,  6.43s/it]"
     ]
    },
    {
     "name": "stdout",
     "output_type": "stream",
     "text": [
      "\n",
      " Festividad de la Virgen del Carmen. (Lambayeque)\n",
      " Título: 🎥 Festividad de la Virgen del Carmen en Paucartambo | Transmisión oficial por TV Perú 🙌\n",
      " URL: https://www.youtube.com/watch?v=-Jtuhe3TS70&pp=ygU0RmVzdGl2aWRhZCBkZSBsYSBWaXJnZW4gZGVsIENhcm1lbi4gTGFtYmF5ZXF1ZSBQZXLDug%3D%3D\n"
     ]
    },
    {
     "name": "stderr",
     "output_type": "stream",
     "text": [
      " 69%|██████████████████████████████████████████████████████▏                       | 540/777 [1:33:06<25:35,  6.48s/it]"
     ]
    },
    {
     "name": "stdout",
     "output_type": "stream",
     "text": [
      "\n",
      " Festividad del Divino Niño del Milagro. (Lambayeque)\n",
      " Título: Perú profundo #PBO | 22 de julio: Festividad del Divino Niño del Milagro en la ciudad Eten\n",
      " URL: https://www.youtube.com/watch?v=OdzxritJ_q0&pp=ygU5RmVzdGl2aWRhZCBkZWwgRGl2aW5vIE5pw7FvIGRlbCBNaWxhZ3JvLiBMYW1iYXllcXVlIFBlcsO6\n"
     ]
    },
    {
     "name": "stderr",
     "output_type": "stream",
     "text": [
      " 70%|██████████████████████████████████████████████████████▎                       | 541/777 [1:33:12<25:09,  6.40s/it]"
     ]
    },
    {
     "name": "stdout",
     "output_type": "stream",
     "text": [
      "\n",
      " Feria de Exposiciones Típico-Culturales\n",
      "de Monsefú (FEXTICUM). (Lambayeque)\n",
      " Título: FEXTICUM: FERIA DE EXPOSICIONES TÍPICO CULTURALES DE MONSEFÚ | 20 DE JULIO | PERÚ\n",
      " URL: https://www.youtube.com/watch?v=R9YH9JjncmE&pp=ygVQRmVyaWEgZGUgRXhwb3NpY2lvbmVzIFTDrXBpY28tQ3VsdHVyYWxlc2RlIE1vbnNlZsO6IChGRVhUSUNVTSkuIExhbWJheWVxdWUgUGVyw7o%3D\n"
     ]
    },
    {
     "name": "stderr",
     "output_type": "stream",
     "text": [
      " 70%|██████████████████████████████████████████████████████▍                       | 542/777 [1:33:19<25:05,  6.41s/it]"
     ]
    },
    {
     "name": "stdout",
     "output_type": "stream",
     "text": [
      "\n",
      " Aniversario del distrito de Santa Rosa. (Lambayeque)\n",
      " Título: feliz 103 aniversario distrito de santa rosa chiclayo lambayeque\n",
      " URL: https://www.youtube.com/watch?v=m5pvuU4oVLg&pp=ygU4QW5pdmVyc2FyaW8gZGVsIGRpc3RyaXRvIGRlIFNhbnRhIFJvc2EuIExhbWJheWVxdWUgUGVyw7o%3D\n"
     ]
    },
    {
     "name": "stderr",
     "output_type": "stream",
     "text": [
      " 70%|██████████████████████████████████████████████████████▌                       | 543/777 [1:33:25<25:35,  6.56s/it]"
     ]
    },
    {
     "name": "stdout",
     "output_type": "stream",
     "text": [
      "\n",
      " Festividad de Santo Domingo. (Lambayeque)\n",
      " Título: Diablicos de Túcume: Fiesta en Lambayeque | Celebra Perú\n",
      " URL: https://www.youtube.com/watch?v=u6Rnb_UJ9x8&pp=ygUtRmVzdGl2aWRhZCBkZSBTYW50byBEb21pbmdvLiBMYW1iYXllcXVlIFBlcsO6\n"
     ]
    },
    {
     "name": "stderr",
     "output_type": "stream",
     "text": [
      " 70%|██████████████████████████████████████████████████████▌                       | 544/777 [1:33:32<24:58,  6.43s/it]"
     ]
    },
    {
     "name": "stdout",
     "output_type": "stream",
     "text": [
      "\n",
      " Fiesta de la Santísima Cruz de Chalpón. (Lambayeque)\n",
      " Título: Festividad de la Santísima Cruz de Chalpón en Motupe, Lambayeque | Perú Profundo en #PBO\n",
      " URL: https://www.youtube.com/watch?v=__Hu4zbGiE8&pp=ygU6Rmllc3RhIGRlIGxhIFNhbnTDrXNpbWEgQ3J1eiBkZSBDaGFscMOzbi4gTGFtYmF5ZXF1ZSBQZXLDug%3D%3D\n"
     ]
    },
    {
     "name": "stderr",
     "output_type": "stream",
     "text": [
      " 70%|██████████████████████████████████████████████████████▋                       | 545/777 [1:33:38<25:14,  6.53s/it]"
     ]
    },
    {
     "name": "stdout",
     "output_type": "stream",
     "text": [
      "\n",
      " Festividad de San Roque. (Lambayeque)\n",
      " Título: San Roque, 99 años de tradición Lambayecana\n",
      " URL: https://www.youtube.com/watch?v=itPDOzJpy1A&pp=ygUpRmVzdGl2aWRhZCBkZSBTYW4gUm9xdWUuIExhbWJheWVxdWUgUGVyw7o%3D\n"
     ]
    },
    {
     "name": "stderr",
     "output_type": "stream",
     "text": [
      " 70%|██████████████████████████████████████████████████████▊                       | 546/777 [1:33:45<25:36,  6.65s/it]"
     ]
    },
    {
     "name": "stdout",
     "output_type": "stream",
     "text": [
      "\n",
      " Fiesta de la Cruz de Yanahuanca. (Lambayeque)\n",
      " Título: Cruz de Yanahuanca (Lambayeque- Peru)\n",
      " URL: https://www.youtube.com/watch?v=lUiDsVY3YWw&pp=ygUxRmllc3RhIGRlIGxhIENydXogZGUgWWFuYWh1YW5jYS4gTGFtYmF5ZXF1ZSBQZXLDug%3D%3D\n"
     ]
    },
    {
     "name": "stderr",
     "output_type": "stream",
     "text": [
      " 70%|██████████████████████████████████████████████████████▉                       | 547/777 [1:33:52<25:37,  6.69s/it]"
     ]
    },
    {
     "name": "stdout",
     "output_type": "stream",
     "text": [
      "\n",
      " Fiesta de la Cruz de Chalpón. (Lambayeque)\n",
      " Título: Festividad de la Santísima Cruz de Chalpón en Motupe, Lambayeque | Perú Profundo en #PBO\n",
      " URL: https://www.youtube.com/watch?v=__Hu4zbGiE8&pp=ygUvRmllc3RhIGRlIGxhIENydXogZGUgQ2hhbHDDs24uIExhbWJheWVxdWUgUGVyw7o%3D\n"
     ]
    },
    {
     "name": "stderr",
     "output_type": "stream",
     "text": [
      " 71%|███████████████████████████████████████████████████████                       | 548/777 [1:33:59<25:37,  6.71s/it]"
     ]
    },
    {
     "name": "stdout",
     "output_type": "stream",
     "text": [
      "\n",
      " Feria Patronal. (Lambayeque)\n",
      " Título: feria patronal agosto 2024 penachi lambayeque peru\n",
      " URL: https://www.youtube.com/watch?v=8aGdf9ALGFk&pp=ygUgRmVyaWEgUGF0cm9uYWwuIExhbWJheWVxdWUgUGVyw7o%3D\n"
     ]
    },
    {
     "name": "stderr",
     "output_type": "stream",
     "text": [
      " 71%|███████████████████████████████████████████████████████                       | 549/777 [1:34:05<24:39,  6.49s/it]"
     ]
    },
    {
     "name": "stdout",
     "output_type": "stream",
     "text": [
      "\n",
      " Festividad de Santa Lucía. (Lambayeque)\n",
      " Título: COLEGIO SANTA LUCIA DE LAMBAYEQUE\n",
      " URL: https://www.youtube.com/watch?v=xUosToEYdTc&pp=ygUsRmVzdGl2aWRhZCBkZSBTYW50YSBMdWPDrWEuIExhbWJheWVxdWUgUGVyw7o%3D\n"
     ]
    },
    {
     "name": "stderr",
     "output_type": "stream",
     "text": [
      " 71%|███████████████████████████████████████████████████████▏                      | 550/777 [1:34:11<24:49,  6.56s/it]"
     ]
    },
    {
     "name": "stdout",
     "output_type": "stream",
     "text": [
      "\n",
      " La Virgen de las Mercedes. (Lambayeque)\n",
      " Título: Lambayeque | El presidente Pedro Castillo inaugura el colegio Virgen de las Mercedes\n",
      " URL: https://www.youtube.com/watch?v=REqY0MsjlBI&pp=ygUrTGEgVmlyZ2VuIGRlIGxhcyBNZXJjZWRlcy4gTGFtYmF5ZXF1ZSBQZXLDug%3D%3D\n"
     ]
    },
    {
     "name": "stderr",
     "output_type": "stream",
     "text": [
      " 71%|███████████████████████████████████████████████████████▎                      | 551/777 [1:34:18<24:22,  6.47s/it]"
     ]
    },
    {
     "name": "stdout",
     "output_type": "stream",
     "text": [
      "\n",
      " San Francisco de Asís. (Lambayeque)\n",
      " Título: leandro en la I.E.P san francisco de asis. lambayeque concursando en su chocolatada navideña.\n",
      " URL: https://www.youtube.com/watch?v=zBXzZjX1I-I&pp=ygUoU2FuIEZyYW5jaXNjbyBkZSBBc8Otcy4gTGFtYmF5ZXF1ZSBQZXLDug%3D%3D\n"
     ]
    },
    {
     "name": "stderr",
     "output_type": "stream",
     "text": [
      " 71%|███████████████████████████████████████████████████████▍                      | 552/777 [1:34:24<24:23,  6.51s/it]"
     ]
    },
    {
     "name": "stdout",
     "output_type": "stream",
     "text": [
      "\n",
      " Fiesta de Santa Rosa de Lima. El Señor\n",
      "de los Milagros. (Lambayeque)\n",
      " Título: Señor de los Milagros visita el santuario de Santa Rosa de Lima 2023\n",
      " URL: https://www.youtube.com/watch?v=Crjpgc34_4Y&pp=ygVIRmllc3RhIGRlIFNhbnRhIFJvc2EgZGUgTGltYS4gRWwgU2XDsW9yZGUgbG9zIE1pbGFncm9zLiBMYW1iYXllcXVlIFBlcsO6\n"
     ]
    },
    {
     "name": "stderr",
     "output_type": "stream",
     "text": [
      " 71%|███████████████████████████████████████████████████████▌                      | 553/777 [1:34:30<23:51,  6.39s/it]"
     ]
    },
    {
     "name": "stdout",
     "output_type": "stream",
     "text": [
      "\n",
      " Festividad del Señor de la Justicia. (Lambayeque)\n",
      " Título: “LA FESTIVIDAD DEL SEÑOR DE LA JUSTICIA EN FERREÑAFE”\n",
      " URL: https://www.youtube.com/watch?v=w64effebiJg&pp=ygU2RmVzdGl2aWRhZCBkZWwgU2XDsW9yIGRlIGxhIEp1c3RpY2lhLiBMYW1iYXllcXVlIFBlcsO6\n"
     ]
    },
    {
     "name": "stderr",
     "output_type": "stream",
     "text": [
      " 71%|███████████████████████████████████████████████████████▌                      | 554/777 [1:34:37<23:26,  6.31s/it]"
     ]
    },
    {
     "name": "stdout",
     "output_type": "stream",
     "text": [
      "\n",
      " Fiesta de Todos los Santos. (Lambayeque)\n",
      " Título: Ciudad Eten - Fiesta de todos los Santos\n",
      " URL: https://www.youtube.com/watch?v=fZVKF2hxULU&pp=ygUsRmllc3RhIGRlIFRvZG9zIGxvcyBTYW50b3MuIExhbWJheWVxdWUgUGVyw7o%3D\n"
     ]
    },
    {
     "name": "stderr",
     "output_type": "stream",
     "text": [
      " 71%|███████████████████████████████████████████████████████▋                      | 555/777 [1:34:43<23:12,  6.27s/it]"
     ]
    },
    {
     "name": "stdout",
     "output_type": "stream",
     "text": [
      "\n",
      " Festividad Patronal del Señor de la Buena\n",
      "Muerte. (Lambayeque)\n",
      " Título: semana santa lambayeque 2023 señor del buerto\n",
      " URL: https://www.youtube.com/shorts/DdiXJjBccfE\n"
     ]
    },
    {
     "name": "stderr",
     "output_type": "stream",
     "text": [
      " 72%|███████████████████████████████████████████████████████▊                      | 556/777 [1:34:50<23:44,  6.45s/it]"
     ]
    },
    {
     "name": "stdout",
     "output_type": "stream",
     "text": [
      "\n",
      " Aniversario del Pueblo. (Lambayeque)\n",
      " Título: Chiclayo y su 188 aniversario: BDP destaca su irresistible gastronomía y hospitalidad única\n",
      " URL: https://www.youtube.com/watch?v=0aMVUKee6-w&pp=ygUoQW5pdmVyc2FyaW8gZGVsIFB1ZWJsby4gTGFtYmF5ZXF1ZSBQZXLDug%3D%3D\n"
     ]
    },
    {
     "name": "stderr",
     "output_type": "stream",
     "text": [
      " 72%|███████████████████████████████████████████████████████▉                      | 557/777 [1:34:56<23:15,  6.34s/it]"
     ]
    },
    {
     "name": "stdout",
     "output_type": "stream",
     "text": [
      "\n",
      " San Martín de Porras. (Lambayeque)\n",
      " Título: Procesión San Martín de Porres\n",
      " URL: https://www.youtube.com/watch?v=q7R2dPe6pmc&pp=ygUnU2FuIE1hcnTDrW4gZGUgUG9ycmFzLiBMYW1iYXllcXVlIFBlcsO6\n"
     ]
    },
    {
     "name": "stderr",
     "output_type": "stream",
     "text": [
      " 72%|████████████████████████████████████████████████████████                      | 558/777 [1:35:03<23:50,  6.53s/it]"
     ]
    },
    {
     "name": "stdout",
     "output_type": "stream",
     "text": [
      "\n",
      " Festividad de San Martín de Tours. (Lambayeque)\n",
      " Título: 💠 FESTIVIDAD DE SAN MARTÍN DE TOURS\n",
      " URL: https://www.youtube.com/watch?v=tDK4RZitxns&pp=ygU0RmVzdGl2aWRhZCBkZSBTYW4gTWFydMOtbiBkZSBUb3Vycy4gTGFtYmF5ZXF1ZSBQZXLDug%3D%3D\n"
     ]
    },
    {
     "name": "stderr",
     "output_type": "stream",
     "text": [
      " 72%|████████████████████████████████████████████████████████                      | 559/777 [1:35:09<23:57,  6.59s/it]"
     ]
    },
    {
     "name": "stdout",
     "output_type": "stream",
     "text": [
      "\n",
      " San Martín de Porras. (Lambayeque)\n",
      " Título: Procesión San Martín de Porres\n",
      " URL: https://www.youtube.com/watch?v=q7R2dPe6pmc&pp=ygUnU2FuIE1hcnTDrW4gZGUgUG9ycmFzLiBMYW1iYXllcXVlIFBlcsO6\n"
     ]
    },
    {
     "name": "stderr",
     "output_type": "stream",
     "text": [
      " 72%|████████████████████████████████████████████████████████▏                     | 560/777 [1:35:16<23:22,  6.46s/it]"
     ]
    },
    {
     "name": "stdout",
     "output_type": "stream",
     "text": [
      "\n",
      " Santa Catalina. (Lambayeque)\n",
      " Título: Eco Museo - Comunidad Campesina “Santa Catalina de Chongoyape”\n",
      " URL: https://www.youtube.com/watch?v=mR_bDuaC3uI&pp=ygUgU2FudGEgQ2F0YWxpbmEuIExhbWJheWVxdWUgUGVyw7o%3D\n"
     ]
    },
    {
     "name": "stderr",
     "output_type": "stream",
     "text": [
      " 72%|████████████████████████████████████████████████████████▎                     | 561/777 [1:35:22<22:55,  6.37s/it]"
     ]
    },
    {
     "name": "stdout",
     "output_type": "stream",
     "text": [
      "\n",
      " Fundación Española de Saña. (Lambayeque)\n",
      " Título: Fundación Española de la Ciudad De Zaña Lambayeque - 29 de Noviembre | PERÚ PROFUNDO 🇵🇪\n",
      " URL: https://www.youtube.com/watch?v=vyawcNXNKAI&pp=ygUvRnVuZGFjacOzbiBFc3Bhw7FvbGEgZGUgU2HDsWEuIExhbWJheWVxdWUgUGVyw7o%3D\n"
     ]
    },
    {
     "name": "stderr",
     "output_type": "stream",
     "text": [
      " 72%|████████████████████████████████████████████████████████▍                     | 562/777 [1:35:28<23:13,  6.48s/it]"
     ]
    },
    {
     "name": "stdout",
     "output_type": "stream",
     "text": [
      "\n",
      " Semana Turística de Chiclayo. (Lambayeque)\n",
      " Título: Chiclayo | Presentan semana turística por Fiestas Patrias\n",
      " URL: https://www.youtube.com/watch?v=ebfOo3_TjA4&pp=ygUvU2VtYW5hIFR1csOtc3RpY2EgZGUgQ2hpY2xheW8uIExhbWJheWVxdWUgUGVyw7o%3D\n"
     ]
    },
    {
     "name": "stderr",
     "output_type": "stream",
     "text": [
      " 72%|████████████████████████████████████████████████████████▌                     | 563/777 [1:35:35<23:17,  6.53s/it]"
     ]
    },
    {
     "name": "stdout",
     "output_type": "stream",
     "text": [
      "\n",
      " Fiesta de la Inmaculada Concepción. (Lambayeque)\n",
      " Título: Inmaculada virgen de la Puerta - Lambayeque 2021\n",
      " URL: https://www.youtube.com/watch?v=SdZBPuELzPA&list=RDSdZBPuELzPA&start_radio=1&pp=ygU1Rmllc3RhIGRlIGxhIElubWFjdWxhZGEgQ29uY2VwY2nDs24uIExhbWJheWVxdWUgUGVyw7qgBwE%3D\n"
     ]
    },
    {
     "name": "stderr",
     "output_type": "stream",
     "text": [
      " 73%|████████████████████████████████████████████████████████▌                     | 564/777 [1:35:41<22:52,  6.44s/it]"
     ]
    },
    {
     "name": "stdout",
     "output_type": "stream",
     "text": [
      "\n",
      " Santa Lucía. (Lambayeque)\n",
      " Título: COLEGIO SANTA LUCIA DE LAMBAYEQUE\n",
      " URL: https://www.youtube.com/watch?v=xUosToEYdTc&pp=ygUeU2FudGEgTHVjw61hLiBMYW1iYXllcXVlIFBlcsO6\n"
     ]
    },
    {
     "name": "stderr",
     "output_type": "stream",
     "text": [
      " 73%|████████████████████████████████████████████████████████▋                     | 565/777 [1:35:48<22:44,  6.43s/it]"
     ]
    },
    {
     "name": "stdout",
     "output_type": "stream",
     "text": [
      "\n",
      " Festival de la uva, el Vino y el canotaje (Lima)\n",
      " Título: Lunahuaná celebró el Festival de la uva, el vino y el canotaje\n",
      " URL: https://www.youtube.com/watch?v=r_xUD6nzf5k&pp=ygU0RmVzdGl2YWwgZGUgbGEgdXZhLCBlbCBWaW5vIHkgZWwgY2Fub3RhamUgTGltYSBQZXLDug%3D%3D\n"
     ]
    },
    {
     "name": "stderr",
     "output_type": "stream",
     "text": [
      " 73%|████████████████████████████████████████████████████████▊                     | 566/777 [1:35:54<22:27,  6.38s/it]"
     ]
    },
    {
     "name": "stdout",
     "output_type": "stream",
     "text": [
      "\n",
      " Fiesta de las Cruces, Peregrinación al\n",
      "Cerro San Cristóbal de Lima (Lima)\n",
      " Título: Fieles realizaron masiva peregrinación al Cerro San Cristóbal\n",
      " URL: https://www.youtube.com/watch?v=V_mjScgGz6Y&pp=ygVORmllc3RhIGRlIGxhcyBDcnVjZXMsIFBlcmVncmluYWNpw7NuIGFsQ2Vycm8gU2FuIENyaXN0w7NiYWwgZGUgTGltYSBMaW1hIFBlcsO6\n"
     ]
    },
    {
     "name": "stderr",
     "output_type": "stream",
     "text": [
      " 73%|████████████████████████████████████████████████████████▉                     | 567/777 [1:36:01<22:51,  6.53s/it]"
     ]
    },
    {
     "name": "stdout",
     "output_type": "stream",
     "text": [
      "\n",
      " Fiesta del Señor de Huamantanga (Lima)\n",
      " Título: Fiesta del señor de Huamantanga Lima - 2022\n",
      " URL: https://www.youtube.com/watch?v=eej3rMoGLpU&pp=ygUrRmllc3RhIGRlbCBTZcOxb3IgZGUgSHVhbWFudGFuZ2EgTGltYSBQZXLDutIHCQnYCQGHKiGM7w%3D%3D\n"
     ]
    },
    {
     "name": "stderr",
     "output_type": "stream",
     "text": [
      " 73%|█████████████████████████████████████████████████████████                     | 568/777 [1:36:07<22:41,  6.52s/it]"
     ]
    },
    {
     "name": "stdout",
     "output_type": "stream",
     "text": [
      "\n",
      " Festival del Pisco (Lima)\n",
      " Título: Celebran con festival el ‘Día del Pisco’ en Perú\n",
      " URL: https://www.youtube.com/watch?v=spDDwYQv0J4&pp=ygUdRmVzdGl2YWwgZGVsIFBpc2NvIExpbWEgUGVyw7o%3D\n"
     ]
    },
    {
     "name": "stderr",
     "output_type": "stream",
     "text": [
      " 73%|█████████████████████████████████████████████████████████                     | 569/777 [1:36:14<22:47,  6.57s/it]"
     ]
    },
    {
     "name": "stdout",
     "output_type": "stream",
     "text": [
      "\n",
      " Fiesta de San Pedro y San Pablo (Lima)\n",
      " Título: Ancón celebra con fe y alegría a San Pedro y San Pablo en su tradicional fiesta en el mar\n",
      " URL: https://www.youtube.com/watch?v=-gUd0esRyVg&pp=ygUqRmllc3RhIGRlIFNhbiBQZWRybyB5IFNhbiBQYWJsbyBMaW1hIFBlcsO60gcJCdgJAYcqIYzv\n"
     ]
    },
    {
     "name": "stderr",
     "output_type": "stream",
     "text": [
      " 73%|█████████████████████████████████████████████████████████▏                    | 570/777 [1:36:20<22:20,  6.48s/it]"
     ]
    },
    {
     "name": "stdout",
     "output_type": "stream",
     "text": [
      "\n",
      " Fiesta de maría Magdalena (Lima)\n",
      " Título: Plus-TV - Celebra Perú - Fiesta de María Magdalena\n",
      " URL: https://www.youtube.com/watch?v=Fa5eCnDjheI&pp=ygUlRmllc3RhIGRlIG1hcsOtYSBNYWdkYWxlbmEgTGltYSBQZXLDug%3D%3D\n"
     ]
    },
    {
     "name": "stderr",
     "output_type": "stream",
     "text": [
      " 73%|█████████████████████████████████████████████████████████▎                    | 571/777 [1:36:27<22:26,  6.54s/it]"
     ]
    },
    {
     "name": "stdout",
     "output_type": "stream",
     "text": [
      "\n",
      " Fiesta del patrón Santiago (Lima)\n",
      " Título: FESTIVIDAD DE PATRÓN SANTIAGO DE PAIRACA - LIMA 2015\n",
      " URL: https://www.youtube.com/watch?v=E1vwJ3w-QwE&pp=ygUmRmllc3RhIGRlbCBwYXRyw7NuIFNhbnRpYWdvIExpbWEgUGVyw7o%3D\n"
     ]
    },
    {
     "name": "stderr",
     "output_type": "stream",
     "text": [
      " 74%|█████████████████████████████████████████████████████████▍                    | 572/777 [1:36:34<22:19,  6.53s/it]"
     ]
    },
    {
     "name": "stdout",
     "output_type": "stream",
     "text": [
      "\n",
      " Fiesta de la Naranja (Lima)\n",
      " Título: Asi es una fiesta en un pueblo de Perú 【Lima Perú 4K】\n",
      " URL: https://www.youtube.com/watch?v=syMtTCAp7V8&pp=ygUfRmllc3RhIGRlIGxhIE5hcmFuamEgTGltYSBQZXLDug%3D%3D\n"
     ]
    },
    {
     "name": "stderr",
     "output_type": "stream",
     "text": [
      " 74%|█████████████████████████████████████████████████████████▌                    | 573/777 [1:36:40<22:09,  6.52s/it]"
     ]
    },
    {
     "name": "stdout",
     "output_type": "stream",
     "text": [
      "\n",
      " Fiesta de Santa Rosa de Lima (Lima)\n",
      " Título: CARHUAMAYO - FIESTA EN HONOR A SANTA ROSA DE LIMA - LIMA PERU\n",
      " URL: https://www.youtube.com/watch?v=bxYL5QXPR9A&list=RDbxYL5QXPR9A&start_radio=1&pp=ygUnRmllc3RhIGRlIFNhbnRhIFJvc2EgZGUgTGltYSBMaW1hIFBlcsO6oAcB\n"
     ]
    },
    {
     "name": "stderr",
     "output_type": "stream",
     "text": [
      " 74%|█████████████████████████████████████████████████████████▌                    | 574/777 [1:36:46<21:50,  6.46s/it]"
     ]
    },
    {
     "name": "stdout",
     "output_type": "stream",
     "text": [
      "\n",
      " Escenificación de la muerte del inca (Lima)\n",
      " Título: Escenificación de la captura y muerte del Inca Atahualpa (Pomabamba Áncash 26/06/2022)\n",
      " URL: https://www.youtube.com/watch?v=1ns3YuZO3O0&pp=ygUwRXNjZW5pZmljYWNpw7NuIGRlIGxhIG11ZXJ0ZSBkZWwgaW5jYSBMaW1hIFBlcsO60gcJCdgJAYcqIYzv\n"
     ]
    },
    {
     "name": "stderr",
     "output_type": "stream",
     "text": [
      " 74%|█████████████████████████████████████████████████████████▋                    | 575/777 [1:36:53<22:04,  6.56s/it]"
     ]
    },
    {
     "name": "stdout",
     "output_type": "stream",
     "text": [
      "\n",
      " Semana de cañete y festival de arte negro (Lima)\n",
      " Título: EP. 40: SEMANA DE CAÑETE 2022 | FIESTA DE CAÑETE | Y EL FESTIVAL DEL ARTE NEGRO??\n",
      " URL: https://www.youtube.com/watch?v=Ywa__Bntvg8&pp=ygU1U2VtYW5hIGRlIGNhw7FldGUgeSBmZXN0aXZhbCBkZSBhcnRlIG5lZ3JvIExpbWEgUGVyw7o%3D\n"
     ]
    },
    {
     "name": "stderr",
     "output_type": "stream",
     "text": [
      " 74%|█████████████████████████████████████████████████████████▊                    | 576/777 [1:36:59<21:38,  6.46s/it]"
     ]
    },
    {
     "name": "stdout",
     "output_type": "stream",
     "text": [
      "\n",
      " Festividad de la Virgen de Cocharcas (Lima)\n",
      " Título: Procesión extraordinaria de la Virgen de Cocharcas de Lima - Perú 28/08/22\n",
      " URL: https://www.youtube.com/watch?v=-Ej8PhY8v-w&pp=ygUvRmVzdGl2aWRhZCBkZSBsYSBWaXJnZW4gZGUgQ29jaGFyY2FzIExpbWEgUGVyw7o%3D\n"
     ]
    },
    {
     "name": "stderr",
     "output_type": "stream",
     "text": [
      " 74%|█████████████████████████████████████████████████████████▉                    | 577/777 [1:37:06<21:48,  6.54s/it]"
     ]
    },
    {
     "name": "stdout",
     "output_type": "stream",
     "text": [
      "\n",
      " Festividad de la Virgen Purísima y escenificación\n",
      "de la muerte del Inca (Lima)\n",
      " Título: Festividad en honor a la Virgen Purísima Concepción Túcume | PERÚ PROFUNDO 🇵🇪\n",
      " URL: https://www.youtube.com/watch?v=x86F0Jdsd6w&pp=ygVTRmVzdGl2aWRhZCBkZSBsYSBWaXJnZW4gUHVyw61zaW1hIHkgZXNjZW5pZmljYWNpw7NuZGUgbGEgbXVlcnRlIGRlbCBJbmNhIExpbWEgUGVyw7o%3D\n"
     ]
    },
    {
     "name": "stderr",
     "output_type": "stream",
     "text": [
      " 74%|██████████████████████████████████████████████████████████                    | 578/777 [1:37:13<21:54,  6.60s/it]"
     ]
    },
    {
     "name": "stdout",
     "output_type": "stream",
     "text": [
      "\n",
      " Escenificación de la muerte del Inca\n",
      "y fiesta de San Jerónimo de CopaOctubre-noviembre Lima Temporada de toros en la\n",
      "Plaza de Acho (Lima)\n",
      " Título: 😱INCREÍBLE LA CORNAMENTA‼️DE ESTE TORO BRAVO DE HERMANOS CAMBRONELL.💯\n",
      " URL: https://www.youtube.com/shorts/ClEd3Tx3SSs\n"
     ]
    },
    {
     "name": "stderr",
     "output_type": "stream",
     "text": [
      " 75%|██████████████████████████████████████████████████████████                    | 579/777 [1:37:19<21:15,  6.44s/it]"
     ]
    },
    {
     "name": "stdout",
     "output_type": "stream",
     "text": [
      "\n",
      " Fiesta del Agua. Moros y cristianos (Lima)\n",
      " Título: Fábula infantil de la fiesta de Moros y Cristianos de Dénia\n",
      " URL: https://www.youtube.com/watch?v=YacOzOwvDhQ&pp=ygUuRmllc3RhIGRlbCBBZ3VhLiBNb3JvcyB5IGNyaXN0aWFub3MgTGltYSBQZXLDug%3D%3D\n"
     ]
    },
    {
     "name": "stderr",
     "output_type": "stream",
     "text": [
      " 75%|██████████████████████████████████████████████████████████▏                   | 580/777 [1:37:25<20:46,  6.33s/it]"
     ]
    },
    {
     "name": "stdout",
     "output_type": "stream",
     "text": [
      "\n",
      " Fiesta del Agua o Champería en San Pedro\n",
      "de casta (Lima)\n",
      " Título: san pedro de casta fiesta del agua carrera especial champeria 2011\n",
      " URL: https://www.youtube.com/watch?v=Vaeq3VqogQM&pp=ygU8Rmllc3RhIGRlbCBBZ3VhIG8gQ2hhbXBlcsOtYSBlbiBTYW4gUGVkcm9kZSBjYXN0YSBMaW1hIFBlcsO60gcJCdgJAYcqIYzv\n"
     ]
    },
    {
     "name": "stderr",
     "output_type": "stream",
     "text": [
      " 75%|██████████████████████████████████████████████████████████▎                   | 581/777 [1:37:31<20:27,  6.26s/it]"
     ]
    },
    {
     "name": "stdout",
     "output_type": "stream",
     "text": [
      "\n",
      " Procesiones del Señor de los Milagros (Lima)\n",
      " Título: 🇵🇪 LA PROCESIÓN MÁS GRANDE, El Señor de los Milagros | Lima, Perú\n",
      " URL: https://www.youtube.com/watch?v=wzDOPCumcJs&pp=ygUxUHJvY2VzaW9uZXMgZGVsIFNlw7FvciBkZSBsb3MgTWlsYWdyb3MgTGltYSBQZXLDug%3D%3D\n"
     ]
    },
    {
     "name": "stderr",
     "output_type": "stream",
     "text": [
      " 75%|██████████████████████████████████████████████████████████▍                   | 582/777 [1:37:37<20:20,  6.26s/it]"
     ]
    },
    {
     "name": "stdout",
     "output_type": "stream",
     "text": [
      "\n",
      " Día de la Canción Criolla (Lima)\n",
      " Título: Día de la canción Criolla | Recorrímos las peñas criollas de Lima\n",
      " URL: https://www.youtube.com/watch?v=r2Flz522u8g&pp=ygUmRMOtYSBkZSBsYSBDYW5jacOzbiBDcmlvbGxhIExpbWEgUGVyw7rSBwkJ2AkBhyohjO8%3D\n"
     ]
    },
    {
     "name": "stderr",
     "output_type": "stream",
     "text": [
      " 75%|██████████████████████████████████████████████████████████▌                   | 583/777 [1:37:44<20:13,  6.25s/it]"
     ]
    },
    {
     "name": "stdout",
     "output_type": "stream",
     "text": [
      "\n",
      " Aniversario del arribo al puerto de los buques\n",
      "de la Marina de Guerra (el bergantín Próspero) (Loreto)\n",
      " Título: CORBETA MISILERA DE LA MARINA DE GUERRA DEL PERÚ 🇵🇪\n",
      " URL: https://www.youtube.com/shorts/Tmo767Xmrk4\n"
     ]
    },
    {
     "name": "stderr",
     "output_type": "stream",
     "text": [
      " 75%|██████████████████████████████████████████████████████████▋                   | 584/777 [1:37:50<20:23,  6.34s/it]"
     ]
    },
    {
     "name": "stdout",
     "output_type": "stream",
     "text": [
      "\n",
      " Creación política del Departamento\n",
      "Marítimo Militar de Loreto (Loreto)\n",
      " Título: Poponen la creación de la zona económica especial de Loreto\n",
      " URL: https://www.youtube.com/watch?v=CbGaE8viAPA&pp=ygVMQ3JlYWNpw7NuIHBvbMOtdGljYSBkZWwgRGVwYXJ0YW1lbnRvTWFyw610aW1vIE1pbGl0YXIgZGUgTG9yZXRvIExvcmV0byBQZXLDug%3D%3D\n"
     ]
    },
    {
     "name": "stderr",
     "output_type": "stream",
     "text": [
      " 75%|██████████████████████████████████████████████████████████▋                   | 585/777 [1:37:56<20:09,  6.30s/it]"
     ]
    },
    {
     "name": "stdout",
     "output_type": "stream",
     "text": [
      "\n",
      " Fiesta de carnavales (Loreto)\n",
      " Título: Fiesta Loretana - Loreto // Sangre Leonardina // Saltur Tierra Hermosa - Renovación Folklorica\n",
      " URL: https://www.youtube.com/watch?v=W9qFdM0MnWk&list=RDW9qFdM0MnWk&start_radio=1&pp=ygUhRmllc3RhIGRlIGNhcm5hdmFsZXMgTG9yZXRvIFBlcsO6oAcB\n"
     ]
    },
    {
     "name": "stderr",
     "output_type": "stream",
     "text": [
      " 75%|██████████████████████████████████████████████████████████▊                   | 586/777 [1:38:02<19:46,  6.21s/it]"
     ]
    },
    {
     "name": "stdout",
     "output_type": "stream",
     "text": [
      "\n",
      " Procesión de Palmas (Loreto)\n",
      " Título: domingo de ramos Jesus de las palmas El Templo de capuchinas 2023\n",
      " URL: https://www.youtube.com/shorts/TIi5wCZSdiI\n"
     ]
    },
    {
     "name": "stderr",
     "output_type": "stream",
     "text": [
      " 76%|██████████████████████████████████████████████████████████▉                   | 587/777 [1:38:09<20:12,  6.38s/it]"
     ]
    },
    {
     "name": "stdout",
     "output_type": "stream",
     "text": [
      "\n",
      " San Antonio, danza de los cabezones (Loreto)\n",
      " Título: Fiesta a la Llariwa - Danza Loreto - Perú\n",
      " URL: https://www.youtube.com/watch?v=g_Uk_UYMlU0&list=RDg_Uk_UYMlU0&start_radio=1&pp=ygUwU2FuIEFudG9uaW8sIGRhbnphIGRlIGxvcyBjYWJlem9uZXMgTG9yZXRvIFBlcsO6oAcB\n"
     ]
    },
    {
     "name": "stderr",
     "output_type": "stream",
     "text": [
      " 76%|███████████████████████████████████████████████████████████                   | 588/777 [1:38:16<20:36,  6.54s/it]"
     ]
    },
    {
     "name": "stdout",
     "output_type": "stream",
     "text": [
      "\n",
      " Fiesta de San Juan (Loreto)\n",
      " Título: La fiesta más feliz de Loreto: San Juan DE IQUITOS | Perú Pe\n",
      " URL: https://www.youtube.com/watch?v=5AC6NfaUJ3A&pp=ygUfRmllc3RhIGRlIFNhbiBKdWFuIExvcmV0byBQZXLDug%3D%3D\n"
     ]
    },
    {
     "name": "stderr",
     "output_type": "stream",
     "text": [
      " 76%|███████████████████████████████████████████████████████████▏                  | 589/777 [1:38:23<20:38,  6.59s/it]"
     ]
    },
    {
     "name": "stdout",
     "output_type": "stream",
     "text": [
      "\n",
      " Fiesta de San Pedro y San Pablo (Loreto)\n",
      " Título: Ancón celebra con fe y alegría a San Pedro y San Pablo en su tradicional fiesta en el mar\n",
      " URL: https://www.youtube.com/watch?v=-gUd0esRyVg&pp=ygUsRmllc3RhIGRlIFNhbiBQZWRybyB5IFNhbiBQYWJsbyBMb3JldG8gUGVyw7o%3D\n"
     ]
    },
    {
     "name": "stderr",
     "output_type": "stream",
     "text": [
      " 76%|███████████████████████████████████████████████████████████▏                  | 590/777 [1:38:29<20:41,  6.64s/it]"
     ]
    },
    {
     "name": "stdout",
     "output_type": "stream",
     "text": [
      "\n",
      " Fiesta Patronal de la Virgen del Carmen (Loreto)\n",
      " Título: FIESTA PATRONAL HONOR A LA SANTISIMA VIRGEN DEL CARMEN - PATRONA DE LOS LACHAQUINOS - PARTE 1\n",
      " URL: https://www.youtube.com/watch?v=W2VPtBtRpUA&pp=ygU0Rmllc3RhIFBhdHJvbmFsIGRlIGxhIFZpcmdlbiBkZWwgQ2FybWVuIExvcmV0byBQZXLDutIHCQnYCQGHKiGM7w%3D%3D\n"
     ]
    },
    {
     "name": "stderr",
     "output_type": "stream",
     "text": [
      " 76%|███████████████████████████████████████████████████████████▎                  | 591/777 [1:38:36<20:51,  6.73s/it]"
     ]
    },
    {
     "name": "stdout",
     "output_type": "stream",
     "text": [
      "\n",
      " Fiesta de la Santa Cruz de los Motilones (Loreto)\n",
      " Título: Celebran fiesta patronal en honor a la santa cruz de los motilones en San Martín\n",
      " URL: https://www.youtube.com/watch?v=dyLOlndHmkE&pp=ygU1Rmllc3RhIGRlIGxhIFNhbnRhIENydXogZGUgbG9zIE1vdGlsb25lcyBMb3JldG8gUGVyw7o%3D\n"
     ]
    },
    {
     "name": "stderr",
     "output_type": "stream",
     "text": [
      " 76%|███████████████████████████████████████████████████████████▍                  | 592/777 [1:38:43<20:40,  6.70s/it]"
     ]
    },
    {
     "name": "stdout",
     "output_type": "stream",
     "text": [
      "\n",
      " Feria Agropecuaria Artesanal de Jenaro Herrera (Loreto)\n",
      " Título: Agricultura en Jenaro Herrera - Requena - Loreto - Perú\n",
      " URL: https://www.youtube.com/watch?v=f2Gf1rAUhyM&pp=ygU7RmVyaWEgQWdyb3BlY3VhcmlhIEFydGVzYW5hbCBkZSBKZW5hcm8gSGVycmVyYSBMb3JldG8gUGVyw7o%3D\n"
     ]
    },
    {
     "name": "stderr",
     "output_type": "stream",
     "text": [
      " 76%|███████████████████████████████████████████████████████████▌                  | 593/777 [1:38:50<20:43,  6.76s/it]"
     ]
    },
    {
     "name": "stdout",
     "output_type": "stream",
     "text": [
      "\n",
      " La Virgen de las Nieves (Loreto)\n",
      " Título: PADRE CARLOS NARRA BREVE HISTORIA DE LA IGLESIA MATRIZ DE YURIMAGUAS VIRGEN DE LAS NIEVES\n",
      " URL: https://www.youtube.com/watch?v=Qr3SIMkW-84&pp=ygUkTGEgVmlyZ2VuIGRlIGxhcyBOaWV2ZXMgTG9yZXRvIFBlcsO6\n"
     ]
    },
    {
     "name": "stderr",
     "output_type": "stream",
     "text": [
      " 76%|███████████████████████████████████████████████████████████▋                  | 594/777 [1:38:57<20:27,  6.71s/it]"
     ]
    },
    {
     "name": "stdout",
     "output_type": "stream",
     "text": [
      "\n",
      " Fiesta de los Chayahuitas (Loreto)\n",
      " Título: CHAYAHUITAS\n",
      " URL: https://www.youtube.com/watch?v=yR7bOGExn_E&pp=ygUmRmllc3RhIGRlIGxvcyBDaGF5YWh1aXRhcyBMb3JldG8gUGVyw7o%3D\n"
     ]
    },
    {
     "name": "stderr",
     "output_type": "stream",
     "text": [
      " 77%|███████████████████████████████████████████████████████████▋                  | 595/777 [1:39:03<19:47,  6.53s/it]"
     ]
    },
    {
     "name": "stdout",
     "output_type": "stream",
     "text": [
      "\n",
      " Nuestra Señora de la Natividad (Loreto)\n",
      " Título: FESTIVIDAD DE LA NATIVIDAD DE MARÍA Y VIRGEN DE LORETO 2016\n",
      " URL: https://www.youtube.com/watch?v=WhS_v38keTI&pp=ygUsTnVlc3RyYSBTZcOxb3JhIGRlIGxhIE5hdGl2aWRhZCBMb3JldG8gUGVyw7rSBwkJ2AkBhyohjO8%3D\n"
     ]
    },
    {
     "name": "stderr",
     "output_type": "stream",
     "text": [
      " 77%|███████████████████████████████████████████████████████████▊                  | 596/777 [1:39:09<19:49,  6.57s/it]"
     ]
    },
    {
     "name": "stdout",
     "output_type": "stream",
     "text": [
      "\n",
      " Santo Tomás (Loreto)\n",
      " Título: LORETO: Carretera de Santo Tomás en 90% + La Libertad: Centro de salud de Pósope Alto en 90%\n",
      " URL: https://www.youtube.com/watch?v=ODMR6OJLDas&pp=ygUZU2FudG8gVG9tw6FzIExvcmV0byBQZXLDug%3D%3D\n"
     ]
    },
    {
     "name": "stderr",
     "output_type": "stream",
     "text": [
      " 77%|███████████████████████████████████████████████████████████▉                  | 597/777 [1:39:16<20:07,  6.71s/it]"
     ]
    },
    {
     "name": "stdout",
     "output_type": "stream",
     "text": [
      "\n",
      " Fiesta de los Telentenos y del Amana (Loreto)\n",
      " Título: Fiesta a la Llariwa - Danza Loreto - Perú\n",
      " URL: https://www.youtube.com/watch?v=g_Uk_UYMlU0&list=RDg_Uk_UYMlU0&start_radio=1&pp=ygUxRmllc3RhIGRlIGxvcyBUZWxlbnRlbm9zIHkgZGVsIEFtYW5hIExvcmV0byBQZXLDuqAHAQ%3D%3D\n"
     ]
    },
    {
     "name": "stderr",
     "output_type": "stream",
     "text": [
      " 77%|████████████████████████████████████████████████████████████                  | 598/777 [1:39:23<20:02,  6.72s/it]"
     ]
    },
    {
     "name": "stdout",
     "output_type": "stream",
     "text": [
      "\n",
      " Fiesta de la Inmaculada Concepción (Loreto)\n",
      " Título: FIESTA PATRONAL VILLA LAGUNAS 2015 DEL 1 AL 8 DE DICIEMBRE\n",
      " URL: https://www.youtube.com/watch?v=nsjVBsdBGiw&pp=ygUwRmllc3RhIGRlIGxhIElubWFjdWxhZGEgQ29uY2VwY2nDs24gTG9yZXRvIFBlcsO6\n"
     ]
    },
    {
     "name": "stderr",
     "output_type": "stream",
     "text": [
      " 77%|████████████████████████████████████████████████████████████▏                 | 599/777 [1:39:30<20:22,  6.87s/it]"
     ]
    },
    {
     "name": "stdout",
     "output_type": "stream",
     "text": [
      "\n",
      " Día de la artesanía (Madre De Dios)\n",
      " Título: DÍA DEL ARTESANO PERUANO MADRE DE DIOS PERU\n",
      " URL: https://www.youtube.com/watch?v=sjsT34JJXIU&pp=ygUpRMOtYSBkZSBsYSBhcnRlc2Fuw61hIE1hZHJlIERlIERpb3MgUGVyw7o%3D\n"
     ]
    },
    {
     "name": "stderr",
     "output_type": "stream",
     "text": [
      " 77%|████████████████████████████████████████████████████████████▏                 | 600/777 [1:39:37<20:13,  6.86s/it]"
     ]
    },
    {
     "name": "stdout",
     "output_type": "stream",
     "text": [
      "\n",
      " Carnaval de Comparsas (Madre De Dios)\n",
      " Título: 🎭 ¡Carnaval Madre de Dios 2025 – Tukuy Yawar en Pukllay! 🌿💃🔥\n",
      " URL: https://www.youtube.com/watch?v=bWgHSGx6Zjg&pp=ygUpQ2FybmF2YWwgZGUgQ29tcGFyc2FzIE1hZHJlIERlIERpb3MgUGVyw7o%3D\n"
     ]
    },
    {
     "name": "stderr",
     "output_type": "stream",
     "text": [
      " 77%|████████████████████████████████████████████████████████████▎                 | 601/777 [1:39:44<20:00,  6.82s/it]"
     ]
    },
    {
     "name": "stdout",
     "output_type": "stream",
     "text": [
      "\n",
      " Semana Santa (Madre De Dios)\n",
      " Título: Reportaje al Perú: Madre de Dios (04/06/2023) | TVPerú\n",
      " URL: https://www.youtube.com/watch?v=1Vx9whQQUhM&pp=ygUgU2VtYW5hIFNhbnRhIE1hZHJlIERlIERpb3MgUGVyw7o%3D\n"
     ]
    },
    {
     "name": "stderr",
     "output_type": "stream",
     "text": [
      " 77%|████████████████████████████████████████████████████████████▍                 | 602/777 [1:39:50<19:29,  6.68s/it]"
     ]
    },
    {
     "name": "stdout",
     "output_type": "stream",
     "text": [
      "\n",
      " Fiesta de las Cruces Religiosas (Madre De Dios)\n",
      " Título: FIESTA DE LAS CRUCES\n",
      " URL: https://www.youtube.com/watch?v=_qW8Xpt0Ajc&pp=ygUzRmllc3RhIGRlIGxhcyBDcnVjZXMgUmVsaWdpb3NhcyBNYWRyZSBEZSBEaW9zIFBlcsO6\n"
     ]
    },
    {
     "name": "stderr",
     "output_type": "stream",
     "text": [
      " 78%|████████████████████████████████████████████████████████████▌                 | 603/777 [1:39:57<19:03,  6.57s/it]"
     ]
    },
    {
     "name": "stdout",
     "output_type": "stream",
     "text": [
      "\n",
      " Fiesta de la Cruz (Madre De Dios)\n",
      " Título: 🎉 CARNAVAL MADRE DE DIOS 2025 – LA FIESTA MÁS ALEGRE DE LA SELVA PERUANA 🌴💃\n",
      " URL: https://www.youtube.com/shorts/EAnj3WPFrb8\n"
     ]
    },
    {
     "name": "stderr",
     "output_type": "stream",
     "text": [
      " 78%|████████████████████████████████████████████████████████████▋                 | 604/777 [1:40:03<18:41,  6.48s/it]"
     ]
    },
    {
     "name": "stdout",
     "output_type": "stream",
     "text": [
      "\n",
      " La Virgen de Chapi (Madre De Dios)\n",
      " Título: Virgencita De Chapi - Takillakkta\n",
      " URL: https://www.youtube.com/watch?v=mY9jzqdJqx8&list=RDmY9jzqdJqx8&start_radio=1&pp=ygUmTGEgVmlyZ2VuIGRlIENoYXBpIE1hZHJlIERlIERpb3MgUGVyw7qgBwE%3D\n"
     ]
    },
    {
     "name": "stderr",
     "output_type": "stream",
     "text": [
      " 78%|████████████████████████████████████████████████████████████▋                 | 605/777 [1:40:09<18:27,  6.44s/it]"
     ]
    },
    {
     "name": "stdout",
     "output_type": "stream",
     "text": [
      "\n",
      " Fiesta de San Juan (Caserío del Prado) (Madre De Dios)\n",
      " Título: MADRE DE DIOS -FESTIAMAZONIA- 2013 -SAN JUAN EN EL PRADO\n",
      " URL: https://www.youtube.com/watch?v=o_9UEQrlhzg&pp=ygU7Rmllc3RhIGRlIFNhbiBKdWFuIChDYXNlcsOtbyBkZWwgUHJhZG8pIE1hZHJlIERlIERpb3MgUGVyw7o%3D\n"
     ]
    },
    {
     "name": "stderr",
     "output_type": "stream",
     "text": [
      " 78%|████████████████████████████████████████████████████████████▊                 | 606/777 [1:40:15<18:04,  6.34s/it]"
     ]
    },
    {
     "name": "stdout",
     "output_type": "stream",
     "text": [
      "\n",
      " Fiesta de San Pedro y San Pablo (Madre De Dios)\n",
      " Título: Ancón celebra con fe y alegría a San Pedro y San Pablo en su tradicional fiesta en el mar\n",
      " URL: https://www.youtube.com/watch?v=-gUd0esRyVg&pp=ygUzRmllc3RhIGRlIFNhbiBQZWRybyB5IFNhbiBQYWJsbyBNYWRyZSBEZSBEaW9zIFBlcsO6\n"
     ]
    },
    {
     "name": "stderr",
     "output_type": "stream",
     "text": [
      " 78%|████████████████████████████████████████████████████████████▉                 | 607/777 [1:40:22<17:52,  6.31s/it]"
     ]
    },
    {
     "name": "stdout",
     "output_type": "stream",
     "text": [
      "\n",
      " Fiesta del Caserío de Cachuela (Madre De Dios)\n",
      " Título: Amor por Madre de Dios-amd- Visita a Cachuela Oviedo y al 3°Aniversario upis 10 de Abril\n",
      " URL: https://www.youtube.com/watch?v=I2f4pkopZzY&pp=ygUzRmllc3RhIGRlbCBDYXNlcsOtbyBkZSBDYWNodWVsYSBNYWRyZSBEZSBEaW9zIFBlcsO6\n"
     ]
    },
    {
     "name": "stderr",
     "output_type": "stream",
     "text": [
      " 78%|█████████████████████████████████████████████████████████████                 | 608/777 [1:40:28<18:09,  6.45s/it]"
     ]
    },
    {
     "name": "stdout",
     "output_type": "stream",
     "text": [
      "\n",
      " Semana turística de Madre de Dios (Madre De Dios)\n",
      " Título: Reportaje al Perú: Madre de Dios (04/06/2023) | TVPerú\n",
      " URL: https://www.youtube.com/watch?v=1Vx9whQQUhM&pp=ygU2U2VtYW5hIHR1csOtc3RpY2EgZGUgTWFkcmUgZGUgRGlvcyBNYWRyZSBEZSBEaW9zIFBlcsO6\n"
     ]
    },
    {
     "name": "stderr",
     "output_type": "stream",
     "text": [
      " 78%|█████████████████████████████████████████████████████████████▏                | 609/777 [1:40:35<18:30,  6.61s/it]"
     ]
    },
    {
     "name": "stdout",
     "output_type": "stream",
     "text": [
      "\n",
      " Feria agropecuaria, industrial y artesanal (Madre De Dios)\n",
      " Título: 34 feria Agropecuaria, Agroindustrial y Artesanal de Madre de Dios. Del 26 al 30 de julio\n",
      " URL: https://www.youtube.com/watch?v=QvunxSR68w8&pp=ygU-RmVyaWEgYWdyb3BlY3VhcmlhLCBpbmR1c3RyaWFsIHkgYXJ0ZXNhbmFsIE1hZHJlIERlIERpb3MgUGVyw7o%3D\n"
     ]
    },
    {
     "name": "stderr",
     "output_type": "stream",
     "text": [
      " 79%|█████████████████████████████████████████████████████████████▏                | 610/777 [1:40:42<18:33,  6.67s/it]"
     ]
    },
    {
     "name": "stdout",
     "output_type": "stream",
     "text": [
      "\n",
      " Chachapoyas (Madre De Dios)\n",
      " Título: Reportaje al Perú: Madre de Dios (04/06/2023) | TVPerú\n",
      " URL: https://www.youtube.com/watch?v=1Vx9whQQUhM&pp=ygUfQ2hhY2hhcG95YXMgTWFkcmUgRGUgRGlvcyBQZXLDug%3D%3D\n"
     ]
    },
    {
     "name": "stderr",
     "output_type": "stream",
     "text": [
      " 79%|█████████████████████████████████████████████████████████████▎                | 611/777 [1:40:48<18:06,  6.55s/it]"
     ]
    },
    {
     "name": "stdout",
     "output_type": "stream",
     "text": [
      "\n",
      " Feria de alimentos nativos y artesanía (Madre De Dios)\n",
      " Título: ARTESANAS EN LA EXPO AMAZONICA MADRE DE DIOS 2015\n",
      " URL: https://www.youtube.com/watch?v=pbrJ80WObQ4&pp=ygU7RmVyaWEgZGUgYWxpbWVudG9zIG5hdGl2b3MgeSBhcnRlc2Fuw61hIE1hZHJlIERlIERpb3MgUGVyw7o%3D\n"
     ]
    },
    {
     "name": "stderr",
     "output_type": "stream",
     "text": [
      " 79%|█████████████████████████████████████████████████████████████▍                | 612/777 [1:40:55<17:50,  6.49s/it]"
     ]
    },
    {
     "name": "stdout",
     "output_type": "stream",
     "text": [
      "\n",
      " Fiesta de la comunidad nativa de Palma Real (Madre De Dios)\n",
      " Título: COMUNIDAD DE PALMA REAL - MADRE DE DIOS PERU\n",
      " URL: https://www.youtube.com/watch?v=S-SLZ1sZc6E&pp=ygU_Rmllc3RhIGRlIGxhIGNvbXVuaWRhZCBuYXRpdmEgZGUgUGFsbWEgUmVhbCBNYWRyZSBEZSBEaW9zIFBlcsO6\n"
     ]
    },
    {
     "name": "stderr",
     "output_type": "stream",
     "text": [
      " 79%|█████████████████████████████████████████████████████████████▌                | 613/777 [1:41:01<17:59,  6.58s/it]"
     ]
    },
    {
     "name": "stdout",
     "output_type": "stream",
     "text": [
      "\n",
      " Aniversario de la creación política\n",
      " del departamento de Dios (1912) (Madre De Dios)\n",
      " Título: Víctor Isla en Centenario de la Creación Política de Madre de Dios\n",
      " URL: https://www.youtube.com/watch?v=fmKQhAmyAz4&pp=ygVZQW5pdmVyc2FyaW8gZGUgbGEgY3JlYWNpw7NuIHBvbMOtdGljYSBkZWwgZGVwYXJ0YW1lbnRvIGRlIERpb3MgKDE5MTIpIE1hZHJlIERlIERpb3MgUGVyw7o%3D\n"
     ]
    },
    {
     "name": "stderr",
     "output_type": "stream",
     "text": [
      " 79%|█████████████████████████████████████████████████████████████▋                | 614/777 [1:41:10<19:11,  7.06s/it]"
     ]
    },
    {
     "name": "stdout",
     "output_type": "stream",
     "text": [
      "\n",
      " Virgen de la Candelaria. (Moquegua)\n",
      " Título: Virgen de la Candelaria 2020 Torata-Moquegua\n",
      " URL: https://www.youtube.com/watch?v=ozQc9BqS3vg&list=RDozQc9BqS3vg&start_radio=1&pp=ygUnVmlyZ2VuIGRlIGxhIENhbmRlbGFyaWEuIE1vcXVlZ3VhIFBlcsO6oAcB0gcJCdgJAYcqIYzv\n"
     ]
    },
    {
     "name": "stderr",
     "output_type": "stream",
     "text": [
      " 79%|█████████████████████████████████████████████████████████████▋                | 615/777 [1:41:16<18:42,  6.93s/it]"
     ]
    },
    {
     "name": "stdout",
     "output_type": "stream",
     "text": [
      "\n",
      " Semana Turística. (Moquegua)\n",
      " Título: MOQUEGUA: 5 maravillas ocultas que debes conocer | Turismo | Viajes\n",
      " URL: https://www.youtube.com/watch?v=99YAbhTGa-M&pp=ygUhU2VtYW5hIFR1csOtc3RpY2EuIE1vcXVlZ3VhIFBlcsO6\n"
     ]
    },
    {
     "name": "stderr",
     "output_type": "stream",
     "text": [
      " 79%|█████████████████████████████████████████████████████████████▊                | 616/777 [1:41:23<18:34,  6.93s/it]"
     ]
    },
    {
     "name": "stdout",
     "output_type": "stream",
     "text": [
      "\n",
      " Aniversario del departamento. (Moquegua)\n",
      " Título: 475 aniversario de Moquegua\n",
      " URL: https://www.youtube.com/watch?v=OkXGAtYosMU&pp=ygUsQW5pdmVyc2FyaW8gZGVsIGRlcGFydGFtZW50by4gTW9xdWVndWEgUGVyw7o%3D\n"
     ]
    },
    {
     "name": "stderr",
     "output_type": "stream",
     "text": [
      " 79%|█████████████████████████████████████████████████████████████▉                | 617/777 [1:41:30<18:15,  6.85s/it]"
     ]
    },
    {
     "name": "stdout",
     "output_type": "stream",
     "text": [
      "\n",
      " Fiesta de las Cruces. (Moquegua)\n",
      " Título: FIESTA DE LAS CRUCES - MOQUEGUA - VIDEO CLIP - CARUMARCA 2010 - PRODUCCIONES ISA\n",
      " URL: https://www.youtube.com/watch?v=OuRTxiNZM5Q&list=RDOuRTxiNZM5Q&start_radio=1&pp=ygUkRmllc3RhIGRlIGxhcyBDcnVjZXMuIE1vcXVlZ3VhIFBlcsO6oAcB\n"
     ]
    },
    {
     "name": "stderr",
     "output_type": "stream",
     "text": [
      " 80%|██████████████████████████████████████████████████████████████                | 618/777 [1:41:37<18:12,  6.87s/it]"
     ]
    },
    {
     "name": "stdout",
     "output_type": "stream",
     "text": [
      "\n",
      " Fiesta de San Isidro Labrador. (Moquegua)\n",
      " Título: SAN ISIDRO LABRADOR FIESTA PATRONAL DE CARUMAS 2024 MOQUEGUA PERU\n",
      " URL: https://www.youtube.com/watch?v=iGJWFrcsQzg&pp=ygUtRmllc3RhIGRlIFNhbiBJc2lkcm8gTGFicmFkb3IuIE1vcXVlZ3VhIFBlcsO6\n"
     ]
    },
    {
     "name": "stderr",
     "output_type": "stream",
     "text": [
      " 80%|██████████████████████████████████████████████████████████████▏               | 619/777 [1:41:43<17:37,  6.70s/it]"
     ]
    },
    {
     "name": "stdout",
     "output_type": "stream",
     "text": [
      "\n",
      " Aniversario de la provincia. (Moquegua)\n",
      " Título: Aniversario de la creación política de la provincia de Ilo (Moquegua) – 26 de mayo\n",
      " URL: https://www.youtube.com/watch?v=sZKeZaGmu2M&pp=ygUrQW5pdmVyc2FyaW8gZGUgbGEgcHJvdmluY2lhLiBNb3F1ZWd1YSBQZXLDug%3D%3D\n"
     ]
    },
    {
     "name": "stderr",
     "output_type": "stream",
     "text": [
      " 80%|██████████████████████████████████████████████████████████████▏               | 620/777 [1:41:50<17:31,  6.70s/it]"
     ]
    },
    {
     "name": "stdout",
     "output_type": "stream",
     "text": [
      "\n",
      " Aniversario. (Moquegua)\n",
      " Título: 475 aniversario de Moquegua\n",
      " URL: https://www.youtube.com/watch?v=OkXGAtYosMU&pp=ygUbQW5pdmVyc2FyaW8uIE1vcXVlZ3VhIFBlcsO6\n"
     ]
    },
    {
     "name": "stderr",
     "output_type": "stream",
     "text": [
      " 80%|██████████████████████████████████████████████████████████████▎               | 621/777 [1:41:56<17:01,  6.55s/it]"
     ]
    },
    {
     "name": "stdout",
     "output_type": "stream",
     "text": [
      "\n",
      " Festividad de la Virgen del Carmen. (Moquegua)\n",
      " Título: Dia de fiesta en honor a nuestra Santísima Virgen del Carmen, Moquegua 13 de julio del 2024.\n",
      " URL: https://www.youtube.com/watch?v=44zPrCB1gME&pp=ygUyRmVzdGl2aWRhZCBkZSBsYSBWaXJnZW4gZGVsIENhcm1lbi4gTW9xdWVndWEgUGVyw7o%3D\n"
     ]
    },
    {
     "name": "stderr",
     "output_type": "stream",
     "text": [
      " 80%|██████████████████████████████████████████████████████████████▍               | 622/777 [1:42:02<16:39,  6.45s/it]"
     ]
    },
    {
     "name": "stdout",
     "output_type": "stream",
     "text": [
      "\n",
      " Fiesta Patronal de Santa Fortunata. (Moquegua)\n",
      " Título: EN OCTUBRE MOQUEGUA CELEBRA FESTIVIDAD A SANTA FORTUNATA.14/09/17\n",
      " URL: https://www.youtube.com/watch?v=o441O9SXYwY&pp=ygUyRmllc3RhIFBhdHJvbmFsIGRlIFNhbnRhIEZvcnR1bmF0YS4gTW9xdWVndWEgUGVyw7o%3D\n"
     ]
    },
    {
     "name": "stderr",
     "output_type": "stream",
     "text": [
      " 80%|██████████████████████████████████████████████████████████████▌               | 623/777 [1:42:08<16:08,  6.29s/it]"
     ]
    },
    {
     "name": "stdout",
     "output_type": "stream",
     "text": [
      "\n",
      " Aniversario del distrito. (Moquegua)\n",
      " Título: Aniversario del Distrito de Coalaque 2019 - Moquegua\n",
      " URL: https://www.youtube.com/watch?v=5_NH4mMD5pI&pp=ygUoQW5pdmVyc2FyaW8gZGVsIGRpc3RyaXRvLiBNb3F1ZWd1YSBQZXLDutIHCQnYCQGHKiGM7w%3D%3D\n"
     ]
    },
    {
     "name": "stderr",
     "output_type": "stream",
     "text": [
      " 80%|██████████████████████████████████████████████████████████████▋               | 624/777 [1:42:14<15:48,  6.20s/it]"
     ]
    },
    {
     "name": "stdout",
     "output_type": "stream",
     "text": [
      "\n",
      " Fiesta de la Inmaculada Concepción. (Moquegua)\n",
      " Título: Ubinas Inmaculada Concepción, Lima 08 Dic 2013 (Parte 1)\n",
      " URL: https://www.youtube.com/watch?v=yHqH3eUuyx8&pp=ygUzRmllc3RhIGRlIGxhIElubWFjdWxhZGEgQ29uY2VwY2nDs24uIE1vcXVlZ3VhIFBlcsO6\n"
     ]
    },
    {
     "name": "stderr",
     "output_type": "stream",
     "text": [
      " 80%|██████████████████████████████████████████████████████████████▋               | 625/777 [1:42:22<16:48,  6.64s/it]"
     ]
    },
    {
     "name": "stdout",
     "output_type": "stream",
     "text": [
      "\n",
      " Aniversario de la provincia y Semana Turística\n",
      "de Moquegua (Moquegua)\n",
      " Título: ANIVERSARIO COMTUR MOQUEGUA\n",
      " URL: https://www.youtube.com/watch?v=B58saHv8LjI&pp=ygVJQW5pdmVyc2FyaW8gZGUgbGEgcHJvdmluY2lhIHkgU2VtYW5hIFR1csOtc3RpY2FkZSBNb3F1ZWd1YSBNb3F1ZWd1YSBQZXLDug%3D%3D\n"
     ]
    },
    {
     "name": "stderr",
     "output_type": "stream",
     "text": [
      " 81%|██████████████████████████████████████████████████████████████▊               | 626/777 [1:42:28<16:42,  6.64s/it]"
     ]
    },
    {
     "name": "stdout",
     "output_type": "stream",
     "text": [
      "\n",
      " La Inmaculada Concepción. (Moquegua)\n",
      " Título: CONOCIENDO EL MIRADOR INMACULADA CONCEPCION - SAMEGUA MOQUEGUA 2023\n",
      " URL: https://www.youtube.com/watch?v=05h73epcR-w&pp=ygUpTGEgSW5tYWN1bGFkYSBDb25jZXBjacOzbi4gTW9xdWVndWEgUGVyw7o%3D\n"
     ]
    },
    {
     "name": "stderr",
     "output_type": "stream",
     "text": [
      " 81%|██████████████████████████████████████████████████████████████▉               | 627/777 [1:42:35<16:36,  6.65s/it]"
     ]
    },
    {
     "name": "stdout",
     "output_type": "stream",
     "text": [
      "\n",
      " Danza de los Negritos. (Pasco)\n",
      " Título: LOS NEGRITOS DE VICCO - PASCO - PERÚ 2023\n",
      " URL: https://www.youtube.com/watch?v=QgS28WXjTp8&pp=ygUiRGFuemEgZGUgbG9zIE5lZ3JpdG9zLiBQYXNjbyBQZXLDug%3D%3D\n"
     ]
    },
    {
     "name": "stderr",
     "output_type": "stream",
     "text": [
      " 81%|███████████████████████████████████████████████████████████████               | 628/777 [1:42:42<16:37,  6.69s/it]"
     ]
    },
    {
     "name": "stdout",
     "output_type": "stream",
     "text": [
      "\n",
      " Fiesta Patronal y Danza Patronal. (Pasco)\n",
      " Título: Pasco Peru\"AUQUIZ DANZA\"en Pallanchacra 2011\n",
      " URL: https://www.youtube.com/watch?v=7yosHM7Z74I&pp=ygUtRmllc3RhIFBhdHJvbmFsIHkgRGFuemEgUGF0cm9uYWwuIFBhc2NvIFBlcsO6\n"
     ]
    },
    {
     "name": "stderr",
     "output_type": "stream",
     "text": [
      " 81%|███████████████████████████████████████████████████████████████▏              | 629/777 [1:42:48<16:09,  6.55s/it]"
     ]
    },
    {
     "name": "stdout",
     "output_type": "stream",
     "text": [
      "\n",
      " Calixtrada. Carnaval y Festival de Mulizas. (Pasco)\n",
      " Título: GOBIERNO REGIONAL PASCO - CALIXTRADA, EL ESPECIAL\n",
      " URL: https://www.youtube.com/watch?v=GzzTRo0V77k&pp=ygU3Q2FsaXh0cmFkYS4gQ2FybmF2YWwgeSBGZXN0aXZhbCBkZSBNdWxpemFzLiBQYXNjbyBQZXLDug%3D%3D\n"
     ]
    },
    {
     "name": "stderr",
     "output_type": "stream",
     "text": [
      " 81%|███████████████████████████████████████████████████████████████▏              | 630/777 [1:42:55<16:09,  6.60s/it]"
     ]
    },
    {
     "name": "stdout",
     "output_type": "stream",
     "text": [
      "\n",
      " Fiesta de las Cruces. (Pasco)\n",
      " Título: FISTA DE LAS CRUCES DE MAYO EN CERRO DE PASCO\n",
      " URL: https://www.youtube.com/watch?v=gsuq_35Nhvs&pp=ygUhRmllc3RhIGRlIGxhcyBDcnVjZXMuIFBhc2NvIFBlcsO6\n"
     ]
    },
    {
     "name": "stderr",
     "output_type": "stream",
     "text": [
      " 81%|███████████████████████████████████████████████████████████████▎              | 631/777 [1:43:01<15:45,  6.48s/it]"
     ]
    },
    {
     "name": "stdout",
     "output_type": "stream",
     "text": [
      "\n",
      " Fiesta de San Pedro y San Pablo. (Pasco)\n",
      " Título: Fiesta Patronal en Honor a ✨🔴 San Pedro y San Pablo ticlacayan🔴29.06.2025\n",
      " URL: https://www.youtube.com/watch?v=vGKcVHfPqmM&pp=ygUsRmllc3RhIGRlIFNhbiBQZWRybyB5IFNhbiBQYWJsby4gUGFzY28gUGVyw7o%3D\n"
     ]
    },
    {
     "name": "stderr",
     "output_type": "stream",
     "text": [
      " 81%|███████████████████████████████████████████████████████████████▍              | 632/777 [1:43:08<16:00,  6.63s/it]"
     ]
    },
    {
     "name": "stdout",
     "output_type": "stream",
     "text": [
      "\n",
      " Danzas de Chunchos y de Pallas y escenificación\n",
      "de la muerte del Inca. (Pasco)\n",
      " Título: #ApoyosEconómicos - Continuidad y rescate de las danzas pallas y chunchos de Porcón, Cajamarca.\n",
      " URL: https://www.youtube.com/watch?v=vkaL-81jz4k&pp=ygVSRGFuemFzIGRlIENodW5jaG9zIHkgZGUgUGFsbGFzIHkgZXNjZW5pZmljYWNpw7NuZGUgbGEgbXVlcnRlIGRlbCBJbmNhLiBQYXNjbyBQZXLDug%3D%3D\n"
     ]
    },
    {
     "name": "stderr",
     "output_type": "stream",
     "text": [
      " 81%|███████████████████████████████████████████████████████████████▌              | 633/777 [1:43:14<15:30,  6.46s/it]"
     ]
    },
    {
     "name": "stdout",
     "output_type": "stream",
     "text": [
      "\n",
      " Semana Turística. (Pasco)\n",
      " Título: 🇵🇪 Cerro de Pasco: 2 Lugares TURISTICOS en 1 día 🍃🏞️ COMO LLEGAR ‼️ Turismo en Lima, Pasco Peru tour\n",
      " URL: https://www.youtube.com/watch?v=n-VmM963Xuw&pp=ygUeU2VtYW5hIFR1csOtc3RpY2EuIFBhc2NvIFBlcsO6\n"
     ]
    },
    {
     "name": "stderr",
     "output_type": "stream",
     "text": [
      " 82%|███████████████████████████████████████████████████████████████▋              | 634/777 [1:43:22<16:13,  6.81s/it]"
     ]
    },
    {
     "name": "stdout",
     "output_type": "stream",
     "text": [
      "\n",
      " La Virgen de las Nieves. (Pasco)\n",
      " Título: FESTIVIDAD EN HONOR A LA VIRGEN DE LAS NIEVES - VILLA DE PASCO 2021 ( Vol. 04 )\n",
      " URL: https://www.youtube.com/watch?v=b5yqVRsxy8c&pp=ygUkTGEgVmlyZ2VuIGRlIGxhcyBOaWV2ZXMuIFBhc2NvIFBlcsO6\n"
     ]
    },
    {
     "name": "stderr",
     "output_type": "stream",
     "text": [
      " 82%|███████████████████████████████████████████████████████████████▋              | 635/777 [1:43:28<15:33,  6.58s/it]"
     ]
    },
    {
     "name": "stdout",
     "output_type": "stream",
     "text": [
      "\n",
      " Aniversario de la Fundación (1891). (Pasco)\n",
      " Título: FELIZ ANIVERSARIO CREACIÓN POLÍTICA DE OXAPAMPA - PERU\n",
      " URL: https://www.youtube.com/watch?v=9LZsBzoPy2s&pp=ygUwQW5pdmVyc2FyaW8gZGUgbGEgRnVuZGFjacOzbiAoMTg5MSkuIFBhc2NvIFBlcsO6\n"
     ]
    },
    {
     "name": "stderr",
     "output_type": "stream",
     "text": [
      " 82%|███████████████████████████████████████████████████████████████▊              | 636/777 [1:43:35<16:04,  6.84s/it]"
     ]
    },
    {
     "name": "stdout",
     "output_type": "stream",
     "text": [
      "\n",
      " Semana Turística de Oxapampa. (Pasco)\n",
      " Título: Oxapampa celebra 20 años de la Semana Turística de la Selva Central\n",
      " URL: https://www.youtube.com/watch?v=S7lIOAxb-aw&pp=ygUqU2VtYW5hIFR1csOtc3RpY2EgZGUgT3hhcGFtcGEuIFBhc2NvIFBlcsO6\n"
     ]
    },
    {
     "name": "stderr",
     "output_type": "stream",
     "text": [
      " 82%|███████████████████████████████████████████████████████████████▉              | 637/777 [1:43:45<17:55,  7.68s/it]"
     ]
    },
    {
     "name": "stdout",
     "output_type": "stream",
     "text": [
      "\n",
      " Creación de Villa Rica (1944). Semana\n",
      "Turística de Villa Rica y Torneo de Cintas.\n",
      "Aniversario de D. Alcidez Carrión. (Pasco)\n",
      " Título: Rumbo al torneo de cintas en Villa Rica 2022\n",
      " URL: https://www.youtube.com/shorts/h1GYWnHK0EY\n"
     ]
    },
    {
     "name": "stderr",
     "output_type": "stream",
     "text": [
      " 82%|████████████████████████████████████████████████████████████████              | 638/777 [1:43:55<19:14,  8.31s/it]"
     ]
    },
    {
     "name": "stdout",
     "output_type": "stream",
     "text": [
      "\n",
      " La Inmaculada Concepción. (Pasco)\n",
      " Título: Intro Parroquia Inmaculada Concepción de Paucartambo, Pasco, Perú. ATRACTIVO TURÍSTICO.\n",
      " URL: https://www.youtube.com/watch?v=5L_a4eYqieI&pp=ygUmTGEgSW5tYWN1bGFkYSBDb25jZXBjacOzbi4gUGFzY28gUGVyw7o%3D\n"
     ]
    },
    {
     "name": "stderr",
     "output_type": "stream",
     "text": [
      " 82%|████████████████████████████████████████████████████████████████▏             | 639/777 [1:44:02<18:25,  8.01s/it]"
     ]
    },
    {
     "name": "stdout",
     "output_type": "stream",
     "text": [
      "\n",
      " Feria Internacional de Reyes y Festival de la\n",
      "Canción (ferias de artesanía, concursos\n",
      "folclóricos con participantes de Ecuador\n",
      "y Colombia) Fecha central: 6. (Piura)\n",
      " Título: Feria Internacional ExpoSol\n",
      " URL: https://www.youtube.com/shorts/FVkoLmTfB_M\n"
     ]
    },
    {
     "name": "stderr",
     "output_type": "stream",
     "text": [
      " 82%|████████████████████████████████████████████████████████████████▏             | 640/777 [1:44:11<18:46,  8.22s/it]"
     ]
    },
    {
     "name": "stdout",
     "output_type": "stream",
     "text": [
      "\n",
      " Fiesta de Herodes del Balcón y los Tres\n",
      "Reyes. Bajada de Reyes. (Piura)\n",
      " Título: 🔴🔵Piura: Pobladores del caserío Narihualá celebran la tradicional Bajada de Reyes\n",
      " URL: https://www.youtube.com/watch?v=nH2APHrmTBc&pp=ygVLRmllc3RhIGRlIEhlcm9kZXMgZGVsIEJhbGPDs24geSBsb3MgVHJlc1JleWVzLiBCYWphZGEgZGUgUmV5ZXMuIFBpdXJhIFBlcsO6\n"
     ]
    },
    {
     "name": "stderr",
     "output_type": "stream",
     "text": [
      " 82%|████████████████████████████████████████████████████████████████▎             | 641/777 [1:44:19<18:49,  8.31s/it]"
     ]
    },
    {
     "name": "stdout",
     "output_type": "stream",
     "text": [
      "\n",
      " Aniversario de la creación política\n",
      "de la provincia. (Piura)\n",
      " Título: 80° Aniversario de Creación Política de la Provincia de Morropón\n",
      " URL: https://www.youtube.com/watch?v=_ALYcSx8SmQ&pp=ygVBQW5pdmVyc2FyaW8gZGUgbGEgY3JlYWNpw7NuIHBvbMOtdGljYWRlIGxhIHByb3ZpbmNpYS4gUGl1cmEgUGVyw7o%3D\n"
     ]
    },
    {
     "name": "stderr",
     "output_type": "stream",
     "text": [
      " 83%|████████████████████████████████████████████████████████████████▍             | 642/777 [1:44:28<18:52,  8.39s/it]"
     ]
    },
    {
     "name": "stdout",
     "output_type": "stream",
     "text": [
      "\n",
      " San Sebastián y San Chabaquito. (Piura)\n",
      " Título: Yapatera: un pueblo de Piura habitado mayormente por afro descendientes\n",
      " URL: https://www.youtube.com/watch?v=hmyGeaiDmFw&pp=ygUsU2FuIFNlYmFzdGnDoW4geSBTYW4gQ2hhYmFxdWl0by4gUGl1cmEgUGVyw7o%3D\n"
     ]
    },
    {
     "name": "stderr",
     "output_type": "stream",
     "text": [
      " 83%|████████████████████████████████████████████████████████████████▌             | 643/777 [1:44:37<19:37,  8.79s/it]"
     ]
    },
    {
     "name": "stdout",
     "output_type": "stream",
     "text": [
      "\n",
      " Festival del Señor de Chocán. (Piura)\n",
      " Título: SEÑOR DE CHOCÁN - VIDEO. QUERECOTILLO, SULLANA, PIURA - PERÚ\n",
      " URL: https://www.youtube.com/watch?v=sX4prlxycYw&pp=ygUrRmVzdGl2YWwgZGVsIFNlw7FvciBkZSBDaG9jw6FuLiBQaXVyYSBQZXLDug%3D%3D\n"
     ]
    },
    {
     "name": "stderr",
     "output_type": "stream",
     "text": [
      " 83%|████████████████████████████████████████████████████████████████▋             | 644/777 [1:44:48<20:27,  9.23s/it]"
     ]
    },
    {
     "name": "stdout",
     "output_type": "stream",
     "text": [
      "\n",
      " Semana de Talara y Feria. (Piura)\n",
      " Título: Semana turística | Travel Talara\n",
      " URL: https://www.youtube.com/watch?v=qvVGcnreUpU&pp=ygUlU2VtYW5hIGRlIFRhbGFyYSB5IEZlcmlhLiBQaXVyYSBQZXLDug%3D%3D\n"
     ]
    },
    {
     "name": "stderr",
     "output_type": "stream",
     "text": [
      " 83%|████████████████████████████████████████████████████████████████▋             | 645/777 [1:44:56<19:50,  9.02s/it]"
     ]
    },
    {
     "name": "stdout",
     "output_type": "stream",
     "text": [
      "\n",
      " Aniversario de la Fundación del Departamento. (Piura)\n",
      " Título: 15º Aniversario Fundación Casvi en Piura (Perú)\n",
      " URL: https://www.youtube.com/watch?v=qrF_x7_Ws4Y&pp=ygU6QW5pdmVyc2FyaW8gZGUgbGEgRnVuZGFjacOzbiBkZWwgRGVwYXJ0YW1lbnRvLiBQaXVyYSBQZXLDug%3D%3D\n"
     ]
    },
    {
     "name": "stderr",
     "output_type": "stream",
     "text": [
      " 83%|████████████████████████████████████████████████████████████████▊             | 646/777 [1:45:07<20:34,  9.42s/it]"
     ]
    },
    {
     "name": "stdout",
     "output_type": "stream",
     "text": [
      "\n",
      " Representación de Moctezuma. (Piura)\n",
      " Título: Semana de representación - Piura 2/2 (01/09/17)\n",
      " URL: https://www.youtube.com/watch?v=1bf8M9nM_M4&pp=ygUpUmVwcmVzZW50YWNpw7NuIGRlIE1vY3RlenVtYS4gUGl1cmEgUGVyw7o%3D\n"
     ]
    },
    {
     "name": "stderr",
     "output_type": "stream",
     "text": [
      " 83%|████████████████████████████████████████████████████████████████▉             | 647/777 [1:45:16<20:07,  9.29s/it]"
     ]
    },
    {
     "name": "stdout",
     "output_type": "stream",
     "text": [
      "\n",
      " Procesión de El Señor Triunfante\n",
      "en burro. Misa y bendición de palmas. (Piura)\n",
      " Título: DOMINGO DE RAMOS bendición de las palmas y procesión del Señor triunfante Ayabaca 2023\n",
      " URL: https://www.youtube.com/watch?v=C5y7HE-9QQc&pp=ygVUUHJvY2VzacOzbiBkZSBFbCBTZcOxb3IgVHJpdW5mYW50ZWVuIGJ1cnJvLiBNaXNhIHkgYmVuZGljacOzbiBkZSBwYWxtYXMuIFBpdXJhIFBlcsO6\n"
     ]
    },
    {
     "name": "stderr",
     "output_type": "stream",
     "text": [
      " 83%|█████████████████████████████████████████████████████████████████             | 648/777 [1:45:23<18:52,  8.78s/it]"
     ]
    },
    {
     "name": "stdout",
     "output_type": "stream",
     "text": [
      "\n",
      " Procesión de El Señor Cautivo. (Piura)\n",
      " Título: Piura: Peregrinos llegan de rodillas para venerar la imagen del Señor Cautivo de Ayabaca\n",
      " URL: https://www.youtube.com/watch?v=yHFvwNH5Q3c&pp=ygUsUHJvY2VzacOzbiBkZSBFbCBTZcOxb3IgQ2F1dGl2by4gUGl1cmEgUGVyw7o%3D\n"
     ]
    },
    {
     "name": "stderr",
     "output_type": "stream",
     "text": [
      " 84%|█████████████████████████████████████████████████████████████████▏            | 649/777 [1:45:31<17:57,  8.42s/it]"
     ]
    },
    {
     "name": "stdout",
     "output_type": "stream",
     "text": [
      "\n",
      " Procesión de El Señor de la Caña. (Piura)\n",
      " Título: La Libertad : celebran 92° de la festividad del Señor de la Caña de Chiclín\n",
      " URL: https://www.youtube.com/watch?v=7U3_ehGbNjU&pp=ygUwUHJvY2VzacOzbiBkZSBFbCBTZcOxb3IgZGUgbGEgQ2HDsWEuIFBpdXJhIFBlcsO6\n"
     ]
    },
    {
     "name": "stderr",
     "output_type": "stream",
     "text": [
      " 84%|█████████████████████████████████████████████████████████████████▎            | 650/777 [1:45:37<16:21,  7.73s/it]"
     ]
    },
    {
     "name": "stdout",
     "output_type": "stream",
     "text": [
      "\n",
      " Encuentro del Señor con Santa Verónica. (Piura)\n",
      " Título: Encuentro Jesús Nazareno y Santa Verónica - Semana Santa 2025\n",
      " URL: https://www.youtube.com/watch?v=X81MiqUOf5I&pp=ygU1RW5jdWVudHJvIGRlbCBTZcOxb3IgY29uIFNhbnRhIFZlcsOzbmljYS4gUGl1cmEgUGVyw7o%3D\n"
     ]
    },
    {
     "name": "stderr",
     "output_type": "stream",
     "text": [
      " 84%|█████████████████████████████████████████████████████████████████▎            | 651/777 [1:45:44<15:44,  7.50s/it]"
     ]
    },
    {
     "name": "stdout",
     "output_type": "stream",
     "text": [
      "\n",
      " Procesión de Cristo Resucitado. (Piura)\n",
      " Título: ¡Nuestro Señor Jesucristo ha resucitado!\n",
      " URL: https://www.youtube.com/watch?v=yYYuNaZK5LQ&pp=ygUsUHJvY2VzacOzbiBkZSBDcmlzdG8gUmVzdWNpdGFkby4gUGl1cmEgUGVyw7o%3D\n"
     ]
    },
    {
     "name": "stderr",
     "output_type": "stream",
     "text": [
      " 84%|█████████████████████████████████████████████████████████████████▍            | 652/777 [1:45:50<14:53,  7.15s/it]"
     ]
    },
    {
     "name": "stdout",
     "output_type": "stream",
     "text": [
      "\n",
      " Fiesta de la Cruz. (Piura)\n",
      " Título: Fiesta en honor a la santisima cruz de Serrán-piura,Perú 2021\n",
      " URL: https://www.youtube.com/watch?v=TxDB0XlPthI&pp=ygUeRmllc3RhIGRlIGxhIENydXouIFBpdXJhIFBlcsO6\n"
     ]
    },
    {
     "name": "stderr",
     "output_type": "stream",
     "text": [
      " 84%|█████████████████████████████████████████████████████████████████▌            | 653/777 [1:45:57<14:21,  6.95s/it]"
     ]
    },
    {
     "name": "stdout",
     "output_type": "stream",
     "text": [
      "\n",
      " Fiesta de San Isidro. (Piura)\n",
      " Título: DESTINO CRUEL - STAR SENSUAL - EN VIVO SAN ISIDRO- HUARMACA -PIURA\n",
      " URL: https://www.youtube.com/watch?v=Wp5D6fw2xN4&list=RDWp5D6fw2xN4&start_radio=1&pp=ygUhRmllc3RhIGRlIFNhbiBJc2lkcm8uIFBpdXJhIFBlcsO6oAcB\n"
     ]
    },
    {
     "name": "stderr",
     "output_type": "stream",
     "text": [
      " 84%|█████████████████████████████████████████████████████████████████▋            | 654/777 [1:46:03<13:59,  6.83s/it]"
     ]
    },
    {
     "name": "stdout",
     "output_type": "stream",
     "text": [
      "\n",
      " Corpus Christi. (Piura)\n",
      " Título: CORPUS CHRISTI PIURA\n",
      " URL: https://www.youtube.com/watch?v=j2Y6oe3vDE4&pp=ygUbQ29ycHVzIENocmlzdGkuIFBpdXJhIFBlcsO60gcJCdgJAYcqIYzv\n"
     ]
    },
    {
     "name": "stderr",
     "output_type": "stream",
     "text": [
      " 84%|█████████████████████████████████████████████████████████████████▊            | 655/777 [1:46:10<13:54,  6.84s/it]"
     ]
    },
    {
     "name": "stdout",
     "output_type": "stream",
     "text": [
      "\n",
      " Aniversario de la ciudad. (Piura)\n",
      " Título: Aniversario de Piura: Alcalde anuncia endeudamiento por más de S/ 100 millones | Pasó en el Perú\n",
      " URL: https://www.youtube.com/shorts/IWNV_vDaxm4\n"
     ]
    },
    {
     "name": "stderr",
     "output_type": "stream",
     "text": [
      " 84%|█████████████████████████████████████████████████████████████████▊            | 656/777 [1:46:16<13:20,  6.61s/it]"
     ]
    },
    {
     "name": "stdout",
     "output_type": "stream",
     "text": [
      "\n",
      " Fiesta de San Juan. (Piura)\n",
      " Título: Así se vivió la Fiesta de San Juan en Pucallpa | Domingo al Día | Perú\n",
      " URL: https://www.youtube.com/watch?v=EFBMCGj9sKg&pp=ygUfRmllc3RhIGRlIFNhbiBKdWFuLiBQaXVyYSBQZXLDug%3D%3D\n"
     ]
    },
    {
     "name": "stderr",
     "output_type": "stream",
     "text": [
      " 85%|█████████████████████████████████████████████████████████████████▉            | 657/777 [1:46:22<12:56,  6.47s/it]"
     ]
    },
    {
     "name": "stdout",
     "output_type": "stream",
     "text": [
      "\n",
      " Festividad de San Pedro. (Piura)\n",
      " Título: COMO VIVÍ LA FIESTA DE SAN PEDRO Y SAN PEDRO EN PAITA ?\n",
      " URL: https://www.youtube.com/watch?v=BKMBUSkq_Jc&pp=ygUkRmVzdGl2aWRhZCBkZSBTYW4gUGVkcm8uIFBpdXJhIFBlcsO6\n"
     ]
    },
    {
     "name": "stderr",
     "output_type": "stream",
     "text": [
      " 85%|██████████████████████████████████████████████████████████████████            | 658/777 [1:46:28<12:40,  6.39s/it]"
     ]
    },
    {
     "name": "stdout",
     "output_type": "stream",
     "text": [
      "\n",
      " Virgen del Perpetuo Socorro. (Piura)\n",
      " Título: Guardada de la Virgen del Perpetuo Socorro Piura-Perú año 2016\n",
      " URL: https://www.youtube.com/watch?v=laoZ9vUUbo8&pp=ygUoVmlyZ2VuIGRlbCBQZXJwZXR1byBTb2NvcnJvLiBQaXVyYSBQZXLDug%3D%3D\n"
     ]
    },
    {
     "name": "stderr",
     "output_type": "stream",
     "text": [
      " 85%|██████████████████████████████████████████████████████████████████▏           | 659/777 [1:46:35<12:54,  6.56s/it]"
     ]
    },
    {
     "name": "stdout",
     "output_type": "stream",
     "text": [
      "\n",
      " La Virgen del Carmen. Día central: 14. (Piura)\n",
      " Título: Procesión de la Virgen del Carmen de Huancabamba Piura 2024 #danza #fe #tradicionesperuanas\n",
      " URL: https://www.youtube.com/shorts/z4zdoM48h7k\n"
     ]
    },
    {
     "name": "stderr",
     "output_type": "stream",
     "text": [
      " 85%|██████████████████████████████████████████████████████████████████▎           | 660/777 [1:46:42<12:34,  6.45s/it]"
     ]
    },
    {
     "name": "stdout",
     "output_type": "stream",
     "text": [
      "\n",
      " Festividad de la Virgen del Carmen. (Piura)\n",
      " Título: VERBENA EN HONOR A LA SANTISIMA VIRGEN DEL CARMEN🕊Festividad de Medio Año -La Unión - Piura\n",
      " URL: https://www.youtube.com/watch?v=nPa5ZfO0FK4&list=RDnPa5ZfO0FK4&start_radio=1&pp=ygUvRmVzdGl2aWRhZCBkZSBsYSBWaXJnZW4gZGVsIENhcm1lbi4gUGl1cmEgUGVyw7qgBwE%3D\n"
     ]
    },
    {
     "name": "stderr",
     "output_type": "stream",
     "text": [
      " 85%|██████████████████████████████████████████████████████████████████▎           | 661/777 [1:46:49<12:50,  6.65s/it]"
     ]
    },
    {
     "name": "stdout",
     "output_type": "stream",
     "text": [
      "\n",
      " Nuestra Señora de La Asunción. (Piura)\n",
      " Título: Descubre Sondor: Festividad de la Virgen de la Asunción y Juegos Extremos | Piura, Perú | 4K\n",
      " URL: https://www.youtube.com/watch?v=KRtxlvtSo4U&pp=ygUsTnVlc3RyYSBTZcOxb3JhIGRlIExhIEFzdW5jacOzbi4gUGl1cmEgUGVyw7o%3D\n"
     ]
    },
    {
     "name": "stderr",
     "output_type": "stream",
     "text": [
      " 85%|██████████████████████████████████████████████████████████████████▍           | 662/777 [1:46:55<12:49,  6.69s/it]"
     ]
    },
    {
     "name": "stdout",
     "output_type": "stream",
     "text": [
      "\n",
      " Feria del Café. Fiesta de Santa Rosa\n",
      "de Lima. (Piura)\n",
      " Título: Día del Café Peruano: bebidas y hasta cervezas con este grano podrá encontrar en feria\n",
      " URL: https://www.youtube.com/watch?v=UFyvPbzYWMc&pp=ygU5RmVyaWEgZGVsIENhZsOpLiBGaWVzdGEgZGUgU2FudGEgUm9zYWRlIExpbWEuIFBpdXJhIFBlcsO6\n"
     ]
    },
    {
     "name": "stderr",
     "output_type": "stream",
     "text": [
      " 85%|██████████████████████████████████████████████████████████████████▌           | 663/777 [1:47:03<12:54,  6.80s/it]"
     ]
    },
    {
     "name": "stdout",
     "output_type": "stream",
     "text": [
      "\n",
      " Fiesta del Algodón. (Piura)\n",
      " Título: LLEGA LA FIESTA DEL ALGODÓN - NOTICIERO 9\n",
      " URL: https://www.youtube.com/watch?v=qFHWYVvbUsw&pp=ygUgRmllc3RhIGRlbCBBbGdvZMOzbi4gUGl1cmEgUGVyw7o%3D\n"
     ]
    },
    {
     "name": "stderr",
     "output_type": "stream",
     "text": [
      " 85%|██████████████████████████████████████████████████████████████████▋           | 664/777 [1:47:09<12:27,  6.61s/it]"
     ]
    },
    {
     "name": "stdout",
     "output_type": "stream",
     "text": [
      "\n",
      " Peregrinación de La Virgen de las Mercedes.\n",
      "Fecha central: 24. (Piura)\n",
      " Título: PULSO REGIONAL TVO PIURA CANAL 31\n",
      " URL: https://www.youtube.com/watch?v=pW3O7z6om54&pp=ygVKUGVyZWdyaW5hY2nDs24gZGUgTGEgVmlyZ2VuIGRlIGxhcyBNZXJjZWRlcy5GZWNoYSBjZW50cmFsOiAyNC4gUGl1cmEgUGVyw7o%3D\n"
     ]
    },
    {
     "name": "stderr",
     "output_type": "stream",
     "text": [
      " 86%|██████████████████████████████████████████████████████████████████▊           | 665/777 [1:47:15<12:21,  6.62s/it]"
     ]
    },
    {
     "name": "stdout",
     "output_type": "stream",
     "text": [
      "\n",
      " La Virgen de las Mercedes. (Piura)\n",
      " Título: Historia de la Virgen de las Mercedes de Paita - Perú\n",
      " URL: https://www.youtube.com/watch?v=TcOLcoV7tMo&pp=ygUmTGEgVmlyZ2VuIGRlIGxhcyBNZXJjZWRlcy4gUGl1cmEgUGVyw7o%3D\n"
     ]
    },
    {
     "name": "stderr",
     "output_type": "stream",
     "text": [
      " 86%|██████████████████████████████████████████████████████████████████▊           | 666/777 [1:47:22<12:10,  6.58s/it]"
     ]
    },
    {
     "name": "stdout",
     "output_type": "stream",
     "text": [
      "\n",
      " Fundación española de la ciudad\n",
      "de Piura (1532) y Semana Turística de Piura.\n",
      "Feria agropecuaria. (Piura)\n",
      " Título: Reportaje al Perú: Piura (21/07/2024) | TVPerú\n",
      " URL: https://www.youtube.com/watch?v=FC9006MzlUU&pp=ygVtRnVuZGFjacOzbiBlc3Bhw7FvbGEgZGUgbGEgY2l1ZGFkZGUgUGl1cmEgKDE1MzIpIHkgU2VtYW5hIFR1csOtc3RpY2EgZGUgUGl1cmEuRmVyaWEgYWdyb3BlY3VhcmlhLiBQaXVyYSBQZXLDug%3D%3D\n"
     ]
    },
    {
     "name": "stderr",
     "output_type": "stream",
     "text": [
      " 86%|██████████████████████████████████████████████████████████████████▉           | 667/777 [1:47:29<12:22,  6.75s/it]"
     ]
    },
    {
     "name": "stdout",
     "output_type": "stream",
     "text": [
      "\n",
      " Peregrinación y procesión de El\n",
      "Señor Cautivo de Ayabaca. Fecha central:\n",
      "13 de octubre. (Piura)\n",
      " Título: Señor Cautivo de Ayabaca: miles de peregrinos llegan a Piura a celebrar su fe\n",
      " URL: https://www.youtube.com/watch?v=FZug_neOmGE&pp=ygVkUGVyZWdyaW5hY2nDs24geSBwcm9jZXNpw7NuIGRlIEVsU2XDsW9yIENhdXRpdm8gZGUgQXlhYmFjYS4gRmVjaGEgY2VudHJhbDoxMyBkZSBvY3R1YnJlLiBQaXVyYSBQZXLDug%3D%3D\n"
     ]
    },
    {
     "name": "stderr",
     "output_type": "stream",
     "text": [
      " 86%|███████████████████████████████████████████████████████████████████           | 668/777 [1:47:35<12:07,  6.67s/it]"
     ]
    },
    {
     "name": "stdout",
     "output_type": "stream",
     "text": [
      "\n",
      " San Francisco de Asís. Aniversario de\n",
      "Sullana. (Piura)\n",
      " Título: Homenaje a Fiestas Patrias 2022. I.E: 20508 \"San Francisco de Asís\" Marcavelica - Sullana - Piura.\n",
      " URL: https://www.youtube.com/watch?v=KpWMzW4XNRs&pp=ygU6U2FuIEZyYW5jaXNjbyBkZSBBc8Otcy4gQW5pdmVyc2FyaW8gZGVTdWxsYW5hLiBQaXVyYSBQZXLDug%3D%3D\n"
     ]
    },
    {
     "name": "stderr",
     "output_type": "stream",
     "text": [
      " 86%|███████████████████████████████████████████████████████████████████▏          | 669/777 [1:47:41<11:38,  6.47s/it]"
     ]
    },
    {
     "name": "stdout",
     "output_type": "stream",
     "text": [
      "\n",
      " Semana Jubilar de Piura. Festival del Tondero\n",
      "y de la Marinera Norteña (Club Grau). (Piura)\n",
      " Título: Eliminatoria Club Grau Piura 2019\n",
      " URL: https://www.youtube.com/watch?v=kcUtTiwpCF0&pp=ygVfU2VtYW5hIEp1YmlsYXIgZGUgUGl1cmEuIEZlc3RpdmFsIGRlbCBUb25kZXJveSBkZSBsYSBNYXJpbmVyYSBOb3J0ZcOxYSAoQ2x1YiBHcmF1KS4gUGl1cmEgUGVyw7o%3D\n"
     ]
    },
    {
     "name": "stderr",
     "output_type": "stream",
     "text": [
      " 86%|███████████████████████████████████████████████████████████████████▎          | 670/777 [1:47:48<11:20,  6.36s/it]"
     ]
    },
    {
     "name": "stdout",
     "output_type": "stream",
     "text": [
      "\n",
      " Todos los Santos y los «angelitos». (Piura)\n",
      " Título: Ángeles Sanadores: ¿Qué es lo que realmente sucede en los salones de sanación?\n",
      " URL: https://www.youtube.com/watch?v=T-GZqKEXT08&pp=ygUxVG9kb3MgbG9zIFNhbnRvcyB5IGxvcyDCq2FuZ2VsaXRvc8K7LiBQaXVyYSBQZXLDutIHCQnYCQGHKiGM7w%3D%3D\n"
     ]
    },
    {
     "name": "stderr",
     "output_type": "stream",
     "text": [
      " 86%|███████████████████████████████████████████████████████████████████▎          | 671/777 [1:47:54<11:02,  6.25s/it]"
     ]
    },
    {
     "name": "stdout",
     "output_type": "stream",
     "text": [
      "\n",
      " Todos los Santos. Día de los difuntos.\n",
      "Velaciones. (Piura)\n",
      " Título: Velaciones / LQF #09 Temporada 2017\n",
      " URL: https://www.youtube.com/watch?v=-cfY3crLVwo&pp=ygU-VG9kb3MgbG9zIFNhbnRvcy4gRMOtYSBkZSBsb3MgZGlmdW50b3MuVmVsYWNpb25lcy4gUGl1cmEgUGVyw7o%3D\n"
     ]
    },
    {
     "name": "stderr",
     "output_type": "stream",
     "text": [
      " 86%|███████████████████████████████████████████████████████████████████▍          | 672/777 [1:48:00<10:48,  6.17s/it]"
     ]
    },
    {
     "name": "stdout",
     "output_type": "stream",
     "text": [
      "\n",
      " Feria de Sullana. (Piura)\n",
      " Título: 🔴🔵Piura: Realizan feria gastronómica con 'Sabor a Perú' por Fiestas Patrias\n",
      " URL: https://www.youtube.com/watch?v=0yvLLq15mYc&pp=ygUdRmVyaWEgZGUgU3VsbGFuYS4gUGl1cmEgUGVyw7o%3D\n"
     ]
    },
    {
     "name": "stderr",
     "output_type": "stream",
     "text": [
      " 87%|███████████████████████████████████████████████████████████████████▌          | 673/777 [1:48:06<10:58,  6.33s/it]"
     ]
    },
    {
     "name": "stdout",
     "output_type": "stream",
     "text": [
      "\n",
      " Aniversario de Bellavista. (Piura)\n",
      " Título: FERIA MERCEDARIA 2024 - BELLAVISTA - SULLANA - PIURA\n",
      " URL: https://www.youtube.com/watch?v=KixS374sBHY&pp=ygUmQW5pdmVyc2FyaW8gZGUgQmVsbGF2aXN0YS4gUGl1cmEgUGVyw7o%3D\n"
     ]
    },
    {
     "name": "stderr",
     "output_type": "stream",
     "text": [
      " 87%|███████████████████████████████████████████████████████████████████▋          | 674/777 [1:48:12<10:41,  6.22s/it]"
     ]
    },
    {
     "name": "stdout",
     "output_type": "stream",
     "text": [
      "\n",
      " Fiesta de El Dulce Nombre de Jesús (Puno)\n",
      " Título: FIESTA PATRONAL EN HONOR AL NIÑO DULCE NOMBRE DE JESÚS Y NIÑO FAJARDITO 2025\n",
      " URL: https://www.youtube.com/watch?v=RX-9YYHVsaY&pp=ygUuRmllc3RhIGRlIEVsIER1bGNlIE5vbWJyZSBkZSBKZXPDunMgUHVubyBQZXLDug%3D%3D\n"
     ]
    },
    {
     "name": "stderr",
     "output_type": "stream",
     "text": [
      " 87%|███████████████████████████████████████████████████████████████████▊          | 675/777 [1:48:19<10:52,  6.40s/it]"
     ]
    },
    {
     "name": "stdout",
     "output_type": "stream",
     "text": [
      "\n",
      " Fiesta de Alasitas (Puno)\n",
      " Título: JULIACA: ALASITAS Y FESTIVIDAD DE LAS CRUCES 2024\n",
      " URL: https://www.youtube.com/watch?v=quSb0IgsMmU&pp=ygUdRmllc3RhIGRlIEFsYXNpdGFzIFB1bm8gUGVyw7o%3D\n"
     ]
    },
    {
     "name": "stderr",
     "output_type": "stream",
     "text": [
      " 87%|███████████████████████████████████████████████████████████████████▊          | 676/777 [1:48:25<10:39,  6.33s/it]"
     ]
    },
    {
     "name": "stdout",
     "output_type": "stream",
     "text": [
      "\n",
      " Fiesta de la pachamanca (Puno)\n",
      " Título: ¡Música y tradición! La pachamanca más grande del mundo está en la gran fiesta de Huancayo\n",
      " URL: https://www.youtube.com/watch?v=YM6DNOxg_y4&pp=ygUiRmllc3RhIGRlIGxhIHBhY2hhbWFuY2EgUHVubyBQZXLDug%3D%3D\n"
     ]
    },
    {
     "name": "stderr",
     "output_type": "stream",
     "text": [
      " 87%|███████████████████████████████████████████████████████████████████▉          | 677/777 [1:48:32<10:42,  6.42s/it]"
     ]
    },
    {
     "name": "stdout",
     "output_type": "stream",
     "text": [
      "\n",
      " Fiesta de la pachamanca (Puno)\n",
      " Título: PACHAMANCA ESTILO PUNO\n",
      " URL: https://www.youtube.com/watch?v=9cLHCUUi_uk&pp=ygUiRmllc3RhIGRlIGxhIHBhY2hhbWFuY2EgUHVubyBQZXLDug%3D%3D\n"
     ]
    },
    {
     "name": "stderr",
     "output_type": "stream",
     "text": [
      " 87%|████████████████████████████████████████████████████████████████████          | 678/777 [1:48:38<10:26,  6.33s/it]"
     ]
    },
    {
     "name": "stdout",
     "output_type": "stream",
     "text": [
      "\n",
      " Fiesta de la Virgen de la Candelaria (Puno)\n",
      " Título: Festividad Virgen de la Candelaria 2024 (13/02/2024) | TVPerú\n",
      " URL: https://www.youtube.com/watch?v=dbLUJE7FSV4&pp=ygUvRmllc3RhIGRlIGxhIFZpcmdlbiBkZSBsYSBDYW5kZWxhcmlhIFB1bm8gUGVyw7rSBwkJ2AkBhyohjO8%3D\n"
     ]
    },
    {
     "name": "stderr",
     "output_type": "stream",
     "text": [
      " 87%|████████████████████████████████████████████████████████████████████▏         | 679/777 [1:48:45<10:29,  6.42s/it]"
     ]
    },
    {
     "name": "stdout",
     "output_type": "stream",
     "text": [
      "\n",
      " Carnavales (Puno)\n",
      " Título: MILLIRAYA _ HUANCANE_PUNO CARNAVALES 2020 (concurso completo)\n",
      " URL: https://www.youtube.com/watch?v=oxWWt4IdD9Q&list=RDoxWWt4IdD9Q&start_radio=1&pp=ygUVQ2FybmF2YWxlcyBQdW5vIFBlcsO6oAcB\n"
     ]
    },
    {
     "name": "stderr",
     "output_type": "stream",
     "text": [
      " 88%|████████████████████████████████████████████████████████████████████▎         | 680/777 [1:48:51<10:09,  6.28s/it]"
     ]
    },
    {
     "name": "stdout",
     "output_type": "stream",
     "text": [
      "\n",
      " Semana Santa (Puno)\n",
      " Título: Domingo de Ramos en Puno Perú - Semana Santa\n",
      " URL: https://www.youtube.com/watch?v=kWm1ZwwUhN0&pp=ygUXU2VtYW5hIFNhbnRhIFB1bm8gUGVyw7o%3D\n"
     ]
    },
    {
     "name": "stderr",
     "output_type": "stream",
     "text": [
      " 88%|████████████████████████████████████████████████████████████████████▎         | 681/777 [1:48:57<10:13,  6.39s/it]"
     ]
    },
    {
     "name": "stdout",
     "output_type": "stream",
     "text": [
      "\n",
      " Fiesta de las Alasitas (Puno)\n",
      " Título: Fiesta de las ALASITAS 2015 - Puno Region\n",
      " URL: https://www.youtube.com/watch?v=Ny1qdQyb3pE&pp=ygUhRmllc3RhIGRlIGxhcyBBbGFzaXRhcyBQdW5vIFBlcsO6\n"
     ]
    },
    {
     "name": "stderr",
     "output_type": "stream",
     "text": [
      " 88%|████████████████████████████████████████████████████████████████████▍         | 682/777 [1:49:03<09:59,  6.31s/it]"
     ]
    },
    {
     "name": "stdout",
     "output_type": "stream",
     "text": [
      "\n",
      " Fiesta de las Cruces (Puno)\n",
      " Título: FIESTA DE LAS CRUCES 2016 - PROV. MOHO - PUNO - PERU\n",
      " URL: https://www.youtube.com/watch?v=19OZ9V5WBj8&pp=ygUfRmllc3RhIGRlIGxhcyBDcnVjZXMgUHVubyBQZXLDug%3D%3D\n"
     ]
    },
    {
     "name": "stderr",
     "output_type": "stream",
     "text": [
      " 88%|████████████████████████████████████████████████████████████████████▌         | 683/777 [1:49:10<10:07,  6.46s/it]"
     ]
    },
    {
     "name": "stdout",
     "output_type": "stream",
     "text": [
      "\n",
      " Fiesta del Espíritu Santo (Puno)\n",
      " Título: Celebra Perú - Fiesta de Pentecostés\n",
      " URL: https://www.youtube.com/watch?v=5S0O1bl6OB8&pp=ygUlRmllc3RhIGRlbCBFc3DDrXJpdHUgU2FudG8gUHVubyBQZXLDug%3D%3D\n"
     ]
    },
    {
     "name": "stderr",
     "output_type": "stream",
     "text": [
      " 88%|████████████████████████████████████████████████████████████████████▋         | 684/777 [1:49:17<10:08,  6.54s/it]"
     ]
    },
    {
     "name": "stdout",
     "output_type": "stream",
     "text": [
      "\n",
      " Fiesta de Pucará y escenificación\n",
      "del Jatun Nakaq (Puno)\n",
      " Título: CEREMONIA JATUN ÑAKAQ\n",
      " URL: https://www.youtube.com/watch?v=MghSJ31qZrs&pp=ygU9Rmllc3RhIGRlIFB1Y2Fyw6EgeSBlc2NlbmlmaWNhY2nDs25kZWwgSmF0dW4gTmFrYXEgUHVubyBQZXLDug%3D%3D\n"
     ]
    },
    {
     "name": "stderr",
     "output_type": "stream",
     "text": [
      " 88%|████████████████████████████████████████████████████████████████████▊         | 685/777 [1:49:23<09:48,  6.40s/it]"
     ]
    },
    {
     "name": "stdout",
     "output_type": "stream",
     "text": [
      "\n",
      " Fiesta de San Juan (Puno)\n",
      " Título: Fiesta de San Juan: juane, cultura y devoción en el corazón de la Amazonía\n",
      " URL: https://www.youtube.com/watch?v=CX3KLNrmxOA&pp=ygUdRmllc3RhIGRlIFNhbiBKdWFuIFB1bm8gUGVyw7o%3D\n"
     ]
    },
    {
     "name": "stderr",
     "output_type": "stream",
     "text": [
      " 88%|████████████████████████████████████████████████████████████████████▊         | 686/777 [1:49:30<09:48,  6.47s/it]"
     ]
    },
    {
     "name": "stdout",
     "output_type": "stream",
     "text": [
      "\n",
      " Fiesta del Inti Raymi (Puno)\n",
      " Título: 🔴🔵Puno celebra el Día del Campesino e Inti Raymi\n",
      " URL: https://www.youtube.com/watch?v=tUmZvFGEsTg&pp=ygUgRmllc3RhIGRlbCBJbnRpIFJheW1pIFB1bm8gUGVyw7o%3D\n"
     ]
    },
    {
     "name": "stderr",
     "output_type": "stream",
     "text": [
      " 88%|████████████████████████████████████████████████████████████████████▉         | 687/777 [1:49:36<09:34,  6.38s/it]"
     ]
    },
    {
     "name": "stdout",
     "output_type": "stream",
     "text": [
      "\n",
      " Fiesta del patrón de San Pedro (Puno)\n",
      " Título: HUANCANÉ: CELOS CASI TERMINA EN TRAGEDIA EN LA FESTIVIDAD DE SAN PEDRO Y SAN PABLO EN VILQUECHICO\n",
      " URL: https://www.youtube.com/watch?v=FCek0kLG3Dw&pp=ygUqRmllc3RhIGRlbCBwYXRyw7NuIGRlIFNhbiBQZWRybyBQdW5vIFBlcsO6\n"
     ]
    },
    {
     "name": "stderr",
     "output_type": "stream",
     "text": [
      " 89%|█████████████████████████████████████████████████████████████████████         | 688/777 [1:49:42<09:31,  6.43s/it]"
     ]
    },
    {
     "name": "stdout",
     "output_type": "stream",
     "text": [
      "\n",
      " Fiesta de la Parona Virgen del Carmen (Puno)\n",
      " Título: Paucartambo celebra fiesta de la Virgen del Carmen con escenificación de danzas #nuestratierra\n",
      " URL: https://www.youtube.com/watch?v=AFxs6rU1Yz8&pp=ygUwRmllc3RhIGRlIGxhIFBhcm9uYSBWaXJnZW4gZGVsIENhcm1lbiBQdW5vIFBlcsO6\n"
     ]
    },
    {
     "name": "stderr",
     "output_type": "stream",
     "text": [
      " 89%|█████████████████████████████████████████████████████████████████████▏        | 689/777 [1:49:49<09:28,  6.46s/it]"
     ]
    },
    {
     "name": "stdout",
     "output_type": "stream",
     "text": [
      "\n",
      " Fiesta del Patrón Santiago (Puno)\n",
      " Título: FIESTA PATRONAL SAN SANTIAGO APÓSTOL EDICIÓN ESPECIAL 2010\n",
      " URL: https://www.youtube.com/watch?v=FOPIS9niJaI&pp=ygUmRmllc3RhIGRlbCBQYXRyw7NuIFNhbnRpYWdvIFB1bm8gUGVyw7o%3D\n"
     ]
    },
    {
     "name": "stderr",
     "output_type": "stream",
     "text": [
      " 89%|█████████████████████████████████████████████████████████████████████▎        | 690/777 [1:49:56<09:31,  6.56s/it]"
     ]
    },
    {
     "name": "stdout",
     "output_type": "stream",
     "text": [
      "\n",
      " Fiesta de la Virgen de Asunción (Puno)\n",
      " Título: CABANA FESTEJA: \"VIRGEN DE LA ASUNCION\" -15 Agosto de 1993.\n",
      " URL: https://www.youtube.com/watch?v=vQEUz_W0LXo&pp=ygUrRmllc3RhIGRlIGxhIFZpcmdlbiBkZSBBc3VuY2nDs24gUHVubyBQZXLDug%3D%3D\n"
     ]
    },
    {
     "name": "stderr",
     "output_type": "stream",
     "text": [
      " 89%|█████████████████████████████████████████████████████████████████████▎        | 691/777 [1:50:02<09:24,  6.57s/it]"
     ]
    },
    {
     "name": "stdout",
     "output_type": "stream",
     "text": [
      "\n",
      " Fiesta de la Virgen de la Natividad (Puno)\n",
      " Título: Virgen de Natividad Acora - Puno - 2023\n",
      " URL: https://www.youtube.com/watch?v=L5wi-zITd6Q&pp=ygUuRmllc3RhIGRlIGxhIFZpcmdlbiBkZSBsYSBOYXRpdmlkYWQgUHVubyBQZXLDug%3D%3D\n"
     ]
    },
    {
     "name": "stderr",
     "output_type": "stream",
     "text": [
      " 89%|█████████████████████████████████████████████████████████████████████▍        | 692/777 [1:50:09<09:25,  6.65s/it]"
     ]
    },
    {
     "name": "stdout",
     "output_type": "stream",
     "text": [
      "\n",
      " Fiesta de la Virgen de las Mercedes (Puno)\n",
      " Título: Puno: Así se vivió la festividad de la Virgen de las Mercedes\n",
      " URL: https://www.youtube.com/watch?v=VErsJWvlTuo&pp=ygUuRmllc3RhIGRlIGxhIFZpcmdlbiBkZSBsYXMgTWVyY2VkZXMgUHVubyBQZXLDug%3D%3D\n"
     ]
    },
    {
     "name": "stderr",
     "output_type": "stream",
     "text": [
      " 89%|█████████████████████████████████████████████████████████████████████▌        | 693/777 [1:50:16<09:17,  6.64s/it]"
     ]
    },
    {
     "name": "stdout",
     "output_type": "stream",
     "text": [
      "\n",
      " Fiesta de Cápac Ccolla (Puno)\n",
      " Título: Qhapaq Qolla de Paucartambo Cancion 2025\n",
      " URL: https://www.youtube.com/watch?v=1UOe05ZwDOc&list=RD1UOe05ZwDOc&start_radio=1&pp=ygUiRmllc3RhIGRlIEPDoXBhYyBDY29sbGEgUHVubyBQZXLDuqAHAQ%3D%3D\n"
     ]
    },
    {
     "name": "stderr",
     "output_type": "stream",
     "text": [
      " 89%|█████████████████████████████████████████████████████████████████████▋        | 694/777 [1:50:22<09:12,  6.65s/it]"
     ]
    },
    {
     "name": "stdout",
     "output_type": "stream",
     "text": [
      "\n",
      " Fiesta de la Virgen del Rosario (Puno)\n",
      " Título: GRAN PARADA FOLKLORICA EN HONOR A VIRGEN DEL ROSARIO - CHUCUITO PUNO 2024\n",
      " URL: https://www.youtube.com/watch?v=d7PJU0YONWs&pp=ygUqRmllc3RhIGRlIGxhIFZpcmdlbiBkZWwgUm9zYXJpbyBQdW5vIFBlcsO6\n"
     ]
    },
    {
     "name": "stderr",
     "output_type": "stream",
     "text": [
      " 89%|█████████████████████████████████████████████████████████████████████▊        | 695/777 [1:50:29<09:17,  6.80s/it]"
     ]
    },
    {
     "name": "stdout",
     "output_type": "stream",
     "text": [
      "\n",
      " Yunguyo Fiesta de San Francisco de Borja (Puno)\n",
      " Título: Festividad San Francisco de Borja 2022 Yunguyo Puno Peru\n",
      " URL: https://www.youtube.com/watch?v=g-re9M5mTfY&pp=ygUzWXVuZ3V5byBGaWVzdGEgZGUgU2FuIEZyYW5jaXNjbyBkZSBCb3JqYSBQdW5vIFBlcsO60gcJCdgJAYcqIYzv\n"
     ]
    },
    {
     "name": "stderr",
     "output_type": "stream",
     "text": [
      " 90%|█████████████████████████████████████████████████████████████████████▊        | 696/777 [1:50:35<08:51,  6.56s/it]"
     ]
    },
    {
     "name": "stdout",
     "output_type": "stream",
     "text": [
      "\n",
      " Fiesta de todos los Santos (Puno)\n",
      " Título: Víspera de todos los Santos en Puno - Perú\n",
      " URL: https://www.youtube.com/watch?v=JKP3QYWPMDM&pp=ygUlRmllc3RhIGRlIHRvZG9zIGxvcyBTYW50b3MgUHVubyBQZXLDug%3D%3D\n"
     ]
    },
    {
     "name": "stderr",
     "output_type": "stream",
     "text": [
      " 90%|█████████████████████████████████████████████████████████████████████▉        | 697/777 [1:50:42<08:33,  6.41s/it]"
     ]
    },
    {
     "name": "stdout",
     "output_type": "stream",
     "text": [
      "\n",
      " Aniversario de la fundación de Puno (Puno)\n",
      " Título: Celebran a lo grande aniversario de la fundación de Puno\n",
      " URL: https://www.youtube.com/watch?v=SuK_EMVRqmI&pp=ygUvQW5pdmVyc2FyaW8gZGUgbGEgZnVuZGFjacOzbiBkZSBQdW5vIFB1bm8gUGVyw7o%3D\n"
     ]
    },
    {
     "name": "stderr",
     "output_type": "stream",
     "text": [
      " 90%|██████████████████████████████████████████████████████████████████████        | 698/777 [1:50:48<08:21,  6.35s/it]"
     ]
    },
    {
     "name": "stdout",
     "output_type": "stream",
     "text": [
      "\n",
      " Feria de las Alasitas (Puno)\n",
      " Título: JULIACA: ALASITAS Y FESTIVIDAD DE LAS CRUCES 2024\n",
      " URL: https://www.youtube.com/watch?v=quSb0IgsMmU&pp=ygUgRmVyaWEgZGUgbGFzIEFsYXNpdGFzIFB1bm8gUGVyw7o%3D\n"
     ]
    },
    {
     "name": "stderr",
     "output_type": "stream",
     "text": [
      " 90%|██████████████████████████████████████████████████████████████████████▏       | 699/777 [1:50:54<08:21,  6.43s/it]"
     ]
    },
    {
     "name": "stdout",
     "output_type": "stream",
     "text": [
      "\n",
      " Festival de Santa Lucía (Puno)\n",
      " Título: RESUMEN ANIVERSARIO SANTA LUCIA LAMPA PUNO PERÚ 2019\n",
      " URL: https://www.youtube.com/watch?v=u312OFduUok&pp=ygUjRmVzdGl2YWwgZGUgU2FudGEgTHVjw61hIFB1bm8gUGVyw7o%3D\n"
     ]
    },
    {
     "name": "stderr",
     "output_type": "stream",
     "text": [
      " 90%|██████████████████████████████████████████████████████████████████████▎       | 700/777 [1:51:01<08:20,  6.50s/it]"
     ]
    },
    {
     "name": "stdout",
     "output_type": "stream",
     "text": [
      "\n",
      " Feria de miniaturas (Puno)\n",
      " Título: ALASITAS 2022 feria de miniaturas mas extensa del Perú Puno\n",
      " URL: https://www.youtube.com/watch?v=eKtAydoOx3Y&pp=ygUeRmVyaWEgZGUgbWluaWF0dXJhcyBQdW5vIFBlcsO6\n"
     ]
    },
    {
     "name": "stderr",
     "output_type": "stream",
     "text": [
      " 90%|██████████████████████████████████████████████████████████████████████▎       | 701/777 [1:51:08<08:14,  6.50s/it]"
     ]
    },
    {
     "name": "stdout",
     "output_type": "stream",
     "text": [
      "\n",
      " Navidad (Puno)\n",
      " Título: Navidad en PUNO - Como se VIVE - Casas Decoradas en el Jr Gardenias SALCEDO - Plaza Principales 4K\n",
      " URL: https://www.youtube.com/watch?v=XMSc00YJJ2U&pp=ygUSTmF2aWRhZCBQdW5vIFBlcsO6\n"
     ]
    },
    {
     "name": "stderr",
     "output_type": "stream",
     "text": [
      " 90%|██████████████████████████████████████████████████████████████████████▍       | 702/777 [1:51:14<08:10,  6.54s/it]"
     ]
    },
    {
     "name": "stdout",
     "output_type": "stream",
     "text": [
      "\n",
      " Carnaval y junshía o matrimonio nativo (San Martin)\n",
      " Título: LA JUNCIA, MATRIMONIO NATIVO LAMISTA\n",
      " URL: https://www.youtube.com/watch?v=S6SrWcpIze4&pp=ygU4Q2FybmF2YWwgeSBqdW5zaMOtYSBvIG1hdHJpbW9uaW8gbmF0aXZvIFNhbiBNYXJ0aW4gUGVyw7o%3D\n"
     ]
    },
    {
     "name": "stderr",
     "output_type": "stream",
     "text": [
      " 90%|██████████████████████████████████████████████████████████████████████▌       | 703/777 [1:51:21<08:05,  6.55s/it]"
     ]
    },
    {
     "name": "stdout",
     "output_type": "stream",
     "text": [
      "\n",
      " Carnaval (San Martin)\n",
      " Título: Carnaval de Lamas - San Martin - Sonqo Wayna (Cani Cruz de Oro 2021 - Union Independiente)\n",
      " URL: https://www.youtube.com/watch?v=p1gQVxZ5DOs&list=RDp1gQVxZ5DOs&start_radio=1&pp=ygUZQ2FybmF2YWwgU2FuIE1hcnRpbiBQZXLDuqAHAQ%3D%3D\n"
     ]
    },
    {
     "name": "stderr",
     "output_type": "stream",
     "text": [
      " 91%|██████████████████████████████████████████████████████████████████████▋       | 704/777 [1:51:27<07:48,  6.41s/it]"
     ]
    },
    {
     "name": "stdout",
     "output_type": "stream",
     "text": [
      "\n",
      " Fiesta Patronal de Santo Toribio de Morgrovejo. (San Martin)\n",
      " Título: Fiesta Patronal de Santo Toribio (Costumbres parte 1)\n",
      " URL: https://www.youtube.com/watch?v=VQ4cePL6Chk&pp=ygVARmllc3RhIFBhdHJvbmFsIGRlIFNhbnRvIFRvcmliaW8gZGUgTW9yZ3JvdmVqby4gU2FuIE1hcnRpbiBQZXLDutIHCQnYCQGHKiGM7w%3D%3D\n"
     ]
    },
    {
     "name": "stderr",
     "output_type": "stream",
     "text": [
      " 91%|██████████████████████████████████████████████████████████████████████▊       | 705/777 [1:51:33<07:33,  6.30s/it]"
     ]
    },
    {
     "name": "stdout",
     "output_type": "stream",
     "text": [
      "\n",
      " Corpus Christi (San Martin)\n",
      " Título: 🙏Corpus Christi en Cusco: 14 santos y vírgenes desfilan en solemne procesión. Música, danzas y fuego\n",
      " URL: https://www.youtube.com/shorts/W1c_L98Xhps\n"
     ]
    },
    {
     "name": "stderr",
     "output_type": "stream",
     "text": [
      " 91%|██████████████████████████████████████████████████████████████████████▊       | 706/777 [1:51:39<07:25,  6.27s/it]"
     ]
    },
    {
     "name": "stdout",
     "output_type": "stream",
     "text": [
      "\n",
      " Danza Negros. (San Martin)\n",
      " Título: Negros en Palenque LSM\n",
      " URL: https://www.youtube.com/watch?v=WoQCDfX2JAo&pp=ygUeRGFuemEgTmVncm9zLiBTYW4gTWFydGluIFBlcsO6\n"
     ]
    },
    {
     "name": "stderr",
     "output_type": "stream",
     "text": [
      " 91%|██████████████████████████████████████████████████████████████████████▉       | 707/777 [1:51:46<07:30,  6.43s/it]"
     ]
    },
    {
     "name": "stdout",
     "output_type": "stream",
     "text": [
      "\n",
      " San Juan. (San Martin)\n",
      " Título: Reportaje al Perú: La fiesta de San Juan en Moyobamba (09/07/2023) | TVPerú\n",
      " URL: https://www.youtube.com/watch?v=c8uBKOazQaY&pp=ygUaU2FuIEp1YW4uIFNhbiBNYXJ0aW4gUGVyw7o%3D\n"
     ]
    },
    {
     "name": "stderr",
     "output_type": "stream",
     "text": [
      " 91%|███████████████████████████████████████████████████████████████████████       | 708/777 [1:51:52<07:19,  6.37s/it]"
     ]
    },
    {
     "name": "stdout",
     "output_type": "stream",
     "text": [
      "\n",
      " San Pedro. (San Martin)\n",
      " Título: Recorrido desde la Iglesia San Pedro a la Plaza San Martín, Lima Perú 🇵🇪, Abril 2022\n",
      " URL: https://www.youtube.com/watch?v=TUUjnQKFMb0&pp=ygUbU2FuIFBlZHJvLiBTYW4gTWFydGluIFBlcsO6\n"
     ]
    },
    {
     "name": "stderr",
     "output_type": "stream",
     "text": [
      " 91%|███████████████████████████████████████████████████████████████████████▏      | 709/777 [1:51:59<07:25,  6.55s/it]"
     ]
    },
    {
     "name": "stdout",
     "output_type": "stream",
     "text": [
      "\n",
      " Semana Turística. (San Martin)\n",
      " Título: Región San Martín, atractivos turísticos para visitar\n",
      " URL: https://www.youtube.com/watch?v=3n3Yc1JF1AU&pp=ygUjU2VtYW5hIFR1csOtc3RpY2EuIFNhbiBNYXJ0aW4gUGVyw7o%3D\n"
     ]
    },
    {
     "name": "stderr",
     "output_type": "stream",
     "text": [
      " 91%|███████████████████████████████████████████████████████████████████████▎      | 710/777 [1:52:06<07:22,  6.61s/it]"
     ]
    },
    {
     "name": "stdout",
     "output_type": "stream",
     "text": [
      "\n",
      " Fiesta Patronal de la Virgen del Carmen. (San Martin)\n",
      " Título: FIESTA PATRONAL DE LA SANTISIMA VIRGEN DEL CARMEN / EL AMANECER DEL PERU PROFUNDO PRODUCCIONES\n",
      " URL: https://www.youtube.com/watch?v=YtwyLl_pwl4&pp=ygU5Rmllc3RhIFBhdHJvbmFsIGRlIGxhIFZpcmdlbiBkZWwgQ2FybWVuLiBTYW4gTWFydGluIFBlcsO6\n"
     ]
    },
    {
     "name": "stderr",
     "output_type": "stream",
     "text": [
      " 92%|███████████████████████████████████████████████████████████████████████▎      | 711/777 [1:52:12<07:16,  6.61s/it]"
     ]
    },
    {
     "name": "stdout",
     "output_type": "stream",
     "text": [
      "\n",
      " Santa Ana. (San Martin)\n",
      " Título: Santa Ana - San Martín - Perú\n",
      " URL: https://www.youtube.com/watch?v=rtxV19CI_Lc&pp=ygUbU2FudGEgQW5hLiBTYW4gTWFydGluIFBlcsO6\n"
     ]
    },
    {
     "name": "stderr",
     "output_type": "stream",
     "text": [
      " 92%|███████████████████████████████████████████████████████████████████████▍      | 712/777 [1:52:19<07:15,  6.70s/it]"
     ]
    },
    {
     "name": "stdout",
     "output_type": "stream",
     "text": [
      "\n",
      " Fiesta de la Santa Cruz de los Motilones. (San Martin)\n",
      " Título: Celebran fiesta patronal en honor a la santa cruz de los motilones en San Martín\n",
      " URL: https://www.youtube.com/watch?v=dyLOlndHmkE&pp=ygU6Rmllc3RhIGRlIGxhIFNhbnRhIENydXogZGUgbG9zIE1vdGlsb25lcy4gU2FuIE1hcnRpbiBQZXLDug%3D%3D\n"
     ]
    },
    {
     "name": "stderr",
     "output_type": "stream",
     "text": [
      " 92%|███████████████████████████████████████████████████████████████████████▌      | 713/777 [1:52:25<06:56,  6.50s/it]"
     ]
    },
    {
     "name": "stdout",
     "output_type": "stream",
     "text": [
      "\n",
      " Fundación española de Tarapoto\n",
      "(1782) (San Martin)\n",
      " Título: Fundación de Tarapoto - Perú (1782)\n",
      " URL: https://www.youtube.com/watch?v=rDSTJpDUgbY&pp=ygU3RnVuZGFjacOzbiBlc3Bhw7FvbGEgZGUgVGFyYXBvdG8oMTc4MikgU2FuIE1hcnRpbiBQZXLDug%3D%3D\n"
     ]
    },
    {
     "name": "stderr",
     "output_type": "stream",
     "text": [
      " 92%|███████████████████████████████████████████████████████████████████████▋      | 714/777 [1:52:32<06:53,  6.57s/it]"
     ]
    },
    {
     "name": "stdout",
     "output_type": "stream",
     "text": [
      "\n",
      " Fiesta Patronal de Santa Rosa. (San Martin)\n",
      " Título: fiesta patronal 2023 santa rosa de lima, bellavista, san martin, peru\n",
      " URL: https://www.youtube.com/watch?v=GwqWyK93Ar8&pp=ygUvRmllc3RhIFBhdHJvbmFsIGRlIFNhbnRhIFJvc2EuIFNhbiBNYXJ0aW4gUGVyw7rSBwkJ2AkBhyohjO8%3D\n"
     ]
    },
    {
     "name": "stderr",
     "output_type": "stream",
     "text": [
      " 92%|███████████████████████████████████████████████████████████████████████▊      | 715/777 [1:52:39<06:50,  6.62s/it]"
     ]
    },
    {
     "name": "stdout",
     "output_type": "stream",
     "text": [
      "\n",
      " Nuestra Señora de la Natividad. (San Martin)\n",
      " Título: Así celebra Tabalosos - San Martín a la Virgen de la Natividad | Celebra Perú\n",
      " URL: https://www.youtube.com/watch?v=nInMA_Qwmfs&pp=ygUxTnVlc3RyYSBTZcOxb3JhIGRlIGxhIE5hdGl2aWRhZC4gU2FuIE1hcnRpbiBQZXLDug%3D%3D\n"
     ]
    },
    {
     "name": "stderr",
     "output_type": "stream",
     "text": [
      " 92%|███████████████████████████████████████████████████████████████████████▉      | 716/777 [1:52:45<06:41,  6.58s/it]"
     ]
    },
    {
     "name": "stdout",
     "output_type": "stream",
     "text": [
      "\n",
      " Creación del departamento de San Martín. (San Martin)\n",
      " Título: Creación Política del Departamento de San Martín | Perú Profundo en #PBO\n",
      " URL: https://www.youtube.com/watch?v=-LY7PkWMm7k&pp=ygU7Q3JlYWNpw7NuIGRlbCBkZXBhcnRhbWVudG8gZGUgU2FuIE1hcnTDrW4uIFNhbiBNYXJ0aW4gUGVyw7o%3D\n"
     ]
    },
    {
     "name": "stderr",
     "output_type": "stream",
     "text": [
      " 92%|███████████████████████████████████████████████████████████████████████▉      | 717/777 [1:52:52<06:35,  6.60s/it]"
     ]
    },
    {
     "name": "stdout",
     "output_type": "stream",
     "text": [
      "\n",
      " Fiesta Patronal. (San Martin)\n",
      " Título: Fiesta en la Vírgen del Rosario y San Martín de Porres (Sancos, Ayacucho)\n",
      " URL: https://www.youtube.com/watch?v=VdsBBSjgsXs&pp=ygUhRmllc3RhIFBhdHJvbmFsLiBTYW4gTWFydGluIFBlcsO6\n"
     ]
    },
    {
     "name": "stderr",
     "output_type": "stream",
     "text": [
      " 92%|████████████████████████████████████████████████████████████████████████      | 718/777 [1:52:58<06:21,  6.47s/it]"
     ]
    },
    {
     "name": "stdout",
     "output_type": "stream",
     "text": [
      "\n",
      " Fundación española de Rioja (1772).\n",
      "Fecha central: 22. (San Martin)\n",
      " Título: Fundación de Ciudad de Rioja, San Martín | Perú Profundo en #PBO\n",
      " URL: https://www.youtube.com/watch?v=v5oqRc7VLQ8&pp=ygVIRnVuZGFjacOzbiBlc3Bhw7FvbGEgZGUgUmlvamEgKDE3NzIpLkZlY2hhIGNlbnRyYWw6IDIyLiBTYW4gTWFydGluIFBlcsO6\n"
     ]
    },
    {
     "name": "stderr",
     "output_type": "stream",
     "text": [
      " 93%|████████████████████████████████████████████████████████████████████████▏     | 719/777 [1:53:04<06:08,  6.36s/it]"
     ]
    },
    {
     "name": "stdout",
     "output_type": "stream",
     "text": [
      "\n",
      " Todos los Santos (San Martin)\n",
      " Título: San Martín de Porres (Santo peruano) ✨️🕊💘🐀💖🐈❤️‍🔥🐕✨️ #saints #sanmartindeporres #reflexion #lofi\n",
      " URL: https://www.youtube.com/shorts/bnQcrtTq8Yo\n"
     ]
    },
    {
     "name": "stderr",
     "output_type": "stream",
     "text": [
      " 93%|████████████████████████████████████████████████████████████████████████▎     | 720/777 [1:53:10<05:59,  6.30s/it]"
     ]
    },
    {
     "name": "stdout",
     "output_type": "stream",
     "text": [
      "\n",
      " Virgen de la Candelaria. (Tacna)\n",
      " Título: Festividad Virgen de la Candelaria 2025 Tacna - PERU\n",
      " URL: https://www.youtube.com/watch?v=nZEuJH3O12w&pp=ygUkVmlyZ2VuIGRlIGxhIENhbmRlbGFyaWEuIFRhY25hIFBlcsO6\n"
     ]
    },
    {
     "name": "stderr",
     "output_type": "stream",
     "text": [
      " 93%|████████████████████████████████████████████████████████████████████████▍     | 721/777 [1:53:16<05:47,  6.21s/it]"
     ]
    },
    {
     "name": "stdout",
     "output_type": "stream",
     "text": [
      "\n",
      " Carnavales. Bailes tipicos y danzas en diversos\n",
      "poblados del departamento. (Tacna)\n",
      " Título: COMPARSA JUVENTUD CHALLAGUAYA - CARNAVAL TARATEÑO 2025 TACNA PERÚ\n",
      " URL: https://www.youtube.com/watch?v=gtD2n1EcW0A&pp=ygVVQ2FybmF2YWxlcy4gQmFpbGVzIHRpcGljb3MgeSBkYW56YXMgZW4gZGl2ZXJzb3Nwb2JsYWRvcyBkZWwgZGVwYXJ0YW1lbnRvLiBUYWNuYSBQZXLDug%3D%3D\n"
     ]
    },
    {
     "name": "stderr",
     "output_type": "stream",
     "text": [
      " 93%|████████████████████████████████████████████████████████████████████████▍     | 722/777 [1:53:22<05:38,  6.15s/it]"
     ]
    },
    {
     "name": "stdout",
     "output_type": "stream",
     "text": [
      "\n",
      " Fiesta de San Jose. (Tacna)\n",
      " Título: Gran Remate de Carnaval 2017 Tacna - Caporales Reales San José\n",
      " URL: https://www.youtube.com/watch?v=A1mkeJwYwlI&pp=ygUfRmllc3RhIGRlIFNhbiBKb3NlLiBUYWNuYSBQZXLDug%3D%3D\n"
     ]
    },
    {
     "name": "stderr",
     "output_type": "stream",
     "text": [
      " 93%|████████████████████████████████████████████████████████████████████████▌     | 723/777 [1:53:29<05:39,  6.28s/it]"
     ]
    },
    {
     "name": "stdout",
     "output_type": "stream",
     "text": [
      "\n",
      " Semana Santa. Peregrinacion al cerro Intiorco. (Tacna)\n",
      " Título: 🔴🔵Viernes Santo en Tacna: Pobladores realizan tradicional peregrinación al Cerro Intiorko\n",
      " URL: https://www.youtube.com/watch?v=CW0aSjifxw4&pp=ygU6U2VtYW5hIFNhbnRhLiBQZXJlZ3JpbmFjaW9uIGFsIGNlcnJvIEludGlvcmNvLiBUYWNuYSBQZXLDug%3D%3D\n"
     ]
    },
    {
     "name": "stderr",
     "output_type": "stream",
     "text": [
      " 93%|████████████████████████████████████████████████████████████████████████▋     | 724/777 [1:53:36<05:39,  6.41s/it]"
     ]
    },
    {
     "name": "stdout",
     "output_type": "stream",
     "text": [
      "\n",
      " Feria Agropecuaria. (Tacna)\n",
      " Título: #TACNA | #Feria #Agropecuaria #ExposSama2024\n",
      " URL: https://www.youtube.com/watch?v=gjoEjr9mDwc&pp=ygUfRmVyaWEgQWdyb3BlY3VhcmlhLiBUYWNuYSBQZXLDutIHCQnYCQGHKiGM7w%3D%3D\n"
     ]
    },
    {
     "name": "stderr",
     "output_type": "stream",
     "text": [
      " 93%|████████████████████████████████████████████████████████████████████████▊     | 725/777 [1:53:42<05:29,  6.33s/it]"
     ]
    },
    {
     "name": "stdout",
     "output_type": "stream",
     "text": [
      "\n",
      " Festival del Maiz y la Papa. (Tacna)\n",
      " Título: festival del maiz y la papa tacna tarata turismo\n",
      " URL: https://www.youtube.com/watch?v=Q7D9DCq7A8c&pp=ygUoRmVzdGl2YWwgZGVsIE1haXogeSBsYSBQYXBhLiBUYWNuYSBQZXLDug%3D%3D\n"
     ]
    },
    {
     "name": "stderr",
     "output_type": "stream",
     "text": [
      " 93%|████████████████████████████████████████████████████████████████████████▉     | 726/777 [1:53:48<05:18,  6.25s/it]"
     ]
    },
    {
     "name": "stdout",
     "output_type": "stream",
     "text": [
      "\n",
      " Fiesta de las Cruces. (Tacna)\n",
      " Título: 🔴🔵Tacna y la Fiesta de las Cruces: Conoce la festividad religiosa más grande de la región\n",
      " URL: https://www.youtube.com/watch?v=X1Is6tF_X2Y&pp=ygUhRmllc3RhIGRlIGxhcyBDcnVjZXMuIFRhY25hIFBlcsO6\n"
     ]
    },
    {
     "name": "stderr",
     "output_type": "stream",
     "text": [
      " 94%|████████████████████████████████████████████████████████████████████████▉     | 727/777 [1:53:54<05:12,  6.25s/it]"
     ]
    },
    {
     "name": "stdout",
     "output_type": "stream",
     "text": [
      "\n",
      " Aniversario de la Batalla del Alto de la Alianza. (Tacna)\n",
      " Título: Ceremonia por el 144.° Aniversario de la Batalla del Alto de la Alianza, en Tacna.\n",
      " URL: https://www.youtube.com/watch?v=vaRERPJ5Y5g&pp=ygU9QW5pdmVyc2FyaW8gZGUgbGEgQmF0YWxsYSBkZWwgQWx0byBkZSBsYSBBbGlhbnphLiBUYWNuYSBQZXLDug%3D%3D\n"
     ]
    },
    {
     "name": "stderr",
     "output_type": "stream",
     "text": [
      " 94%|█████████████████████████████████████████████████████████████████████████     | 728/777 [1:54:00<05:06,  6.26s/it]"
     ]
    },
    {
     "name": "stdout",
     "output_type": "stream",
     "text": [
      "\n",
      " Festival de San Benedicto. (Tacna)\n",
      " Título: DANZA DE TACNA FIESTA PATRONAL DE SAN BENEDICTO\n",
      " URL: https://www.youtube.com/watch?v=dfmF61IaT8k&list=RDdfmF61IaT8k&start_radio=1&pp=ygUmRmVzdGl2YWwgZGUgU2FuIEJlbmVkaWN0by4gVGFjbmEgUGVyw7qgBwE%3D\n"
     ]
    },
    {
     "name": "stderr",
     "output_type": "stream",
     "text": [
      " 94%|█████████████████████████████████████████████████████████████████████████▏    | 729/777 [1:54:07<05:06,  6.38s/it]"
     ]
    },
    {
     "name": "stdout",
     "output_type": "stream",
     "text": [
      "\n",
      " Aniversario de la Batalla de Arica. (Tacna)\n",
      " Título: 140 aniversario de la batalla de Arica\n",
      " URL: https://www.youtube.com/watch?v=YavQ5W618UI&pp=ygUvQW5pdmVyc2FyaW8gZGUgbGEgQmF0YWxsYSBkZSBBcmljYS4gVGFjbmEgUGVyw7o%3D\n"
     ]
    },
    {
     "name": "stderr",
     "output_type": "stream",
     "text": [
      " 94%|█████████████████████████████████████████████████████████████████████████▎    | 730/777 [1:54:14<05:06,  6.52s/it]"
     ]
    },
    {
     "name": "stdout",
     "output_type": "stream",
     "text": [
      "\n",
      " Homenaje al primer grito de libertad lanzado\n",
      "por Jose Antonio de Zela. (Tacna)\n",
      " Título: Tacna: Celebran los 200 años del grito de libertad de Francisco Antonio de Zela\n",
      " URL: https://www.youtube.com/watch?v=A77hdOQJ0NQ&pp=ygVRSG9tZW5hamUgYWwgcHJpbWVyIGdyaXRvIGRlIGxpYmVydGFkIGxhbnphZG9wb3IgSm9zZSBBbnRvbmlvIGRlIFplbGEuIFRhY25hIFBlcsO60gcJCdgJAYcqIYzv\n"
     ]
    },
    {
     "name": "stderr",
     "output_type": "stream",
     "text": [
      " 94%|█████████████████████████████████████████████████████████████████████████▍    | 731/777 [1:54:21<05:02,  6.58s/it]"
     ]
    },
    {
     "name": "stdout",
     "output_type": "stream",
     "text": [
      "\n",
      " Vispera de la Fiesta de San Juan. (Tacna)\n",
      " Título: FESTI SAN JUAN EN TACNA\n",
      " URL: https://www.youtube.com/watch?v=X17LG8Su28c&pp=ygUtVmlzcGVyYSBkZSBsYSBGaWVzdGEgZGUgU2FuIEp1YW4uIFRhY25hIFBlcsO6\n"
     ]
    },
    {
     "name": "stderr",
     "output_type": "stream",
     "text": [
      " 94%|█████████████████████████████████████████████████████████████████████████▍    | 732/777 [1:54:27<04:49,  6.43s/it]"
     ]
    },
    {
     "name": "stdout",
     "output_type": "stream",
     "text": [
      "\n",
      " Fiesta de la Virgen de la Esperanza. (Tacna)\n",
      " Título: 150916 Celebran fiesta de nuestra Señora de la Esperanza en Catedral de Lima\n",
      " URL: https://www.youtube.com/watch?v=KVxsjYfiIiA&pp=ygUwRmllc3RhIGRlIGxhIFZpcmdlbiBkZSBsYSBFc3BlcmFuemEuIFRhY25hIFBlcsO6\n"
     ]
    },
    {
     "name": "stderr",
     "output_type": "stream",
     "text": [
      " 94%|█████████████████████████████████████████████████████████████████████████▌    | 733/777 [1:54:33<04:37,  6.31s/it]"
     ]
    },
    {
     "name": "stdout",
     "output_type": "stream",
     "text": [
      "\n",
      " Nuestra Señora del Carmen. (Tacna)\n",
      " Título: Sociedad Religiosa Nuestra Señora del Carmen de Tacna\n",
      " URL: https://www.youtube.com/watch?v=ObT4aJJOjkQ&pp=ygUnTnVlc3RyYSBTZcOxb3JhIGRlbCBDYXJtZW4uIFRhY25hIFBlcsO6\n"
     ]
    },
    {
     "name": "stderr",
     "output_type": "stream",
     "text": [
      " 94%|█████████████████████████████████████████████████████████████████████████▋    | 734/777 [1:54:39<04:33,  6.36s/it]"
     ]
    },
    {
     "name": "stdout",
     "output_type": "stream",
     "text": [
      "\n",
      " Festival de la Uva y el Vino. Festival del Olivo. (Tacna)\n",
      " Título: ✔ VIII FESTIVAL DE LA VENDIMIA de Tacna | Perú 🍇\n",
      " URL: https://www.youtube.com/watch?v=_iCpVjpcRd4&pp=ygU9RmVzdGl2YWwgZGUgbGEgVXZhIHkgZWwgVmluby4gRmVzdGl2YWwgZGVsIE9saXZvLiBUYWNuYSBQZXLDutIHCQnYCQGHKiGM7w%3D%3D\n"
     ]
    },
    {
     "name": "stderr",
     "output_type": "stream",
     "text": [
      " 95%|█████████████████████████████████████████████████████████████████████████▊    | 735/777 [1:54:45<04:22,  6.25s/it]"
     ]
    },
    {
     "name": "stdout",
     "output_type": "stream",
     "text": [
      "\n",
      " Fiesta del Comayle. (Tacna)\n",
      " Título: ☆☆Alegres de Ticaco 2017 (Comayle y Paramarca,Recuerdos 2011)☆☆\n",
      " URL: https://www.youtube.com/watch?v=ImGVIf4cHTM&list=RDImGVIf4cHTM&start_radio=1&pp=ygUfRmllc3RhIGRlbCBDb21heWxlLiBUYWNuYSBQZXLDuqAHAQ%3D%3D\n"
     ]
    },
    {
     "name": "stderr",
     "output_type": "stream",
     "text": [
      " 95%|█████████████████████████████████████████████████████████████████████████▉    | 736/777 [1:54:51<04:14,  6.21s/it]"
     ]
    },
    {
     "name": "stdout",
     "output_type": "stream",
     "text": [
      "\n",
      " Fiesta de Santo Domingo. (Tacna)\n",
      " Título: Fiesta Patronal de Santo Domingo de Guzman de TICACO 2013\n",
      " URL: https://www.youtube.com/watch?v=hd9OZ_Z6lT0&pp=ygUkRmllc3RhIGRlIFNhbnRvIERvbWluZ28uIFRhY25hIFBlcsO6\n"
     ]
    },
    {
     "name": "stderr",
     "output_type": "stream",
     "text": [
      " 95%|█████████████████████████████████████████████████████████████████████████▉    | 737/777 [1:54:58<04:07,  6.20s/it]"
     ]
    },
    {
     "name": "stdout",
     "output_type": "stream",
     "text": [
      "\n",
      " Virgen de Copacabana (Tacna)\n",
      " Título: FESTIVIDAD VIRGEN DE COPACABANA A Alianza 2024 BLOQUE 2 #fiestapatronal #tacna #festividades\n",
      " URL: https://www.youtube.com/watch?v=oEPRzIE9rCk&pp=ygUgVmlyZ2VuIGRlIENvcGFjYWJhbmEgVGFjbmEgUGVyw7o%3D\n"
     ]
    },
    {
     "name": "stderr",
     "output_type": "stream",
     "text": [
      " 95%|██████████████████████████████████████████████████████████████████████████    | 738/777 [1:55:04<04:08,  6.36s/it]"
     ]
    },
    {
     "name": "stdout",
     "output_type": "stream",
     "text": [
      "\n",
      " La Virgen de las Nieves. (Tacna)\n",
      " Título: La Virgen de las Nieves (Coracora)\n",
      " URL: https://www.youtube.com/watch?v=1sxok_d7aVE&t=1141s&pp=ygUkTGEgVmlyZ2VuIGRlIGxhcyBOaWV2ZXMuIFRhY25hIFBlcsO6\n"
     ]
    },
    {
     "name": "stderr",
     "output_type": "stream",
     "text": [
      " 95%|██████████████████████████████████████████████████████████████████████████▏   | 739/777 [1:55:11<03:59,  6.31s/it]"
     ]
    },
    {
     "name": "stdout",
     "output_type": "stream",
     "text": [
      "\n",
      " Ofrenda de la Juventud Tacneña. (Tacna)\n",
      " Título: Así realizaron los escolares la famosa ofrenda de la juventud\n",
      " URL: https://www.youtube.com/watch?v=-rAo2rNrJU4&pp=ygUsT2ZyZW5kYSBkZSBsYSBKdXZlbnR1ZCBUYWNuZcOxYS4gVGFjbmEgUGVyw7o%3D\n"
     ]
    },
    {
     "name": "stderr",
     "output_type": "stream",
     "text": [
      " 95%|██████████████████████████████████████████████████████████████████████████▎   | 740/777 [1:55:17<03:56,  6.39s/it]"
     ]
    },
    {
     "name": "stdout",
     "output_type": "stream",
     "text": [
      "\n",
      " Semana de Tacna. Procesion de la Bandera. Feria\n",
      "Agropecuaria, Industrial y Artesanal. (Tacna)\n",
      " Título: Tacna, procesión de la bandera 2023\n",
      " URL: https://www.youtube.com/watch?v=km4FqCNBkP8&pp=ygVgU2VtYW5hIGRlIFRhY25hLiBQcm9jZXNpb24gZGUgbGEgQmFuZGVyYS4gRmVyaWFBZ3JvcGVjdWFyaWEsIEluZHVzdHJpYWwgeSBBcnRlc2FuYWwuIFRhY25hIFBlcsO6\n"
     ]
    },
    {
     "name": "stderr",
     "output_type": "stream",
     "text": [
      " 95%|██████████████████████████████████████████████████████████████████████████▍   | 741/777 [1:55:23<03:46,  6.29s/it]"
     ]
    },
    {
     "name": "stdout",
     "output_type": "stream",
     "text": [
      "\n",
      " Aniversario de Tarata. (Tacna)\n",
      " Título: ANIVERSARIO POR LOS 98 AÑOS DE LA REINCORPORACIÓN DE TARATA AL PERÚ...\n",
      " URL: https://www.youtube.com/watch?v=-xHrYcVr9aU&pp=ygUiQW5pdmVyc2FyaW8gZGUgVGFyYXRhLiBUYWNuYSBQZXLDutIHCQnYCQGHKiGM7w%3D%3D\n"
     ]
    },
    {
     "name": "stderr",
     "output_type": "stream",
     "text": [
      " 95%|██████████████████████████████████████████████████████████████████████████▍   | 742/777 [1:55:30<03:41,  6.33s/it]"
     ]
    },
    {
     "name": "stdout",
     "output_type": "stream",
     "text": [
      "\n",
      " Virgen de la Natividad. (Tacna)\n",
      " Título: GRAN PARADA FOLKLÓRICA 🥳 FESTIVIDAD VIRGEN DE LA NATIVIDAD TACNA - PERÚ 07/09/2024\n",
      " URL: https://www.youtube.com/watch?v=8vq2PLhWb8A&pp=ygUjVmlyZ2VuIGRlIGxhIE5hdGl2aWRhZC4gVGFjbmEgUGVyw7o%3D\n"
     ]
    },
    {
     "name": "stderr",
     "output_type": "stream",
     "text": [
      " 96%|██████████████████████████████████████████████████████████████████████████▌   | 743/777 [1:55:36<03:32,  6.24s/it]"
     ]
    },
    {
     "name": "stdout",
     "output_type": "stream",
     "text": [
      "\n",
      " Peregrinacion al Santuario del Señor\n",
      "de Locumba. (Tacna)\n",
      " Título: peregrinacion al santuario de locumba Tacna Peru\n",
      " URL: https://www.youtube.com/watch?v=Tz3n4uOuf1A&pp=ygU8UGVyZWdyaW5hY2lvbiBhbCBTYW50dWFyaW8gZGVsIFNlw7FvcmRlIExvY3VtYmEuIFRhY25hIFBlcsO60gcJCdgJAYcqIYzv\n"
     ]
    },
    {
     "name": "stderr",
     "output_type": "stream",
     "text": [
      " 96%|██████████████████████████████████████████████████████████████████████████▋   | 744/777 [1:55:42<03:28,  6.33s/it]"
     ]
    },
    {
     "name": "stdout",
     "output_type": "stream",
     "text": [
      "\n",
      " Festividad de Nuestra Señora de las Mercedes. (Tacna)\n",
      " Título: VIRGEN DE LA MERCEDES RECORRE EN PROCESIÓN PASEO CÍVICO\n",
      " URL: https://www.youtube.com/watch?v=ll1svK8Ykj8&pp=ygU6RmVzdGl2aWRhZCBkZSBOdWVzdHJhIFNlw7FvcmEgZGUgbGFzIE1lcmNlZGVzLiBUYWNuYSBQZXLDug%3D%3D\n"
     ]
    },
    {
     "name": "stderr",
     "output_type": "stream",
     "text": [
      " 96%|██████████████████████████████████████████████████████████████████████████▊   | 745/777 [1:55:49<03:25,  6.41s/it]"
     ]
    },
    {
     "name": "stdout",
     "output_type": "stream",
     "text": [
      "\n",
      " Fiesta de la Virgen del Rosario. (Tacna)\n",
      " Título: Procesión en homenaje a la Virgen del Rosario - 2022\n",
      " URL: https://www.youtube.com/watch?v=JdYf_lfe6XY&pp=ygUsRmllc3RhIGRlIGxhIFZpcmdlbiBkZWwgUm9zYXJpby4gVGFjbmEgUGVyw7rSBwkJ2AkBhyohjO8%3D\n"
     ]
    },
    {
     "name": "stderr",
     "output_type": "stream",
     "text": [
      " 96%|██████████████████████████████████████████████████████████████████████████▉   | 746/777 [1:55:55<03:20,  6.46s/it]"
     ]
    },
    {
     "name": "stdout",
     "output_type": "stream",
     "text": [
      "\n",
      " Fiesta de la Virgen del Rosario, Patrona de\n",
      "Tacna. (Tacna)\n",
      " Título: Virgen del Rosario en Tacna\n",
      " URL: https://www.youtube.com/watch?v=ybDJjR7zoWk&pp=ygU9Rmllc3RhIGRlIGxhIFZpcmdlbiBkZWwgUm9zYXJpbywgUGF0cm9uYSBkZVRhY25hLiBUYWNuYSBQZXLDutIHCQnYCQGHKiGM7w%3D%3D\n"
     ]
    },
    {
     "name": "stderr",
     "output_type": "stream",
     "text": [
      " 96%|██████████████████████████████████████████████████████████████████████████▉   | 747/777 [1:56:02<03:15,  6.50s/it]"
     ]
    },
    {
     "name": "stdout",
     "output_type": "stream",
     "text": [
      "\n",
      " Semana Turistica de Tacna. (Tacna)\n",
      " Título: TACNA | 10 LUGARES TURÍSTICOS PARA VISITAR en la CIUDAD HEROICA del PERÚ (QUE HACER y QUE CONOCER)\n",
      " URL: https://www.youtube.com/watch?v=jBZNko7b2QY&pp=ygUmU2VtYW5hIFR1cmlzdGljYSBkZSBUYWNuYS4gVGFjbmEgUGVyw7o%3D\n"
     ]
    },
    {
     "name": "stderr",
     "output_type": "stream",
     "text": [
      " 96%|███████████████████████████████████████████████████████████████████████████   | 748/777 [1:56:09<03:16,  6.76s/it]"
     ]
    },
    {
     "name": "stdout",
     "output_type": "stream",
     "text": [
      "\n",
      " Feria Agropecuaria y Artesanal. (Tacna)\n",
      " Título: #TACNA | #Feria #Agropecuaria #ExposSama2024\n",
      " URL: https://www.youtube.com/watch?v=gjoEjr9mDwc&pp=ygUrRmVyaWEgQWdyb3BlY3VhcmlhIHkgQXJ0ZXNhbmFsLiBUYWNuYSBQZXLDug%3D%3D\n"
     ]
    },
    {
     "name": "stderr",
     "output_type": "stream",
     "text": [
      " 96%|███████████████████████████████████████████████████████████████████████████▏  | 749/777 [1:56:16<03:06,  6.68s/it]"
     ]
    },
    {
     "name": "stdout",
     "output_type": "stream",
     "text": [
      "\n",
      " Festival de la Virgen de las Peñas. (Tacna)\n",
      " Título: Compañía de Morenos Tacna N°1 Santísima Virgen de las Peñas, Santuario Virgen de las Peñas 2019\n",
      " URL: https://www.youtube.com/watch?v=ykxMcjRyRJM&pp=ygUwRmVzdGl2YWwgZGUgbGEgVmlyZ2VuIGRlIGxhcyBQZcOxYXMuIFRhY25hIFBlcsO6\n"
     ]
    },
    {
     "name": "stderr",
     "output_type": "stream",
     "text": [
      " 97%|███████████████████████████████████████████████████████████████████████████▎  | 750/777 [1:56:22<02:55,  6.49s/it]"
     ]
    },
    {
     "name": "stdout",
     "output_type": "stream",
     "text": [
      "\n",
      " Celebración popular del Año Nuevo (Tumbes)\n",
      " Título: ASÍ CELEBRAN EL AÑO NUEVO EN PERÚ!!🇵🇪😱 #peru #humor #parati #peruanos #shorts #añonuevo\n",
      " URL: https://www.youtube.com/shorts/LqucaZFe62g\n"
     ]
    },
    {
     "name": "stderr",
     "output_type": "stream",
     "text": [
      " 97%|███████████████████████████████████████████████████████████████████████████▍  | 751/777 [1:56:29<02:51,  6.58s/it]"
     ]
    },
    {
     "name": "stdout",
     "output_type": "stream",
     "text": [
      "\n",
      " Aniversario de la Declaración de Independencia\n",
      " de Tumbes Aniversario del distrito (Tumbes)\n",
      " Título: Aniversario de Tumbes: la región celebra 204 años de independencia\n",
      " URL: https://www.youtube.com/watch?v=E_Gaa9SL37c&pp=ygVfQW5pdmVyc2FyaW8gZGUgbGEgRGVjbGFyYWNpw7NuIGRlIEluZGVwZW5kZW5jaWEgZGUgVHVtYmVzIEFuaXZlcnNhcmlvIGRlbCBkaXN0cml0byBUdW1iZXMgUGVyw7o%3D\n"
     ]
    },
    {
     "name": "stderr",
     "output_type": "stream",
     "text": [
      " 97%|███████████████████████████████████████████████████████████████████████████▍  | 752/777 [1:56:35<02:41,  6.45s/it]"
     ]
    },
    {
     "name": "stdout",
     "output_type": "stream",
     "text": [
      "\n",
      " Fiesta patronal (Tumbes)\n",
      " Título: MIX FIESTA PATRONAL SOOUND KANDELA -TUMBES\n",
      " URL: https://www.youtube.com/watch?v=ul7RhZAyBlY&list=RDul7RhZAyBlY&start_radio=1&pp=ygUcRmllc3RhIHBhdHJvbmFsIFR1bWJlcyBQZXLDuqAHAQ%3D%3D\n"
     ]
    },
    {
     "name": "stderr",
     "output_type": "stream",
     "text": [
      " 97%|███████████████████████████████████████████████████████████████████████████▌  | 753/777 [1:56:42<02:37,  6.56s/it]"
     ]
    },
    {
     "name": "stdout",
     "output_type": "stream",
     "text": [
      "\n",
      " Fiesta patronal (Tumbes)\n",
      " Título: MIX FIESTA PATRONAL SOOUND KANDELA -TUMBES\n",
      " URL: https://www.youtube.com/watch?v=ul7RhZAyBlY&list=RDul7RhZAyBlY&start_radio=1&pp=ygUcRmllc3RhIHBhdHJvbmFsIFR1bWJlcyBQZXLDuqAHAQ%3D%3D\n"
     ]
    },
    {
     "name": "stderr",
     "output_type": "stream",
     "text": [
      " 97%|███████████████████████████████████████████████████████████████████████████▋  | 754/777 [1:56:47<02:26,  6.37s/it]"
     ]
    },
    {
     "name": "stdout",
     "output_type": "stream",
     "text": [
      "\n",
      " Aniversario del distrito (Tumbes)\n",
      " Título: Aniversario de Tumbes: la región celebra 204 años de independencia\n",
      " URL: https://www.youtube.com/watch?v=E_Gaa9SL37c&pp=ygUlQW5pdmVyc2FyaW8gZGVsIGRpc3RyaXRvIFR1bWJlcyBQZXLDug%3D%3D\n"
     ]
    },
    {
     "name": "stderr",
     "output_type": "stream",
     "text": [
      " 97%|███████████████████████████████████████████████████████████████████████████▊  | 755/777 [1:56:54<02:21,  6.43s/it]"
     ]
    },
    {
     "name": "stdout",
     "output_type": "stream",
     "text": [
      "\n",
      " San Pedro y San Pablo (Tumbes)\n",
      " Título: Procesión y Celebración en Cancas de San Pedro / San Pablo\n",
      " URL: https://www.youtube.com/watch?v=tajP6n17qbU&pp=ygUiU2FuIFBlZHJvIHkgU2FuIFBhYmxvIFR1bWJlcyBQZXLDug%3D%3D\n"
     ]
    },
    {
     "name": "stderr",
     "output_type": "stream",
     "text": [
      " 97%|███████████████████████████████████████████████████████████████████████████▉  | 756/777 [1:57:00<02:14,  6.38s/it]"
     ]
    },
    {
     "name": "stdout",
     "output_type": "stream",
     "text": [
      "\n",
      " Fiesta patronal de San Jacinto (Tumbes)\n",
      " Título: Fiesta patronal de San Jacinto - Tumbes\n",
      " URL: https://www.youtube.com/watch?v=iUYD1UlcHc0&list=RDiUYD1UlcHc0&start_radio=1&pp=ygUrRmllc3RhIHBhdHJvbmFsIGRlIFNhbiBKYWNpbnRvIFR1bWJlcyBQZXLDuqAHAQ%3D%3D\n"
     ]
    },
    {
     "name": "stderr",
     "output_type": "stream",
     "text": [
      " 97%|███████████████████████████████████████████████████████████████████████████▉  | 757/777 [1:57:06<02:05,  6.26s/it]"
     ]
    },
    {
     "name": "stdout",
     "output_type": "stream",
     "text": [
      "\n",
      " Santa Rosa de Lima (Tumbes)\n",
      " Título: Sucedió en el Perú: Santa Rosa de Lima - (29/08/2021) | TVPerú\n",
      " URL: https://www.youtube.com/watch?v=8_t20fkLA7U&pp=ygUfU2FudGEgUm9zYSBkZSBMaW1hIFR1bWJlcyBQZXLDug%3D%3D\n"
     ]
    },
    {
     "name": "stderr",
     "output_type": "stream",
     "text": [
      " 98%|████████████████████████████████████████████████████████████████████████████  | 758/777 [1:57:13<01:59,  6.28s/it]"
     ]
    },
    {
     "name": "stdout",
     "output_type": "stream",
     "text": [
      "\n",
      " Virgen de las Mercedes (Tumbes)\n",
      " Título: FESTIVIDAD DE NUESTRA SEÑORA “VIRGEN DE LAS MERCEDES”TABLAZO ALTO – CORRALES – TUMBES – PERÚ\n",
      " URL: https://www.youtube.com/watch?v=R4n_m-RFhLM&pp=ygUjVmlyZ2VuIGRlIGxhcyBNZXJjZWRlcyBUdW1iZXMgUGVyw7o%3D\n"
     ]
    },
    {
     "name": "stderr",
     "output_type": "stream",
     "text": [
      " 98%|████████████████████████████████████████████████████████████████████████████▏ | 759/777 [1:57:20<01:56,  6.48s/it]"
     ]
    },
    {
     "name": "stdout",
     "output_type": "stream",
     "text": [
      "\n",
      " Fiesta patronal de la Virgen del Perpetuo Socorro (Tumbes)\n",
      " Título: PERÚ PROFUNDO 🇵🇪| Festividad de la Virgen del Perpetuo Socorro en Zarumilla (Tumbes) - 16 de agosto\n",
      " URL: https://www.youtube.com/watch?v=ltffiq0I6jM&pp=ygU-Rmllc3RhIHBhdHJvbmFsIGRlIGxhIFZpcmdlbiBkZWwgUGVycGV0dW8gU29jb3JybyBUdW1iZXMgUGVyw7o%3D\n"
     ]
    },
    {
     "name": "stderr",
     "output_type": "stream",
     "text": [
      " 98%|████████████████████████████████████████████████████████████████████████████▎ | 760/777 [1:57:26<01:47,  6.33s/it]"
     ]
    },
    {
     "name": "stdout",
     "output_type": "stream",
     "text": [
      "\n",
      " Semana Turística de Tumbes (Tumbes)\n",
      " Título: 🚣 Manglares de tumbes + Ecuador frontera 🌉 Como llegar BARATO✅ Sin tour 2025 Peru Lugares turisticos\n",
      " URL: https://www.youtube.com/watch?v=0QARuR8mvms&pp=ygUoU2VtYW5hIFR1csOtc3RpY2EgZGUgVHVtYmVzIFR1bWJlcyBQZXLDutIHCQnYCQGHKiGM7w%3D%3D\n"
     ]
    },
    {
     "name": "stderr",
     "output_type": "stream",
     "text": [
      " 98%|████████████████████████████████████████████████████████████████████████████▍ | 761/777 [1:57:32<01:42,  6.42s/it]"
     ]
    },
    {
     "name": "stdout",
     "output_type": "stream",
     "text": [
      "\n",
      " La Virgen de las Mercedes (Tumbes)\n",
      " Título: FESTIVIDAD DE NUESTRA SEÑORA “VIRGEN DE LAS MERCEDES”TABLAZO ALTO – CORRALES – TUMBES – PERÚ\n",
      " URL: https://www.youtube.com/watch?v=R4n_m-RFhLM&pp=ygUmTGEgVmlyZ2VuIGRlIGxhcyBNZXJjZWRlcyBUdW1iZXMgUGVyw7o%3D\n"
     ]
    },
    {
     "name": "stderr",
     "output_type": "stream",
     "text": [
      " 98%|████████████████████████████████████████████████████████████████████████████▍ | 762/777 [1:57:39<01:37,  6.50s/it]"
     ]
    },
    {
     "name": "stdout",
     "output_type": "stream",
     "text": [
      "\n",
      " Fiesta patronal (Tumbes)\n",
      " Título: MIX FIESTA PATRONAL SOOUND KANDELA -TUMBES\n",
      " URL: https://www.youtube.com/watch?v=ul7RhZAyBlY&list=RDul7RhZAyBlY&start_radio=1&pp=ygUcRmllc3RhIHBhdHJvbmFsIFR1bWJlcyBQZXLDuqAHAQ%3D%3D\n"
     ]
    },
    {
     "name": "stderr",
     "output_type": "stream",
     "text": [
      " 98%|████████████████████████████████████████████████████████████████████████████▌ | 763/777 [1:57:46<01:31,  6.56s/it]"
     ]
    },
    {
     "name": "stdout",
     "output_type": "stream",
     "text": [
      "\n",
      " Fiesta patronal de la Virgen del Perpetuo Socorro (Tumbes)\n",
      " Título: PERÚ PROFUNDO 🇵🇪| Festividad de la Virgen del Perpetuo Socorro en Zarumilla (Tumbes) - 16 de agosto\n",
      " URL: https://www.youtube.com/watch?v=ltffiq0I6jM&pp=ygU-Rmllc3RhIHBhdHJvbmFsIGRlIGxhIFZpcmdlbiBkZWwgUGVycGV0dW8gU29jb3JybyBUdW1iZXMgUGVyw7o%3D\n"
     ]
    },
    {
     "name": "stderr",
     "output_type": "stream",
     "text": [
      " 98%|████████████████████████████████████████████████████████████████████████████▋ | 764/777 [1:57:52<01:23,  6.40s/it]"
     ]
    },
    {
     "name": "stdout",
     "output_type": "stream",
     "text": [
      "\n",
      " Aniversario del distrito (Tumbes)\n",
      " Título: Aniversario de Tumbes: la región celebra 204 años de independencia\n",
      " URL: https://www.youtube.com/watch?v=E_Gaa9SL37c&pp=ygUlQW5pdmVyc2FyaW8gZGVsIGRpc3RyaXRvIFR1bWJlcyBQZXLDug%3D%3D\n"
     ]
    },
    {
     "name": "stderr",
     "output_type": "stream",
     "text": [
      " 98%|████████████████████████████████████████████████████████████████████████████▊ | 765/777 [1:57:59<01:19,  6.62s/it]"
     ]
    },
    {
     "name": "stdout",
     "output_type": "stream",
     "text": [
      "\n",
      " Aniversario del departamento (Tumbes)\n",
      " Título: Aniversario de Tumbes: la región celebra 204 años de independencia\n",
      " URL: https://www.youtube.com/watch?v=E_Gaa9SL37c&pp=ygUpQW5pdmVyc2FyaW8gZGVsIGRlcGFydGFtZW50byBUdW1iZXMgUGVyw7o%3D\n"
     ]
    },
    {
     "name": "stderr",
     "output_type": "stream",
     "text": [
      " 99%|████████████████████████████████████████████████████████████████████████████▉ | 766/777 [1:58:05<01:12,  6.55s/it]"
     ]
    },
    {
     "name": "stdout",
     "output_type": "stream",
     "text": [
      "\n",
      " Aniversario de la provincia. (Tumbes)\n",
      " Título: Aniversario de Tumbes: la región celebra 204 años de independencia\n",
      " URL: https://www.youtube.com/watch?v=E_Gaa9SL37c&pp=ygUpQW5pdmVyc2FyaW8gZGUgbGEgcHJvdmluY2lhLiBUdW1iZXMgUGVyw7o%3D\n"
     ]
    },
    {
     "name": "stderr",
     "output_type": "stream",
     "text": [
      " 99%|████████████████████████████████████████████████████████████████████████████▉ | 767/777 [1:58:11<01:03,  6.37s/it]"
     ]
    },
    {
     "name": "stdout",
     "output_type": "stream",
     "text": [
      "\n",
      " Fiesta patronal (Tumbes)\n",
      " Título: MIX FIESTA PATRONAL SOOUND KANDELA -TUMBES\n",
      " URL: https://www.youtube.com/watch?v=ul7RhZAyBlY&list=RDul7RhZAyBlY&start_radio=1&pp=ygUcRmllc3RhIHBhdHJvbmFsIFR1bWJlcyBQZXLDuqAHAQ%3D%3D\n"
     ]
    },
    {
     "name": "stderr",
     "output_type": "stream",
     "text": [
      " 99%|█████████████████████████████████████████████████████████████████████████████ | 768/777 [1:58:18<00:57,  6.41s/it]"
     ]
    },
    {
     "name": "stdout",
     "output_type": "stream",
     "text": [
      "\n",
      "  (Tumbes)\n",
      " Título: Reportaje al Perú: Tumbes (07/07/2024) | TVPerú\n",
      " URL: https://www.youtube.com/watch?v=5nqgLqoQoxI&pp=ygUNIFR1bWJlcyBQZXLDutIHCQnYCQGHKiGM7w%3D%3D\n"
     ]
    },
    {
     "name": "stderr",
     "output_type": "stream",
     "text": [
      " 99%|█████████████████████████████████████████████████████████████████████████████▏| 769/777 [1:58:24<00:52,  6.56s/it]"
     ]
    },
    {
     "name": "stdout",
     "output_type": "stream",
     "text": [
      "\n",
      " Fiesta patronal (Tumbes)\n",
      " Título: MIX FIESTA PATRONAL SOOUND KANDELA -TUMBES\n",
      " URL: https://www.youtube.com/watch?v=ul7RhZAyBlY&list=RDul7RhZAyBlY&start_radio=1&pp=ygUcRmllc3RhIHBhdHJvbmFsIFR1bWJlcyBQZXLDuqAHAQ%3D%3D\n"
     ]
    },
    {
     "name": "stderr",
     "output_type": "stream",
     "text": [
      " 99%|█████████████████████████████████████████████████████████████████████████████▎| 770/777 [1:58:31<00:44,  6.42s/it]"
     ]
    },
    {
     "name": "stdout",
     "output_type": "stream",
     "text": [
      "\n",
      " Fiesta de la Inmaculada Concepción (Tumbes)\n",
      " Título: Tumbes Pueblo Inmaculado Historia y Origen de la Inmaculada Concepcion de Tumbes Documental\n",
      " URL: https://www.youtube.com/watch?v=3mVfj-iJdnM&pp=ygUwRmllc3RhIGRlIGxhIElubWFjdWxhZGEgQ29uY2VwY2nDs24gVHVtYmVzIFBlcsO6\n"
     ]
    },
    {
     "name": "stderr",
     "output_type": "stream",
     "text": [
      " 99%|█████████████████████████████████████████████████████████████████████████████▍| 771/777 [1:58:37<00:38,  6.35s/it]"
     ]
    },
    {
     "name": "stdout",
     "output_type": "stream",
     "text": [
      "\n",
      " Fiesta patronal (Tumbes)\n",
      " Título: MIX FIESTA PATRONAL SOOUND KANDELA -TUMBES\n",
      " URL: https://www.youtube.com/watch?v=ul7RhZAyBlY&list=RDul7RhZAyBlY&start_radio=1&pp=ygUcRmllc3RhIHBhdHJvbmFsIFR1bWJlcyBQZXLDuqAHAQ%3D%3D\n"
     ]
    },
    {
     "name": "stderr",
     "output_type": "stream",
     "text": [
      " 99%|█████████████████████████████████████████████████████████████████████████████▍| 772/777 [1:58:43<00:31,  6.22s/it]"
     ]
    },
    {
     "name": "stdout",
     "output_type": "stream",
     "text": [
      "\n",
      " Fiestas de carnavales (Ucayali)\n",
      " Título: Carnaval en Ucayali: Corso carnavalesco llenó de color y alegria calles de Pucallpa\n",
      " URL: https://www.youtube.com/watch?v=SXcsBW_mBnw&pp=ygUjRmllc3RhcyBkZSBjYXJuYXZhbGVzIFVjYXlhbGkgUGVyw7o%3D\n"
     ]
    },
    {
     "name": "stderr",
     "output_type": "stream",
     "text": [
      " 99%|█████████████████████████████████████████████████████████████████████████████▌| 773/777 [1:58:49<00:24,  6.15s/it]"
     ]
    },
    {
     "name": "stdout",
     "output_type": "stream",
     "text": [
      "\n",
      " Aniversario de la Declaración de Independencia\n",
      "de Tumbes Aniversario del distrito (Ucayali)\n",
      " Título: Aniversario de Tumbes: la región celebra 204 años de independencia\n",
      " URL: https://www.youtube.com/watch?v=E_Gaa9SL37c&pp=ygVfQW5pdmVyc2FyaW8gZGUgbGEgRGVjbGFyYWNpw7NuIGRlIEluZGVwZW5kZW5jaWFkZSBUdW1iZXMgQW5pdmVyc2FyaW8gZGVsIGRpc3RyaXRvIFVjYXlhbGkgUGVyw7rSBwkJ2AkBhyohjO8%3D\n"
     ]
    },
    {
     "name": "stderr",
     "output_type": "stream",
     "text": [
      "100%|█████████████████████████████████████████████████████████████████████████████▋| 774/777 [1:58:55<00:18,  6.31s/it]"
     ]
    },
    {
     "name": "stdout",
     "output_type": "stream",
     "text": [
      "\n",
      " Festividad de la Virgen María o la Peregrina (Ucayali)\n",
      " Título: ALERTA MUNDIAL! Asís Tiene la Clave para Detener la Guerra #forosdelavirgenmaria\n",
      " URL: https://www.youtube.com/shorts/F1zIqI3pXx8\n"
     ]
    },
    {
     "name": "stderr",
     "output_type": "stream",
     "text": [
      "100%|█████████████████████████████████████████████████████████████████████████████▊| 775/777 [1:59:01<00:12,  6.24s/it]"
     ]
    },
    {
     "name": "stdout",
     "output_type": "stream",
     "text": [
      "\n",
      " Fiesta de San Juan (Ucayali)\n",
      " Título: Así se vivió la Fiesta de San Juan en Pucallpa | Domingo al Día | Perú\n",
      " URL: https://www.youtube.com/watch?v=EFBMCGj9sKg&pp=ygUgRmllc3RhIGRlIFNhbiBKdWFuIFVjYXlhbGkgUGVyw7o%3D\n"
     ]
    },
    {
     "name": "stderr",
     "output_type": "stream",
     "text": [
      "100%|█████████████████████████████████████████████████████████████████████████████▉| 776/777 [1:59:08<00:06,  6.25s/it]"
     ]
    },
    {
     "name": "stdout",
     "output_type": "stream",
     "text": [
      "\n",
      " Semana de Pucallpa (Ucayali)\n",
      " Título: Reportaje al Perú: Ucayali (04/08/2024) | TVPerú\n",
      " URL: https://www.youtube.com/watch?v=D3mENqKVxhM&pp=ygUgU2VtYW5hIGRlIFB1Y2FsbHBhIFVjYXlhbGkgUGVyw7o%3D\n"
     ]
    },
    {
     "name": "stderr",
     "output_type": "stream",
     "text": [
      "100%|██████████████████████████████████████████████████████████████████████████████| 777/777 [1:59:14<00:00,  9.21s/it]\n"
     ]
    }
   ],
   "source": [
    "#Importamos los paquetes\n",
    "from selenium import webdriver\n",
    "from selenium.webdriver.chrome.service import Service\n",
    "from selenium.webdriver.chrome.options import Options\n",
    "from selenium.webdriver.common.by import By\n",
    "from webdriver_manager.chrome import ChromeDriverManager\n",
    "import time\n",
    "import requests\n",
    "import bs4\n",
    "import pandas as pd\n",
    "from tqdm import tqdm\n",
    "\n",
    "departamentos = [\n",
    "    \"amazonas\", \"ancash\", \"apurimac\", \"arequipa\", \"ayacucho\", \"cajamarca\",\n",
    "    \"cusco\", \"huancavelica\", \"huanuco\", \"ica\", \"junin\", \"la-libertad\",\n",
    "    \"lambayeque\", \"lima\", \"loreto\", \"madre-de-dios\", \"moquegua\", \"pasco\",\n",
    "    \"piura\", \"puno\", \"san-martin\", \"tacna\", \"tumbes\", \"ucayali\"\n",
    "]\n",
    "#Creando listas vacias\n",
    "Fechas = []\n",
    "Lugar = []\n",
    "Festividades = []\n",
    "Departamento = []\n",
    "\n",
    "print(\" Obteniendo festividades por departamento...\\n\")\n",
    "# Itera sobre cada departamento con barra de progreso (tqdm muestra el avance)\n",
    "for dpto in tqdm(departamentos):\n",
    "    try:\n",
    "        url = f'https://www.serperuano.com/turismo/turismo-en-{dpto}/calendario-festivo-en-{dpto}/' # Construye la URL del calendario festivo de cada departamento en el sitio web\n",
    "        resp = requests.get(url) # Hace una solicitud HTTP para obtener el contenido de la página\n",
    "        soup = bs4.BeautifulSoup(resp.text, 'lxml') # Parsea el HTML usando BeautifulSoup con el parser 'lxml'\n",
    "        table = soup.find('table', {'class': 'stcelda02'}) # Busca la tabla con clase específica donde están las festividades\n",
    "        # Si la tabla fue encontrada\n",
    "        if table:\n",
    "            for row in table.findAll('tr')[1:]: # Itera sobre cada fila de la tabla (excepto la primera que suele ser encabezado)\n",
    "                cols = row.findAll('td')\n",
    "                if len(cols) >= 3:\n",
    "                    Fechas.append(cols[0].text.strip()) # Extrae y guarda la fecha, lugar y festividad\n",
    "                    Lugar.append(cols[1].text.strip())\n",
    "                    Festividades.append(cols[2].text.strip())\n",
    "                    Departamento.append(dpto.replace(\"-\", \" \").title())\n",
    "        else:\n",
    "            print(f\"{dpto.title()}: No se encontró tabla\") # Captura errores y los muestra\n",
    "\n",
    "    except Exception as e:\n",
    "        print(f\"{dpto.title()}: Error → {e}\")\n",
    "\n",
    "# Crear DataFrame con festividades\n",
    "df = pd.DataFrame({\n",
    "    \"Departamento\": Departamento,\n",
    "    \"Fecha\": Fechas,\n",
    "    \"Lugar\": Lugar,\n",
    "    \"Festividad\": Festividades\n",
    "})\n",
    "\n",
    "df[\"Busqueda\"] = df[\"Festividad\"] + \" \" + df[\"Departamento\"] + \" Perú\"\n",
    "\n",
    "\n",
    "options = Options()\n",
    "options.add_argument(\"--headless\")  # Ejecutar sin abrir ventana\n",
    "options.add_argument(\"--no-sandbox\")  # Recomendado en ciertos entornos Linux\n",
    "options.add_argument(\"--disable-dev-shm-usage\") # Evita errores en memoria compartida\n",
    "options.add_argument('--log-level=3') # Reduce los mensajes de consola\n",
    "\n",
    "print(\"\\n Iniciando navegador...\")\n",
    "driver = webdriver.Chrome(service=Service(ChromeDriverManager().install()), options=options)\n",
    "# Lista vacía donde se guardarán los resultados\n",
    "resultados = []\n",
    "# Iterar sobre cada fila del DataFrame (progresivamente con tqdm)\n",
    "for _, row in tqdm(df.iterrows(), total=len(df)):\n",
    "    busqueda = row[\"Busqueda\"]\n",
    "    driver.get(f\"https://www.youtube.com/results?search_query={busqueda}\")\n",
    "    time.sleep(3)\n",
    "\n",
    "    try:\n",
    "        video = driver.find_element(By.XPATH, '//ytd-video-renderer')\n",
    "        titulo_elem = video.find_element(By.XPATH, './/a[@id=\"video-title\"]')\n",
    "        titulo = titulo_elem.text.strip()\n",
    "        url = titulo_elem.get_attribute(\"href\")\n",
    "\n",
    "        print(f\"\\n {row['Festividad']} ({row['Departamento']})\")\n",
    "        print(f\" Título: {titulo}\")\n",
    "        print(f\" URL: {url}\")\n",
    "\n",
    "        resultados.append({\n",
    "            \"Departamento\": row[\"Departamento\"],\n",
    "            \"Festividad\": row[\"Festividad\"],\n",
    "            \"Título del Video\": titulo,\n",
    "            \"URL\": url\n",
    "        })\n",
    "\n",
    "    except Exception:\n",
    "        print(f\"\\n No se encontró video para: {busqueda}\")\n",
    "        resultados.append({\n",
    "            \"Departamento\": row[\"Departamento\"],\n",
    "            \"Festividad\": row[\"Festividad\"],\n",
    "            \"Título del Video\": \"No encontrado\",\n",
    "            \"URL\": \"N/A\"\n",
    "        })\n",
    "\n",
    "    time.sleep(1.5)\n",
    "# Finalizar y cerrar el navegador al terminar todo el proceso\n",
    "driver.quit() \n",
    "\n"
   ]
  },
  {
   "cell_type": "code",
   "execution_count": 7,
   "id": "84427855-cb5c-42a1-a8ef-76a64ff1c5b2",
   "metadata": {},
   "outputs": [
    {
     "name": "stdout",
     "output_type": "stream",
     "text": [
      "\n",
      " Archivo CSV guardado con 777 registros.\n"
     ]
    }
   ],
   "source": [
    "# Exportar resultados\n",
    "df_videos = pd.DataFrame(resultados)\n",
    "df_videos.to_csv(\"videos_por_festividad_y_departamento.csv\", index=False, encoding=\"utf-8-sig\")\n",
    "\n",
    "print(f\"\\n Archivo CSV guardado con {len(df_videos)} registros.\")\n"
   ]
  }
 ],
 "metadata": {
  "kernelspec": {
   "display_name": "Python [conda env:base] *",
   "language": "python",
   "name": "conda-base-py"
  },
  "language_info": {
   "codemirror_mode": {
    "name": "ipython",
    "version": 3
   },
   "file_extension": ".py",
   "mimetype": "text/x-python",
   "name": "python",
   "nbconvert_exporter": "python",
   "pygments_lexer": "ipython3",
   "version": "3.12.7"
  }
 },
 "nbformat": 4,
 "nbformat_minor": 5
}
