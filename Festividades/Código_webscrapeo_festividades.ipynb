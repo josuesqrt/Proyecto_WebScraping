{
 "cells": [
  {
   "cell_type": "code",
   "execution_count": 1,
   "id": "0f5ce432-aeca-4734-9bc4-f1e6dabf64ac",
   "metadata": {},
   "outputs": [],
   "source": [
    "#!pip install beautifulsoup4\n",
    "#!pip install requests\n",
    "#!pip install tqdm\n",
    "#!pip install pandas\n",
    "\n",
    "import bs4 as bs # BeautifulSoup para analizar el HTML\n",
    "import requests # Para hacer peticiones HTTP a páginas web\n",
    "from tqdm import tqdm # Para mostrar barra de progreso del código\n",
    "import pandas as pd "
   ]
  },
  {
   "cell_type": "code",
   "execution_count": 2,
   "id": "0eceebde-fe8d-4e4c-8d91-b5750236bada",
   "metadata": {},
   "outputs": [
    {
     "name": "stderr",
     "output_type": "stream",
     "text": [
      "  0%|          | 0/24 [00:00<?, ?it/s]"
     ]
    },
    {
     "name": "stderr",
     "output_type": "stream",
     "text": [
      "100%|██████████| 24/24 [00:12<00:00,  1.88it/s]"
     ]
    },
    {
     "name": "stdout",
     "output_type": "stream",
     "text": [
      "\n",
      " Total de festividades extraídas: 777\n"
     ]
    },
    {
     "name": "stderr",
     "output_type": "stream",
     "text": [
      "\n"
     ]
    },
    {
     "data": {
      "text/html": [
       "<div>\n",
       "<style scoped>\n",
       "    .dataframe tbody tr th:only-of-type {\n",
       "        vertical-align: middle;\n",
       "    }\n",
       "\n",
       "    .dataframe tbody tr th {\n",
       "        vertical-align: top;\n",
       "    }\n",
       "\n",
       "    .dataframe thead th {\n",
       "        text-align: right;\n",
       "    }\n",
       "</style>\n",
       "<table border=\"1\" class=\"dataframe\">\n",
       "  <thead>\n",
       "    <tr style=\"text-align: right;\">\n",
       "      <th></th>\n",
       "      <th>Departamento</th>\n",
       "      <th>Fechas</th>\n",
       "      <th>Lugar</th>\n",
       "      <th>Festividades</th>\n",
       "    </tr>\n",
       "  </thead>\n",
       "  <tbody>\n",
       "    <tr>\n",
       "      <th>0</th>\n",
       "      <td>Amazonas</td>\n",
       "      <td>Febrero (Movible)</td>\n",
       "      <td>Todo el departamento</td>\n",
       "      <td>Carnavales.</td>\n",
       "    </tr>\n",
       "    <tr>\n",
       "      <th>1</th>\n",
       "      <td>Amazonas</td>\n",
       "      <td>1-6 de mayo</td>\n",
       "      <td>Todo el departamento</td>\n",
       "      <td>Fiesta de las Cruces.</td>\n",
       "    </tr>\n",
       "    <tr>\n",
       "      <th>2</th>\n",
       "      <td>Amazonas</td>\n",
       "      <td>24 de junio</td>\n",
       "      <td>Bongará</td>\n",
       "      <td>Fiesta de San Juan.</td>\n",
       "    </tr>\n",
       "    <tr>\n",
       "      <th>3</th>\n",
       "      <td>Amazonas</td>\n",
       "      <td>25-29 de junio</td>\n",
       "      <td>Todo el departamento</td>\n",
       "      <td>Festividad de San Pedro y San Pablo.</td>\n",
       "    </tr>\n",
       "    <tr>\n",
       "      <th>4</th>\n",
       "      <td>Amazonas</td>\n",
       "      <td>Movible</td>\n",
       "      <td>Chachapoyas</td>\n",
       "      <td>Semana Turística.</td>\n",
       "    </tr>\n",
       "  </tbody>\n",
       "</table>\n",
       "</div>"
      ],
      "text/plain": [
       "  Departamento             Fechas                 Lugar  \\\n",
       "0     Amazonas  Febrero (Movible)  Todo el departamento   \n",
       "1     Amazonas        1-6 de mayo  Todo el departamento   \n",
       "2     Amazonas        24 de junio               Bongará   \n",
       "3     Amazonas     25-29 de junio  Todo el departamento   \n",
       "4     Amazonas            Movible           Chachapoyas   \n",
       "\n",
       "                           Festividades  \n",
       "0                           Carnavales.  \n",
       "1                 Fiesta de las Cruces.  \n",
       "2                   Fiesta de San Juan.  \n",
       "3  Festividad de San Pedro y San Pablo.  \n",
       "4                     Semana Turística.  "
      ]
     },
     "execution_count": 2,
     "metadata": {},
     "output_type": "execute_result"
    }
   ],
   "source": [
    "# Departamentos del Perú \n",
    "departamentos = [\n",
    "    \"amazonas\", \"ancash\", \"apurimac\", \"arequipa\", \"ayacucho\", \"cajamarca\",\n",
    "    \"cusco\", \"huancavelica\", \"huanuco\", \"ica\", \"junin\", \"la-libertad\",\n",
    "    \"lambayeque\", \"lima\", \"loreto\", \"madre-de-dios\", \"moquegua\", \"pasco\",\n",
    "    \"piura\", \"puno\", \"san-martin\", \"tacna\", \"tumbes\", \"ucayali\"\n",
    "]\n",
    "\n",
    "Fechas = []\n",
    "Lugar = []\n",
    "Festividades = []\n",
    "Departamento = []\n",
    "\n",
    "\n",
    "\n",
    "for dpto in tqdm(departamentos):\n",
    "    try:\n",
    "        url = f'https://www.serperuano.com/turismo/turismo-en-{dpto}/calendario-festivo-en-{dpto}/'\n",
    "        resp = requests.get(url)\n",
    "        soup = bs.BeautifulSoup(resp.text, 'lxml')\n",
    "        table = soup.find('table', {'class': 'stcelda02'})\n",
    "\n",
    "        if table:\n",
    "            for row in table.findAll('tr')[1:]:\n",
    "                cols = row.findAll('td')\n",
    "                if len(cols) >= 3:\n",
    "                    Fechas.append(cols[0].text.strip())\n",
    "                    Lugar.append(cols[1].text.strip())\n",
    "                    Festividades.append(cols[2].text.strip())\n",
    "                    Departamento.append(dpto.replace(\"-\", \" \").title())\n",
    "\n",
    "        else:\n",
    "            print(f\" {dpto.title()}: No se encontró tabla\")\n",
    "\n",
    "    except Exception as e:\n",
    "        print(f\" {dpto.title()}: Error → {e}\")\n",
    "\n",
    "# Crear DataFrame\n",
    "df = pd.DataFrame(list(zip(Departamento, Fechas, Lugar, Festividades)),\n",
    "                  columns=['Departamento', 'Fechas', 'Lugar', 'Festividades'])\n",
    "\n",
    "df = df.reset_index(drop=True)\n",
    "\n",
    "# Mostrar los primeros registros\n",
    "print(f\"\\n Total de festividades extraídas: {len(df)}\")\n",
    "df.head()\n"
   ]
  },
  {
   "cell_type": "code",
   "execution_count": 3,
   "id": "72a118d0-56ec-48fb-a6f7-10439ce7677d",
   "metadata": {},
   "outputs": [],
   "source": [
    "df.to_csv(\"festividades_departamentos_peru.csv\", index=False, encoding=\"utf-8-sig\")\n"
   ]
  }
 ],
 "metadata": {
  "kernelspec": {
   "display_name": "base",
   "language": "python",
   "name": "python3"
  },
  "language_info": {
   "codemirror_mode": {
    "name": "ipython",
    "version": 3
   },
   "file_extension": ".py",
   "mimetype": "text/x-python",
   "name": "python",
   "nbconvert_exporter": "python",
   "pygments_lexer": "ipython3",
   "version": "3.12.7"
  }
 },
 "nbformat": 4,
 "nbformat_minor": 5
}
